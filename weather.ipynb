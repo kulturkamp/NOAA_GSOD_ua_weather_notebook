{
 "cells": [
  {
   "attachments": {},
   "cell_type": "markdown",
   "metadata": {},
   "source": [
    "# Processing and visualizing weather data for Ukrainian stations\n",
    "### [NOAA Global Surface Summary of the Day](https://www.kaggle.com/noaa/noaa-global-surface-summary-of-the-day/version/2#readme.txt)"
   ]
  },
  {
   "cell_type": "code",
   "execution_count": 1,
   "metadata": {},
   "outputs": [],
   "source": [
    "import numpy as np\n",
    "import pandas as pd\n",
    "import re\n",
    "\n",
    "from urllib.request import urlopen"
   ]
  },
  {
   "cell_type": "code",
   "execution_count": 2,
   "metadata": {},
   "outputs": [],
   "source": [
    "import matplotlib.pyplot as plt\n",
    "%matplotlib inline"
   ]
  },
  {
   "cell_type": "code",
   "execution_count": 3,
   "metadata": {},
   "outputs": [],
   "source": [
    "import plotly.express as px\n",
    "import plotly.graph_objs as go\n",
    "from plotly.subplots import make_subplots\n",
    "import plotly.express as px"
   ]
  },
  {
   "cell_type": "markdown",
   "metadata": {},
   "source": [
    "#### Getting stations info from [Worldwide Station List](http://old.wetterzentrale.de/klima/stnlst.html)"
   ]
  },
  {
   "cell_type": "code",
   "execution_count": 38,
   "metadata": {},
   "outputs": [
    {
     "data": {
      "text/plain": [
       "<http.client.HTTPResponse at 0x1cbfc1fd100>"
      ]
     },
     "execution_count": 38,
     "metadata": {},
     "output_type": "execute_result"
    }
   ],
   "source": [
    "url = 'http://old.wetterzentrale.de/klima/stnlst.html'\n",
    "page = urlopen(url)\n",
    "page"
   ]
  },
  {
   "cell_type": "code",
   "execution_count": 39,
   "metadata": {
    "scrolled": true
   },
   "outputs": [
    {
     "name": "stdout",
     "output_type": "stream",
     "text": [
      "<html>\n",
      "<head>\n",
      "<title>Worldwide Station List</title>\n",
      "<BODY BGCOLOR=\"ffffff\" LINK=\"#ff0000\"\n",
      "TEXT=\"000000\" VLINK=\"#6666ff\">\n",
      "<h1>Worldwide Station List</h1>\n",
      "<pre>\n",
      "<font size=4>\n",
      " \n",
      "NUMBER = STATION NUMBER  \n",
      "CALL = STATION CALL LETTERS IF ASSIGNED  \n",
      "NAME = NAME OF LOCATION (& INDICATES PREVIOUSLY UNDER DIFFERENT NUMBER)  \n",
      "COUNTRY/STATE = 2-CHARACTER COUNTRY ABBREVIATION, FOR U.S.-- \n",
      "                2-CHARACTER STATE ABBREVIATION   \n",
      "                (SEE 'COUNTRY-LIST.TXT' FILE)    \n",
      "LAT = LATITUDE   \n",
      "LON = LONGITUDE  \n",
      "ELEV = ELEVATION IN METERS   \n",
      " \n",
      "NUMBER CALL   NAME + COUNTRY/STATE   LAT   LON    ELEV (METERS)  \n",
      " \n",
      "010010 ENJA   JAN MAYEN(NOR-NAVY) NO 7056N 00840W 0009   \n",
      "010014 ENSO   STORD/SOERSTOKKEN   NO 5948N 00521E 0049   \n",
      "010015 ENBL   FORDE/BRINGELAND    NO 6127N 00552E 0150   \n",
      "010017 ENFR   FRIGG               NO 5956N 00200E    \n",
      "010030        HORNSUND RIVER      NO 7700N 01530E 0012   \n",
      "010040 ENAS   NY-ALESUND II       NO 7855N 01156E 0008   \n",
      "010080 ENSB   SVALBARD/LONGYEAR   NO 7815\n"
     ]
    }
   ],
   "source": [
    "html_bytes = page.read()\n",
    "html = html_bytes.decode('utf-8')\n",
    "print(html[:1000])"
   ]
  },
  {
   "cell_type": "code",
   "execution_count": 40,
   "metadata": {},
   "outputs": [
    {
     "data": {
      "text/plain": [
       "'036095 EGFH   SWANSEA             UK 5136N 00404W 0090   '"
      ]
     },
     "execution_count": 40,
     "metadata": {},
     "output_type": "execute_result"
    }
   ],
   "source": [
    "html_list[600]"
   ]
  },
  {
   "cell_type": "code",
   "execution_count": 41,
   "metadata": {
    "scrolled": true
   },
   "outputs": [
    {
     "data": {
      "text/plain": [
       "'UK'"
      ]
     },
     "execution_count": 41,
     "metadata": {},
     "output_type": "execute_result"
    }
   ],
   "source": [
    "html_list = html.split('\\n')\n",
    "html_list[600][34:36]"
   ]
  },
  {
   "cell_type": "markdown",
   "metadata": {},
   "source": [
    "#### Filtering out non-ukrainian stations by country code and removing country code"
   ]
  },
  {
   "cell_type": "code",
   "execution_count": 42,
   "metadata": {},
   "outputs": [
    {
     "data": {
      "text/plain": [
       "['330490 SEMENOVKA 5211N 03235E 0160',\n",
       " '330580 HUTOR MIHAJLOVSKIJ 5203N 03357E 0189',\n",
       " '330750 PNEVNO 5140N 02516E 0152',\n",
       " '330880 SARNY 5121N 02637E 0153',\n",
       " '331350 CERNIGOV 5129N 03117E 0137',\n",
       " '331360 VOLSKOVTSKY 5134N 03158E 0143',\n",
       " '331560 GLUKHOV 5141N 03355E 0180',\n",
       " \"331730 KOVEL' 5113N 02441E 0176\",\n",
       " '331770 VLADIMIR-VOLYNSKIJ 5050N 02419E 0193',\n",
       " '331870 LUCK 5045N 02520E 0196',\n",
       " '332130 OVRUC 5119N 02847E 0171',\n",
       " '332150 KOROSTEN 5057N 02839E 0189',\n",
       " '332280 TETEREV 5042N 02935E 0132',\n",
       " \"332310 CERNOBYL' 5117N 03014E 0127\",\n",
       " '332360 OSTER 5057N 03053E 0104',\n",
       " '332460 NEZIN 5103N 03154E 0126',\n",
       " '332610 KONOTOP 5114N 03312E 0149',\n",
       " '332680 ROMNY 5046N 03327E 0169',\n",
       " \"332710 BELOPOL'E 5109N 03420E 0156\",\n",
       " '332750 SUMY 5053N 03447E 0174',\n",
       " '332870 RAVA RUSSKAJA 5015N 02338E 0249',\n",
       " '332880 KAMENKA-BUGSKAYA 5006N 02421E 0228',\n",
       " '332970 BRODY 5006N 02509E 0227',\n",
       " '333010 ROVNO 5035N 02608E 0234',\n",
       " '333120 NOVGOROD VOLYNSKIJ 5036N 02737E 0218',\n",
       " '333170 SEPETOVKA 5010N 02703E 0278',\n",
       " '333250 ZITOMIR 5016N 02838E 0227',\n",
       " '333390 FASTOV 5005N 02955E 0209',\n",
       " '333450 UKKK KIEV/ZHULYANY 5024N 03027E 0168',\n",
       " \"333470 UKBB BORISPOL'/KEIV 5020N 03058E 0119\",\n",
       " '333560 JAGOTIN 5013N 03148E 0128',\n",
       " '333620 PRILUKI 5035N 03223E 0132',\n",
       " '333740 LOHVICA 5022N 03316E 0127',\n",
       " '333760 GADJAC 5022N 03359E 0156',\n",
       " '333770 LUBNY 5001N 03300E 0156',\n",
       " '333820 LEBEDIN 5035N 03429E 0142',\n",
       " '333910 MOSTISKA 4948N 02309E 0216',\n",
       " '333920 YAVOROV 4956N 02323E 0229',\n",
       " \"333930 UKLL L'VIV 4949N 02357E 0325\",\n",
       " '333980 DROGOBYC 4921N 02333E 0276',\n",
       " '334090 BEREZANY 4926N 02457E 0301',\n",
       " \"334150 TERNOPOL' 4934N 02536E 0324\",\n",
       " \"334210 YAMPOL' 4958N 02615E 0282\",\n",
       " \"334290 HMEL'NICKIJ 4924N 02659E 0351\",\n",
       " \"334460 BELOPOL'E 4950N 02853E 0238\",\n",
       " \"334640 BELAJA CERKOV' 4947N 03011E 0179\",\n",
       " '334660 IMENI STARCENKO 4940N 03100E 0155',\n",
       " '334840 ZOLOTONOSA 4941N 03202E 0097',\n",
       " '334870 CERKASSY 4926N 03204E 0107',\n",
       " '334950 VESELYJ PODOL 4937N 03316E 0091',\n",
       " '335060 POLTAVA 4936N 03433E 0159',\n",
       " '335130 STRYY 4915N 02351E 0306',\n",
       " '335140 VELIKIY BEREZNY 4854N 02228E 0195',\n",
       " '335150 SKOLE 4902N 02331E 0549',\n",
       " '335170 PERECHIN 4844N 02228E 0198',\n",
       " '335240 KALUSH 4901N 02422E 0285',\n",
       " '335260 IVANO-FRANKOVSK 4854N 02442E 0276',\n",
       " '335360 CERTKOV 4901N 02547E 0279',\n",
       " \"335480 KAMENETS PODOL'SKIJ 4840N 02635E 0228\",\n",
       " '335570 NOVAYA ULICA 4851N 02716E 0277',\n",
       " '335620 VINNICA 4914N 02828E 0298',\n",
       " '335710 LIPOVEC 4915N 02914E 0299',\n",
       " '335770 GAJSIN 4848N 02924E 0211',\n",
       " '335810 ZHASHKOV 4915N 03006E 0224',\n",
       " '335860 OZERNA 4905N 03053E 0125',\n",
       " \"335870 UMAN' 4846N 03014E 0216\",\n",
       " '335930 ROTMISTROVKA 4908N 03142E 0168',\n",
       " '336050 CHYHYRYN 4904N 03240E 0124',\n",
       " '336090 ZNAMENKA 4843N 03240E 0181',\n",
       " \"336140 SVITLOVODS'K 4903N 03315E 0084\",\n",
       " '336150 KREMENCUG 4902N 03326E 0080',\n",
       " '336210 KOBELIAKY 4909N 03412E 0118',\n",
       " '336310 UZGOROD 4838N 02216E 0118',\n",
       " '336450 YASNYA 4816N 02422E 0731',\n",
       " '336510 KOLOMYJA 4832N 02502E 0298',\n",
       " '336570 SELETIN 4752N 02513E 0762',\n",
       " '336580 CHERNIVTSI 4822N 02554E 0246',\n",
       " \"336630 MOGILEV-PODOL'SKIJ 4827N 02747E 0079\",\n",
       " '336640 BRICANY 4822N 02706E 0238',\n",
       " '336780 SOROKI 4809N 02818E 0173',\n",
       " '336790 KAMENKA 4803N 02842E 0154',\n",
       " '336990 PERVOMAIJSK 4803N 03051E 0103',\n",
       " '337050 POMICHNA 4815N 03125E 0211',\n",
       " '337110 KIROVOGRAD 4829N 03215E 0172',\n",
       " \"337170 BOBRYNETS' 4803N 03212E 0143\",\n",
       " '337230 KOMISSAROVKA 4826N 03354E 0119',\n",
       " \"337450 BEL'CY 4744N 02755E 0104\",\n",
       " '337480 KORNESTY 4720N 02800E 0207',\n",
       " '337540 VORONKOVO 4742N 02908E 0199',\n",
       " '337610 LJUBASEVKA 4751N 03016E 0182',\n",
       " '337770 VOZNESENSK 4734N 03120E 0033',\n",
       " '337880 BASTANKA 4725N 03228E 0084',\n",
       " '337910 KRYVYI RIH 4302N 03313E 0125',\n",
       " \"338050 NIKOPOL' 4735N 03424E 0056\",\n",
       " '338150 UKII KISINEV 4701N 02852E 0180',\n",
       " '338330 SERBKA 4701N 03045E 0073',\n",
       " \"338340 RAZDEL'NAJA 4651N 03005E 0152\",\n",
       " '338370 UKOO ODESSA/TSENTRALNY 4626N 03046E 0035',\n",
       " '338460 NIKOLAEV 4658N 03158E 0052',\n",
       " '338620 VELIKAIA ALEKSANDRO 4719N 03317E 0056',\n",
       " '338690 KAHOVKA 4648N 03331E 0025',\n",
       " '338770 NIZNIE SEROGOZY 4651N 03424E 0054',\n",
       " '338810 LEOVO 4628N 02815E 0034',\n",
       " '338830 KOMRAT 4618N 02840E 0136',\n",
       " '338850 KAGUL 4554N 02811E 0039',\n",
       " '338890 IZMAIL 4522N 02852E 0030',\n",
       " '338920 TIRASPOL 4650N 02937E 0043',\n",
       " '338960 SARATA 4601N 02940E 0014',\n",
       " '339020 HERSON 4640N 03237E 0048',\n",
       " '339070 BEHTERY 4612N 03218E 0005',\n",
       " '339100 GENICESK 4610N 03449E 0015',\n",
       " '339150 ASKANIJA-NOVA 4627N 03353E 0028',\n",
       " '339170 PRIMORSKIY 4603N 03327E 0012',\n",
       " '339220 NOVO-SELOVSKOYE 4527N 03336E 0015',\n",
       " '339240 CERNOMORSKOE 4531N 03242E 0006',\n",
       " '339290 EVPATORIJA 4511N 03322E 0003',\n",
       " '339340 DZANKOJ 4543N 03424E 0008',\n",
       " '339390 KLEPYNINE 4539N 03412E 0037',\n",
       " '339450 POCTOVOE 4450N 03357E 0170',\n",
       " \"339460 UKFF SIMFEROPOL' 4441N 03408E 0181\",\n",
       " '339590 ALUSTA 4441N 03425E 0005',\n",
       " '339600 SOVETSKIY 4521N 03457E 0018',\n",
       " '339620 NIZNEGORSK 4527N 03444E 0020',\n",
       " '339660 KRYMSKAYA 4503N 03436E 0183',\n",
       " '339730 VLADISLAVOVKA 4510N 03523E 0037',\n",
       " '339760 FEODOSIJA 4502N 03523E 0026',\n",
       " '339810 CAPE KAZANTIP 4528N 03552E 0101',\n",
       " \"339830 KERC' 4524N 03625E 0049\",\n",
       " '339900 JALTA 4430N 03410E 0072',\n",
       " '339940 SEVASTOPOL/BELBEK 4441N 03334E 0085',\n",
       " '339990 AJ-PETRI MOUNTAIN 4428N 03404E 1180',\n",
       " \"343000 UKHH HAR'KOV 4952N 03608E 0152\",\n",
       " '343020 BOGODUHOV 5010N 03532E 0203',\n",
       " '343040 KOLOMAK 4951N 03514E 0178',\n",
       " '343120 PRIKOLOTNOE 5010N 03721E 0214',\n",
       " '343190 KUPJANSK 4939N 03739E 0083',\n",
       " '344010 KRASNOGRAD 4923N 03527E 0161',\n",
       " '344070 GUBINIHA 4849N 03510E 0132',\n",
       " '344150 IZJUM 4911N 03718E 0079',\n",
       " '344210 SVATAVO 4925N 03810E 0091',\n",
       " \"344220 STAROBEL'SK 4917N 03855E 0064\",\n",
       " '344320 CERTKOVO 4923N 04009E 0188',\n",
       " '344340 BELOVODSK 4913N 03935E 0065',\n",
       " '345020 PAVLOGRAD 4832N 03550E 0091',\n",
       " '345040 DNEPROPETROVSK 4822N 03505E 0142',\n",
       " '345090 CAPLINO 4808N 03614E 0176',\n",
       " '345100 ARTEMOVSK 4836N 03759E 0125',\n",
       " '345140 ALEKSANDROPOL 4836N 03633E 0125',\n",
       " '345190 DONECK 4804N 03746E 0226',\n",
       " '345230 VOROSHILOVGRAG 4836N 03916E 0062',\n",
       " \"345240 DEBAL'CEVO 4821N 03826E 0334\",\n",
       " \"345370 DAR'EVKA 4805N 03930E 0303\",\n",
       " \"346010 ZAPOROZ'E 4748N 03515E 0086\",\n",
       " '346060 GULYAYPOLE 4740N 03615E 0135',\n",
       " '346070 PRISIB 4716N 03520E 0087',\n",
       " '346090 KIRILLOVKA 4720N 03620E 0222',\n",
       " '346150 VOLNOVAHA 4737N 03729E 0266',\n",
       " '346220 AMVROSIEVKA 4748N 03830E 0172',\n",
       " \"347040 MILITOPOL' 4650N 03522E 0039\",\n",
       " '347080 BOTEVO 4641N 03551E 0025',\n",
       " '347120 ZDANOV 4704N 03730E 0070']"
      ]
     },
     "execution_count": 42,
     "metadata": {},
     "output_type": "execute_result"
    }
   ],
   "source": [
    "html_list = html.split('\\n')\n",
    "ua_raw = [x for x in html_list if  x[34:36] == 'UR']\n",
    "ua_raw = [' '.join(x.split()) for x in ua_raw]\n",
    "ua_raw = [x.replace(' UR ', ' ').replace(' (LH) ', ' ').replace(' & ', ' ') for x in ua_raw]\n",
    "ua_raw"
   ]
  },
  {
   "cell_type": "markdown",
   "metadata": {},
   "source": [
    "##### Removing remaining 4 symbol codes and replacing spaces in names with underscores"
   ]
  },
  {
   "cell_type": "code",
   "execution_count": 43,
   "metadata": {
    "scrolled": true
   },
   "outputs": [
    {
     "data": {
      "text/plain": [
       "[['330490', 'SEMENOVKA', '5211N', '03235E', '0160'],\n",
       " ['330580', 'HUTOR_MIHAJLOVSKIJ', '5203N', '03357E', '0189'],\n",
       " ['330750', 'PNEVNO', '5140N', '02516E', '0152'],\n",
       " ['330880', 'SARNY', '5121N', '02637E', '0153'],\n",
       " ['331350', 'CERNIGOV', '5129N', '03117E', '0137'],\n",
       " ['331360', 'VOLSKOVTSKY', '5134N', '03158E', '0143'],\n",
       " ['331560', 'GLUKHOV', '5141N', '03355E', '0180'],\n",
       " ['331730', \"KOVEL'\", '5113N', '02441E', '0176'],\n",
       " ['331770', 'VLADIMIR-VOLYNSKIJ', '5050N', '02419E', '0193'],\n",
       " ['331870', 'LUCK', '5045N', '02520E', '0196'],\n",
       " ['332130', 'OVRUC', '5119N', '02847E', '0171'],\n",
       " ['332150', 'KOROSTEN', '5057N', '02839E', '0189'],\n",
       " ['332280', 'TETEREV', '5042N', '02935E', '0132'],\n",
       " ['332310', \"CERNOBYL'\", '5117N', '03014E', '0127'],\n",
       " ['332360', 'OSTER', '5057N', '03053E', '0104'],\n",
       " ['332460', 'NEZIN', '5103N', '03154E', '0126'],\n",
       " ['332610', 'KONOTOP', '5114N', '03312E', '0149'],\n",
       " ['332680', 'ROMNY', '5046N', '03327E', '0169'],\n",
       " ['332710', \"BELOPOL'E\", '5109N', '03420E', '0156'],\n",
       " ['332750', 'SUMY', '5053N', '03447E', '0174'],\n",
       " ['332870', 'RAVA_RUSSKAJA', '5015N', '02338E', '0249'],\n",
       " ['332880', 'KAMENKA-BUGSKAYA', '5006N', '02421E', '0228'],\n",
       " ['332970', 'BRODY', '5006N', '02509E', '0227'],\n",
       " ['333010', 'ROVNO', '5035N', '02608E', '0234'],\n",
       " ['333120', 'NOVGOROD_VOLYNSKIJ', '5036N', '02737E', '0218'],\n",
       " ['333170', 'SEPETOVKA', '5010N', '02703E', '0278'],\n",
       " ['333250', 'ZITOMIR', '5016N', '02838E', '0227'],\n",
       " ['333390', 'FASTOV', '5005N', '02955E', '0209'],\n",
       " ['333450', 'KIEV/ZHULYANY', '5024N', '03027E', '0168'],\n",
       " ['333470', \"BORISPOL'/KEIV\", '5020N', '03058E', '0119'],\n",
       " ['333560', 'JAGOTIN', '5013N', '03148E', '0128'],\n",
       " ['333620', 'PRILUKI', '5035N', '03223E', '0132'],\n",
       " ['333740', 'LOHVICA', '5022N', '03316E', '0127'],\n",
       " ['333760', 'GADJAC', '5022N', '03359E', '0156'],\n",
       " ['333770', 'LUBNY', '5001N', '03300E', '0156'],\n",
       " ['333820', 'LEBEDIN', '5035N', '03429E', '0142'],\n",
       " ['333910', 'MOSTISKA', '4948N', '02309E', '0216'],\n",
       " ['333920', 'YAVOROV', '4956N', '02323E', '0229'],\n",
       " ['333930', \"L'VIV\", '4949N', '02357E', '0325'],\n",
       " ['333980', 'DROGOBYC', '4921N', '02333E', '0276'],\n",
       " ['334090', 'BEREZANY', '4926N', '02457E', '0301'],\n",
       " ['334150', \"TERNOPOL'\", '4934N', '02536E', '0324'],\n",
       " ['334210', \"YAMPOL'\", '4958N', '02615E', '0282'],\n",
       " ['334290', \"HMEL'NICKIJ\", '4924N', '02659E', '0351'],\n",
       " ['334460', \"BELOPOL'E\", '4950N', '02853E', '0238'],\n",
       " ['334640', \"BELAJA_CERKOV'\", '4947N', '03011E', '0179'],\n",
       " ['334660', 'IMENI_STARCENKO', '4940N', '03100E', '0155'],\n",
       " ['334840', 'ZOLOTONOSA', '4941N', '03202E', '0097'],\n",
       " ['334870', 'CERKASSY', '4926N', '03204E', '0107'],\n",
       " ['334950', 'VESELYJ_PODOL', '4937N', '03316E', '0091'],\n",
       " ['335060', 'POLTAVA', '4936N', '03433E', '0159'],\n",
       " ['335130', 'STRYY', '4915N', '02351E', '0306'],\n",
       " ['335140', 'VELIKIY_BEREZNY', '4854N', '02228E', '0195'],\n",
       " ['335150', 'SKOLE', '4902N', '02331E', '0549'],\n",
       " ['335170', 'PERECHIN', '4844N', '02228E', '0198'],\n",
       " ['335240', 'KALUSH', '4901N', '02422E', '0285'],\n",
       " ['335260', 'IVANO-FRANKOVSK', '4854N', '02442E', '0276'],\n",
       " ['335360', 'CERTKOV', '4901N', '02547E', '0279'],\n",
       " ['335480', \"KAMENETS_PODOL'SKIJ\", '4840N', '02635E', '0228'],\n",
       " ['335570', 'NOVAYA_ULICA', '4851N', '02716E', '0277'],\n",
       " ['335620', 'VINNICA', '4914N', '02828E', '0298'],\n",
       " ['335710', 'LIPOVEC', '4915N', '02914E', '0299'],\n",
       " ['335770', 'GAJSIN', '4848N', '02924E', '0211'],\n",
       " ['335810', 'ZHASHKOV', '4915N', '03006E', '0224'],\n",
       " ['335860', 'OZERNA', '4905N', '03053E', '0125'],\n",
       " ['335870', \"UMAN'\", '4846N', '03014E', '0216'],\n",
       " ['335930', 'ROTMISTROVKA', '4908N', '03142E', '0168'],\n",
       " ['336050', 'CHYHYRYN', '4904N', '03240E', '0124'],\n",
       " ['336090', 'ZNAMENKA', '4843N', '03240E', '0181'],\n",
       " ['336140', \"SVITLOVODS'K\", '4903N', '03315E', '0084'],\n",
       " ['336150', 'KREMENCUG', '4902N', '03326E', '0080'],\n",
       " ['336210', 'KOBELIAKY', '4909N', '03412E', '0118'],\n",
       " ['336310', 'UZGOROD', '4838N', '02216E', '0118'],\n",
       " ['336450', 'YASNYA', '4816N', '02422E', '0731'],\n",
       " ['336510', 'KOLOMYJA', '4832N', '02502E', '0298'],\n",
       " ['336570', 'SELETIN', '4752N', '02513E', '0762'],\n",
       " ['336580', 'CHERNIVTSI', '4822N', '02554E', '0246'],\n",
       " ['336630', \"MOGILEV-PODOL'SKIJ\", '4827N', '02747E', '0079'],\n",
       " ['336640', 'BRICANY', '4822N', '02706E', '0238'],\n",
       " ['336780', 'SOROKI', '4809N', '02818E', '0173'],\n",
       " ['336790', 'KAMENKA', '4803N', '02842E', '0154'],\n",
       " ['336990', 'PERVOMAIJSK', '4803N', '03051E', '0103'],\n",
       " ['337050', 'POMICHNA', '4815N', '03125E', '0211'],\n",
       " ['337110', 'KIROVOGRAD', '4829N', '03215E', '0172'],\n",
       " ['337170', \"BOBRYNETS'\", '4803N', '03212E', '0143'],\n",
       " ['337230', 'KOMISSAROVKA', '4826N', '03354E', '0119'],\n",
       " ['337450', \"BEL'CY\", '4744N', '02755E', '0104'],\n",
       " ['337480', 'KORNESTY', '4720N', '02800E', '0207'],\n",
       " ['337540', 'VORONKOVO', '4742N', '02908E', '0199'],\n",
       " ['337610', 'LJUBASEVKA', '4751N', '03016E', '0182'],\n",
       " ['337770', 'VOZNESENSK', '4734N', '03120E', '0033'],\n",
       " ['337880', 'BASTANKA', '4725N', '03228E', '0084'],\n",
       " ['337910', 'KRYVYI_RIH', '4302N', '03313E', '0125'],\n",
       " ['338050', \"NIKOPOL'\", '4735N', '03424E', '0056'],\n",
       " ['338330', 'SERBKA', '4701N', '03045E', '0073'],\n",
       " ['338340', \"RAZDEL'NAJA\", '4651N', '03005E', '0152'],\n",
       " ['338370', 'ODESSA/TSENTRALNY', '4626N', '03046E', '0035'],\n",
       " ['338460', 'NIKOLAEV', '4658N', '03158E', '0052'],\n",
       " ['338620', 'VELIKAIA_ALEKSANDRO', '4719N', '03317E', '0056'],\n",
       " ['338690', 'KAHOVKA', '4648N', '03331E', '0025'],\n",
       " ['338770', 'NIZNIE_SEROGOZY', '4651N', '03424E', '0054'],\n",
       " ['338810', 'LEOVO', '4628N', '02815E', '0034'],\n",
       " ['338830', 'KOMRAT', '4618N', '02840E', '0136'],\n",
       " ['338850', 'KAGUL', '4554N', '02811E', '0039'],\n",
       " ['338890', 'IZMAIL', '4522N', '02852E', '0030'],\n",
       " ['338960', 'SARATA', '4601N', '02940E', '0014'],\n",
       " ['339020', 'HERSON', '4640N', '03237E', '0048'],\n",
       " ['339070', 'BEHTERY', '4612N', '03218E', '0005'],\n",
       " ['339100', 'GENICESK', '4610N', '03449E', '0015'],\n",
       " ['339150', 'ASKANIJA-NOVA', '4627N', '03353E', '0028'],\n",
       " ['339170', 'PRIMORSKIY', '4603N', '03327E', '0012'],\n",
       " ['339220', 'NOVO-SELOVSKOYE', '4527N', '03336E', '0015'],\n",
       " ['339240', 'CERNOMORSKOE', '4531N', '03242E', '0006'],\n",
       " ['339290', 'EVPATORIJA', '4511N', '03322E', '0003'],\n",
       " ['339340', 'DZANKOJ', '4543N', '03424E', '0008'],\n",
       " ['339390', 'KLEPYNINE', '4539N', '03412E', '0037'],\n",
       " ['339450', 'POCTOVOE', '4450N', '03357E', '0170'],\n",
       " ['339460', \"SIMFEROPOL'\", '4441N', '03408E', '0181'],\n",
       " ['339590', 'ALUSTA', '4441N', '03425E', '0005'],\n",
       " ['339600', 'SOVETSKIY', '4521N', '03457E', '0018'],\n",
       " ['339620', 'NIZNEGORSK', '4527N', '03444E', '0020'],\n",
       " ['339660', 'KRYMSKAYA', '4503N', '03436E', '0183'],\n",
       " ['339730', 'VLADISLAVOVKA', '4510N', '03523E', '0037'],\n",
       " ['339760', 'FEODOSIJA', '4502N', '03523E', '0026'],\n",
       " ['339810', 'CAPE_KAZANTIP', '4528N', '03552E', '0101'],\n",
       " ['339830', \"KERC'\", '4524N', '03625E', '0049'],\n",
       " ['339900', 'JALTA', '4430N', '03410E', '0072'],\n",
       " ['339940', 'SEVASTOPOL/BELBEK', '4441N', '03334E', '0085'],\n",
       " ['339990', 'AJ-PETRI_MOUNTAIN', '4428N', '03404E', '1180'],\n",
       " ['343000', \"HAR'KOV\", '4952N', '03608E', '0152'],\n",
       " ['343020', 'BOGODUHOV', '5010N', '03532E', '0203'],\n",
       " ['343040', 'KOLOMAK', '4951N', '03514E', '0178'],\n",
       " ['343120', 'PRIKOLOTNOE', '5010N', '03721E', '0214'],\n",
       " ['343190', 'KUPJANSK', '4939N', '03739E', '0083'],\n",
       " ['344010', 'KRASNOGRAD', '4923N', '03527E', '0161'],\n",
       " ['344070', 'GUBINIHA', '4849N', '03510E', '0132'],\n",
       " ['344150', 'IZJUM', '4911N', '03718E', '0079'],\n",
       " ['344210', 'SVATAVO', '4925N', '03810E', '0091'],\n",
       " ['344220', \"STAROBEL'SK\", '4917N', '03855E', '0064'],\n",
       " ['344320', 'CERTKOVO', '4923N', '04009E', '0188'],\n",
       " ['344340', 'BELOVODSK', '4913N', '03935E', '0065'],\n",
       " ['345020', 'PAVLOGRAD', '4832N', '03550E', '0091'],\n",
       " ['345040', 'DNEPROPETROVSK', '4822N', '03505E', '0142'],\n",
       " ['345090', 'CAPLINO', '4808N', '03614E', '0176'],\n",
       " ['345100', 'ARTEMOVSK', '4836N', '03759E', '0125'],\n",
       " ['345140', 'ALEKSANDROPOL', '4836N', '03633E', '0125'],\n",
       " ['345190', 'DONECK', '4804N', '03746E', '0226'],\n",
       " ['345230', 'VOROSHILOVGRAG', '4836N', '03916E', '0062'],\n",
       " ['345240', \"DEBAL'CEVO\", '4821N', '03826E', '0334'],\n",
       " ['345370', \"DAR'EVKA\", '4805N', '03930E', '0303'],\n",
       " ['346010', \"ZAPOROZ'E\", '4748N', '03515E', '0086'],\n",
       " ['346060', 'GULYAYPOLE', '4740N', '03615E', '0135'],\n",
       " ['346070', 'PRISIB', '4716N', '03520E', '0087'],\n",
       " ['346090', 'KIRILLOVKA', '4720N', '03620E', '0222'],\n",
       " ['346150', 'VOLNOVAHA', '4737N', '03729E', '0266'],\n",
       " ['346220', 'AMVROSIEVKA', '4748N', '03830E', '0172'],\n",
       " ['347040', \"MILITOPOL'\", '4650N', '03522E', '0039'],\n",
       " ['347080', 'BOTEVO', '4641N', '03551E', '0025'],\n",
       " ['347120', 'ZDANOV', '4704N', '03730E', '0070']]"
      ]
     },
     "execution_count": 43,
     "metadata": {},
     "output_type": "execute_result"
    }
   ],
   "source": [
    "ua_stations = []\n",
    "replacements = [('UK[A-Z]{2,2} ', ''), ('([A-Z]{1,1}) ([A-Z]{1,1})',  r'\\1_\\2')] \n",
    "for line in ua_raw:\n",
    "    for old, new in replacements:\n",
    "        line = re.sub(old, new, line)        \n",
    "    ua_stations.append(line)\n",
    "    \n",
    "ua_stations = [x.split() for x in ua_stations if x[:6] != '338150' and x[:6] != '338920'] #kishinev and tiraspol codes\n",
    "ua_stations"
   ]
  },
  {
   "cell_type": "markdown",
   "metadata": {},
   "source": [
    "#### Forming dataframe of Ukrainian stations"
   ]
  },
  {
   "cell_type": "code",
   "execution_count": 44,
   "metadata": {
    "scrolled": true
   },
   "outputs": [
    {
     "name": "stdout",
     "output_type": "stream",
     "text": [
      "number    object\n",
      "name      object\n",
      "lat       object\n",
      "lon       object\n",
      "elev      object\n",
      "dtype: object\n"
     ]
    },
    {
     "data": {
      "text/html": [
       "<div>\n",
       "<style scoped>\n",
       "    .dataframe tbody tr th:only-of-type {\n",
       "        vertical-align: middle;\n",
       "    }\n",
       "\n",
       "    .dataframe tbody tr th {\n",
       "        vertical-align: top;\n",
       "    }\n",
       "\n",
       "    .dataframe thead th {\n",
       "        text-align: right;\n",
       "    }\n",
       "</style>\n",
       "<table border=\"1\" class=\"dataframe\">\n",
       "  <thead>\n",
       "    <tr style=\"text-align: right;\">\n",
       "      <th></th>\n",
       "      <th>number</th>\n",
       "      <th>name</th>\n",
       "      <th>lat</th>\n",
       "      <th>lon</th>\n",
       "      <th>elev</th>\n",
       "    </tr>\n",
       "  </thead>\n",
       "  <tbody>\n",
       "    <tr>\n",
       "      <th>0</th>\n",
       "      <td>330490</td>\n",
       "      <td>SEMENOVKA</td>\n",
       "      <td>5211N</td>\n",
       "      <td>03235E</td>\n",
       "      <td>0160</td>\n",
       "    </tr>\n",
       "    <tr>\n",
       "      <th>1</th>\n",
       "      <td>330580</td>\n",
       "      <td>HUTOR_MIHAJLOVSKIJ</td>\n",
       "      <td>5203N</td>\n",
       "      <td>03357E</td>\n",
       "      <td>0189</td>\n",
       "    </tr>\n",
       "    <tr>\n",
       "      <th>2</th>\n",
       "      <td>330750</td>\n",
       "      <td>PNEVNO</td>\n",
       "      <td>5140N</td>\n",
       "      <td>02516E</td>\n",
       "      <td>0152</td>\n",
       "    </tr>\n",
       "    <tr>\n",
       "      <th>3</th>\n",
       "      <td>330880</td>\n",
       "      <td>SARNY</td>\n",
       "      <td>5121N</td>\n",
       "      <td>02637E</td>\n",
       "      <td>0153</td>\n",
       "    </tr>\n",
       "    <tr>\n",
       "      <th>4</th>\n",
       "      <td>331350</td>\n",
       "      <td>CERNIGOV</td>\n",
       "      <td>5129N</td>\n",
       "      <td>03117E</td>\n",
       "      <td>0137</td>\n",
       "    </tr>\n",
       "    <tr>\n",
       "      <th>...</th>\n",
       "      <td>...</td>\n",
       "      <td>...</td>\n",
       "      <td>...</td>\n",
       "      <td>...</td>\n",
       "      <td>...</td>\n",
       "    </tr>\n",
       "    <tr>\n",
       "      <th>154</th>\n",
       "      <td>346150</td>\n",
       "      <td>VOLNOVAHA</td>\n",
       "      <td>4737N</td>\n",
       "      <td>03729E</td>\n",
       "      <td>0266</td>\n",
       "    </tr>\n",
       "    <tr>\n",
       "      <th>155</th>\n",
       "      <td>346220</td>\n",
       "      <td>AMVROSIEVKA</td>\n",
       "      <td>4748N</td>\n",
       "      <td>03830E</td>\n",
       "      <td>0172</td>\n",
       "    </tr>\n",
       "    <tr>\n",
       "      <th>156</th>\n",
       "      <td>347040</td>\n",
       "      <td>MILITOPOL'</td>\n",
       "      <td>4650N</td>\n",
       "      <td>03522E</td>\n",
       "      <td>0039</td>\n",
       "    </tr>\n",
       "    <tr>\n",
       "      <th>157</th>\n",
       "      <td>347080</td>\n",
       "      <td>BOTEVO</td>\n",
       "      <td>4641N</td>\n",
       "      <td>03551E</td>\n",
       "      <td>0025</td>\n",
       "    </tr>\n",
       "    <tr>\n",
       "      <th>158</th>\n",
       "      <td>347120</td>\n",
       "      <td>ZDANOV</td>\n",
       "      <td>4704N</td>\n",
       "      <td>03730E</td>\n",
       "      <td>0070</td>\n",
       "    </tr>\n",
       "  </tbody>\n",
       "</table>\n",
       "<p>159 rows × 5 columns</p>\n",
       "</div>"
      ],
      "text/plain": [
       "     number                name    lat     lon  elev\n",
       "0    330490           SEMENOVKA  5211N  03235E  0160\n",
       "1    330580  HUTOR_MIHAJLOVSKIJ  5203N  03357E  0189\n",
       "2    330750              PNEVNO  5140N  02516E  0152\n",
       "3    330880               SARNY  5121N  02637E  0153\n",
       "4    331350            CERNIGOV  5129N  03117E  0137\n",
       "..      ...                 ...    ...     ...   ...\n",
       "154  346150           VOLNOVAHA  4737N  03729E  0266\n",
       "155  346220         AMVROSIEVKA  4748N  03830E  0172\n",
       "156  347040          MILITOPOL'  4650N  03522E  0039\n",
       "157  347080              BOTEVO  4641N  03551E  0025\n",
       "158  347120              ZDANOV  4704N  03730E  0070\n",
       "\n",
       "[159 rows x 5 columns]"
      ]
     },
     "execution_count": 44,
     "metadata": {},
     "output_type": "execute_result"
    }
   ],
   "source": [
    "uastations_df = pd.DataFrame(ua_stations, columns = ['number', 'name', 'lat', 'lon', 'elev'])\n",
    "print(uastations_df.dtypes)\n",
    "uastations_df"
   ]
  },
  {
   "cell_type": "code",
   "execution_count": 45,
   "metadata": {},
   "outputs": [
    {
     "name": "stdout",
     "output_type": "stream",
     "text": [
      "number      int32\n",
      "name       object\n",
      "lat       float64\n",
      "lon       float64\n",
      "elev        int32\n",
      "dtype: object\n"
     ]
    },
    {
     "data": {
      "text/html": [
       "<div>\n",
       "<style scoped>\n",
       "    .dataframe tbody tr th:only-of-type {\n",
       "        vertical-align: middle;\n",
       "    }\n",
       "\n",
       "    .dataframe tbody tr th {\n",
       "        vertical-align: top;\n",
       "    }\n",
       "\n",
       "    .dataframe thead th {\n",
       "        text-align: right;\n",
       "    }\n",
       "</style>\n",
       "<table border=\"1\" class=\"dataframe\">\n",
       "  <thead>\n",
       "    <tr style=\"text-align: right;\">\n",
       "      <th></th>\n",
       "      <th>number</th>\n",
       "      <th>name</th>\n",
       "      <th>lat</th>\n",
       "      <th>lon</th>\n",
       "      <th>elev</th>\n",
       "    </tr>\n",
       "  </thead>\n",
       "  <tbody>\n",
       "    <tr>\n",
       "      <th>0</th>\n",
       "      <td>330490</td>\n",
       "      <td>SEMENOVKA</td>\n",
       "      <td>52.11</td>\n",
       "      <td>32.35</td>\n",
       "      <td>160</td>\n",
       "    </tr>\n",
       "    <tr>\n",
       "      <th>1</th>\n",
       "      <td>330580</td>\n",
       "      <td>HUTOR_MIHAJLOVSKIJ</td>\n",
       "      <td>52.03</td>\n",
       "      <td>33.57</td>\n",
       "      <td>189</td>\n",
       "    </tr>\n",
       "    <tr>\n",
       "      <th>2</th>\n",
       "      <td>330750</td>\n",
       "      <td>PNEVNO</td>\n",
       "      <td>51.40</td>\n",
       "      <td>25.16</td>\n",
       "      <td>152</td>\n",
       "    </tr>\n",
       "    <tr>\n",
       "      <th>3</th>\n",
       "      <td>330880</td>\n",
       "      <td>SARNY</td>\n",
       "      <td>51.21</td>\n",
       "      <td>26.37</td>\n",
       "      <td>153</td>\n",
       "    </tr>\n",
       "    <tr>\n",
       "      <th>4</th>\n",
       "      <td>331350</td>\n",
       "      <td>CERNIGOV</td>\n",
       "      <td>51.29</td>\n",
       "      <td>31.17</td>\n",
       "      <td>137</td>\n",
       "    </tr>\n",
       "    <tr>\n",
       "      <th>...</th>\n",
       "      <td>...</td>\n",
       "      <td>...</td>\n",
       "      <td>...</td>\n",
       "      <td>...</td>\n",
       "      <td>...</td>\n",
       "    </tr>\n",
       "    <tr>\n",
       "      <th>154</th>\n",
       "      <td>346150</td>\n",
       "      <td>VOLNOVAHA</td>\n",
       "      <td>47.37</td>\n",
       "      <td>37.29</td>\n",
       "      <td>266</td>\n",
       "    </tr>\n",
       "    <tr>\n",
       "      <th>155</th>\n",
       "      <td>346220</td>\n",
       "      <td>AMVROSIEVKA</td>\n",
       "      <td>47.48</td>\n",
       "      <td>38.30</td>\n",
       "      <td>172</td>\n",
       "    </tr>\n",
       "    <tr>\n",
       "      <th>156</th>\n",
       "      <td>347040</td>\n",
       "      <td>MILITOPOL'</td>\n",
       "      <td>46.50</td>\n",
       "      <td>35.22</td>\n",
       "      <td>39</td>\n",
       "    </tr>\n",
       "    <tr>\n",
       "      <th>157</th>\n",
       "      <td>347080</td>\n",
       "      <td>BOTEVO</td>\n",
       "      <td>46.41</td>\n",
       "      <td>35.51</td>\n",
       "      <td>25</td>\n",
       "    </tr>\n",
       "    <tr>\n",
       "      <th>158</th>\n",
       "      <td>347120</td>\n",
       "      <td>ZDANOV</td>\n",
       "      <td>47.04</td>\n",
       "      <td>37.30</td>\n",
       "      <td>70</td>\n",
       "    </tr>\n",
       "  </tbody>\n",
       "</table>\n",
       "<p>159 rows × 5 columns</p>\n",
       "</div>"
      ],
      "text/plain": [
       "     number                name    lat    lon  elev\n",
       "0    330490           SEMENOVKA  52.11  32.35   160\n",
       "1    330580  HUTOR_MIHAJLOVSKIJ  52.03  33.57   189\n",
       "2    330750              PNEVNO  51.40  25.16   152\n",
       "3    330880               SARNY  51.21  26.37   153\n",
       "4    331350            CERNIGOV  51.29  31.17   137\n",
       "..      ...                 ...    ...    ...   ...\n",
       "154  346150           VOLNOVAHA  47.37  37.29   266\n",
       "155  346220         AMVROSIEVKA  47.48  38.30   172\n",
       "156  347040          MILITOPOL'  46.50  35.22    39\n",
       "157  347080              BOTEVO  46.41  35.51    25\n",
       "158  347120              ZDANOV  47.04  37.30    70\n",
       "\n",
       "[159 rows x 5 columns]"
      ]
     },
     "execution_count": 45,
     "metadata": {},
     "output_type": "execute_result"
    }
   ],
   "source": [
    "uastations_df['lat'] = uastations_df['lat'].apply(lambda x: int(x[:-1])*0.01)\n",
    "uastations_df['lon'] = uastations_df['lon'].apply(lambda x: int(x[:-1])*0.01)\n",
    "uastations_df[['number', 'elev']] = uastations_df[['number', 'elev']].astype(int)\n",
    "print(uastations_df.dtypes)\n",
    "uastations_df"
   ]
  },
  {
   "cell_type": "markdown",
   "metadata": {},
   "source": [
    "#### Plotting stations on map with plotly.scattergeo"
   ]
  },
  {
   "cell_type": "code",
   "execution_count": 46,
   "metadata": {
    "scrolled": false
   },
   "outputs": [
    {
     "data": {
      "application/vnd.plotly.v1+json": {
       "config": {
        "plotlyServerURL": "https://plot.ly"
       },
       "data": [
        {
         "lat": [
          52.11,
          52.03,
          51.4,
          51.21,
          51.29,
          51.34,
          51.410000000000004,
          51.13,
          50.5,
          50.45,
          51.19,
          50.57,
          50.42,
          51.17,
          50.57,
          51.03,
          51.14,
          50.46,
          51.09,
          50.53,
          50.15,
          50.06,
          50.06,
          50.35,
          50.36,
          50.1,
          50.160000000000004,
          50.050000000000004,
          50.24,
          50.2,
          50.13,
          50.35,
          50.22,
          50.22,
          50.01,
          50.35,
          49.480000000000004,
          49.56,
          49.49,
          49.21,
          49.26,
          49.34,
          49.58,
          49.24,
          49.5,
          49.47,
          49.4,
          49.410000000000004,
          49.26,
          49.370000000000005,
          49.36,
          49.15,
          48.54,
          49.02,
          48.44,
          49.01,
          48.54,
          49.01,
          48.4,
          48.51,
          49.14,
          49.15,
          48.480000000000004,
          49.15,
          49.050000000000004,
          48.46,
          49.08,
          49.04,
          48.43,
          49.03,
          49.02,
          49.09,
          48.38,
          48.160000000000004,
          48.32,
          47.52,
          48.22,
          48.27,
          48.22,
          48.09,
          48.03,
          48.03,
          48.15,
          48.29,
          48.03,
          48.26,
          47.44,
          47.2,
          47.42,
          47.51,
          47.34,
          47.25,
          43.02,
          47.35,
          47.01,
          46.51,
          46.26,
          46.58,
          47.19,
          46.480000000000004,
          46.51,
          46.28,
          46.18,
          45.54,
          45.22,
          46.01,
          46.4,
          46.12,
          46.1,
          46.27,
          46.03,
          45.27,
          45.31,
          45.11,
          45.43,
          45.39,
          44.5,
          44.410000000000004,
          44.410000000000004,
          45.21,
          45.27,
          45.03,
          45.1,
          45.02,
          45.28,
          45.24,
          44.300000000000004,
          44.410000000000004,
          44.28,
          49.52,
          50.1,
          49.51,
          50.1,
          49.39,
          49.230000000000004,
          48.49,
          49.11,
          49.25,
          49.17,
          49.230000000000004,
          49.13,
          48.32,
          48.22,
          48.08,
          48.36,
          48.36,
          48.04,
          48.36,
          48.21,
          48.050000000000004,
          47.480000000000004,
          47.4,
          47.160000000000004,
          47.2,
          47.37,
          47.480000000000004,
          46.5,
          46.410000000000004,
          47.04
         ],
         "lon": [
          32.35,
          33.57,
          25.16,
          26.37,
          31.17,
          31.580000000000002,
          33.55,
          24.41,
          24.19,
          25.2,
          28.47,
          28.39,
          29.35,
          30.14,
          30.53,
          31.54,
          33.12,
          33.27,
          34.2,
          34.47,
          23.38,
          24.21,
          25.09,
          26.080000000000002,
          27.37,
          27.03,
          28.38,
          29.55,
          30.27,
          30.580000000000002,
          31.48,
          32.230000000000004,
          33.160000000000004,
          33.59,
          33,
          34.29,
          23.09,
          23.23,
          23.57,
          23.330000000000002,
          24.57,
          25.36,
          26.150000000000002,
          26.59,
          28.53,
          30.11,
          31,
          32.02,
          32.04,
          33.160000000000004,
          34.33,
          23.51,
          22.28,
          23.31,
          22.28,
          24.22,
          24.42,
          25.47,
          26.35,
          27.16,
          28.28,
          29.14,
          29.240000000000002,
          30.060000000000002,
          30.53,
          30.14,
          31.42,
          32.4,
          32.4,
          33.15,
          33.26,
          34.12,
          22.16,
          24.22,
          25.02,
          25.13,
          25.54,
          27.47,
          27.060000000000002,
          28.18,
          28.42,
          30.51,
          31.25,
          32.15,
          32.12,
          33.54,
          27.55,
          28,
          29.080000000000002,
          30.16,
          31.2,
          32.28,
          33.13,
          34.24,
          30.45,
          30.05,
          30.46,
          31.580000000000002,
          33.17,
          33.31,
          34.24,
          28.150000000000002,
          28.400000000000002,
          28.11,
          28.52,
          29.400000000000002,
          32.37,
          32.18,
          34.49,
          33.53,
          33.27,
          33.36,
          32.42,
          33.22,
          34.24,
          34.12,
          33.57,
          34.08,
          34.25,
          34.57,
          34.44,
          34.36,
          35.230000000000004,
          35.230000000000004,
          35.52,
          36.25,
          34.1,
          33.34,
          34.04,
          36.08,
          35.32,
          35.14,
          37.21,
          37.39,
          35.27,
          35.1,
          37.18,
          38.1,
          38.550000000000004,
          40.09,
          39.35,
          35.5,
          35.050000000000004,
          36.14,
          37.59,
          36.33,
          37.46,
          39.160000000000004,
          38.26,
          39.300000000000004,
          35.15,
          36.15,
          35.2,
          36.2,
          37.29,
          38.300000000000004,
          35.22,
          35.51,
          37.300000000000004
         ],
         "marker": {
          "color": [
           160,
           189,
           152,
           153,
           137,
           143,
           180,
           176,
           193,
           196,
           171,
           189,
           132,
           127,
           104,
           126,
           149,
           169,
           156,
           174,
           249,
           228,
           227,
           234,
           218,
           278,
           227,
           209,
           168,
           119,
           128,
           132,
           127,
           156,
           156,
           142,
           216,
           229,
           325,
           276,
           301,
           324,
           282,
           351,
           238,
           179,
           155,
           97,
           107,
           91,
           159,
           306,
           195,
           549,
           198,
           285,
           276,
           279,
           228,
           277,
           298,
           299,
           211,
           224,
           125,
           216,
           168,
           124,
           181,
           84,
           80,
           118,
           118,
           731,
           298,
           762,
           246,
           79,
           238,
           173,
           154,
           103,
           211,
           172,
           143,
           119,
           104,
           207,
           199,
           182,
           33,
           84,
           125,
           56,
           73,
           152,
           35,
           52,
           56,
           25,
           54,
           34,
           136,
           39,
           30,
           14,
           48,
           5,
           15,
           28,
           12,
           15,
           6,
           3,
           8,
           37,
           170,
           181,
           5,
           18,
           20,
           183,
           37,
           26,
           101,
           49,
           72,
           85,
           1180,
           152,
           203,
           178,
           214,
           83,
           161,
           132,
           79,
           91,
           64,
           188,
           65,
           91,
           142,
           176,
           125,
           125,
           226,
           62,
           334,
           303,
           86,
           135,
           87,
           222,
           266,
           172,
           39,
           25,
           70
          ]
         },
         "mode": "markers",
         "text": [
          [
           "SEMENOVKA",
           160
          ],
          [
           "HUTOR_MIHAJLOVSKIJ",
           189
          ],
          [
           "PNEVNO",
           152
          ],
          [
           "SARNY",
           153
          ],
          [
           "CERNIGOV",
           137
          ],
          [
           "VOLSKOVTSKY",
           143
          ],
          [
           "GLUKHOV",
           180
          ],
          [
           "KOVEL'",
           176
          ],
          [
           "VLADIMIR-VOLYNSKIJ",
           193
          ],
          [
           "LUCK",
           196
          ],
          [
           "OVRUC",
           171
          ],
          [
           "KOROSTEN",
           189
          ],
          [
           "TETEREV",
           132
          ],
          [
           "CERNOBYL'",
           127
          ],
          [
           "OSTER",
           104
          ],
          [
           "NEZIN",
           126
          ],
          [
           "KONOTOP",
           149
          ],
          [
           "ROMNY",
           169
          ],
          [
           "BELOPOL'E",
           156
          ],
          [
           "SUMY",
           174
          ],
          [
           "RAVA_RUSSKAJA",
           249
          ],
          [
           "KAMENKA-BUGSKAYA",
           228
          ],
          [
           "BRODY",
           227
          ],
          [
           "ROVNO",
           234
          ],
          [
           "NOVGOROD_VOLYNSKIJ",
           218
          ],
          [
           "SEPETOVKA",
           278
          ],
          [
           "ZITOMIR",
           227
          ],
          [
           "FASTOV",
           209
          ],
          [
           "KIEV/ZHULYANY",
           168
          ],
          [
           "BORISPOL'/KEIV",
           119
          ],
          [
           "JAGOTIN",
           128
          ],
          [
           "PRILUKI",
           132
          ],
          [
           "LOHVICA",
           127
          ],
          [
           "GADJAC",
           156
          ],
          [
           "LUBNY",
           156
          ],
          [
           "LEBEDIN",
           142
          ],
          [
           "MOSTISKA",
           216
          ],
          [
           "YAVOROV",
           229
          ],
          [
           "L'VIV",
           325
          ],
          [
           "DROGOBYC",
           276
          ],
          [
           "BEREZANY",
           301
          ],
          [
           "TERNOPOL'",
           324
          ],
          [
           "YAMPOL'",
           282
          ],
          [
           "HMEL'NICKIJ",
           351
          ],
          [
           "BELOPOL'E",
           238
          ],
          [
           "BELAJA_CERKOV'",
           179
          ],
          [
           "IMENI_STARCENKO",
           155
          ],
          [
           "ZOLOTONOSA",
           97
          ],
          [
           "CERKASSY",
           107
          ],
          [
           "VESELYJ_PODOL",
           91
          ],
          [
           "POLTAVA",
           159
          ],
          [
           "STRYY",
           306
          ],
          [
           "VELIKIY_BEREZNY",
           195
          ],
          [
           "SKOLE",
           549
          ],
          [
           "PERECHIN",
           198
          ],
          [
           "KALUSH",
           285
          ],
          [
           "IVANO-FRANKOVSK",
           276
          ],
          [
           "CERTKOV",
           279
          ],
          [
           "KAMENETS_PODOL'SKIJ",
           228
          ],
          [
           "NOVAYA_ULICA",
           277
          ],
          [
           "VINNICA",
           298
          ],
          [
           "LIPOVEC",
           299
          ],
          [
           "GAJSIN",
           211
          ],
          [
           "ZHASHKOV",
           224
          ],
          [
           "OZERNA",
           125
          ],
          [
           "UMAN'",
           216
          ],
          [
           "ROTMISTROVKA",
           168
          ],
          [
           "CHYHYRYN",
           124
          ],
          [
           "ZNAMENKA",
           181
          ],
          [
           "SVITLOVODS'K",
           84
          ],
          [
           "KREMENCUG",
           80
          ],
          [
           "KOBELIAKY",
           118
          ],
          [
           "UZGOROD",
           118
          ],
          [
           "YASNYA",
           731
          ],
          [
           "KOLOMYJA",
           298
          ],
          [
           "SELETIN",
           762
          ],
          [
           "CHERNIVTSI",
           246
          ],
          [
           "MOGILEV-PODOL'SKIJ",
           79
          ],
          [
           "BRICANY",
           238
          ],
          [
           "SOROKI",
           173
          ],
          [
           "KAMENKA",
           154
          ],
          [
           "PERVOMAIJSK",
           103
          ],
          [
           "POMICHNA",
           211
          ],
          [
           "KIROVOGRAD",
           172
          ],
          [
           "BOBRYNETS'",
           143
          ],
          [
           "KOMISSAROVKA",
           119
          ],
          [
           "BEL'CY",
           104
          ],
          [
           "KORNESTY",
           207
          ],
          [
           "VORONKOVO",
           199
          ],
          [
           "LJUBASEVKA",
           182
          ],
          [
           "VOZNESENSK",
           33
          ],
          [
           "BASTANKA",
           84
          ],
          [
           "KRYVYI_RIH",
           125
          ],
          [
           "NIKOPOL'",
           56
          ],
          [
           "SERBKA",
           73
          ],
          [
           "RAZDEL'NAJA",
           152
          ],
          [
           "ODESSA/TSENTRALNY",
           35
          ],
          [
           "NIKOLAEV",
           52
          ],
          [
           "VELIKAIA_ALEKSANDRO",
           56
          ],
          [
           "KAHOVKA",
           25
          ],
          [
           "NIZNIE_SEROGOZY",
           54
          ],
          [
           "LEOVO",
           34
          ],
          [
           "KOMRAT",
           136
          ],
          [
           "KAGUL",
           39
          ],
          [
           "IZMAIL",
           30
          ],
          [
           "SARATA",
           14
          ],
          [
           "HERSON",
           48
          ],
          [
           "BEHTERY",
           5
          ],
          [
           "GENICESK",
           15
          ],
          [
           "ASKANIJA-NOVA",
           28
          ],
          [
           "PRIMORSKIY",
           12
          ],
          [
           "NOVO-SELOVSKOYE",
           15
          ],
          [
           "CERNOMORSKOE",
           6
          ],
          [
           "EVPATORIJA",
           3
          ],
          [
           "DZANKOJ",
           8
          ],
          [
           "KLEPYNINE",
           37
          ],
          [
           "POCTOVOE",
           170
          ],
          [
           "SIMFEROPOL'",
           181
          ],
          [
           "ALUSTA",
           5
          ],
          [
           "SOVETSKIY",
           18
          ],
          [
           "NIZNEGORSK",
           20
          ],
          [
           "KRYMSKAYA",
           183
          ],
          [
           "VLADISLAVOVKA",
           37
          ],
          [
           "FEODOSIJA",
           26
          ],
          [
           "CAPE_KAZANTIP",
           101
          ],
          [
           "KERC'",
           49
          ],
          [
           "JALTA",
           72
          ],
          [
           "SEVASTOPOL/BELBEK",
           85
          ],
          [
           "AJ-PETRI_MOUNTAIN",
           1180
          ],
          [
           "HAR'KOV",
           152
          ],
          [
           "BOGODUHOV",
           203
          ],
          [
           "KOLOMAK",
           178
          ],
          [
           "PRIKOLOTNOE",
           214
          ],
          [
           "KUPJANSK",
           83
          ],
          [
           "KRASNOGRAD",
           161
          ],
          [
           "GUBINIHA",
           132
          ],
          [
           "IZJUM",
           79
          ],
          [
           "SVATAVO",
           91
          ],
          [
           "STAROBEL'SK",
           64
          ],
          [
           "CERTKOVO",
           188
          ],
          [
           "BELOVODSK",
           65
          ],
          [
           "PAVLOGRAD",
           91
          ],
          [
           "DNEPROPETROVSK",
           142
          ],
          [
           "CAPLINO",
           176
          ],
          [
           "ARTEMOVSK",
           125
          ],
          [
           "ALEKSANDROPOL",
           125
          ],
          [
           "DONECK",
           226
          ],
          [
           "VOROSHILOVGRAG",
           62
          ],
          [
           "DEBAL'CEVO",
           334
          ],
          [
           "DAR'EVKA",
           303
          ],
          [
           "ZAPOROZ'E",
           86
          ],
          [
           "GULYAYPOLE",
           135
          ],
          [
           "PRISIB",
           87
          ],
          [
           "KIRILLOVKA",
           222
          ],
          [
           "VOLNOVAHA",
           266
          ],
          [
           "AMVROSIEVKA",
           172
          ],
          [
           "MILITOPOL'",
           39
          ],
          [
           "BOTEVO",
           25
          ],
          [
           "ZDANOV",
           70
          ]
         ],
         "type": "scattergeo"
        }
       ],
       "layout": {
        "geo": {
         "center": {
          "lat": 52,
          "lon": 32
         },
         "projection": {
          "scale": 3
         },
         "scope": "europe"
        },
        "height": 800,
        "template": {
         "data": {
          "bar": [
           {
            "error_x": {
             "color": "#2a3f5f"
            },
            "error_y": {
             "color": "#2a3f5f"
            },
            "marker": {
             "line": {
              "color": "#E5ECF6",
              "width": 0.5
             }
            },
            "type": "bar"
           }
          ],
          "barpolar": [
           {
            "marker": {
             "line": {
              "color": "#E5ECF6",
              "width": 0.5
             }
            },
            "type": "barpolar"
           }
          ],
          "carpet": [
           {
            "aaxis": {
             "endlinecolor": "#2a3f5f",
             "gridcolor": "white",
             "linecolor": "white",
             "minorgridcolor": "white",
             "startlinecolor": "#2a3f5f"
            },
            "baxis": {
             "endlinecolor": "#2a3f5f",
             "gridcolor": "white",
             "linecolor": "white",
             "minorgridcolor": "white",
             "startlinecolor": "#2a3f5f"
            },
            "type": "carpet"
           }
          ],
          "choropleth": [
           {
            "colorbar": {
             "outlinewidth": 0,
             "ticks": ""
            },
            "type": "choropleth"
           }
          ],
          "contour": [
           {
            "colorbar": {
             "outlinewidth": 0,
             "ticks": ""
            },
            "colorscale": [
             [
              0,
              "#0d0887"
             ],
             [
              0.1111111111111111,
              "#46039f"
             ],
             [
              0.2222222222222222,
              "#7201a8"
             ],
             [
              0.3333333333333333,
              "#9c179e"
             ],
             [
              0.4444444444444444,
              "#bd3786"
             ],
             [
              0.5555555555555556,
              "#d8576b"
             ],
             [
              0.6666666666666666,
              "#ed7953"
             ],
             [
              0.7777777777777778,
              "#fb9f3a"
             ],
             [
              0.8888888888888888,
              "#fdca26"
             ],
             [
              1,
              "#f0f921"
             ]
            ],
            "type": "contour"
           }
          ],
          "contourcarpet": [
           {
            "colorbar": {
             "outlinewidth": 0,
             "ticks": ""
            },
            "type": "contourcarpet"
           }
          ],
          "heatmap": [
           {
            "colorbar": {
             "outlinewidth": 0,
             "ticks": ""
            },
            "colorscale": [
             [
              0,
              "#0d0887"
             ],
             [
              0.1111111111111111,
              "#46039f"
             ],
             [
              0.2222222222222222,
              "#7201a8"
             ],
             [
              0.3333333333333333,
              "#9c179e"
             ],
             [
              0.4444444444444444,
              "#bd3786"
             ],
             [
              0.5555555555555556,
              "#d8576b"
             ],
             [
              0.6666666666666666,
              "#ed7953"
             ],
             [
              0.7777777777777778,
              "#fb9f3a"
             ],
             [
              0.8888888888888888,
              "#fdca26"
             ],
             [
              1,
              "#f0f921"
             ]
            ],
            "type": "heatmap"
           }
          ],
          "heatmapgl": [
           {
            "colorbar": {
             "outlinewidth": 0,
             "ticks": ""
            },
            "colorscale": [
             [
              0,
              "#0d0887"
             ],
             [
              0.1111111111111111,
              "#46039f"
             ],
             [
              0.2222222222222222,
              "#7201a8"
             ],
             [
              0.3333333333333333,
              "#9c179e"
             ],
             [
              0.4444444444444444,
              "#bd3786"
             ],
             [
              0.5555555555555556,
              "#d8576b"
             ],
             [
              0.6666666666666666,
              "#ed7953"
             ],
             [
              0.7777777777777778,
              "#fb9f3a"
             ],
             [
              0.8888888888888888,
              "#fdca26"
             ],
             [
              1,
              "#f0f921"
             ]
            ],
            "type": "heatmapgl"
           }
          ],
          "histogram": [
           {
            "marker": {
             "colorbar": {
              "outlinewidth": 0,
              "ticks": ""
             }
            },
            "type": "histogram"
           }
          ],
          "histogram2d": [
           {
            "colorbar": {
             "outlinewidth": 0,
             "ticks": ""
            },
            "colorscale": [
             [
              0,
              "#0d0887"
             ],
             [
              0.1111111111111111,
              "#46039f"
             ],
             [
              0.2222222222222222,
              "#7201a8"
             ],
             [
              0.3333333333333333,
              "#9c179e"
             ],
             [
              0.4444444444444444,
              "#bd3786"
             ],
             [
              0.5555555555555556,
              "#d8576b"
             ],
             [
              0.6666666666666666,
              "#ed7953"
             ],
             [
              0.7777777777777778,
              "#fb9f3a"
             ],
             [
              0.8888888888888888,
              "#fdca26"
             ],
             [
              1,
              "#f0f921"
             ]
            ],
            "type": "histogram2d"
           }
          ],
          "histogram2dcontour": [
           {
            "colorbar": {
             "outlinewidth": 0,
             "ticks": ""
            },
            "colorscale": [
             [
              0,
              "#0d0887"
             ],
             [
              0.1111111111111111,
              "#46039f"
             ],
             [
              0.2222222222222222,
              "#7201a8"
             ],
             [
              0.3333333333333333,
              "#9c179e"
             ],
             [
              0.4444444444444444,
              "#bd3786"
             ],
             [
              0.5555555555555556,
              "#d8576b"
             ],
             [
              0.6666666666666666,
              "#ed7953"
             ],
             [
              0.7777777777777778,
              "#fb9f3a"
             ],
             [
              0.8888888888888888,
              "#fdca26"
             ],
             [
              1,
              "#f0f921"
             ]
            ],
            "type": "histogram2dcontour"
           }
          ],
          "mesh3d": [
           {
            "colorbar": {
             "outlinewidth": 0,
             "ticks": ""
            },
            "type": "mesh3d"
           }
          ],
          "parcoords": [
           {
            "line": {
             "colorbar": {
              "outlinewidth": 0,
              "ticks": ""
             }
            },
            "type": "parcoords"
           }
          ],
          "pie": [
           {
            "automargin": true,
            "type": "pie"
           }
          ],
          "scatter": [
           {
            "marker": {
             "colorbar": {
              "outlinewidth": 0,
              "ticks": ""
             }
            },
            "type": "scatter"
           }
          ],
          "scatter3d": [
           {
            "line": {
             "colorbar": {
              "outlinewidth": 0,
              "ticks": ""
             }
            },
            "marker": {
             "colorbar": {
              "outlinewidth": 0,
              "ticks": ""
             }
            },
            "type": "scatter3d"
           }
          ],
          "scattercarpet": [
           {
            "marker": {
             "colorbar": {
              "outlinewidth": 0,
              "ticks": ""
             }
            },
            "type": "scattercarpet"
           }
          ],
          "scattergeo": [
           {
            "marker": {
             "colorbar": {
              "outlinewidth": 0,
              "ticks": ""
             }
            },
            "type": "scattergeo"
           }
          ],
          "scattergl": [
           {
            "marker": {
             "colorbar": {
              "outlinewidth": 0,
              "ticks": ""
             }
            },
            "type": "scattergl"
           }
          ],
          "scattermapbox": [
           {
            "marker": {
             "colorbar": {
              "outlinewidth": 0,
              "ticks": ""
             }
            },
            "type": "scattermapbox"
           }
          ],
          "scatterpolar": [
           {
            "marker": {
             "colorbar": {
              "outlinewidth": 0,
              "ticks": ""
             }
            },
            "type": "scatterpolar"
           }
          ],
          "scatterpolargl": [
           {
            "marker": {
             "colorbar": {
              "outlinewidth": 0,
              "ticks": ""
             }
            },
            "type": "scatterpolargl"
           }
          ],
          "scatterternary": [
           {
            "marker": {
             "colorbar": {
              "outlinewidth": 0,
              "ticks": ""
             }
            },
            "type": "scatterternary"
           }
          ],
          "surface": [
           {
            "colorbar": {
             "outlinewidth": 0,
             "ticks": ""
            },
            "colorscale": [
             [
              0,
              "#0d0887"
             ],
             [
              0.1111111111111111,
              "#46039f"
             ],
             [
              0.2222222222222222,
              "#7201a8"
             ],
             [
              0.3333333333333333,
              "#9c179e"
             ],
             [
              0.4444444444444444,
              "#bd3786"
             ],
             [
              0.5555555555555556,
              "#d8576b"
             ],
             [
              0.6666666666666666,
              "#ed7953"
             ],
             [
              0.7777777777777778,
              "#fb9f3a"
             ],
             [
              0.8888888888888888,
              "#fdca26"
             ],
             [
              1,
              "#f0f921"
             ]
            ],
            "type": "surface"
           }
          ],
          "table": [
           {
            "cells": {
             "fill": {
              "color": "#EBF0F8"
             },
             "line": {
              "color": "white"
             }
            },
            "header": {
             "fill": {
              "color": "#C8D4E3"
             },
             "line": {
              "color": "white"
             }
            },
            "type": "table"
           }
          ]
         },
         "layout": {
          "annotationdefaults": {
           "arrowcolor": "#2a3f5f",
           "arrowhead": 0,
           "arrowwidth": 1
          },
          "autotypenumbers": "strict",
          "coloraxis": {
           "colorbar": {
            "outlinewidth": 0,
            "ticks": ""
           }
          },
          "colorscale": {
           "diverging": [
            [
             0,
             "#8e0152"
            ],
            [
             0.1,
             "#c51b7d"
            ],
            [
             0.2,
             "#de77ae"
            ],
            [
             0.3,
             "#f1b6da"
            ],
            [
             0.4,
             "#fde0ef"
            ],
            [
             0.5,
             "#f7f7f7"
            ],
            [
             0.6,
             "#e6f5d0"
            ],
            [
             0.7,
             "#b8e186"
            ],
            [
             0.8,
             "#7fbc41"
            ],
            [
             0.9,
             "#4d9221"
            ],
            [
             1,
             "#276419"
            ]
           ],
           "sequential": [
            [
             0,
             "#0d0887"
            ],
            [
             0.1111111111111111,
             "#46039f"
            ],
            [
             0.2222222222222222,
             "#7201a8"
            ],
            [
             0.3333333333333333,
             "#9c179e"
            ],
            [
             0.4444444444444444,
             "#bd3786"
            ],
            [
             0.5555555555555556,
             "#d8576b"
            ],
            [
             0.6666666666666666,
             "#ed7953"
            ],
            [
             0.7777777777777778,
             "#fb9f3a"
            ],
            [
             0.8888888888888888,
             "#fdca26"
            ],
            [
             1,
             "#f0f921"
            ]
           ],
           "sequentialminus": [
            [
             0,
             "#0d0887"
            ],
            [
             0.1111111111111111,
             "#46039f"
            ],
            [
             0.2222222222222222,
             "#7201a8"
            ],
            [
             0.3333333333333333,
             "#9c179e"
            ],
            [
             0.4444444444444444,
             "#bd3786"
            ],
            [
             0.5555555555555556,
             "#d8576b"
            ],
            [
             0.6666666666666666,
             "#ed7953"
            ],
            [
             0.7777777777777778,
             "#fb9f3a"
            ],
            [
             0.8888888888888888,
             "#fdca26"
            ],
            [
             1,
             "#f0f921"
            ]
           ]
          },
          "colorway": [
           "#636efa",
           "#EF553B",
           "#00cc96",
           "#ab63fa",
           "#FFA15A",
           "#19d3f3",
           "#FF6692",
           "#B6E880",
           "#FF97FF",
           "#FECB52"
          ],
          "font": {
           "color": "#2a3f5f"
          },
          "geo": {
           "bgcolor": "white",
           "lakecolor": "white",
           "landcolor": "#E5ECF6",
           "showlakes": true,
           "showland": true,
           "subunitcolor": "white"
          },
          "hoverlabel": {
           "align": "left"
          },
          "hovermode": "closest",
          "mapbox": {
           "style": "light"
          },
          "paper_bgcolor": "white",
          "plot_bgcolor": "#E5ECF6",
          "polar": {
           "angularaxis": {
            "gridcolor": "white",
            "linecolor": "white",
            "ticks": ""
           },
           "bgcolor": "#E5ECF6",
           "radialaxis": {
            "gridcolor": "white",
            "linecolor": "white",
            "ticks": ""
           }
          },
          "scene": {
           "xaxis": {
            "backgroundcolor": "#E5ECF6",
            "gridcolor": "white",
            "gridwidth": 2,
            "linecolor": "white",
            "showbackground": true,
            "ticks": "",
            "zerolinecolor": "white"
           },
           "yaxis": {
            "backgroundcolor": "#E5ECF6",
            "gridcolor": "white",
            "gridwidth": 2,
            "linecolor": "white",
            "showbackground": true,
            "ticks": "",
            "zerolinecolor": "white"
           },
           "zaxis": {
            "backgroundcolor": "#E5ECF6",
            "gridcolor": "white",
            "gridwidth": 2,
            "linecolor": "white",
            "showbackground": true,
            "ticks": "",
            "zerolinecolor": "white"
           }
          },
          "shapedefaults": {
           "line": {
            "color": "#2a3f5f"
           }
          },
          "ternary": {
           "aaxis": {
            "gridcolor": "white",
            "linecolor": "white",
            "ticks": ""
           },
           "baxis": {
            "gridcolor": "white",
            "linecolor": "white",
            "ticks": ""
           },
           "bgcolor": "#E5ECF6",
           "caxis": {
            "gridcolor": "white",
            "linecolor": "white",
            "ticks": ""
           }
          },
          "title": {
           "x": 0.05
          },
          "xaxis": {
           "automargin": true,
           "gridcolor": "white",
           "linecolor": "white",
           "ticks": "",
           "title": {
            "standoff": 15
           },
           "zerolinecolor": "white",
           "zerolinewidth": 2
          },
          "yaxis": {
           "automargin": true,
           "gridcolor": "white",
           "linecolor": "white",
           "ticks": "",
           "title": {
            "standoff": 15
           },
           "zerolinecolor": "white",
           "zerolinewidth": 2
          }
         }
        },
        "title": {
         "text": "location of NOAA stations in Ukraine"
        },
        "width": 800
       }
      },
      "text/html": [
       "<div>                            <div id=\"7bdc5f63-b34a-4398-83ae-cd15e4f0a093\" class=\"plotly-graph-div\" style=\"height:800px; width:800px;\"></div>            <script type=\"text/javascript\">                require([\"plotly\"], function(Plotly) {                    window.PLOTLYENV=window.PLOTLYENV || {};                                    if (document.getElementById(\"7bdc5f63-b34a-4398-83ae-cd15e4f0a093\")) {                    Plotly.newPlot(                        \"7bdc5f63-b34a-4398-83ae-cd15e4f0a093\",                        [{\"lat\": [52.11, 52.03, 51.4, 51.21, 51.29, 51.34, 51.410000000000004, 51.13, 50.5, 50.45, 51.19, 50.57, 50.42, 51.17, 50.57, 51.03, 51.14, 50.46, 51.09, 50.53, 50.15, 50.06, 50.06, 50.35, 50.36, 50.1, 50.160000000000004, 50.050000000000004, 50.24, 50.2, 50.13, 50.35, 50.22, 50.22, 50.01, 50.35, 49.480000000000004, 49.56, 49.49, 49.21, 49.26, 49.34, 49.58, 49.24, 49.5, 49.47, 49.4, 49.410000000000004, 49.26, 49.370000000000005, 49.36, 49.15, 48.54, 49.02, 48.44, 49.01, 48.54, 49.01, 48.4, 48.51, 49.14, 49.15, 48.480000000000004, 49.15, 49.050000000000004, 48.46, 49.08, 49.04, 48.43, 49.03, 49.02, 49.09, 48.38, 48.160000000000004, 48.32, 47.52, 48.22, 48.27, 48.22, 48.09, 48.03, 48.03, 48.15, 48.29, 48.03, 48.26, 47.44, 47.2, 47.42, 47.51, 47.34, 47.25, 43.02, 47.35, 47.01, 46.51, 46.26, 46.58, 47.19, 46.480000000000004, 46.51, 46.28, 46.18, 45.54, 45.22, 46.01, 46.4, 46.12, 46.1, 46.27, 46.03, 45.27, 45.31, 45.11, 45.43, 45.39, 44.5, 44.410000000000004, 44.410000000000004, 45.21, 45.27, 45.03, 45.1, 45.02, 45.28, 45.24, 44.300000000000004, 44.410000000000004, 44.28, 49.52, 50.1, 49.51, 50.1, 49.39, 49.230000000000004, 48.49, 49.11, 49.25, 49.17, 49.230000000000004, 49.13, 48.32, 48.22, 48.08, 48.36, 48.36, 48.04, 48.36, 48.21, 48.050000000000004, 47.480000000000004, 47.4, 47.160000000000004, 47.2, 47.37, 47.480000000000004, 46.5, 46.410000000000004, 47.04], \"lon\": [32.35, 33.57, 25.16, 26.37, 31.17, 31.580000000000002, 33.55, 24.41, 24.19, 25.2, 28.47, 28.39, 29.35, 30.14, 30.53, 31.54, 33.12, 33.27, 34.2, 34.47, 23.38, 24.21, 25.09, 26.080000000000002, 27.37, 27.03, 28.38, 29.55, 30.27, 30.580000000000002, 31.48, 32.230000000000004, 33.160000000000004, 33.59, 33.0, 34.29, 23.09, 23.23, 23.57, 23.330000000000002, 24.57, 25.36, 26.150000000000002, 26.59, 28.53, 30.11, 31.0, 32.02, 32.04, 33.160000000000004, 34.33, 23.51, 22.28, 23.31, 22.28, 24.22, 24.42, 25.47, 26.35, 27.16, 28.28, 29.14, 29.240000000000002, 30.060000000000002, 30.53, 30.14, 31.42, 32.4, 32.4, 33.15, 33.26, 34.12, 22.16, 24.22, 25.02, 25.13, 25.54, 27.47, 27.060000000000002, 28.18, 28.42, 30.51, 31.25, 32.15, 32.12, 33.54, 27.55, 28.0, 29.080000000000002, 30.16, 31.2, 32.28, 33.13, 34.24, 30.45, 30.05, 30.46, 31.580000000000002, 33.17, 33.31, 34.24, 28.150000000000002, 28.400000000000002, 28.11, 28.52, 29.400000000000002, 32.37, 32.18, 34.49, 33.53, 33.27, 33.36, 32.42, 33.22, 34.24, 34.12, 33.57, 34.08, 34.25, 34.57, 34.44, 34.36, 35.230000000000004, 35.230000000000004, 35.52, 36.25, 34.1, 33.34, 34.04, 36.08, 35.32, 35.14, 37.21, 37.39, 35.27, 35.1, 37.18, 38.1, 38.550000000000004, 40.09, 39.35, 35.5, 35.050000000000004, 36.14, 37.59, 36.33, 37.46, 39.160000000000004, 38.26, 39.300000000000004, 35.15, 36.15, 35.2, 36.2, 37.29, 38.300000000000004, 35.22, 35.51, 37.300000000000004], \"marker\": {\"color\": [160, 189, 152, 153, 137, 143, 180, 176, 193, 196, 171, 189, 132, 127, 104, 126, 149, 169, 156, 174, 249, 228, 227, 234, 218, 278, 227, 209, 168, 119, 128, 132, 127, 156, 156, 142, 216, 229, 325, 276, 301, 324, 282, 351, 238, 179, 155, 97, 107, 91, 159, 306, 195, 549, 198, 285, 276, 279, 228, 277, 298, 299, 211, 224, 125, 216, 168, 124, 181, 84, 80, 118, 118, 731, 298, 762, 246, 79, 238, 173, 154, 103, 211, 172, 143, 119, 104, 207, 199, 182, 33, 84, 125, 56, 73, 152, 35, 52, 56, 25, 54, 34, 136, 39, 30, 14, 48, 5, 15, 28, 12, 15, 6, 3, 8, 37, 170, 181, 5, 18, 20, 183, 37, 26, 101, 49, 72, 85, 1180, 152, 203, 178, 214, 83, 161, 132, 79, 91, 64, 188, 65, 91, 142, 176, 125, 125, 226, 62, 334, 303, 86, 135, 87, 222, 266, 172, 39, 25, 70]}, \"mode\": \"markers\", \"text\": [[\"SEMENOVKA\", 160], [\"HUTOR_MIHAJLOVSKIJ\", 189], [\"PNEVNO\", 152], [\"SARNY\", 153], [\"CERNIGOV\", 137], [\"VOLSKOVTSKY\", 143], [\"GLUKHOV\", 180], [\"KOVEL'\", 176], [\"VLADIMIR-VOLYNSKIJ\", 193], [\"LUCK\", 196], [\"OVRUC\", 171], [\"KOROSTEN\", 189], [\"TETEREV\", 132], [\"CERNOBYL'\", 127], [\"OSTER\", 104], [\"NEZIN\", 126], [\"KONOTOP\", 149], [\"ROMNY\", 169], [\"BELOPOL'E\", 156], [\"SUMY\", 174], [\"RAVA_RUSSKAJA\", 249], [\"KAMENKA-BUGSKAYA\", 228], [\"BRODY\", 227], [\"ROVNO\", 234], [\"NOVGOROD_VOLYNSKIJ\", 218], [\"SEPETOVKA\", 278], [\"ZITOMIR\", 227], [\"FASTOV\", 209], [\"KIEV/ZHULYANY\", 168], [\"BORISPOL'/KEIV\", 119], [\"JAGOTIN\", 128], [\"PRILUKI\", 132], [\"LOHVICA\", 127], [\"GADJAC\", 156], [\"LUBNY\", 156], [\"LEBEDIN\", 142], [\"MOSTISKA\", 216], [\"YAVOROV\", 229], [\"L'VIV\", 325], [\"DROGOBYC\", 276], [\"BEREZANY\", 301], [\"TERNOPOL'\", 324], [\"YAMPOL'\", 282], [\"HMEL'NICKIJ\", 351], [\"BELOPOL'E\", 238], [\"BELAJA_CERKOV'\", 179], [\"IMENI_STARCENKO\", 155], [\"ZOLOTONOSA\", 97], [\"CERKASSY\", 107], [\"VESELYJ_PODOL\", 91], [\"POLTAVA\", 159], [\"STRYY\", 306], [\"VELIKIY_BEREZNY\", 195], [\"SKOLE\", 549], [\"PERECHIN\", 198], [\"KALUSH\", 285], [\"IVANO-FRANKOVSK\", 276], [\"CERTKOV\", 279], [\"KAMENETS_PODOL'SKIJ\", 228], [\"NOVAYA_ULICA\", 277], [\"VINNICA\", 298], [\"LIPOVEC\", 299], [\"GAJSIN\", 211], [\"ZHASHKOV\", 224], [\"OZERNA\", 125], [\"UMAN'\", 216], [\"ROTMISTROVKA\", 168], [\"CHYHYRYN\", 124], [\"ZNAMENKA\", 181], [\"SVITLOVODS'K\", 84], [\"KREMENCUG\", 80], [\"KOBELIAKY\", 118], [\"UZGOROD\", 118], [\"YASNYA\", 731], [\"KOLOMYJA\", 298], [\"SELETIN\", 762], [\"CHERNIVTSI\", 246], [\"MOGILEV-PODOL'SKIJ\", 79], [\"BRICANY\", 238], [\"SOROKI\", 173], [\"KAMENKA\", 154], [\"PERVOMAIJSK\", 103], [\"POMICHNA\", 211], [\"KIROVOGRAD\", 172], [\"BOBRYNETS'\", 143], [\"KOMISSAROVKA\", 119], [\"BEL'CY\", 104], [\"KORNESTY\", 207], [\"VORONKOVO\", 199], [\"LJUBASEVKA\", 182], [\"VOZNESENSK\", 33], [\"BASTANKA\", 84], [\"KRYVYI_RIH\", 125], [\"NIKOPOL'\", 56], [\"SERBKA\", 73], [\"RAZDEL'NAJA\", 152], [\"ODESSA/TSENTRALNY\", 35], [\"NIKOLAEV\", 52], [\"VELIKAIA_ALEKSANDRO\", 56], [\"KAHOVKA\", 25], [\"NIZNIE_SEROGOZY\", 54], [\"LEOVO\", 34], [\"KOMRAT\", 136], [\"KAGUL\", 39], [\"IZMAIL\", 30], [\"SARATA\", 14], [\"HERSON\", 48], [\"BEHTERY\", 5], [\"GENICESK\", 15], [\"ASKANIJA-NOVA\", 28], [\"PRIMORSKIY\", 12], [\"NOVO-SELOVSKOYE\", 15], [\"CERNOMORSKOE\", 6], [\"EVPATORIJA\", 3], [\"DZANKOJ\", 8], [\"KLEPYNINE\", 37], [\"POCTOVOE\", 170], [\"SIMFEROPOL'\", 181], [\"ALUSTA\", 5], [\"SOVETSKIY\", 18], [\"NIZNEGORSK\", 20], [\"KRYMSKAYA\", 183], [\"VLADISLAVOVKA\", 37], [\"FEODOSIJA\", 26], [\"CAPE_KAZANTIP\", 101], [\"KERC'\", 49], [\"JALTA\", 72], [\"SEVASTOPOL/BELBEK\", 85], [\"AJ-PETRI_MOUNTAIN\", 1180], [\"HAR'KOV\", 152], [\"BOGODUHOV\", 203], [\"KOLOMAK\", 178], [\"PRIKOLOTNOE\", 214], [\"KUPJANSK\", 83], [\"KRASNOGRAD\", 161], [\"GUBINIHA\", 132], [\"IZJUM\", 79], [\"SVATAVO\", 91], [\"STAROBEL'SK\", 64], [\"CERTKOVO\", 188], [\"BELOVODSK\", 65], [\"PAVLOGRAD\", 91], [\"DNEPROPETROVSK\", 142], [\"CAPLINO\", 176], [\"ARTEMOVSK\", 125], [\"ALEKSANDROPOL\", 125], [\"DONECK\", 226], [\"VOROSHILOVGRAG\", 62], [\"DEBAL'CEVO\", 334], [\"DAR'EVKA\", 303], [\"ZAPOROZ'E\", 86], [\"GULYAYPOLE\", 135], [\"PRISIB\", 87], [\"KIRILLOVKA\", 222], [\"VOLNOVAHA\", 266], [\"AMVROSIEVKA\", 172], [\"MILITOPOL'\", 39], [\"BOTEVO\", 25], [\"ZDANOV\", 70]], \"type\": \"scattergeo\"}],                        {\"geo\": {\"center\": {\"lat\": 52, \"lon\": 32}, \"projection\": {\"scale\": 3}, \"scope\": \"europe\"}, \"height\": 800, \"template\": {\"data\": {\"bar\": [{\"error_x\": {\"color\": \"#2a3f5f\"}, \"error_y\": {\"color\": \"#2a3f5f\"}, \"marker\": {\"line\": {\"color\": \"#E5ECF6\", \"width\": 0.5}}, \"type\": \"bar\"}], \"barpolar\": [{\"marker\": {\"line\": {\"color\": \"#E5ECF6\", \"width\": 0.5}}, \"type\": \"barpolar\"}], \"carpet\": [{\"aaxis\": {\"endlinecolor\": \"#2a3f5f\", \"gridcolor\": \"white\", \"linecolor\": \"white\", \"minorgridcolor\": \"white\", \"startlinecolor\": \"#2a3f5f\"}, \"baxis\": {\"endlinecolor\": \"#2a3f5f\", \"gridcolor\": \"white\", \"linecolor\": \"white\", \"minorgridcolor\": \"white\", \"startlinecolor\": \"#2a3f5f\"}, \"type\": \"carpet\"}], \"choropleth\": [{\"colorbar\": {\"outlinewidth\": 0, \"ticks\": \"\"}, \"type\": \"choropleth\"}], \"contour\": [{\"colorbar\": {\"outlinewidth\": 0, \"ticks\": \"\"}, \"colorscale\": [[0.0, \"#0d0887\"], [0.1111111111111111, \"#46039f\"], [0.2222222222222222, \"#7201a8\"], [0.3333333333333333, \"#9c179e\"], [0.4444444444444444, \"#bd3786\"], [0.5555555555555556, \"#d8576b\"], [0.6666666666666666, \"#ed7953\"], [0.7777777777777778, \"#fb9f3a\"], [0.8888888888888888, \"#fdca26\"], [1.0, \"#f0f921\"]], \"type\": \"contour\"}], \"contourcarpet\": [{\"colorbar\": {\"outlinewidth\": 0, \"ticks\": \"\"}, \"type\": \"contourcarpet\"}], \"heatmap\": [{\"colorbar\": {\"outlinewidth\": 0, \"ticks\": \"\"}, \"colorscale\": [[0.0, \"#0d0887\"], [0.1111111111111111, \"#46039f\"], [0.2222222222222222, \"#7201a8\"], [0.3333333333333333, \"#9c179e\"], [0.4444444444444444, \"#bd3786\"], [0.5555555555555556, \"#d8576b\"], [0.6666666666666666, \"#ed7953\"], [0.7777777777777778, \"#fb9f3a\"], [0.8888888888888888, \"#fdca26\"], [1.0, \"#f0f921\"]], \"type\": \"heatmap\"}], \"heatmapgl\": [{\"colorbar\": {\"outlinewidth\": 0, \"ticks\": \"\"}, \"colorscale\": [[0.0, \"#0d0887\"], [0.1111111111111111, \"#46039f\"], [0.2222222222222222, \"#7201a8\"], [0.3333333333333333, \"#9c179e\"], [0.4444444444444444, \"#bd3786\"], [0.5555555555555556, \"#d8576b\"], [0.6666666666666666, \"#ed7953\"], [0.7777777777777778, \"#fb9f3a\"], [0.8888888888888888, \"#fdca26\"], [1.0, \"#f0f921\"]], \"type\": \"heatmapgl\"}], \"histogram\": [{\"marker\": {\"colorbar\": {\"outlinewidth\": 0, \"ticks\": \"\"}}, \"type\": \"histogram\"}], \"histogram2d\": [{\"colorbar\": {\"outlinewidth\": 0, \"ticks\": \"\"}, \"colorscale\": [[0.0, \"#0d0887\"], [0.1111111111111111, \"#46039f\"], [0.2222222222222222, \"#7201a8\"], [0.3333333333333333, \"#9c179e\"], [0.4444444444444444, \"#bd3786\"], [0.5555555555555556, \"#d8576b\"], [0.6666666666666666, \"#ed7953\"], [0.7777777777777778, \"#fb9f3a\"], [0.8888888888888888, \"#fdca26\"], [1.0, \"#f0f921\"]], \"type\": \"histogram2d\"}], \"histogram2dcontour\": [{\"colorbar\": {\"outlinewidth\": 0, \"ticks\": \"\"}, \"colorscale\": [[0.0, \"#0d0887\"], [0.1111111111111111, \"#46039f\"], [0.2222222222222222, \"#7201a8\"], [0.3333333333333333, \"#9c179e\"], [0.4444444444444444, \"#bd3786\"], [0.5555555555555556, \"#d8576b\"], [0.6666666666666666, \"#ed7953\"], [0.7777777777777778, \"#fb9f3a\"], [0.8888888888888888, \"#fdca26\"], [1.0, \"#f0f921\"]], \"type\": \"histogram2dcontour\"}], \"mesh3d\": [{\"colorbar\": {\"outlinewidth\": 0, \"ticks\": \"\"}, \"type\": \"mesh3d\"}], \"parcoords\": [{\"line\": {\"colorbar\": {\"outlinewidth\": 0, \"ticks\": \"\"}}, \"type\": \"parcoords\"}], \"pie\": [{\"automargin\": true, \"type\": \"pie\"}], \"scatter\": [{\"marker\": {\"colorbar\": {\"outlinewidth\": 0, \"ticks\": \"\"}}, \"type\": \"scatter\"}], \"scatter3d\": [{\"line\": {\"colorbar\": {\"outlinewidth\": 0, \"ticks\": \"\"}}, \"marker\": {\"colorbar\": {\"outlinewidth\": 0, \"ticks\": \"\"}}, \"type\": \"scatter3d\"}], \"scattercarpet\": [{\"marker\": {\"colorbar\": {\"outlinewidth\": 0, \"ticks\": \"\"}}, \"type\": \"scattercarpet\"}], \"scattergeo\": [{\"marker\": {\"colorbar\": {\"outlinewidth\": 0, \"ticks\": \"\"}}, \"type\": \"scattergeo\"}], \"scattergl\": [{\"marker\": {\"colorbar\": {\"outlinewidth\": 0, \"ticks\": \"\"}}, \"type\": \"scattergl\"}], \"scattermapbox\": [{\"marker\": {\"colorbar\": {\"outlinewidth\": 0, \"ticks\": \"\"}}, \"type\": \"scattermapbox\"}], \"scatterpolar\": [{\"marker\": {\"colorbar\": {\"outlinewidth\": 0, \"ticks\": \"\"}}, \"type\": \"scatterpolar\"}], \"scatterpolargl\": [{\"marker\": {\"colorbar\": {\"outlinewidth\": 0, \"ticks\": \"\"}}, \"type\": \"scatterpolargl\"}], \"scatterternary\": [{\"marker\": {\"colorbar\": {\"outlinewidth\": 0, \"ticks\": \"\"}}, \"type\": \"scatterternary\"}], \"surface\": [{\"colorbar\": {\"outlinewidth\": 0, \"ticks\": \"\"}, \"colorscale\": [[0.0, \"#0d0887\"], [0.1111111111111111, \"#46039f\"], [0.2222222222222222, \"#7201a8\"], [0.3333333333333333, \"#9c179e\"], [0.4444444444444444, \"#bd3786\"], [0.5555555555555556, \"#d8576b\"], [0.6666666666666666, \"#ed7953\"], [0.7777777777777778, \"#fb9f3a\"], [0.8888888888888888, \"#fdca26\"], [1.0, \"#f0f921\"]], \"type\": \"surface\"}], \"table\": [{\"cells\": {\"fill\": {\"color\": \"#EBF0F8\"}, \"line\": {\"color\": \"white\"}}, \"header\": {\"fill\": {\"color\": \"#C8D4E3\"}, \"line\": {\"color\": \"white\"}}, \"type\": \"table\"}]}, \"layout\": {\"annotationdefaults\": {\"arrowcolor\": \"#2a3f5f\", \"arrowhead\": 0, \"arrowwidth\": 1}, \"autotypenumbers\": \"strict\", \"coloraxis\": {\"colorbar\": {\"outlinewidth\": 0, \"ticks\": \"\"}}, \"colorscale\": {\"diverging\": [[0, \"#8e0152\"], [0.1, \"#c51b7d\"], [0.2, \"#de77ae\"], [0.3, \"#f1b6da\"], [0.4, \"#fde0ef\"], [0.5, \"#f7f7f7\"], [0.6, \"#e6f5d0\"], [0.7, \"#b8e186\"], [0.8, \"#7fbc41\"], [0.9, \"#4d9221\"], [1, \"#276419\"]], \"sequential\": [[0.0, \"#0d0887\"], [0.1111111111111111, \"#46039f\"], [0.2222222222222222, \"#7201a8\"], [0.3333333333333333, \"#9c179e\"], [0.4444444444444444, \"#bd3786\"], [0.5555555555555556, \"#d8576b\"], [0.6666666666666666, \"#ed7953\"], [0.7777777777777778, \"#fb9f3a\"], [0.8888888888888888, \"#fdca26\"], [1.0, \"#f0f921\"]], \"sequentialminus\": [[0.0, \"#0d0887\"], [0.1111111111111111, \"#46039f\"], [0.2222222222222222, \"#7201a8\"], [0.3333333333333333, \"#9c179e\"], [0.4444444444444444, \"#bd3786\"], [0.5555555555555556, \"#d8576b\"], [0.6666666666666666, \"#ed7953\"], [0.7777777777777778, \"#fb9f3a\"], [0.8888888888888888, \"#fdca26\"], [1.0, \"#f0f921\"]]}, \"colorway\": [\"#636efa\", \"#EF553B\", \"#00cc96\", \"#ab63fa\", \"#FFA15A\", \"#19d3f3\", \"#FF6692\", \"#B6E880\", \"#FF97FF\", \"#FECB52\"], \"font\": {\"color\": \"#2a3f5f\"}, \"geo\": {\"bgcolor\": \"white\", \"lakecolor\": \"white\", \"landcolor\": \"#E5ECF6\", \"showlakes\": true, \"showland\": true, \"subunitcolor\": \"white\"}, \"hoverlabel\": {\"align\": \"left\"}, \"hovermode\": \"closest\", \"mapbox\": {\"style\": \"light\"}, \"paper_bgcolor\": \"white\", \"plot_bgcolor\": \"#E5ECF6\", \"polar\": {\"angularaxis\": {\"gridcolor\": \"white\", \"linecolor\": \"white\", \"ticks\": \"\"}, \"bgcolor\": \"#E5ECF6\", \"radialaxis\": {\"gridcolor\": \"white\", \"linecolor\": \"white\", \"ticks\": \"\"}}, \"scene\": {\"xaxis\": {\"backgroundcolor\": \"#E5ECF6\", \"gridcolor\": \"white\", \"gridwidth\": 2, \"linecolor\": \"white\", \"showbackground\": true, \"ticks\": \"\", \"zerolinecolor\": \"white\"}, \"yaxis\": {\"backgroundcolor\": \"#E5ECF6\", \"gridcolor\": \"white\", \"gridwidth\": 2, \"linecolor\": \"white\", \"showbackground\": true, \"ticks\": \"\", \"zerolinecolor\": \"white\"}, \"zaxis\": {\"backgroundcolor\": \"#E5ECF6\", \"gridcolor\": \"white\", \"gridwidth\": 2, \"linecolor\": \"white\", \"showbackground\": true, \"ticks\": \"\", \"zerolinecolor\": \"white\"}}, \"shapedefaults\": {\"line\": {\"color\": \"#2a3f5f\"}}, \"ternary\": {\"aaxis\": {\"gridcolor\": \"white\", \"linecolor\": \"white\", \"ticks\": \"\"}, \"baxis\": {\"gridcolor\": \"white\", \"linecolor\": \"white\", \"ticks\": \"\"}, \"bgcolor\": \"#E5ECF6\", \"caxis\": {\"gridcolor\": \"white\", \"linecolor\": \"white\", \"ticks\": \"\"}}, \"title\": {\"x\": 0.05}, \"xaxis\": {\"automargin\": true, \"gridcolor\": \"white\", \"linecolor\": \"white\", \"ticks\": \"\", \"title\": {\"standoff\": 15}, \"zerolinecolor\": \"white\", \"zerolinewidth\": 2}, \"yaxis\": {\"automargin\": true, \"gridcolor\": \"white\", \"linecolor\": \"white\", \"ticks\": \"\", \"title\": {\"standoff\": 15}, \"zerolinecolor\": \"white\", \"zerolinewidth\": 2}}}, \"title\": {\"text\": \"location of NOAA stations in Ukraine\"}, \"width\": 800},                        {\"responsive\": true}                    ).then(function(){\n",
       "                            \n",
       "var gd = document.getElementById('7bdc5f63-b34a-4398-83ae-cd15e4f0a093');\n",
       "var x = new MutationObserver(function (mutations, observer) {{\n",
       "        var display = window.getComputedStyle(gd).display;\n",
       "        if (!display || display === 'none') {{\n",
       "            console.log([gd, 'removed!']);\n",
       "            Plotly.purge(gd);\n",
       "            observer.disconnect();\n",
       "        }}\n",
       "}});\n",
       "\n",
       "// Listen for the removal of the full notebook cells\n",
       "var notebookContainer = gd.closest('#notebook-container');\n",
       "if (notebookContainer) {{\n",
       "    x.observe(notebookContainer, {childList: true});\n",
       "}}\n",
       "\n",
       "// Listen for the clearing of the current output cell\n",
       "var outputEl = gd.closest('.output');\n",
       "if (outputEl) {{\n",
       "    x.observe(outputEl, {childList: true});\n",
       "}}\n",
       "\n",
       "                        })                };                });            </script>        </div>"
      ]
     },
     "metadata": {},
     "output_type": "display_data"
    }
   ],
   "source": [
    "fig = go.Figure(data=go.Scattergeo(\n",
    "        text=uastations_df[['name','elev']],\n",
    "        lat=uastations_df['lat'],\n",
    "        lon=uastations_df['lon'],\n",
    "        mode='markers',\n",
    "        marker_color=uastations_df['elev'],\n",
    "        ))\n",
    "\n",
    "fig.update_layout(\n",
    "    title='location of NOAA stations in Ukraine',\n",
    "    width=800,\n",
    "    height=800,\n",
    "    geo=dict(\n",
    "        scope='europe',\n",
    "        projection=dict(\n",
    "                scale=3\n",
    "        ),\n",
    "        center=dict(\n",
    "                lat=52,\n",
    "                lon=32\n",
    "        )\n",
    "    )\n",
    "    )\n",
    "fig.show()"
   ]
  },
  {
   "cell_type": "markdown",
   "metadata": {},
   "source": [
    "#### Some stations are mistakingly set as Ukrainian, filtering them out"
   ]
  },
  {
   "cell_type": "code",
   "execution_count": 48,
   "metadata": {},
   "outputs": [
    {
     "data": {
      "text/html": [
       "<div>\n",
       "<style scoped>\n",
       "    .dataframe tbody tr th:only-of-type {\n",
       "        vertical-align: middle;\n",
       "    }\n",
       "\n",
       "    .dataframe tbody tr th {\n",
       "        vertical-align: top;\n",
       "    }\n",
       "\n",
       "    .dataframe thead th {\n",
       "        text-align: right;\n",
       "    }\n",
       "</style>\n",
       "<table border=\"1\" class=\"dataframe\">\n",
       "  <thead>\n",
       "    <tr style=\"text-align: right;\">\n",
       "      <th></th>\n",
       "      <th>number</th>\n",
       "      <th>name</th>\n",
       "      <th>lat</th>\n",
       "      <th>lon</th>\n",
       "      <th>elev</th>\n",
       "    </tr>\n",
       "  </thead>\n",
       "  <tbody>\n",
       "    <tr>\n",
       "      <th>72</th>\n",
       "      <td>336310</td>\n",
       "      <td>UZGOROD</td>\n",
       "      <td>48.38</td>\n",
       "      <td>22.16</td>\n",
       "      <td>118</td>\n",
       "    </tr>\n",
       "    <tr>\n",
       "      <th>54</th>\n",
       "      <td>335170</td>\n",
       "      <td>PERECHIN</td>\n",
       "      <td>48.44</td>\n",
       "      <td>22.28</td>\n",
       "      <td>198</td>\n",
       "    </tr>\n",
       "    <tr>\n",
       "      <th>73</th>\n",
       "      <td>336450</td>\n",
       "      <td>YASNYA</td>\n",
       "      <td>48.16</td>\n",
       "      <td>24.22</td>\n",
       "      <td>731</td>\n",
       "    </tr>\n",
       "    <tr>\n",
       "      <th>74</th>\n",
       "      <td>336510</td>\n",
       "      <td>KOLOMYJA</td>\n",
       "      <td>48.32</td>\n",
       "      <td>25.02</td>\n",
       "      <td>298</td>\n",
       "    </tr>\n",
       "    <tr>\n",
       "      <th>75</th>\n",
       "      <td>336570</td>\n",
       "      <td>SELETIN</td>\n",
       "      <td>47.52</td>\n",
       "      <td>25.13</td>\n",
       "      <td>762</td>\n",
       "    </tr>\n",
       "    <tr>\n",
       "      <th>76</th>\n",
       "      <td>336580</td>\n",
       "      <td>CHERNIVTSI</td>\n",
       "      <td>48.22</td>\n",
       "      <td>25.54</td>\n",
       "      <td>246</td>\n",
       "    </tr>\n",
       "    <tr>\n",
       "      <th>58</th>\n",
       "      <td>335480</td>\n",
       "      <td>KAMENETS_PODOL'SKIJ</td>\n",
       "      <td>48.40</td>\n",
       "      <td>26.35</td>\n",
       "      <td>228</td>\n",
       "    </tr>\n",
       "    <tr>\n",
       "      <th>78</th>\n",
       "      <td>336640</td>\n",
       "      <td>BRICANY</td>\n",
       "      <td>48.22</td>\n",
       "      <td>27.06</td>\n",
       "      <td>238</td>\n",
       "    </tr>\n",
       "    <tr>\n",
       "      <th>77</th>\n",
       "      <td>336630</td>\n",
       "      <td>MOGILEV-PODOL'SKIJ</td>\n",
       "      <td>48.27</td>\n",
       "      <td>27.47</td>\n",
       "      <td>79</td>\n",
       "    </tr>\n",
       "    <tr>\n",
       "      <th>86</th>\n",
       "      <td>337450</td>\n",
       "      <td>BEL'CY</td>\n",
       "      <td>47.44</td>\n",
       "      <td>27.55</td>\n",
       "      <td>104</td>\n",
       "    </tr>\n",
       "    <tr>\n",
       "      <th>87</th>\n",
       "      <td>337480</td>\n",
       "      <td>KORNESTY</td>\n",
       "      <td>47.20</td>\n",
       "      <td>28.00</td>\n",
       "      <td>207</td>\n",
       "    </tr>\n",
       "    <tr>\n",
       "      <th>103</th>\n",
       "      <td>338850</td>\n",
       "      <td>KAGUL</td>\n",
       "      <td>45.54</td>\n",
       "      <td>28.11</td>\n",
       "      <td>39</td>\n",
       "    </tr>\n",
       "    <tr>\n",
       "      <th>101</th>\n",
       "      <td>338810</td>\n",
       "      <td>LEOVO</td>\n",
       "      <td>46.28</td>\n",
       "      <td>28.15</td>\n",
       "      <td>34</td>\n",
       "    </tr>\n",
       "    <tr>\n",
       "      <th>79</th>\n",
       "      <td>336780</td>\n",
       "      <td>SOROKI</td>\n",
       "      <td>48.09</td>\n",
       "      <td>28.18</td>\n",
       "      <td>173</td>\n",
       "    </tr>\n",
       "    <tr>\n",
       "      <th>102</th>\n",
       "      <td>338830</td>\n",
       "      <td>KOMRAT</td>\n",
       "      <td>46.18</td>\n",
       "      <td>28.40</td>\n",
       "      <td>136</td>\n",
       "    </tr>\n",
       "    <tr>\n",
       "      <th>80</th>\n",
       "      <td>336790</td>\n",
       "      <td>KAMENKA</td>\n",
       "      <td>48.03</td>\n",
       "      <td>28.42</td>\n",
       "      <td>154</td>\n",
       "    </tr>\n",
       "    <tr>\n",
       "      <th>104</th>\n",
       "      <td>338890</td>\n",
       "      <td>IZMAIL</td>\n",
       "      <td>45.22</td>\n",
       "      <td>28.52</td>\n",
       "      <td>30</td>\n",
       "    </tr>\n",
       "    <tr>\n",
       "      <th>88</th>\n",
       "      <td>337540</td>\n",
       "      <td>VORONKOVO</td>\n",
       "      <td>47.42</td>\n",
       "      <td>29.08</td>\n",
       "      <td>199</td>\n",
       "    </tr>\n",
       "    <tr>\n",
       "      <th>62</th>\n",
       "      <td>335770</td>\n",
       "      <td>GAJSIN</td>\n",
       "      <td>48.48</td>\n",
       "      <td>29.24</td>\n",
       "      <td>211</td>\n",
       "    </tr>\n",
       "    <tr>\n",
       "      <th>105</th>\n",
       "      <td>338960</td>\n",
       "      <td>SARATA</td>\n",
       "      <td>46.01</td>\n",
       "      <td>29.40</td>\n",
       "      <td>14</td>\n",
       "    </tr>\n",
       "  </tbody>\n",
       "</table>\n",
       "</div>"
      ],
      "text/plain": [
       "     number                 name    lat    lon  elev\n",
       "72   336310              UZGOROD  48.38  22.16   118\n",
       "54   335170             PERECHIN  48.44  22.28   198\n",
       "73   336450               YASNYA  48.16  24.22   731\n",
       "74   336510             KOLOMYJA  48.32  25.02   298\n",
       "75   336570              SELETIN  47.52  25.13   762\n",
       "76   336580           CHERNIVTSI  48.22  25.54   246\n",
       "58   335480  KAMENETS_PODOL'SKIJ  48.40  26.35   228\n",
       "78   336640              BRICANY  48.22  27.06   238\n",
       "77   336630   MOGILEV-PODOL'SKIJ  48.27  27.47    79\n",
       "86   337450               BEL'CY  47.44  27.55   104\n",
       "87   337480             KORNESTY  47.20  28.00   207\n",
       "103  338850                KAGUL  45.54  28.11    39\n",
       "101  338810                LEOVO  46.28  28.15    34\n",
       "79   336780               SOROKI  48.09  28.18   173\n",
       "102  338830               KOMRAT  46.18  28.40   136\n",
       "80   336790              KAMENKA  48.03  28.42   154\n",
       "104  338890               IZMAIL  45.22  28.52    30\n",
       "88   337540            VORONKOVO  47.42  29.08   199\n",
       "62   335770               GAJSIN  48.48  29.24   211\n",
       "105  338960               SARATA  46.01  29.40    14"
      ]
     },
     "execution_count": 48,
     "metadata": {},
     "output_type": "execute_result"
    }
   ],
   "source": [
    "uastations_df[(uastations_df['lat']<=48.5) & (uastations_df['lon'] <=30)].sort_values(by='lon')"
   ]
  },
  {
   "cell_type": "code",
   "execution_count": 24,
   "metadata": {
    "scrolled": true
   },
   "outputs": [
    {
     "data": {
      "text/html": [
       "<div>\n",
       "<style scoped>\n",
       "    .dataframe tbody tr th:only-of-type {\n",
       "        vertical-align: middle;\n",
       "    }\n",
       "\n",
       "    .dataframe tbody tr th {\n",
       "        vertical-align: top;\n",
       "    }\n",
       "\n",
       "    .dataframe thead th {\n",
       "        text-align: right;\n",
       "    }\n",
       "</style>\n",
       "<table border=\"1\" class=\"dataframe\">\n",
       "  <thead>\n",
       "    <tr style=\"text-align: right;\">\n",
       "      <th></th>\n",
       "      <th>number</th>\n",
       "      <th>name</th>\n",
       "      <th>lat</th>\n",
       "      <th>lon</th>\n",
       "      <th>elev</th>\n",
       "    </tr>\n",
       "  </thead>\n",
       "  <tbody>\n",
       "    <tr>\n",
       "      <th>104</th>\n",
       "      <td>338890</td>\n",
       "      <td>IZMAIL</td>\n",
       "      <td>45.22</td>\n",
       "      <td>28.52</td>\n",
       "      <td>30</td>\n",
       "    </tr>\n",
       "    <tr>\n",
       "      <th>105</th>\n",
       "      <td>338960</td>\n",
       "      <td>SARATA</td>\n",
       "      <td>46.01</td>\n",
       "      <td>29.40</td>\n",
       "      <td>14</td>\n",
       "    </tr>\n",
       "    <tr>\n",
       "      <th>75</th>\n",
       "      <td>336570</td>\n",
       "      <td>SELETIN</td>\n",
       "      <td>47.52</td>\n",
       "      <td>25.13</td>\n",
       "      <td>762</td>\n",
       "    </tr>\n",
       "    <tr>\n",
       "      <th>73</th>\n",
       "      <td>336450</td>\n",
       "      <td>YASNYA</td>\n",
       "      <td>48.16</td>\n",
       "      <td>24.22</td>\n",
       "      <td>731</td>\n",
       "    </tr>\n",
       "    <tr>\n",
       "      <th>76</th>\n",
       "      <td>336580</td>\n",
       "      <td>CHERNIVTSI</td>\n",
       "      <td>48.22</td>\n",
       "      <td>25.54</td>\n",
       "      <td>246</td>\n",
       "    </tr>\n",
       "    <tr>\n",
       "      <th>77</th>\n",
       "      <td>336630</td>\n",
       "      <td>MOGILEV-PODOL'SKIJ</td>\n",
       "      <td>48.27</td>\n",
       "      <td>27.47</td>\n",
       "      <td>79</td>\n",
       "    </tr>\n",
       "    <tr>\n",
       "      <th>74</th>\n",
       "      <td>336510</td>\n",
       "      <td>KOLOMYJA</td>\n",
       "      <td>48.32</td>\n",
       "      <td>25.02</td>\n",
       "      <td>298</td>\n",
       "    </tr>\n",
       "    <tr>\n",
       "      <th>72</th>\n",
       "      <td>336310</td>\n",
       "      <td>UZGOROD</td>\n",
       "      <td>48.38</td>\n",
       "      <td>22.16</td>\n",
       "      <td>118</td>\n",
       "    </tr>\n",
       "    <tr>\n",
       "      <th>58</th>\n",
       "      <td>335480</td>\n",
       "      <td>KAMENETS_PODOL'SKIJ</td>\n",
       "      <td>48.40</td>\n",
       "      <td>26.35</td>\n",
       "      <td>228</td>\n",
       "    </tr>\n",
       "    <tr>\n",
       "      <th>54</th>\n",
       "      <td>335170</td>\n",
       "      <td>PERECHIN</td>\n",
       "      <td>48.44</td>\n",
       "      <td>22.28</td>\n",
       "      <td>198</td>\n",
       "    </tr>\n",
       "    <tr>\n",
       "      <th>62</th>\n",
       "      <td>335770</td>\n",
       "      <td>GAJSIN</td>\n",
       "      <td>48.48</td>\n",
       "      <td>29.24</td>\n",
       "      <td>211</td>\n",
       "    </tr>\n",
       "  </tbody>\n",
       "</table>\n",
       "</div>"
      ],
      "text/plain": [
       "     number                 name    lat    lon  elev\n",
       "104  338890               IZMAIL  45.22  28.52    30\n",
       "105  338960               SARATA  46.01  29.40    14\n",
       "75   336570              SELETIN  47.52  25.13   762\n",
       "73   336450               YASNYA  48.16  24.22   731\n",
       "76   336580           CHERNIVTSI  48.22  25.54   246\n",
       "77   336630   MOGILEV-PODOL'SKIJ  48.27  27.47    79\n",
       "74   336510             KOLOMYJA  48.32  25.02   298\n",
       "72   336310              UZGOROD  48.38  22.16   118\n",
       "58   335480  KAMENETS_PODOL'SKIJ  48.40  26.35   228\n",
       "54   335170             PERECHIN  48.44  22.28   198\n",
       "62   335770               GAJSIN  48.48  29.24   211"
      ]
     },
     "execution_count": 24,
     "metadata": {},
     "output_type": "execute_result"
    }
   ],
   "source": [
    "to_remove = ['BRICANY', 'BEL\\'CY', 'KORNESTY', 'KAGUL', 'LEOVO','SOROKI', 'KOMRAT', 'KAMENKA', 'VORONKOVO']\n",
    "crit = uastations_df['name'].map(lambda x: not x in to_remove)\n",
    "uastations_df = uastations_df[crit]\n",
    "uastations_df[(uastations_df['lat']<=48.5) & (uastations_df['lon'] <=30)].sort_values(by='lat')"
   ]
  },
  {
   "cell_type": "markdown",
   "metadata": {},
   "source": [
    "#### Fixing lat&lon for Kriviy Rih"
   ]
  },
  {
   "cell_type": "code",
   "execution_count": 50,
   "metadata": {
    "scrolled": false
   },
   "outputs": [
    {
     "data": {
      "text/html": [
       "<div>\n",
       "<style scoped>\n",
       "    .dataframe tbody tr th:only-of-type {\n",
       "        vertical-align: middle;\n",
       "    }\n",
       "\n",
       "    .dataframe tbody tr th {\n",
       "        vertical-align: top;\n",
       "    }\n",
       "\n",
       "    .dataframe thead th {\n",
       "        text-align: right;\n",
       "    }\n",
       "</style>\n",
       "<table border=\"1\" class=\"dataframe\">\n",
       "  <thead>\n",
       "    <tr style=\"text-align: right;\">\n",
       "      <th></th>\n",
       "      <th>number</th>\n",
       "      <th>name</th>\n",
       "      <th>lat</th>\n",
       "      <th>lon</th>\n",
       "      <th>elev</th>\n",
       "    </tr>\n",
       "  </thead>\n",
       "  <tbody>\n",
       "    <tr>\n",
       "      <th>92</th>\n",
       "      <td>337910</td>\n",
       "      <td>KRYVYI_RIH</td>\n",
       "      <td>43.02</td>\n",
       "      <td>33.13</td>\n",
       "      <td>125</td>\n",
       "    </tr>\n",
       "  </tbody>\n",
       "</table>\n",
       "</div>"
      ],
      "text/plain": [
       "    number        name    lat    lon  elev\n",
       "92  337910  KRYVYI_RIH  43.02  33.13   125"
      ]
     },
     "execution_count": 50,
     "metadata": {},
     "output_type": "execute_result"
    }
   ],
   "source": [
    "uastations_df[uastations_df['lat'] == min(uastations_df['lat'])]"
   ]
  },
  {
   "cell_type": "code",
   "execution_count": 51,
   "metadata": {},
   "outputs": [],
   "source": [
    "uastations_df.loc[92, ['lat', 'lon']] = [47.54, 33.20]"
   ]
  },
  {
   "cell_type": "code",
   "execution_count": 53,
   "metadata": {
    "scrolled": false
   },
   "outputs": [
    {
     "data": {
      "application/vnd.plotly.v1+json": {
       "config": {
        "plotlyServerURL": "https://plot.ly"
       },
       "data": [
        {
         "lat": [
          52.11,
          52.03,
          51.4,
          51.21,
          51.29,
          51.34,
          51.410000000000004,
          51.13,
          50.5,
          50.45,
          51.19,
          50.57,
          50.42,
          51.17,
          50.57,
          51.03,
          51.14,
          50.46,
          51.09,
          50.53,
          50.15,
          50.06,
          50.06,
          50.35,
          50.36,
          50.1,
          50.160000000000004,
          50.050000000000004,
          50.24,
          50.2,
          50.13,
          50.35,
          50.22,
          50.22,
          50.01,
          50.35,
          49.480000000000004,
          49.56,
          49.49,
          49.21,
          49.26,
          49.34,
          49.58,
          49.24,
          49.5,
          49.47,
          49.4,
          49.410000000000004,
          49.26,
          49.370000000000005,
          49.36,
          49.15,
          48.54,
          49.02,
          48.44,
          49.01,
          48.54,
          49.01,
          48.4,
          48.51,
          49.14,
          49.15,
          48.480000000000004,
          49.15,
          49.050000000000004,
          48.46,
          49.08,
          49.04,
          48.43,
          49.03,
          49.02,
          49.09,
          48.38,
          48.160000000000004,
          48.32,
          47.52,
          48.22,
          48.27,
          48.22,
          48.09,
          48.03,
          48.03,
          48.15,
          48.29,
          48.03,
          48.26,
          47.44,
          47.2,
          47.42,
          47.51,
          47.34,
          47.25,
          47.54,
          47.35,
          47.01,
          46.51,
          46.26,
          46.58,
          47.19,
          46.480000000000004,
          46.51,
          46.28,
          46.18,
          45.54,
          45.22,
          46.01,
          46.4,
          46.12,
          46.1,
          46.27,
          46.03,
          45.27,
          45.31,
          45.11,
          45.43,
          45.39,
          44.5,
          44.410000000000004,
          44.410000000000004,
          45.21,
          45.27,
          45.03,
          45.1,
          45.02,
          45.28,
          45.24,
          44.300000000000004,
          44.410000000000004,
          44.28,
          49.52,
          50.1,
          49.51,
          50.1,
          49.39,
          49.230000000000004,
          48.49,
          49.11,
          49.25,
          49.17,
          49.230000000000004,
          49.13,
          48.32,
          48.22,
          48.08,
          48.36,
          48.36,
          48.04,
          48.36,
          48.21,
          48.050000000000004,
          47.480000000000004,
          47.4,
          47.160000000000004,
          47.2,
          47.37,
          47.480000000000004,
          46.5,
          46.410000000000004,
          47.04
         ],
         "lon": [
          32.35,
          33.57,
          25.16,
          26.37,
          31.17,
          31.580000000000002,
          33.55,
          24.41,
          24.19,
          25.2,
          28.47,
          28.39,
          29.35,
          30.14,
          30.53,
          31.54,
          33.12,
          33.27,
          34.2,
          34.47,
          23.38,
          24.21,
          25.09,
          26.080000000000002,
          27.37,
          27.03,
          28.38,
          29.55,
          30.27,
          30.580000000000002,
          31.48,
          32.230000000000004,
          33.160000000000004,
          33.59,
          33,
          34.29,
          23.09,
          23.23,
          23.57,
          23.330000000000002,
          24.57,
          25.36,
          26.150000000000002,
          26.59,
          28.53,
          30.11,
          31,
          32.02,
          32.04,
          33.160000000000004,
          34.33,
          23.51,
          22.28,
          23.31,
          22.28,
          24.22,
          24.42,
          25.47,
          26.35,
          27.16,
          28.28,
          29.14,
          29.240000000000002,
          30.060000000000002,
          30.53,
          30.14,
          31.42,
          32.4,
          32.4,
          33.15,
          33.26,
          34.12,
          22.16,
          24.22,
          25.02,
          25.13,
          25.54,
          27.47,
          27.060000000000002,
          28.18,
          28.42,
          30.51,
          31.25,
          32.15,
          32.12,
          33.54,
          27.55,
          28,
          29.080000000000002,
          30.16,
          31.2,
          32.28,
          33.2,
          34.24,
          30.45,
          30.05,
          30.46,
          31.580000000000002,
          33.17,
          33.31,
          34.24,
          28.150000000000002,
          28.400000000000002,
          28.11,
          28.52,
          29.400000000000002,
          32.37,
          32.18,
          34.49,
          33.53,
          33.27,
          33.36,
          32.42,
          33.22,
          34.24,
          34.12,
          33.57,
          34.08,
          34.25,
          34.57,
          34.44,
          34.36,
          35.230000000000004,
          35.230000000000004,
          35.52,
          36.25,
          34.1,
          33.34,
          34.04,
          36.08,
          35.32,
          35.14,
          37.21,
          37.39,
          35.27,
          35.1,
          37.18,
          38.1,
          38.550000000000004,
          40.09,
          39.35,
          35.5,
          35.050000000000004,
          36.14,
          37.59,
          36.33,
          37.46,
          39.160000000000004,
          38.26,
          39.300000000000004,
          35.15,
          36.15,
          35.2,
          36.2,
          37.29,
          38.300000000000004,
          35.22,
          35.51,
          37.300000000000004
         ],
         "marker": {
          "color": [
           160,
           189,
           152,
           153,
           137,
           143,
           180,
           176,
           193,
           196,
           171,
           189,
           132,
           127,
           104,
           126,
           149,
           169,
           156,
           174,
           249,
           228,
           227,
           234,
           218,
           278,
           227,
           209,
           168,
           119,
           128,
           132,
           127,
           156,
           156,
           142,
           216,
           229,
           325,
           276,
           301,
           324,
           282,
           351,
           238,
           179,
           155,
           97,
           107,
           91,
           159,
           306,
           195,
           549,
           198,
           285,
           276,
           279,
           228,
           277,
           298,
           299,
           211,
           224,
           125,
           216,
           168,
           124,
           181,
           84,
           80,
           118,
           118,
           731,
           298,
           762,
           246,
           79,
           238,
           173,
           154,
           103,
           211,
           172,
           143,
           119,
           104,
           207,
           199,
           182,
           33,
           84,
           125,
           56,
           73,
           152,
           35,
           52,
           56,
           25,
           54,
           34,
           136,
           39,
           30,
           14,
           48,
           5,
           15,
           28,
           12,
           15,
           6,
           3,
           8,
           37,
           170,
           181,
           5,
           18,
           20,
           183,
           37,
           26,
           101,
           49,
           72,
           85,
           1180,
           152,
           203,
           178,
           214,
           83,
           161,
           132,
           79,
           91,
           64,
           188,
           65,
           91,
           142,
           176,
           125,
           125,
           226,
           62,
           334,
           303,
           86,
           135,
           87,
           222,
           266,
           172,
           39,
           25,
           70
          ]
         },
         "mode": "markers",
         "text": [
          [
           "SEMENOVKA",
           160
          ],
          [
           "HUTOR_MIHAJLOVSKIJ",
           189
          ],
          [
           "PNEVNO",
           152
          ],
          [
           "SARNY",
           153
          ],
          [
           "CERNIGOV",
           137
          ],
          [
           "VOLSKOVTSKY",
           143
          ],
          [
           "GLUKHOV",
           180
          ],
          [
           "KOVEL'",
           176
          ],
          [
           "VLADIMIR-VOLYNSKIJ",
           193
          ],
          [
           "LUCK",
           196
          ],
          [
           "OVRUC",
           171
          ],
          [
           "KOROSTEN",
           189
          ],
          [
           "TETEREV",
           132
          ],
          [
           "CERNOBYL'",
           127
          ],
          [
           "OSTER",
           104
          ],
          [
           "NEZIN",
           126
          ],
          [
           "KONOTOP",
           149
          ],
          [
           "ROMNY",
           169
          ],
          [
           "BELOPOL'E",
           156
          ],
          [
           "SUMY",
           174
          ],
          [
           "RAVA_RUSSKAJA",
           249
          ],
          [
           "KAMENKA-BUGSKAYA",
           228
          ],
          [
           "BRODY",
           227
          ],
          [
           "ROVNO",
           234
          ],
          [
           "NOVGOROD_VOLYNSKIJ",
           218
          ],
          [
           "SEPETOVKA",
           278
          ],
          [
           "ZITOMIR",
           227
          ],
          [
           "FASTOV",
           209
          ],
          [
           "KIEV/ZHULYANY",
           168
          ],
          [
           "BORISPOL'/KEIV",
           119
          ],
          [
           "JAGOTIN",
           128
          ],
          [
           "PRILUKI",
           132
          ],
          [
           "LOHVICA",
           127
          ],
          [
           "GADJAC",
           156
          ],
          [
           "LUBNY",
           156
          ],
          [
           "LEBEDIN",
           142
          ],
          [
           "MOSTISKA",
           216
          ],
          [
           "YAVOROV",
           229
          ],
          [
           "L'VIV",
           325
          ],
          [
           "DROGOBYC",
           276
          ],
          [
           "BEREZANY",
           301
          ],
          [
           "TERNOPOL'",
           324
          ],
          [
           "YAMPOL'",
           282
          ],
          [
           "HMEL'NICKIJ",
           351
          ],
          [
           "BELOPOL'E",
           238
          ],
          [
           "BELAJA_CERKOV'",
           179
          ],
          [
           "IMENI_STARCENKO",
           155
          ],
          [
           "ZOLOTONOSA",
           97
          ],
          [
           "CERKASSY",
           107
          ],
          [
           "VESELYJ_PODOL",
           91
          ],
          [
           "POLTAVA",
           159
          ],
          [
           "STRYY",
           306
          ],
          [
           "VELIKIY_BEREZNY",
           195
          ],
          [
           "SKOLE",
           549
          ],
          [
           "PERECHIN",
           198
          ],
          [
           "KALUSH",
           285
          ],
          [
           "IVANO-FRANKOVSK",
           276
          ],
          [
           "CERTKOV",
           279
          ],
          [
           "KAMENETS_PODOL'SKIJ",
           228
          ],
          [
           "NOVAYA_ULICA",
           277
          ],
          [
           "VINNICA",
           298
          ],
          [
           "LIPOVEC",
           299
          ],
          [
           "GAJSIN",
           211
          ],
          [
           "ZHASHKOV",
           224
          ],
          [
           "OZERNA",
           125
          ],
          [
           "UMAN'",
           216
          ],
          [
           "ROTMISTROVKA",
           168
          ],
          [
           "CHYHYRYN",
           124
          ],
          [
           "ZNAMENKA",
           181
          ],
          [
           "SVITLOVODS'K",
           84
          ],
          [
           "KREMENCUG",
           80
          ],
          [
           "KOBELIAKY",
           118
          ],
          [
           "UZGOROD",
           118
          ],
          [
           "YASNYA",
           731
          ],
          [
           "KOLOMYJA",
           298
          ],
          [
           "SELETIN",
           762
          ],
          [
           "CHERNIVTSI",
           246
          ],
          [
           "MOGILEV-PODOL'SKIJ",
           79
          ],
          [
           "BRICANY",
           238
          ],
          [
           "SOROKI",
           173
          ],
          [
           "KAMENKA",
           154
          ],
          [
           "PERVOMAIJSK",
           103
          ],
          [
           "POMICHNA",
           211
          ],
          [
           "KIROVOGRAD",
           172
          ],
          [
           "BOBRYNETS'",
           143
          ],
          [
           "KOMISSAROVKA",
           119
          ],
          [
           "BEL'CY",
           104
          ],
          [
           "KORNESTY",
           207
          ],
          [
           "VORONKOVO",
           199
          ],
          [
           "LJUBASEVKA",
           182
          ],
          [
           "VOZNESENSK",
           33
          ],
          [
           "BASTANKA",
           84
          ],
          [
           "KRYVYI_RIH",
           125
          ],
          [
           "NIKOPOL'",
           56
          ],
          [
           "SERBKA",
           73
          ],
          [
           "RAZDEL'NAJA",
           152
          ],
          [
           "ODESSA/TSENTRALNY",
           35
          ],
          [
           "NIKOLAEV",
           52
          ],
          [
           "VELIKAIA_ALEKSANDRO",
           56
          ],
          [
           "KAHOVKA",
           25
          ],
          [
           "NIZNIE_SEROGOZY",
           54
          ],
          [
           "LEOVO",
           34
          ],
          [
           "KOMRAT",
           136
          ],
          [
           "KAGUL",
           39
          ],
          [
           "IZMAIL",
           30
          ],
          [
           "SARATA",
           14
          ],
          [
           "HERSON",
           48
          ],
          [
           "BEHTERY",
           5
          ],
          [
           "GENICESK",
           15
          ],
          [
           "ASKANIJA-NOVA",
           28
          ],
          [
           "PRIMORSKIY",
           12
          ],
          [
           "NOVO-SELOVSKOYE",
           15
          ],
          [
           "CERNOMORSKOE",
           6
          ],
          [
           "EVPATORIJA",
           3
          ],
          [
           "DZANKOJ",
           8
          ],
          [
           "KLEPYNINE",
           37
          ],
          [
           "POCTOVOE",
           170
          ],
          [
           "SIMFEROPOL'",
           181
          ],
          [
           "ALUSTA",
           5
          ],
          [
           "SOVETSKIY",
           18
          ],
          [
           "NIZNEGORSK",
           20
          ],
          [
           "KRYMSKAYA",
           183
          ],
          [
           "VLADISLAVOVKA",
           37
          ],
          [
           "FEODOSIJA",
           26
          ],
          [
           "CAPE_KAZANTIP",
           101
          ],
          [
           "KERC'",
           49
          ],
          [
           "JALTA",
           72
          ],
          [
           "SEVASTOPOL/BELBEK",
           85
          ],
          [
           "AJ-PETRI_MOUNTAIN",
           1180
          ],
          [
           "HAR'KOV",
           152
          ],
          [
           "BOGODUHOV",
           203
          ],
          [
           "KOLOMAK",
           178
          ],
          [
           "PRIKOLOTNOE",
           214
          ],
          [
           "KUPJANSK",
           83
          ],
          [
           "KRASNOGRAD",
           161
          ],
          [
           "GUBINIHA",
           132
          ],
          [
           "IZJUM",
           79
          ],
          [
           "SVATAVO",
           91
          ],
          [
           "STAROBEL'SK",
           64
          ],
          [
           "CERTKOVO",
           188
          ],
          [
           "BELOVODSK",
           65
          ],
          [
           "PAVLOGRAD",
           91
          ],
          [
           "DNEPROPETROVSK",
           142
          ],
          [
           "CAPLINO",
           176
          ],
          [
           "ARTEMOVSK",
           125
          ],
          [
           "ALEKSANDROPOL",
           125
          ],
          [
           "DONECK",
           226
          ],
          [
           "VOROSHILOVGRAG",
           62
          ],
          [
           "DEBAL'CEVO",
           334
          ],
          [
           "DAR'EVKA",
           303
          ],
          [
           "ZAPOROZ'E",
           86
          ],
          [
           "GULYAYPOLE",
           135
          ],
          [
           "PRISIB",
           87
          ],
          [
           "KIRILLOVKA",
           222
          ],
          [
           "VOLNOVAHA",
           266
          ],
          [
           "AMVROSIEVKA",
           172
          ],
          [
           "MILITOPOL'",
           39
          ],
          [
           "BOTEVO",
           25
          ],
          [
           "ZDANOV",
           70
          ]
         ],
         "type": "scattergeo"
        }
       ],
       "layout": {
        "geo": {
         "center": {
          "lat": 52,
          "lon": 32
         },
         "projection": {
          "scale": 4.5
         },
         "scope": "europe"
        },
        "height": 800,
        "template": {
         "data": {
          "bar": [
           {
            "error_x": {
             "color": "#2a3f5f"
            },
            "error_y": {
             "color": "#2a3f5f"
            },
            "marker": {
             "line": {
              "color": "#E5ECF6",
              "width": 0.5
             }
            },
            "type": "bar"
           }
          ],
          "barpolar": [
           {
            "marker": {
             "line": {
              "color": "#E5ECF6",
              "width": 0.5
             }
            },
            "type": "barpolar"
           }
          ],
          "carpet": [
           {
            "aaxis": {
             "endlinecolor": "#2a3f5f",
             "gridcolor": "white",
             "linecolor": "white",
             "minorgridcolor": "white",
             "startlinecolor": "#2a3f5f"
            },
            "baxis": {
             "endlinecolor": "#2a3f5f",
             "gridcolor": "white",
             "linecolor": "white",
             "minorgridcolor": "white",
             "startlinecolor": "#2a3f5f"
            },
            "type": "carpet"
           }
          ],
          "choropleth": [
           {
            "colorbar": {
             "outlinewidth": 0,
             "ticks": ""
            },
            "type": "choropleth"
           }
          ],
          "contour": [
           {
            "colorbar": {
             "outlinewidth": 0,
             "ticks": ""
            },
            "colorscale": [
             [
              0,
              "#0d0887"
             ],
             [
              0.1111111111111111,
              "#46039f"
             ],
             [
              0.2222222222222222,
              "#7201a8"
             ],
             [
              0.3333333333333333,
              "#9c179e"
             ],
             [
              0.4444444444444444,
              "#bd3786"
             ],
             [
              0.5555555555555556,
              "#d8576b"
             ],
             [
              0.6666666666666666,
              "#ed7953"
             ],
             [
              0.7777777777777778,
              "#fb9f3a"
             ],
             [
              0.8888888888888888,
              "#fdca26"
             ],
             [
              1,
              "#f0f921"
             ]
            ],
            "type": "contour"
           }
          ],
          "contourcarpet": [
           {
            "colorbar": {
             "outlinewidth": 0,
             "ticks": ""
            },
            "type": "contourcarpet"
           }
          ],
          "heatmap": [
           {
            "colorbar": {
             "outlinewidth": 0,
             "ticks": ""
            },
            "colorscale": [
             [
              0,
              "#0d0887"
             ],
             [
              0.1111111111111111,
              "#46039f"
             ],
             [
              0.2222222222222222,
              "#7201a8"
             ],
             [
              0.3333333333333333,
              "#9c179e"
             ],
             [
              0.4444444444444444,
              "#bd3786"
             ],
             [
              0.5555555555555556,
              "#d8576b"
             ],
             [
              0.6666666666666666,
              "#ed7953"
             ],
             [
              0.7777777777777778,
              "#fb9f3a"
             ],
             [
              0.8888888888888888,
              "#fdca26"
             ],
             [
              1,
              "#f0f921"
             ]
            ],
            "type": "heatmap"
           }
          ],
          "heatmapgl": [
           {
            "colorbar": {
             "outlinewidth": 0,
             "ticks": ""
            },
            "colorscale": [
             [
              0,
              "#0d0887"
             ],
             [
              0.1111111111111111,
              "#46039f"
             ],
             [
              0.2222222222222222,
              "#7201a8"
             ],
             [
              0.3333333333333333,
              "#9c179e"
             ],
             [
              0.4444444444444444,
              "#bd3786"
             ],
             [
              0.5555555555555556,
              "#d8576b"
             ],
             [
              0.6666666666666666,
              "#ed7953"
             ],
             [
              0.7777777777777778,
              "#fb9f3a"
             ],
             [
              0.8888888888888888,
              "#fdca26"
             ],
             [
              1,
              "#f0f921"
             ]
            ],
            "type": "heatmapgl"
           }
          ],
          "histogram": [
           {
            "marker": {
             "colorbar": {
              "outlinewidth": 0,
              "ticks": ""
             }
            },
            "type": "histogram"
           }
          ],
          "histogram2d": [
           {
            "colorbar": {
             "outlinewidth": 0,
             "ticks": ""
            },
            "colorscale": [
             [
              0,
              "#0d0887"
             ],
             [
              0.1111111111111111,
              "#46039f"
             ],
             [
              0.2222222222222222,
              "#7201a8"
             ],
             [
              0.3333333333333333,
              "#9c179e"
             ],
             [
              0.4444444444444444,
              "#bd3786"
             ],
             [
              0.5555555555555556,
              "#d8576b"
             ],
             [
              0.6666666666666666,
              "#ed7953"
             ],
             [
              0.7777777777777778,
              "#fb9f3a"
             ],
             [
              0.8888888888888888,
              "#fdca26"
             ],
             [
              1,
              "#f0f921"
             ]
            ],
            "type": "histogram2d"
           }
          ],
          "histogram2dcontour": [
           {
            "colorbar": {
             "outlinewidth": 0,
             "ticks": ""
            },
            "colorscale": [
             [
              0,
              "#0d0887"
             ],
             [
              0.1111111111111111,
              "#46039f"
             ],
             [
              0.2222222222222222,
              "#7201a8"
             ],
             [
              0.3333333333333333,
              "#9c179e"
             ],
             [
              0.4444444444444444,
              "#bd3786"
             ],
             [
              0.5555555555555556,
              "#d8576b"
             ],
             [
              0.6666666666666666,
              "#ed7953"
             ],
             [
              0.7777777777777778,
              "#fb9f3a"
             ],
             [
              0.8888888888888888,
              "#fdca26"
             ],
             [
              1,
              "#f0f921"
             ]
            ],
            "type": "histogram2dcontour"
           }
          ],
          "mesh3d": [
           {
            "colorbar": {
             "outlinewidth": 0,
             "ticks": ""
            },
            "type": "mesh3d"
           }
          ],
          "parcoords": [
           {
            "line": {
             "colorbar": {
              "outlinewidth": 0,
              "ticks": ""
             }
            },
            "type": "parcoords"
           }
          ],
          "pie": [
           {
            "automargin": true,
            "type": "pie"
           }
          ],
          "scatter": [
           {
            "marker": {
             "colorbar": {
              "outlinewidth": 0,
              "ticks": ""
             }
            },
            "type": "scatter"
           }
          ],
          "scatter3d": [
           {
            "line": {
             "colorbar": {
              "outlinewidth": 0,
              "ticks": ""
             }
            },
            "marker": {
             "colorbar": {
              "outlinewidth": 0,
              "ticks": ""
             }
            },
            "type": "scatter3d"
           }
          ],
          "scattercarpet": [
           {
            "marker": {
             "colorbar": {
              "outlinewidth": 0,
              "ticks": ""
             }
            },
            "type": "scattercarpet"
           }
          ],
          "scattergeo": [
           {
            "marker": {
             "colorbar": {
              "outlinewidth": 0,
              "ticks": ""
             }
            },
            "type": "scattergeo"
           }
          ],
          "scattergl": [
           {
            "marker": {
             "colorbar": {
              "outlinewidth": 0,
              "ticks": ""
             }
            },
            "type": "scattergl"
           }
          ],
          "scattermapbox": [
           {
            "marker": {
             "colorbar": {
              "outlinewidth": 0,
              "ticks": ""
             }
            },
            "type": "scattermapbox"
           }
          ],
          "scatterpolar": [
           {
            "marker": {
             "colorbar": {
              "outlinewidth": 0,
              "ticks": ""
             }
            },
            "type": "scatterpolar"
           }
          ],
          "scatterpolargl": [
           {
            "marker": {
             "colorbar": {
              "outlinewidth": 0,
              "ticks": ""
             }
            },
            "type": "scatterpolargl"
           }
          ],
          "scatterternary": [
           {
            "marker": {
             "colorbar": {
              "outlinewidth": 0,
              "ticks": ""
             }
            },
            "type": "scatterternary"
           }
          ],
          "surface": [
           {
            "colorbar": {
             "outlinewidth": 0,
             "ticks": ""
            },
            "colorscale": [
             [
              0,
              "#0d0887"
             ],
             [
              0.1111111111111111,
              "#46039f"
             ],
             [
              0.2222222222222222,
              "#7201a8"
             ],
             [
              0.3333333333333333,
              "#9c179e"
             ],
             [
              0.4444444444444444,
              "#bd3786"
             ],
             [
              0.5555555555555556,
              "#d8576b"
             ],
             [
              0.6666666666666666,
              "#ed7953"
             ],
             [
              0.7777777777777778,
              "#fb9f3a"
             ],
             [
              0.8888888888888888,
              "#fdca26"
             ],
             [
              1,
              "#f0f921"
             ]
            ],
            "type": "surface"
           }
          ],
          "table": [
           {
            "cells": {
             "fill": {
              "color": "#EBF0F8"
             },
             "line": {
              "color": "white"
             }
            },
            "header": {
             "fill": {
              "color": "#C8D4E3"
             },
             "line": {
              "color": "white"
             }
            },
            "type": "table"
           }
          ]
         },
         "layout": {
          "annotationdefaults": {
           "arrowcolor": "#2a3f5f",
           "arrowhead": 0,
           "arrowwidth": 1
          },
          "autotypenumbers": "strict",
          "coloraxis": {
           "colorbar": {
            "outlinewidth": 0,
            "ticks": ""
           }
          },
          "colorscale": {
           "diverging": [
            [
             0,
             "#8e0152"
            ],
            [
             0.1,
             "#c51b7d"
            ],
            [
             0.2,
             "#de77ae"
            ],
            [
             0.3,
             "#f1b6da"
            ],
            [
             0.4,
             "#fde0ef"
            ],
            [
             0.5,
             "#f7f7f7"
            ],
            [
             0.6,
             "#e6f5d0"
            ],
            [
             0.7,
             "#b8e186"
            ],
            [
             0.8,
             "#7fbc41"
            ],
            [
             0.9,
             "#4d9221"
            ],
            [
             1,
             "#276419"
            ]
           ],
           "sequential": [
            [
             0,
             "#0d0887"
            ],
            [
             0.1111111111111111,
             "#46039f"
            ],
            [
             0.2222222222222222,
             "#7201a8"
            ],
            [
             0.3333333333333333,
             "#9c179e"
            ],
            [
             0.4444444444444444,
             "#bd3786"
            ],
            [
             0.5555555555555556,
             "#d8576b"
            ],
            [
             0.6666666666666666,
             "#ed7953"
            ],
            [
             0.7777777777777778,
             "#fb9f3a"
            ],
            [
             0.8888888888888888,
             "#fdca26"
            ],
            [
             1,
             "#f0f921"
            ]
           ],
           "sequentialminus": [
            [
             0,
             "#0d0887"
            ],
            [
             0.1111111111111111,
             "#46039f"
            ],
            [
             0.2222222222222222,
             "#7201a8"
            ],
            [
             0.3333333333333333,
             "#9c179e"
            ],
            [
             0.4444444444444444,
             "#bd3786"
            ],
            [
             0.5555555555555556,
             "#d8576b"
            ],
            [
             0.6666666666666666,
             "#ed7953"
            ],
            [
             0.7777777777777778,
             "#fb9f3a"
            ],
            [
             0.8888888888888888,
             "#fdca26"
            ],
            [
             1,
             "#f0f921"
            ]
           ]
          },
          "colorway": [
           "#636efa",
           "#EF553B",
           "#00cc96",
           "#ab63fa",
           "#FFA15A",
           "#19d3f3",
           "#FF6692",
           "#B6E880",
           "#FF97FF",
           "#FECB52"
          ],
          "font": {
           "color": "#2a3f5f"
          },
          "geo": {
           "bgcolor": "white",
           "lakecolor": "white",
           "landcolor": "#E5ECF6",
           "showlakes": true,
           "showland": true,
           "subunitcolor": "white"
          },
          "hoverlabel": {
           "align": "left"
          },
          "hovermode": "closest",
          "mapbox": {
           "style": "light"
          },
          "paper_bgcolor": "white",
          "plot_bgcolor": "#E5ECF6",
          "polar": {
           "angularaxis": {
            "gridcolor": "white",
            "linecolor": "white",
            "ticks": ""
           },
           "bgcolor": "#E5ECF6",
           "radialaxis": {
            "gridcolor": "white",
            "linecolor": "white",
            "ticks": ""
           }
          },
          "scene": {
           "xaxis": {
            "backgroundcolor": "#E5ECF6",
            "gridcolor": "white",
            "gridwidth": 2,
            "linecolor": "white",
            "showbackground": true,
            "ticks": "",
            "zerolinecolor": "white"
           },
           "yaxis": {
            "backgroundcolor": "#E5ECF6",
            "gridcolor": "white",
            "gridwidth": 2,
            "linecolor": "white",
            "showbackground": true,
            "ticks": "",
            "zerolinecolor": "white"
           },
           "zaxis": {
            "backgroundcolor": "#E5ECF6",
            "gridcolor": "white",
            "gridwidth": 2,
            "linecolor": "white",
            "showbackground": true,
            "ticks": "",
            "zerolinecolor": "white"
           }
          },
          "shapedefaults": {
           "line": {
            "color": "#2a3f5f"
           }
          },
          "ternary": {
           "aaxis": {
            "gridcolor": "white",
            "linecolor": "white",
            "ticks": ""
           },
           "baxis": {
            "gridcolor": "white",
            "linecolor": "white",
            "ticks": ""
           },
           "bgcolor": "#E5ECF6",
           "caxis": {
            "gridcolor": "white",
            "linecolor": "white",
            "ticks": ""
           }
          },
          "title": {
           "x": 0.05
          },
          "xaxis": {
           "automargin": true,
           "gridcolor": "white",
           "linecolor": "white",
           "ticks": "",
           "title": {
            "standoff": 15
           },
           "zerolinecolor": "white",
           "zerolinewidth": 2
          },
          "yaxis": {
           "automargin": true,
           "gridcolor": "white",
           "linecolor": "white",
           "ticks": "",
           "title": {
            "standoff": 15
           },
           "zerolinecolor": "white",
           "zerolinewidth": 2
          }
         }
        },
        "title": {
         "text": "location of NOAA stations in Ukraine"
        },
        "width": 800
       }
      },
      "text/html": [
       "<div>                            <div id=\"e8ee9092-76ee-4dac-bdf7-952381feecf3\" class=\"plotly-graph-div\" style=\"height:800px; width:800px;\"></div>            <script type=\"text/javascript\">                require([\"plotly\"], function(Plotly) {                    window.PLOTLYENV=window.PLOTLYENV || {};                                    if (document.getElementById(\"e8ee9092-76ee-4dac-bdf7-952381feecf3\")) {                    Plotly.newPlot(                        \"e8ee9092-76ee-4dac-bdf7-952381feecf3\",                        [{\"lat\": [52.11, 52.03, 51.4, 51.21, 51.29, 51.34, 51.410000000000004, 51.13, 50.5, 50.45, 51.19, 50.57, 50.42, 51.17, 50.57, 51.03, 51.14, 50.46, 51.09, 50.53, 50.15, 50.06, 50.06, 50.35, 50.36, 50.1, 50.160000000000004, 50.050000000000004, 50.24, 50.2, 50.13, 50.35, 50.22, 50.22, 50.01, 50.35, 49.480000000000004, 49.56, 49.49, 49.21, 49.26, 49.34, 49.58, 49.24, 49.5, 49.47, 49.4, 49.410000000000004, 49.26, 49.370000000000005, 49.36, 49.15, 48.54, 49.02, 48.44, 49.01, 48.54, 49.01, 48.4, 48.51, 49.14, 49.15, 48.480000000000004, 49.15, 49.050000000000004, 48.46, 49.08, 49.04, 48.43, 49.03, 49.02, 49.09, 48.38, 48.160000000000004, 48.32, 47.52, 48.22, 48.27, 48.22, 48.09, 48.03, 48.03, 48.15, 48.29, 48.03, 48.26, 47.44, 47.2, 47.42, 47.51, 47.34, 47.25, 47.54, 47.35, 47.01, 46.51, 46.26, 46.58, 47.19, 46.480000000000004, 46.51, 46.28, 46.18, 45.54, 45.22, 46.01, 46.4, 46.12, 46.1, 46.27, 46.03, 45.27, 45.31, 45.11, 45.43, 45.39, 44.5, 44.410000000000004, 44.410000000000004, 45.21, 45.27, 45.03, 45.1, 45.02, 45.28, 45.24, 44.300000000000004, 44.410000000000004, 44.28, 49.52, 50.1, 49.51, 50.1, 49.39, 49.230000000000004, 48.49, 49.11, 49.25, 49.17, 49.230000000000004, 49.13, 48.32, 48.22, 48.08, 48.36, 48.36, 48.04, 48.36, 48.21, 48.050000000000004, 47.480000000000004, 47.4, 47.160000000000004, 47.2, 47.37, 47.480000000000004, 46.5, 46.410000000000004, 47.04], \"lon\": [32.35, 33.57, 25.16, 26.37, 31.17, 31.580000000000002, 33.55, 24.41, 24.19, 25.2, 28.47, 28.39, 29.35, 30.14, 30.53, 31.54, 33.12, 33.27, 34.2, 34.47, 23.38, 24.21, 25.09, 26.080000000000002, 27.37, 27.03, 28.38, 29.55, 30.27, 30.580000000000002, 31.48, 32.230000000000004, 33.160000000000004, 33.59, 33.0, 34.29, 23.09, 23.23, 23.57, 23.330000000000002, 24.57, 25.36, 26.150000000000002, 26.59, 28.53, 30.11, 31.0, 32.02, 32.04, 33.160000000000004, 34.33, 23.51, 22.28, 23.31, 22.28, 24.22, 24.42, 25.47, 26.35, 27.16, 28.28, 29.14, 29.240000000000002, 30.060000000000002, 30.53, 30.14, 31.42, 32.4, 32.4, 33.15, 33.26, 34.12, 22.16, 24.22, 25.02, 25.13, 25.54, 27.47, 27.060000000000002, 28.18, 28.42, 30.51, 31.25, 32.15, 32.12, 33.54, 27.55, 28.0, 29.080000000000002, 30.16, 31.2, 32.28, 33.2, 34.24, 30.45, 30.05, 30.46, 31.580000000000002, 33.17, 33.31, 34.24, 28.150000000000002, 28.400000000000002, 28.11, 28.52, 29.400000000000002, 32.37, 32.18, 34.49, 33.53, 33.27, 33.36, 32.42, 33.22, 34.24, 34.12, 33.57, 34.08, 34.25, 34.57, 34.44, 34.36, 35.230000000000004, 35.230000000000004, 35.52, 36.25, 34.1, 33.34, 34.04, 36.08, 35.32, 35.14, 37.21, 37.39, 35.27, 35.1, 37.18, 38.1, 38.550000000000004, 40.09, 39.35, 35.5, 35.050000000000004, 36.14, 37.59, 36.33, 37.46, 39.160000000000004, 38.26, 39.300000000000004, 35.15, 36.15, 35.2, 36.2, 37.29, 38.300000000000004, 35.22, 35.51, 37.300000000000004], \"marker\": {\"color\": [160, 189, 152, 153, 137, 143, 180, 176, 193, 196, 171, 189, 132, 127, 104, 126, 149, 169, 156, 174, 249, 228, 227, 234, 218, 278, 227, 209, 168, 119, 128, 132, 127, 156, 156, 142, 216, 229, 325, 276, 301, 324, 282, 351, 238, 179, 155, 97, 107, 91, 159, 306, 195, 549, 198, 285, 276, 279, 228, 277, 298, 299, 211, 224, 125, 216, 168, 124, 181, 84, 80, 118, 118, 731, 298, 762, 246, 79, 238, 173, 154, 103, 211, 172, 143, 119, 104, 207, 199, 182, 33, 84, 125, 56, 73, 152, 35, 52, 56, 25, 54, 34, 136, 39, 30, 14, 48, 5, 15, 28, 12, 15, 6, 3, 8, 37, 170, 181, 5, 18, 20, 183, 37, 26, 101, 49, 72, 85, 1180, 152, 203, 178, 214, 83, 161, 132, 79, 91, 64, 188, 65, 91, 142, 176, 125, 125, 226, 62, 334, 303, 86, 135, 87, 222, 266, 172, 39, 25, 70]}, \"mode\": \"markers\", \"text\": [[\"SEMENOVKA\", 160], [\"HUTOR_MIHAJLOVSKIJ\", 189], [\"PNEVNO\", 152], [\"SARNY\", 153], [\"CERNIGOV\", 137], [\"VOLSKOVTSKY\", 143], [\"GLUKHOV\", 180], [\"KOVEL'\", 176], [\"VLADIMIR-VOLYNSKIJ\", 193], [\"LUCK\", 196], [\"OVRUC\", 171], [\"KOROSTEN\", 189], [\"TETEREV\", 132], [\"CERNOBYL'\", 127], [\"OSTER\", 104], [\"NEZIN\", 126], [\"KONOTOP\", 149], [\"ROMNY\", 169], [\"BELOPOL'E\", 156], [\"SUMY\", 174], [\"RAVA_RUSSKAJA\", 249], [\"KAMENKA-BUGSKAYA\", 228], [\"BRODY\", 227], [\"ROVNO\", 234], [\"NOVGOROD_VOLYNSKIJ\", 218], [\"SEPETOVKA\", 278], [\"ZITOMIR\", 227], [\"FASTOV\", 209], [\"KIEV/ZHULYANY\", 168], [\"BORISPOL'/KEIV\", 119], [\"JAGOTIN\", 128], [\"PRILUKI\", 132], [\"LOHVICA\", 127], [\"GADJAC\", 156], [\"LUBNY\", 156], [\"LEBEDIN\", 142], [\"MOSTISKA\", 216], [\"YAVOROV\", 229], [\"L'VIV\", 325], [\"DROGOBYC\", 276], [\"BEREZANY\", 301], [\"TERNOPOL'\", 324], [\"YAMPOL'\", 282], [\"HMEL'NICKIJ\", 351], [\"BELOPOL'E\", 238], [\"BELAJA_CERKOV'\", 179], [\"IMENI_STARCENKO\", 155], [\"ZOLOTONOSA\", 97], [\"CERKASSY\", 107], [\"VESELYJ_PODOL\", 91], [\"POLTAVA\", 159], [\"STRYY\", 306], [\"VELIKIY_BEREZNY\", 195], [\"SKOLE\", 549], [\"PERECHIN\", 198], [\"KALUSH\", 285], [\"IVANO-FRANKOVSK\", 276], [\"CERTKOV\", 279], [\"KAMENETS_PODOL'SKIJ\", 228], [\"NOVAYA_ULICA\", 277], [\"VINNICA\", 298], [\"LIPOVEC\", 299], [\"GAJSIN\", 211], [\"ZHASHKOV\", 224], [\"OZERNA\", 125], [\"UMAN'\", 216], [\"ROTMISTROVKA\", 168], [\"CHYHYRYN\", 124], [\"ZNAMENKA\", 181], [\"SVITLOVODS'K\", 84], [\"KREMENCUG\", 80], [\"KOBELIAKY\", 118], [\"UZGOROD\", 118], [\"YASNYA\", 731], [\"KOLOMYJA\", 298], [\"SELETIN\", 762], [\"CHERNIVTSI\", 246], [\"MOGILEV-PODOL'SKIJ\", 79], [\"BRICANY\", 238], [\"SOROKI\", 173], [\"KAMENKA\", 154], [\"PERVOMAIJSK\", 103], [\"POMICHNA\", 211], [\"KIROVOGRAD\", 172], [\"BOBRYNETS'\", 143], [\"KOMISSAROVKA\", 119], [\"BEL'CY\", 104], [\"KORNESTY\", 207], [\"VORONKOVO\", 199], [\"LJUBASEVKA\", 182], [\"VOZNESENSK\", 33], [\"BASTANKA\", 84], [\"KRYVYI_RIH\", 125], [\"NIKOPOL'\", 56], [\"SERBKA\", 73], [\"RAZDEL'NAJA\", 152], [\"ODESSA/TSENTRALNY\", 35], [\"NIKOLAEV\", 52], [\"VELIKAIA_ALEKSANDRO\", 56], [\"KAHOVKA\", 25], [\"NIZNIE_SEROGOZY\", 54], [\"LEOVO\", 34], [\"KOMRAT\", 136], [\"KAGUL\", 39], [\"IZMAIL\", 30], [\"SARATA\", 14], [\"HERSON\", 48], [\"BEHTERY\", 5], [\"GENICESK\", 15], [\"ASKANIJA-NOVA\", 28], [\"PRIMORSKIY\", 12], [\"NOVO-SELOVSKOYE\", 15], [\"CERNOMORSKOE\", 6], [\"EVPATORIJA\", 3], [\"DZANKOJ\", 8], [\"KLEPYNINE\", 37], [\"POCTOVOE\", 170], [\"SIMFEROPOL'\", 181], [\"ALUSTA\", 5], [\"SOVETSKIY\", 18], [\"NIZNEGORSK\", 20], [\"KRYMSKAYA\", 183], [\"VLADISLAVOVKA\", 37], [\"FEODOSIJA\", 26], [\"CAPE_KAZANTIP\", 101], [\"KERC'\", 49], [\"JALTA\", 72], [\"SEVASTOPOL/BELBEK\", 85], [\"AJ-PETRI_MOUNTAIN\", 1180], [\"HAR'KOV\", 152], [\"BOGODUHOV\", 203], [\"KOLOMAK\", 178], [\"PRIKOLOTNOE\", 214], [\"KUPJANSK\", 83], [\"KRASNOGRAD\", 161], [\"GUBINIHA\", 132], [\"IZJUM\", 79], [\"SVATAVO\", 91], [\"STAROBEL'SK\", 64], [\"CERTKOVO\", 188], [\"BELOVODSK\", 65], [\"PAVLOGRAD\", 91], [\"DNEPROPETROVSK\", 142], [\"CAPLINO\", 176], [\"ARTEMOVSK\", 125], [\"ALEKSANDROPOL\", 125], [\"DONECK\", 226], [\"VOROSHILOVGRAG\", 62], [\"DEBAL'CEVO\", 334], [\"DAR'EVKA\", 303], [\"ZAPOROZ'E\", 86], [\"GULYAYPOLE\", 135], [\"PRISIB\", 87], [\"KIRILLOVKA\", 222], [\"VOLNOVAHA\", 266], [\"AMVROSIEVKA\", 172], [\"MILITOPOL'\", 39], [\"BOTEVO\", 25], [\"ZDANOV\", 70]], \"type\": \"scattergeo\"}],                        {\"geo\": {\"center\": {\"lat\": 52, \"lon\": 32}, \"projection\": {\"scale\": 4.5}, \"scope\": \"europe\"}, \"height\": 800, \"template\": {\"data\": {\"bar\": [{\"error_x\": {\"color\": \"#2a3f5f\"}, \"error_y\": {\"color\": \"#2a3f5f\"}, \"marker\": {\"line\": {\"color\": \"#E5ECF6\", \"width\": 0.5}}, \"type\": \"bar\"}], \"barpolar\": [{\"marker\": {\"line\": {\"color\": \"#E5ECF6\", \"width\": 0.5}}, \"type\": \"barpolar\"}], \"carpet\": [{\"aaxis\": {\"endlinecolor\": \"#2a3f5f\", \"gridcolor\": \"white\", \"linecolor\": \"white\", \"minorgridcolor\": \"white\", \"startlinecolor\": \"#2a3f5f\"}, \"baxis\": {\"endlinecolor\": \"#2a3f5f\", \"gridcolor\": \"white\", \"linecolor\": \"white\", \"minorgridcolor\": \"white\", \"startlinecolor\": \"#2a3f5f\"}, \"type\": \"carpet\"}], \"choropleth\": [{\"colorbar\": {\"outlinewidth\": 0, \"ticks\": \"\"}, \"type\": \"choropleth\"}], \"contour\": [{\"colorbar\": {\"outlinewidth\": 0, \"ticks\": \"\"}, \"colorscale\": [[0.0, \"#0d0887\"], [0.1111111111111111, \"#46039f\"], [0.2222222222222222, \"#7201a8\"], [0.3333333333333333, \"#9c179e\"], [0.4444444444444444, \"#bd3786\"], [0.5555555555555556, \"#d8576b\"], [0.6666666666666666, \"#ed7953\"], [0.7777777777777778, \"#fb9f3a\"], [0.8888888888888888, \"#fdca26\"], [1.0, \"#f0f921\"]], \"type\": \"contour\"}], \"contourcarpet\": [{\"colorbar\": {\"outlinewidth\": 0, \"ticks\": \"\"}, \"type\": \"contourcarpet\"}], \"heatmap\": [{\"colorbar\": {\"outlinewidth\": 0, \"ticks\": \"\"}, \"colorscale\": [[0.0, \"#0d0887\"], [0.1111111111111111, \"#46039f\"], [0.2222222222222222, \"#7201a8\"], [0.3333333333333333, \"#9c179e\"], [0.4444444444444444, \"#bd3786\"], [0.5555555555555556, \"#d8576b\"], [0.6666666666666666, \"#ed7953\"], [0.7777777777777778, \"#fb9f3a\"], [0.8888888888888888, \"#fdca26\"], [1.0, \"#f0f921\"]], \"type\": \"heatmap\"}], \"heatmapgl\": [{\"colorbar\": {\"outlinewidth\": 0, \"ticks\": \"\"}, \"colorscale\": [[0.0, \"#0d0887\"], [0.1111111111111111, \"#46039f\"], [0.2222222222222222, \"#7201a8\"], [0.3333333333333333, \"#9c179e\"], [0.4444444444444444, \"#bd3786\"], [0.5555555555555556, \"#d8576b\"], [0.6666666666666666, \"#ed7953\"], [0.7777777777777778, \"#fb9f3a\"], [0.8888888888888888, \"#fdca26\"], [1.0, \"#f0f921\"]], \"type\": \"heatmapgl\"}], \"histogram\": [{\"marker\": {\"colorbar\": {\"outlinewidth\": 0, \"ticks\": \"\"}}, \"type\": \"histogram\"}], \"histogram2d\": [{\"colorbar\": {\"outlinewidth\": 0, \"ticks\": \"\"}, \"colorscale\": [[0.0, \"#0d0887\"], [0.1111111111111111, \"#46039f\"], [0.2222222222222222, \"#7201a8\"], [0.3333333333333333, \"#9c179e\"], [0.4444444444444444, \"#bd3786\"], [0.5555555555555556, \"#d8576b\"], [0.6666666666666666, \"#ed7953\"], [0.7777777777777778, \"#fb9f3a\"], [0.8888888888888888, \"#fdca26\"], [1.0, \"#f0f921\"]], \"type\": \"histogram2d\"}], \"histogram2dcontour\": [{\"colorbar\": {\"outlinewidth\": 0, \"ticks\": \"\"}, \"colorscale\": [[0.0, \"#0d0887\"], [0.1111111111111111, \"#46039f\"], [0.2222222222222222, \"#7201a8\"], [0.3333333333333333, \"#9c179e\"], [0.4444444444444444, \"#bd3786\"], [0.5555555555555556, \"#d8576b\"], [0.6666666666666666, \"#ed7953\"], [0.7777777777777778, \"#fb9f3a\"], [0.8888888888888888, \"#fdca26\"], [1.0, \"#f0f921\"]], \"type\": \"histogram2dcontour\"}], \"mesh3d\": [{\"colorbar\": {\"outlinewidth\": 0, \"ticks\": \"\"}, \"type\": \"mesh3d\"}], \"parcoords\": [{\"line\": {\"colorbar\": {\"outlinewidth\": 0, \"ticks\": \"\"}}, \"type\": \"parcoords\"}], \"pie\": [{\"automargin\": true, \"type\": \"pie\"}], \"scatter\": [{\"marker\": {\"colorbar\": {\"outlinewidth\": 0, \"ticks\": \"\"}}, \"type\": \"scatter\"}], \"scatter3d\": [{\"line\": {\"colorbar\": {\"outlinewidth\": 0, \"ticks\": \"\"}}, \"marker\": {\"colorbar\": {\"outlinewidth\": 0, \"ticks\": \"\"}}, \"type\": \"scatter3d\"}], \"scattercarpet\": [{\"marker\": {\"colorbar\": {\"outlinewidth\": 0, \"ticks\": \"\"}}, \"type\": \"scattercarpet\"}], \"scattergeo\": [{\"marker\": {\"colorbar\": {\"outlinewidth\": 0, \"ticks\": \"\"}}, \"type\": \"scattergeo\"}], \"scattergl\": [{\"marker\": {\"colorbar\": {\"outlinewidth\": 0, \"ticks\": \"\"}}, \"type\": \"scattergl\"}], \"scattermapbox\": [{\"marker\": {\"colorbar\": {\"outlinewidth\": 0, \"ticks\": \"\"}}, \"type\": \"scattermapbox\"}], \"scatterpolar\": [{\"marker\": {\"colorbar\": {\"outlinewidth\": 0, \"ticks\": \"\"}}, \"type\": \"scatterpolar\"}], \"scatterpolargl\": [{\"marker\": {\"colorbar\": {\"outlinewidth\": 0, \"ticks\": \"\"}}, \"type\": \"scatterpolargl\"}], \"scatterternary\": [{\"marker\": {\"colorbar\": {\"outlinewidth\": 0, \"ticks\": \"\"}}, \"type\": \"scatterternary\"}], \"surface\": [{\"colorbar\": {\"outlinewidth\": 0, \"ticks\": \"\"}, \"colorscale\": [[0.0, \"#0d0887\"], [0.1111111111111111, \"#46039f\"], [0.2222222222222222, \"#7201a8\"], [0.3333333333333333, \"#9c179e\"], [0.4444444444444444, \"#bd3786\"], [0.5555555555555556, \"#d8576b\"], [0.6666666666666666, \"#ed7953\"], [0.7777777777777778, \"#fb9f3a\"], [0.8888888888888888, \"#fdca26\"], [1.0, \"#f0f921\"]], \"type\": \"surface\"}], \"table\": [{\"cells\": {\"fill\": {\"color\": \"#EBF0F8\"}, \"line\": {\"color\": \"white\"}}, \"header\": {\"fill\": {\"color\": \"#C8D4E3\"}, \"line\": {\"color\": \"white\"}}, \"type\": \"table\"}]}, \"layout\": {\"annotationdefaults\": {\"arrowcolor\": \"#2a3f5f\", \"arrowhead\": 0, \"arrowwidth\": 1}, \"autotypenumbers\": \"strict\", \"coloraxis\": {\"colorbar\": {\"outlinewidth\": 0, \"ticks\": \"\"}}, \"colorscale\": {\"diverging\": [[0, \"#8e0152\"], [0.1, \"#c51b7d\"], [0.2, \"#de77ae\"], [0.3, \"#f1b6da\"], [0.4, \"#fde0ef\"], [0.5, \"#f7f7f7\"], [0.6, \"#e6f5d0\"], [0.7, \"#b8e186\"], [0.8, \"#7fbc41\"], [0.9, \"#4d9221\"], [1, \"#276419\"]], \"sequential\": [[0.0, \"#0d0887\"], [0.1111111111111111, \"#46039f\"], [0.2222222222222222, \"#7201a8\"], [0.3333333333333333, \"#9c179e\"], [0.4444444444444444, \"#bd3786\"], [0.5555555555555556, \"#d8576b\"], [0.6666666666666666, \"#ed7953\"], [0.7777777777777778, \"#fb9f3a\"], [0.8888888888888888, \"#fdca26\"], [1.0, \"#f0f921\"]], \"sequentialminus\": [[0.0, \"#0d0887\"], [0.1111111111111111, \"#46039f\"], [0.2222222222222222, \"#7201a8\"], [0.3333333333333333, \"#9c179e\"], [0.4444444444444444, \"#bd3786\"], [0.5555555555555556, \"#d8576b\"], [0.6666666666666666, \"#ed7953\"], [0.7777777777777778, \"#fb9f3a\"], [0.8888888888888888, \"#fdca26\"], [1.0, \"#f0f921\"]]}, \"colorway\": [\"#636efa\", \"#EF553B\", \"#00cc96\", \"#ab63fa\", \"#FFA15A\", \"#19d3f3\", \"#FF6692\", \"#B6E880\", \"#FF97FF\", \"#FECB52\"], \"font\": {\"color\": \"#2a3f5f\"}, \"geo\": {\"bgcolor\": \"white\", \"lakecolor\": \"white\", \"landcolor\": \"#E5ECF6\", \"showlakes\": true, \"showland\": true, \"subunitcolor\": \"white\"}, \"hoverlabel\": {\"align\": \"left\"}, \"hovermode\": \"closest\", \"mapbox\": {\"style\": \"light\"}, \"paper_bgcolor\": \"white\", \"plot_bgcolor\": \"#E5ECF6\", \"polar\": {\"angularaxis\": {\"gridcolor\": \"white\", \"linecolor\": \"white\", \"ticks\": \"\"}, \"bgcolor\": \"#E5ECF6\", \"radialaxis\": {\"gridcolor\": \"white\", \"linecolor\": \"white\", \"ticks\": \"\"}}, \"scene\": {\"xaxis\": {\"backgroundcolor\": \"#E5ECF6\", \"gridcolor\": \"white\", \"gridwidth\": 2, \"linecolor\": \"white\", \"showbackground\": true, \"ticks\": \"\", \"zerolinecolor\": \"white\"}, \"yaxis\": {\"backgroundcolor\": \"#E5ECF6\", \"gridcolor\": \"white\", \"gridwidth\": 2, \"linecolor\": \"white\", \"showbackground\": true, \"ticks\": \"\", \"zerolinecolor\": \"white\"}, \"zaxis\": {\"backgroundcolor\": \"#E5ECF6\", \"gridcolor\": \"white\", \"gridwidth\": 2, \"linecolor\": \"white\", \"showbackground\": true, \"ticks\": \"\", \"zerolinecolor\": \"white\"}}, \"shapedefaults\": {\"line\": {\"color\": \"#2a3f5f\"}}, \"ternary\": {\"aaxis\": {\"gridcolor\": \"white\", \"linecolor\": \"white\", \"ticks\": \"\"}, \"baxis\": {\"gridcolor\": \"white\", \"linecolor\": \"white\", \"ticks\": \"\"}, \"bgcolor\": \"#E5ECF6\", \"caxis\": {\"gridcolor\": \"white\", \"linecolor\": \"white\", \"ticks\": \"\"}}, \"title\": {\"x\": 0.05}, \"xaxis\": {\"automargin\": true, \"gridcolor\": \"white\", \"linecolor\": \"white\", \"ticks\": \"\", \"title\": {\"standoff\": 15}, \"zerolinecolor\": \"white\", \"zerolinewidth\": 2}, \"yaxis\": {\"automargin\": true, \"gridcolor\": \"white\", \"linecolor\": \"white\", \"ticks\": \"\", \"title\": {\"standoff\": 15}, \"zerolinecolor\": \"white\", \"zerolinewidth\": 2}}}, \"title\": {\"text\": \"location of NOAA stations in Ukraine\"}, \"width\": 800},                        {\"responsive\": true}                    ).then(function(){\n",
       "                            \n",
       "var gd = document.getElementById('e8ee9092-76ee-4dac-bdf7-952381feecf3');\n",
       "var x = new MutationObserver(function (mutations, observer) {{\n",
       "        var display = window.getComputedStyle(gd).display;\n",
       "        if (!display || display === 'none') {{\n",
       "            console.log([gd, 'removed!']);\n",
       "            Plotly.purge(gd);\n",
       "            observer.disconnect();\n",
       "        }}\n",
       "}});\n",
       "\n",
       "// Listen for the removal of the full notebook cells\n",
       "var notebookContainer = gd.closest('#notebook-container');\n",
       "if (notebookContainer) {{\n",
       "    x.observe(notebookContainer, {childList: true});\n",
       "}}\n",
       "\n",
       "// Listen for the clearing of the current output cell\n",
       "var outputEl = gd.closest('.output');\n",
       "if (outputEl) {{\n",
       "    x.observe(outputEl, {childList: true});\n",
       "}}\n",
       "\n",
       "                        })                };                });            </script>        </div>"
      ]
     },
     "metadata": {},
     "output_type": "display_data"
    }
   ],
   "source": [
    "fig = go.Figure(data=go.Scattergeo(\n",
    "        text=uastations_df[['name','elev']],\n",
    "        lat=uastations_df['lat'],\n",
    "        lon=uastations_df['lon'],\n",
    "        mode='markers',\n",
    "        marker_color=uastations_df['elev'],\n",
    "        ))\n",
    "\n",
    "fig.update_layout(\n",
    "    title='location of NOAA stations in Ukraine',\n",
    "    width=800,\n",
    "    height=800,\n",
    "    geo=dict(\n",
    "        scope='europe',\n",
    "        projection=dict(\n",
    "                scale=4.5\n",
    "        ),\n",
    "        center=dict(\n",
    "                lat=52,\n",
    "                lon=32\n",
    "        )\n",
    "    )\n",
    "    )\n",
    "fig.show()"
   ]
  },
  {
   "cell_type": "markdown",
   "metadata": {},
   "source": [
    "#### Uploading NOAA GSOD ukrainian data gathered by third party"
   ]
  },
  {
   "cell_type": "code",
   "execution_count": 54,
   "metadata": {
    "scrolled": true
   },
   "outputs": [
    {
     "name": "stderr",
     "output_type": "stream",
     "text": [
      "b'Skipping line 73678: expected 22 fields, saw 43\\nSkipping line 75263: expected 22 fields, saw 40\\n'\n",
      "b'Skipping line 145412: expected 22 fields, saw 43\\nSkipping line 145466: expected 22 fields, saw 44\\nSkipping line 145519: expected 22 fields, saw 41\\nSkipping line 145520: expected 22 fields, saw 24\\nSkipping line 145573: expected 22 fields, saw 24\\nSkipping line 145574: expected 22 fields, saw 41\\n'\n",
      "b'Skipping line 216874: expected 22 fields, saw 42\\nSkipping line 223818: expected 22 fields, saw 30\\n'\n",
      "b'Skipping line 233031: expected 22 fields, saw 43\\n'\n",
      "b'Skipping line 504056: expected 22 fields, saw 44\\nSkipping line 504111: expected 22 fields, saw 38\\nSkipping line 509342: expected 22 fields, saw 42\\nSkipping line 509396: expected 22 fields, saw 43\\nSkipping line 509449: expected 22 fields, saw 44\\nSkipping line 509502: expected 22 fields, saw 43\\n'\n",
      "c:\\python38\\lib\\site-packages\\IPython\\core\\interactiveshell.py:3145: DtypeWarning:\n",
      "\n",
      "Columns (0,1,2,3,4,5,6,7,8,9,10,11,12,13,14,15,16) have mixed types.Specify dtype option on import or set low_memory=False.\n",
      "\n",
      "b'Skipping line 261327: expected 22 fields, saw 43\\nSkipping line 261381: expected 22 fields, saw 23\\n'\n",
      "b'Skipping line 458038: expected 22 fields, saw 43\\nSkipping line 458092: expected 22 fields, saw 31\\n'\n",
      "b'Skipping line 462242: expected 22 fields, saw 44\\nSkipping line 462296: expected 22 fields, saw 44\\nSkipping line 490528: expected 22 fields, saw 42\\n'\n",
      "c:\\python38\\lib\\site-packages\\IPython\\core\\interactiveshell.py:3145: DtypeWarning:\n",
      "\n",
      "Columns (0,1,2,3,4,5,6,7,9,10,11,12,13,14,15) have mixed types.Specify dtype option on import or set low_memory=False.\n",
      "\n"
     ]
    },
    {
     "data": {
      "text/html": [
       "<div>\n",
       "<style scoped>\n",
       "    .dataframe tbody tr th:only-of-type {\n",
       "        vertical-align: middle;\n",
       "    }\n",
       "\n",
       "    .dataframe tbody tr th {\n",
       "        vertical-align: top;\n",
       "    }\n",
       "\n",
       "    .dataframe thead th {\n",
       "        text-align: right;\n",
       "    }\n",
       "</style>\n",
       "<table border=\"1\" class=\"dataframe\">\n",
       "  <thead>\n",
       "    <tr style=\"text-align: right;\">\n",
       "      <th></th>\n",
       "      <th>STN---</th>\n",
       "      <th>WBAN</th>\n",
       "      <th>YEARMODA</th>\n",
       "      <th>TEMP</th>\n",
       "      <th>TEMP_COUNT</th>\n",
       "      <th>DEWP</th>\n",
       "      <th>DEWP_COUNT</th>\n",
       "      <th>SLP</th>\n",
       "      <th>SLP_COUNT</th>\n",
       "      <th>STP</th>\n",
       "      <th>...</th>\n",
       "      <th>VISIB_COUNT</th>\n",
       "      <th>WDSP</th>\n",
       "      <th>WDSP_COUNT</th>\n",
       "      <th>MXSPD</th>\n",
       "      <th>GUST</th>\n",
       "      <th>MAX</th>\n",
       "      <th>MIN</th>\n",
       "      <th>PRCP</th>\n",
       "      <th>SNDP</th>\n",
       "      <th>FRSHTT</th>\n",
       "    </tr>\n",
       "  </thead>\n",
       "  <tbody>\n",
       "    <tr>\n",
       "      <th>0</th>\n",
       "      <td>336310</td>\n",
       "      <td>99999</td>\n",
       "      <td>19831105</td>\n",
       "      <td>44.8</td>\n",
       "      <td>8</td>\n",
       "      <td>39.5</td>\n",
       "      <td>8</td>\n",
       "      <td>1020.5</td>\n",
       "      <td>6</td>\n",
       "      <td>9999.9</td>\n",
       "      <td>...</td>\n",
       "      <td>8</td>\n",
       "      <td>1.2</td>\n",
       "      <td>8</td>\n",
       "      <td>3.9</td>\n",
       "      <td>999.9</td>\n",
       "      <td>53.1*</td>\n",
       "      <td>35.8</td>\n",
       "      <td>0.00G</td>\n",
       "      <td>999.9</td>\n",
       "      <td>0.0</td>\n",
       "    </tr>\n",
       "    <tr>\n",
       "      <th>1</th>\n",
       "      <td>336310</td>\n",
       "      <td>99999</td>\n",
       "      <td>19831106</td>\n",
       "      <td>43.8</td>\n",
       "      <td>8</td>\n",
       "      <td>40.6</td>\n",
       "      <td>8</td>\n",
       "      <td>1024.6</td>\n",
       "      <td>8</td>\n",
       "      <td>9999.9</td>\n",
       "      <td>...</td>\n",
       "      <td>8</td>\n",
       "      <td>1.2</td>\n",
       "      <td>8</td>\n",
       "      <td>5.8</td>\n",
       "      <td>999.9</td>\n",
       "      <td>54.3</td>\n",
       "      <td>35.2</td>\n",
       "      <td>0.00G</td>\n",
       "      <td>999.9</td>\n",
       "      <td>100000.0</td>\n",
       "    </tr>\n",
       "    <tr>\n",
       "      <th>2</th>\n",
       "      <td>336310</td>\n",
       "      <td>99999</td>\n",
       "      <td>19831107</td>\n",
       "      <td>37.9</td>\n",
       "      <td>8</td>\n",
       "      <td>37.5</td>\n",
       "      <td>8</td>\n",
       "      <td>1028.9</td>\n",
       "      <td>7</td>\n",
       "      <td>9999.9</td>\n",
       "      <td>...</td>\n",
       "      <td>8</td>\n",
       "      <td>2.2</td>\n",
       "      <td>8</td>\n",
       "      <td>5.8</td>\n",
       "      <td>999.9</td>\n",
       "      <td>46.8</td>\n",
       "      <td>30.4</td>\n",
       "      <td>0.00G</td>\n",
       "      <td>999.9</td>\n",
       "      <td>110000.0</td>\n",
       "    </tr>\n",
       "    <tr>\n",
       "      <th>3</th>\n",
       "      <td>336310</td>\n",
       "      <td>99999</td>\n",
       "      <td>19831108</td>\n",
       "      <td>37.0</td>\n",
       "      <td>7</td>\n",
       "      <td>36.6</td>\n",
       "      <td>7</td>\n",
       "      <td>1029.2</td>\n",
       "      <td>7</td>\n",
       "      <td>9999.9</td>\n",
       "      <td>...</td>\n",
       "      <td>7</td>\n",
       "      <td>1.4</td>\n",
       "      <td>7</td>\n",
       "      <td>3.9</td>\n",
       "      <td>999.9</td>\n",
       "      <td>39.9*</td>\n",
       "      <td>32.2</td>\n",
       "      <td>0.00G</td>\n",
       "      <td>999.9</td>\n",
       "      <td>110000.0</td>\n",
       "    </tr>\n",
       "    <tr>\n",
       "      <th>4</th>\n",
       "      <td>336310</td>\n",
       "      <td>99999</td>\n",
       "      <td>19831109</td>\n",
       "      <td>39.1</td>\n",
       "      <td>7</td>\n",
       "      <td>38.6</td>\n",
       "      <td>7</td>\n",
       "      <td>1029.0</td>\n",
       "      <td>7</td>\n",
       "      <td>9999.9</td>\n",
       "      <td>...</td>\n",
       "      <td>7</td>\n",
       "      <td>2.5</td>\n",
       "      <td>7</td>\n",
       "      <td>3.9</td>\n",
       "      <td>999.9</td>\n",
       "      <td>40.6</td>\n",
       "      <td>37.4</td>\n",
       "      <td>0.02G</td>\n",
       "      <td>999.9</td>\n",
       "      <td>10000.0</td>\n",
       "    </tr>\n",
       "  </tbody>\n",
       "</table>\n",
       "<p>5 rows × 22 columns</p>\n",
       "</div>"
      ],
      "text/plain": [
       "   STN---   WBAN  YEARMODA  TEMP TEMP_COUNT  DEWP DEWP_COUNT     SLP  \\\n",
       "0  336310  99999  19831105  44.8          8  39.5          8  1020.5   \n",
       "1  336310  99999  19831106  43.8          8  40.6          8  1024.6   \n",
       "2  336310  99999  19831107  37.9          8  37.5          8  1028.9   \n",
       "3  336310  99999  19831108  37.0          7  36.6          7  1029.2   \n",
       "4  336310  99999  19831109  39.1          7  38.6          7  1029.0   \n",
       "\n",
       "  SLP_COUNT     STP  ... VISIB_COUNT WDSP WDSP_COUNT MXSPD   GUST    MAX  \\\n",
       "0         6  9999.9  ...           8  1.2          8   3.9  999.9  53.1*   \n",
       "1         8  9999.9  ...           8  1.2          8   5.8  999.9   54.3   \n",
       "2         7  9999.9  ...           8  2.2          8   5.8  999.9   46.8   \n",
       "3         7  9999.9  ...           7  1.4          7   3.9  999.9  39.9*   \n",
       "4         7  9999.9  ...           7  2.5          7   3.9  999.9   40.6   \n",
       "\n",
       "    MIN   PRCP   SNDP    FRSHTT  \n",
       "0  35.8  0.00G  999.9       0.0  \n",
       "1  35.2  0.00G  999.9  100000.0  \n",
       "2  30.4  0.00G  999.9  110000.0  \n",
       "3  32.2  0.00G  999.9  110000.0  \n",
       "4  37.4  0.02G  999.9   10000.0  \n",
       "\n",
       "[5 rows x 22 columns]"
      ]
     },
     "execution_count": 54,
     "metadata": {},
     "output_type": "execute_result"
    }
   ],
   "source": [
    "raw1 = pd.read_csv('gsod_ua_1.csv', error_bad_lines=False)\n",
    "raw2 = pd.read_csv('gsod_ua_2.csv', error_bad_lines=False)\n",
    "raw = pd.concat([raw1, raw2])\n",
    "raw.head()"
   ]
  },
  {
   "cell_type": "code",
   "execution_count": 55,
   "metadata": {
    "scrolled": false
   },
   "outputs": [
    {
     "data": {
      "text/html": [
       "<div>\n",
       "<style scoped>\n",
       "    .dataframe tbody tr th:only-of-type {\n",
       "        vertical-align: middle;\n",
       "    }\n",
       "\n",
       "    .dataframe tbody tr th {\n",
       "        vertical-align: top;\n",
       "    }\n",
       "\n",
       "    .dataframe thead th {\n",
       "        text-align: right;\n",
       "    }\n",
       "</style>\n",
       "<table border=\"1\" class=\"dataframe\">\n",
       "  <thead>\n",
       "    <tr style=\"text-align: right;\">\n",
       "      <th></th>\n",
       "      <th>STN---</th>\n",
       "      <th>WBAN</th>\n",
       "      <th>YEARMODA</th>\n",
       "      <th>TEMP</th>\n",
       "      <th>TEMP_COUNT</th>\n",
       "      <th>DEWP</th>\n",
       "      <th>DEWP_COUNT</th>\n",
       "      <th>SLP</th>\n",
       "      <th>SLP_COUNT</th>\n",
       "      <th>STP</th>\n",
       "      <th>...</th>\n",
       "      <th>VISIB_COUNT</th>\n",
       "      <th>WDSP</th>\n",
       "      <th>WDSP_COUNT</th>\n",
       "      <th>MXSPD</th>\n",
       "      <th>GUST</th>\n",
       "      <th>MAX</th>\n",
       "      <th>MIN</th>\n",
       "      <th>PRCP</th>\n",
       "      <th>SNDP</th>\n",
       "      <th>FRSHTT</th>\n",
       "    </tr>\n",
       "  </thead>\n",
       "  <tbody>\n",
       "    <tr>\n",
       "      <th>0</th>\n",
       "      <td>336310</td>\n",
       "      <td>99999</td>\n",
       "      <td>19831105</td>\n",
       "      <td>44.8</td>\n",
       "      <td>8</td>\n",
       "      <td>39.5</td>\n",
       "      <td>8</td>\n",
       "      <td>1020.5</td>\n",
       "      <td>6</td>\n",
       "      <td>9999.9</td>\n",
       "      <td>...</td>\n",
       "      <td>8</td>\n",
       "      <td>1.2</td>\n",
       "      <td>8</td>\n",
       "      <td>3.9</td>\n",
       "      <td>999.9</td>\n",
       "      <td>53.1*</td>\n",
       "      <td>35.8</td>\n",
       "      <td>0.00G</td>\n",
       "      <td>999.9</td>\n",
       "      <td>0.0</td>\n",
       "    </tr>\n",
       "    <tr>\n",
       "      <th>1</th>\n",
       "      <td>336310</td>\n",
       "      <td>99999</td>\n",
       "      <td>19831106</td>\n",
       "      <td>43.8</td>\n",
       "      <td>8</td>\n",
       "      <td>40.6</td>\n",
       "      <td>8</td>\n",
       "      <td>1024.6</td>\n",
       "      <td>8</td>\n",
       "      <td>9999.9</td>\n",
       "      <td>...</td>\n",
       "      <td>8</td>\n",
       "      <td>1.2</td>\n",
       "      <td>8</td>\n",
       "      <td>5.8</td>\n",
       "      <td>999.9</td>\n",
       "      <td>54.3</td>\n",
       "      <td>35.2</td>\n",
       "      <td>0.00G</td>\n",
       "      <td>999.9</td>\n",
       "      <td>100000.0</td>\n",
       "    </tr>\n",
       "    <tr>\n",
       "      <th>2</th>\n",
       "      <td>336310</td>\n",
       "      <td>99999</td>\n",
       "      <td>19831107</td>\n",
       "      <td>37.9</td>\n",
       "      <td>8</td>\n",
       "      <td>37.5</td>\n",
       "      <td>8</td>\n",
       "      <td>1028.9</td>\n",
       "      <td>7</td>\n",
       "      <td>9999.9</td>\n",
       "      <td>...</td>\n",
       "      <td>8</td>\n",
       "      <td>2.2</td>\n",
       "      <td>8</td>\n",
       "      <td>5.8</td>\n",
       "      <td>999.9</td>\n",
       "      <td>46.8</td>\n",
       "      <td>30.4</td>\n",
       "      <td>0.00G</td>\n",
       "      <td>999.9</td>\n",
       "      <td>110000.0</td>\n",
       "    </tr>\n",
       "    <tr>\n",
       "      <th>3</th>\n",
       "      <td>336310</td>\n",
       "      <td>99999</td>\n",
       "      <td>19831108</td>\n",
       "      <td>37.0</td>\n",
       "      <td>7</td>\n",
       "      <td>36.6</td>\n",
       "      <td>7</td>\n",
       "      <td>1029.2</td>\n",
       "      <td>7</td>\n",
       "      <td>9999.9</td>\n",
       "      <td>...</td>\n",
       "      <td>7</td>\n",
       "      <td>1.4</td>\n",
       "      <td>7</td>\n",
       "      <td>3.9</td>\n",
       "      <td>999.9</td>\n",
       "      <td>39.9*</td>\n",
       "      <td>32.2</td>\n",
       "      <td>0.00G</td>\n",
       "      <td>999.9</td>\n",
       "      <td>110000.0</td>\n",
       "    </tr>\n",
       "    <tr>\n",
       "      <th>4</th>\n",
       "      <td>336310</td>\n",
       "      <td>99999</td>\n",
       "      <td>19831109</td>\n",
       "      <td>39.1</td>\n",
       "      <td>7</td>\n",
       "      <td>38.6</td>\n",
       "      <td>7</td>\n",
       "      <td>1029.0</td>\n",
       "      <td>7</td>\n",
       "      <td>9999.9</td>\n",
       "      <td>...</td>\n",
       "      <td>7</td>\n",
       "      <td>2.5</td>\n",
       "      <td>7</td>\n",
       "      <td>3.9</td>\n",
       "      <td>999.9</td>\n",
       "      <td>40.6</td>\n",
       "      <td>37.4</td>\n",
       "      <td>0.02G</td>\n",
       "      <td>999.9</td>\n",
       "      <td>10000.0</td>\n",
       "    </tr>\n",
       "    <tr>\n",
       "      <th>...</th>\n",
       "      <td>...</td>\n",
       "      <td>...</td>\n",
       "      <td>...</td>\n",
       "      <td>...</td>\n",
       "      <td>...</td>\n",
       "      <td>...</td>\n",
       "      <td>...</td>\n",
       "      <td>...</td>\n",
       "      <td>...</td>\n",
       "      <td>...</td>\n",
       "      <td>...</td>\n",
       "      <td>...</td>\n",
       "      <td>...</td>\n",
       "      <td>...</td>\n",
       "      <td>...</td>\n",
       "      <td>...</td>\n",
       "      <td>...</td>\n",
       "      <td>...</td>\n",
       "      <td>...</td>\n",
       "      <td>...</td>\n",
       "      <td>...</td>\n",
       "    </tr>\n",
       "    <tr>\n",
       "      <th>462051</th>\n",
       "      <td>336140</td>\n",
       "      <td>99999.0</td>\n",
       "      <td>20010316.0</td>\n",
       "      <td>38.6</td>\n",
       "      <td>8.0</td>\n",
       "      <td>34.5</td>\n",
       "      <td>8.0</td>\n",
       "      <td>1008.5</td>\n",
       "      <td>8.0</td>\n",
       "      <td>9999.9</td>\n",
       "      <td>...</td>\n",
       "      <td>8.0</td>\n",
       "      <td>10.0</td>\n",
       "      <td>8.0</td>\n",
       "      <td>17.5</td>\n",
       "      <td>999.9</td>\n",
       "      <td>43.9</td>\n",
       "      <td>34.9</td>\n",
       "      <td>0.43E</td>\n",
       "      <td>999.9</td>\n",
       "      <td>10000.0</td>\n",
       "    </tr>\n",
       "    <tr>\n",
       "      <th>462052</th>\n",
       "      <td>336140</td>\n",
       "      <td>99999.0</td>\n",
       "      <td>20010317.0</td>\n",
       "      <td>44.1</td>\n",
       "      <td>8.0</td>\n",
       "      <td>37.8</td>\n",
       "      <td>8.0</td>\n",
       "      <td>1009.5</td>\n",
       "      <td>8.0</td>\n",
       "      <td>9999.9</td>\n",
       "      <td>...</td>\n",
       "      <td>8.0</td>\n",
       "      <td>4.6</td>\n",
       "      <td>8.0</td>\n",
       "      <td>7.8</td>\n",
       "      <td>999.9</td>\n",
       "      <td>51.8</td>\n",
       "      <td>36.5</td>\n",
       "      <td>0.02E</td>\n",
       "      <td>999.9</td>\n",
       "      <td>10000.0</td>\n",
       "    </tr>\n",
       "    <tr>\n",
       "      <th>462053</th>\n",
       "      <td>336140</td>\n",
       "      <td>99999.0</td>\n",
       "      <td>20010318.0</td>\n",
       "      <td>45.2</td>\n",
       "      <td>8.0</td>\n",
       "      <td>42.5</td>\n",
       "      <td>8.0</td>\n",
       "      <td>1001.2</td>\n",
       "      <td>8.0</td>\n",
       "      <td>9999.9</td>\n",
       "      <td>...</td>\n",
       "      <td>8.0</td>\n",
       "      <td>3.6</td>\n",
       "      <td>8.0</td>\n",
       "      <td>7.8</td>\n",
       "      <td>999.9</td>\n",
       "      <td>51.3</td>\n",
       "      <td>41.5*</td>\n",
       "      <td>0.04F</td>\n",
       "      <td>999.9</td>\n",
       "      <td>110000.0</td>\n",
       "    </tr>\n",
       "    <tr>\n",
       "      <th>462054</th>\n",
       "      <td>336140</td>\n",
       "      <td>99999.0</td>\n",
       "      <td>20010319.0</td>\n",
       "      <td>38.4</td>\n",
       "      <td>8.0</td>\n",
       "      <td>32.3</td>\n",
       "      <td>8.0</td>\n",
       "      <td>1009.2</td>\n",
       "      <td>8.0</td>\n",
       "      <td>9999.9</td>\n",
       "      <td>...</td>\n",
       "      <td>8.0</td>\n",
       "      <td>7.5</td>\n",
       "      <td>8.0</td>\n",
       "      <td>13.6</td>\n",
       "      <td>999.9</td>\n",
       "      <td>42.1</td>\n",
       "      <td>34.7</td>\n",
       "      <td>0.04E</td>\n",
       "      <td>999.9</td>\n",
       "      <td>11000.0</td>\n",
       "    </tr>\n",
       "    <tr>\n",
       "      <th>462055</th>\n",
       "      <td>336140</td>\n",
       "      <td>99999.0</td>\n",
       "      <td>20010320.0</td>\n",
       "      <td>41.4</td>\n",
       "      <td>8.0</td>\n",
       "      <td>38.0</td>\n",
       "      <td>8.0</td>\n",
       "      <td>1005.6</td>\n",
       "      <td>8.0</td>\n",
       "      <td>9999.9</td>\n",
       "      <td>...</td>\n",
       "      <td>8.0</td>\n",
       "      <td>5.8</td>\n",
       "      <td>8.0</td>\n",
       "      <td>7.8</td>\n",
       "      <td>999.9</td>\n",
       "      <td>46.0</td>\n",
       "      <td>37.6</td>\n",
       "      <td>0.28F</td>\n",
       "      <td>999.9</td>\n",
       "      <td>10000.0</td>\n",
       "    </tr>\n",
       "  </tbody>\n",
       "</table>\n",
       "<p>462056 rows × 22 columns</p>\n",
       "</div>"
      ],
      "text/plain": [
       "        STN---     WBAN    YEARMODA  TEMP TEMP_COUNT  DEWP DEWP_COUNT     SLP  \\\n",
       "0       336310    99999    19831105  44.8          8  39.5          8  1020.5   \n",
       "1       336310    99999    19831106  43.8          8  40.6          8  1024.6   \n",
       "2       336310    99999    19831107  37.9          8  37.5          8  1028.9   \n",
       "3       336310    99999    19831108  37.0          7  36.6          7  1029.2   \n",
       "4       336310    99999    19831109  39.1          7  38.6          7  1029.0   \n",
       "...        ...      ...         ...   ...        ...   ...        ...     ...   \n",
       "462051  336140  99999.0  20010316.0  38.6        8.0  34.5        8.0  1008.5   \n",
       "462052  336140  99999.0  20010317.0  44.1        8.0  37.8        8.0  1009.5   \n",
       "462053  336140  99999.0  20010318.0  45.2        8.0  42.5        8.0  1001.2   \n",
       "462054  336140  99999.0  20010319.0  38.4        8.0  32.3        8.0  1009.2   \n",
       "462055  336140  99999.0  20010320.0  41.4        8.0  38.0        8.0  1005.6   \n",
       "\n",
       "       SLP_COUNT     STP  ... VISIB_COUNT  WDSP WDSP_COUNT MXSPD   GUST  \\\n",
       "0              6  9999.9  ...           8   1.2          8   3.9  999.9   \n",
       "1              8  9999.9  ...           8   1.2          8   5.8  999.9   \n",
       "2              7  9999.9  ...           8   2.2          8   5.8  999.9   \n",
       "3              7  9999.9  ...           7   1.4          7   3.9  999.9   \n",
       "4              7  9999.9  ...           7   2.5          7   3.9  999.9   \n",
       "...          ...     ...  ...         ...   ...        ...   ...    ...   \n",
       "462051       8.0  9999.9  ...         8.0  10.0        8.0  17.5  999.9   \n",
       "462052       8.0  9999.9  ...         8.0   4.6        8.0   7.8  999.9   \n",
       "462053       8.0  9999.9  ...         8.0   3.6        8.0   7.8  999.9   \n",
       "462054       8.0  9999.9  ...         8.0   7.5        8.0  13.6  999.9   \n",
       "462055       8.0  9999.9  ...         8.0   5.8        8.0   7.8  999.9   \n",
       "\n",
       "          MAX    MIN   PRCP   SNDP    FRSHTT  \n",
       "0       53.1*   35.8  0.00G  999.9       0.0  \n",
       "1        54.3   35.2  0.00G  999.9  100000.0  \n",
       "2        46.8   30.4  0.00G  999.9  110000.0  \n",
       "3       39.9*   32.2  0.00G  999.9  110000.0  \n",
       "4        40.6   37.4  0.02G  999.9   10000.0  \n",
       "...       ...    ...    ...    ...       ...  \n",
       "462051   43.9   34.9  0.43E  999.9   10000.0  \n",
       "462052   51.8   36.5  0.02E  999.9   10000.0  \n",
       "462053   51.3  41.5*  0.04F  999.9  110000.0  \n",
       "462054   42.1   34.7  0.04E  999.9   11000.0  \n",
       "462055   46.0   37.6  0.28F  999.9   10000.0  \n",
       "\n",
       "[462056 rows x 22 columns]"
      ]
     },
     "execution_count": 55,
     "metadata": {},
     "output_type": "execute_result"
    }
   ],
   "source": [
    "raw = raw[raw['STN---'].isin(uastations_df['number'])].reset_index(drop=True)\n",
    "raw"
   ]
  },
  {
   "cell_type": "code",
   "execution_count": 56,
   "metadata": {},
   "outputs": [
    {
     "data": {
      "text/plain": [
       "Index(['STN---', 'WBAN', 'YEARMODA', 'TEMP', 'TEMP_COUNT', 'DEWP',\n",
       "       'DEWP_COUNT', 'SLP', 'SLP_COUNT', 'STP', 'STP_COUNT', 'VISIB',\n",
       "       'VISIB_COUNT', 'WDSP', 'WDSP_COUNT', 'MXSPD', 'GUST', 'MAX', 'MIN',\n",
       "       'PRCP', 'SNDP', 'FRSHTT'],\n",
       "      dtype='object')"
      ]
     },
     "execution_count": 56,
     "metadata": {},
     "output_type": "execute_result"
    }
   ],
   "source": [
    "raw.columns"
   ]
  },
  {
   "cell_type": "code",
   "execution_count": 57,
   "metadata": {
    "scrolled": true
   },
   "outputs": [],
   "source": [
    "rename = {'STN---': 'number', 'YEARMODA': 'date', 'TEMP': 'temp', 'TEMP_COUNT': 'tempcount', 'SLP': 'meanslp',\n",
    "          'SLP_COUNT': 'slpcount', 'STP': 'meanstp', 'STP_COUNT': 'stpcount', 'VISIB': 'meanvisib', 'VISIB_COUNT': 'visibcount',\n",
    "         'WDSP': 'meanwindsp', 'WDSP_COUNT': 'windspcount', 'MXSPD': 'maxwindsp', 'GUST': 'maxwindgust', 'MAX': 'maxtemp',\n",
    "         'MIN': 'mintemp', 'PRCP': 'precipitation', 'SNDP': 'snowdepth', 'FRSHTT': 'eventobs'}"
   ]
  },
  {
   "cell_type": "markdown",
   "metadata": {},
   "source": [
    "#### Renaming columns"
   ]
  },
  {
   "cell_type": "code",
   "execution_count": 58,
   "metadata": {
    "scrolled": false
   },
   "outputs": [
    {
     "data": {
      "text/html": [
       "<div>\n",
       "<style scoped>\n",
       "    .dataframe tbody tr th:only-of-type {\n",
       "        vertical-align: middle;\n",
       "    }\n",
       "\n",
       "    .dataframe tbody tr th {\n",
       "        vertical-align: top;\n",
       "    }\n",
       "\n",
       "    .dataframe thead th {\n",
       "        text-align: right;\n",
       "    }\n",
       "</style>\n",
       "<table border=\"1\" class=\"dataframe\">\n",
       "  <thead>\n",
       "    <tr style=\"text-align: right;\">\n",
       "      <th></th>\n",
       "      <th>number</th>\n",
       "      <th>date</th>\n",
       "      <th>temp</th>\n",
       "      <th>tempcount</th>\n",
       "      <th>meanslp</th>\n",
       "      <th>slpcount</th>\n",
       "      <th>meanstp</th>\n",
       "      <th>stpcount</th>\n",
       "      <th>meanvisib</th>\n",
       "      <th>visibcount</th>\n",
       "      <th>meanwindsp</th>\n",
       "      <th>windspcount</th>\n",
       "      <th>maxwindsp</th>\n",
       "      <th>maxwindgust</th>\n",
       "      <th>maxtemp</th>\n",
       "      <th>mintemp</th>\n",
       "      <th>precipitation</th>\n",
       "      <th>snowdepth</th>\n",
       "      <th>eventobs</th>\n",
       "    </tr>\n",
       "  </thead>\n",
       "  <tbody>\n",
       "    <tr>\n",
       "      <th>0</th>\n",
       "      <td>336310</td>\n",
       "      <td>19831105</td>\n",
       "      <td>44.8</td>\n",
       "      <td>8</td>\n",
       "      <td>1020.5</td>\n",
       "      <td>6</td>\n",
       "      <td>9999.9</td>\n",
       "      <td>0</td>\n",
       "      <td>2.5</td>\n",
       "      <td>8</td>\n",
       "      <td>1.2</td>\n",
       "      <td>8</td>\n",
       "      <td>3.9</td>\n",
       "      <td>999.9</td>\n",
       "      <td>53.1*</td>\n",
       "      <td>35.8</td>\n",
       "      <td>0.00G</td>\n",
       "      <td>999.9</td>\n",
       "      <td>0.0</td>\n",
       "    </tr>\n",
       "    <tr>\n",
       "      <th>1</th>\n",
       "      <td>336310</td>\n",
       "      <td>19831106</td>\n",
       "      <td>43.8</td>\n",
       "      <td>8</td>\n",
       "      <td>1024.6</td>\n",
       "      <td>8</td>\n",
       "      <td>9999.9</td>\n",
       "      <td>0</td>\n",
       "      <td>1.3</td>\n",
       "      <td>8</td>\n",
       "      <td>1.2</td>\n",
       "      <td>8</td>\n",
       "      <td>5.8</td>\n",
       "      <td>999.9</td>\n",
       "      <td>54.3</td>\n",
       "      <td>35.2</td>\n",
       "      <td>0.00G</td>\n",
       "      <td>999.9</td>\n",
       "      <td>100000.0</td>\n",
       "    </tr>\n",
       "    <tr>\n",
       "      <th>2</th>\n",
       "      <td>336310</td>\n",
       "      <td>19831107</td>\n",
       "      <td>37.9</td>\n",
       "      <td>8</td>\n",
       "      <td>1028.9</td>\n",
       "      <td>7</td>\n",
       "      <td>9999.9</td>\n",
       "      <td>0</td>\n",
       "      <td>0.0</td>\n",
       "      <td>8</td>\n",
       "      <td>2.2</td>\n",
       "      <td>8</td>\n",
       "      <td>5.8</td>\n",
       "      <td>999.9</td>\n",
       "      <td>46.8</td>\n",
       "      <td>30.4</td>\n",
       "      <td>0.00G</td>\n",
       "      <td>999.9</td>\n",
       "      <td>110000.0</td>\n",
       "    </tr>\n",
       "    <tr>\n",
       "      <th>3</th>\n",
       "      <td>336310</td>\n",
       "      <td>19831108</td>\n",
       "      <td>37.0</td>\n",
       "      <td>7</td>\n",
       "      <td>1029.2</td>\n",
       "      <td>7</td>\n",
       "      <td>9999.9</td>\n",
       "      <td>0</td>\n",
       "      <td>0.0</td>\n",
       "      <td>7</td>\n",
       "      <td>1.4</td>\n",
       "      <td>7</td>\n",
       "      <td>3.9</td>\n",
       "      <td>999.9</td>\n",
       "      <td>39.9*</td>\n",
       "      <td>32.2</td>\n",
       "      <td>0.00G</td>\n",
       "      <td>999.9</td>\n",
       "      <td>110000.0</td>\n",
       "    </tr>\n",
       "    <tr>\n",
       "      <th>4</th>\n",
       "      <td>336310</td>\n",
       "      <td>19831109</td>\n",
       "      <td>39.1</td>\n",
       "      <td>7</td>\n",
       "      <td>1029.0</td>\n",
       "      <td>7</td>\n",
       "      <td>9999.9</td>\n",
       "      <td>0</td>\n",
       "      <td>0.2</td>\n",
       "      <td>7</td>\n",
       "      <td>2.5</td>\n",
       "      <td>7</td>\n",
       "      <td>3.9</td>\n",
       "      <td>999.9</td>\n",
       "      <td>40.6</td>\n",
       "      <td>37.4</td>\n",
       "      <td>0.02G</td>\n",
       "      <td>999.9</td>\n",
       "      <td>10000.0</td>\n",
       "    </tr>\n",
       "    <tr>\n",
       "      <th>...</th>\n",
       "      <td>...</td>\n",
       "      <td>...</td>\n",
       "      <td>...</td>\n",
       "      <td>...</td>\n",
       "      <td>...</td>\n",
       "      <td>...</td>\n",
       "      <td>...</td>\n",
       "      <td>...</td>\n",
       "      <td>...</td>\n",
       "      <td>...</td>\n",
       "      <td>...</td>\n",
       "      <td>...</td>\n",
       "      <td>...</td>\n",
       "      <td>...</td>\n",
       "      <td>...</td>\n",
       "      <td>...</td>\n",
       "      <td>...</td>\n",
       "      <td>...</td>\n",
       "      <td>...</td>\n",
       "    </tr>\n",
       "    <tr>\n",
       "      <th>462051</th>\n",
       "      <td>336140</td>\n",
       "      <td>20010316.0</td>\n",
       "      <td>38.6</td>\n",
       "      <td>8.0</td>\n",
       "      <td>1008.5</td>\n",
       "      <td>8.0</td>\n",
       "      <td>9999.9</td>\n",
       "      <td>0.0</td>\n",
       "      <td>7.6</td>\n",
       "      <td>8.0</td>\n",
       "      <td>10.0</td>\n",
       "      <td>8.0</td>\n",
       "      <td>17.5</td>\n",
       "      <td>999.9</td>\n",
       "      <td>43.9</td>\n",
       "      <td>34.9</td>\n",
       "      <td>0.43E</td>\n",
       "      <td>999.9</td>\n",
       "      <td>10000.0</td>\n",
       "    </tr>\n",
       "    <tr>\n",
       "      <th>462052</th>\n",
       "      <td>336140</td>\n",
       "      <td>20010317.0</td>\n",
       "      <td>44.1</td>\n",
       "      <td>8.0</td>\n",
       "      <td>1009.5</td>\n",
       "      <td>8.0</td>\n",
       "      <td>9999.9</td>\n",
       "      <td>0.0</td>\n",
       "      <td>6.8</td>\n",
       "      <td>8.0</td>\n",
       "      <td>4.6</td>\n",
       "      <td>8.0</td>\n",
       "      <td>7.8</td>\n",
       "      <td>999.9</td>\n",
       "      <td>51.8</td>\n",
       "      <td>36.5</td>\n",
       "      <td>0.02E</td>\n",
       "      <td>999.9</td>\n",
       "      <td>10000.0</td>\n",
       "    </tr>\n",
       "    <tr>\n",
       "      <th>462053</th>\n",
       "      <td>336140</td>\n",
       "      <td>20010318.0</td>\n",
       "      <td>45.2</td>\n",
       "      <td>8.0</td>\n",
       "      <td>1001.2</td>\n",
       "      <td>8.0</td>\n",
       "      <td>9999.9</td>\n",
       "      <td>0.0</td>\n",
       "      <td>5.1</td>\n",
       "      <td>8.0</td>\n",
       "      <td>3.6</td>\n",
       "      <td>8.0</td>\n",
       "      <td>7.8</td>\n",
       "      <td>999.9</td>\n",
       "      <td>51.3</td>\n",
       "      <td>41.5*</td>\n",
       "      <td>0.04F</td>\n",
       "      <td>999.9</td>\n",
       "      <td>110000.0</td>\n",
       "    </tr>\n",
       "    <tr>\n",
       "      <th>462054</th>\n",
       "      <td>336140</td>\n",
       "      <td>20010319.0</td>\n",
       "      <td>38.4</td>\n",
       "      <td>8.0</td>\n",
       "      <td>1009.2</td>\n",
       "      <td>8.0</td>\n",
       "      <td>9999.9</td>\n",
       "      <td>0.0</td>\n",
       "      <td>9.1</td>\n",
       "      <td>8.0</td>\n",
       "      <td>7.5</td>\n",
       "      <td>8.0</td>\n",
       "      <td>13.6</td>\n",
       "      <td>999.9</td>\n",
       "      <td>42.1</td>\n",
       "      <td>34.7</td>\n",
       "      <td>0.04E</td>\n",
       "      <td>999.9</td>\n",
       "      <td>11000.0</td>\n",
       "    </tr>\n",
       "    <tr>\n",
       "      <th>462055</th>\n",
       "      <td>336140</td>\n",
       "      <td>20010320.0</td>\n",
       "      <td>41.4</td>\n",
       "      <td>8.0</td>\n",
       "      <td>1005.6</td>\n",
       "      <td>8.0</td>\n",
       "      <td>9999.9</td>\n",
       "      <td>0.0</td>\n",
       "      <td>5.7</td>\n",
       "      <td>8.0</td>\n",
       "      <td>5.8</td>\n",
       "      <td>8.0</td>\n",
       "      <td>7.8</td>\n",
       "      <td>999.9</td>\n",
       "      <td>46.0</td>\n",
       "      <td>37.6</td>\n",
       "      <td>0.28F</td>\n",
       "      <td>999.9</td>\n",
       "      <td>10000.0</td>\n",
       "    </tr>\n",
       "  </tbody>\n",
       "</table>\n",
       "<p>462056 rows × 19 columns</p>\n",
       "</div>"
      ],
      "text/plain": [
       "        number        date  temp tempcount meanslp slpcount meanstp stpcount  \\\n",
       "0       336310    19831105  44.8         8  1020.5        6  9999.9        0   \n",
       "1       336310    19831106  43.8         8  1024.6        8  9999.9        0   \n",
       "2       336310    19831107  37.9         8  1028.9        7  9999.9        0   \n",
       "3       336310    19831108  37.0         7  1029.2        7  9999.9        0   \n",
       "4       336310    19831109  39.1         7  1029.0        7  9999.9        0   \n",
       "...        ...         ...   ...       ...     ...      ...     ...      ...   \n",
       "462051  336140  20010316.0  38.6       8.0  1008.5      8.0  9999.9      0.0   \n",
       "462052  336140  20010317.0  44.1       8.0  1009.5      8.0  9999.9      0.0   \n",
       "462053  336140  20010318.0  45.2       8.0  1001.2      8.0  9999.9      0.0   \n",
       "462054  336140  20010319.0  38.4       8.0  1009.2      8.0  9999.9      0.0   \n",
       "462055  336140  20010320.0  41.4       8.0  1005.6      8.0  9999.9      0.0   \n",
       "\n",
       "       meanvisib visibcount meanwindsp windspcount maxwindsp maxwindgust  \\\n",
       "0            2.5          8        1.2           8       3.9       999.9   \n",
       "1            1.3          8        1.2           8       5.8       999.9   \n",
       "2            0.0          8        2.2           8       5.8       999.9   \n",
       "3            0.0          7        1.4           7       3.9       999.9   \n",
       "4            0.2          7        2.5           7       3.9       999.9   \n",
       "...          ...        ...        ...         ...       ...         ...   \n",
       "462051       7.6        8.0       10.0         8.0      17.5       999.9   \n",
       "462052       6.8        8.0        4.6         8.0       7.8       999.9   \n",
       "462053       5.1        8.0        3.6         8.0       7.8       999.9   \n",
       "462054       9.1        8.0        7.5         8.0      13.6       999.9   \n",
       "462055       5.7        8.0        5.8         8.0       7.8       999.9   \n",
       "\n",
       "       maxtemp mintemp precipitation  snowdepth  eventobs  \n",
       "0        53.1*    35.8         0.00G      999.9       0.0  \n",
       "1         54.3    35.2         0.00G      999.9  100000.0  \n",
       "2         46.8    30.4         0.00G      999.9  110000.0  \n",
       "3        39.9*    32.2         0.00G      999.9  110000.0  \n",
       "4         40.6    37.4         0.02G      999.9   10000.0  \n",
       "...        ...     ...           ...        ...       ...  \n",
       "462051    43.9    34.9         0.43E      999.9   10000.0  \n",
       "462052    51.8    36.5         0.02E      999.9   10000.0  \n",
       "462053    51.3   41.5*         0.04F      999.9  110000.0  \n",
       "462054    42.1    34.7         0.04E      999.9   11000.0  \n",
       "462055    46.0    37.6         0.28F      999.9   10000.0  \n",
       "\n",
       "[462056 rows x 19 columns]"
      ]
     },
     "execution_count": 58,
     "metadata": {},
     "output_type": "execute_result"
    }
   ],
   "source": [
    "df = raw.rename(columns=rename).drop(['WBAN', 'DEWP', 'DEWP_COUNT'], axis=1)\n",
    "df"
   ]
  },
  {
   "cell_type": "markdown",
   "metadata": {},
   "source": [
    "#### Fixing data types"
   ]
  },
  {
   "cell_type": "code",
   "execution_count": 59,
   "metadata": {},
   "outputs": [],
   "source": [
    "df['date'] = pd.to_datetime(df['date'].astype(int).astype(str))"
   ]
  },
  {
   "cell_type": "code",
   "execution_count": 60,
   "metadata": {},
   "outputs": [],
   "source": [
    "df[['number', 'tempcount', 'slpcount', 'stpcount', 'visibcount', 'windspcount', 'eventobs']] \\\n",
    "        = df[['number', 'tempcount', 'slpcount', 'stpcount', 'visibcount', 'windspcount', 'eventobs']].astype(int)"
   ]
  },
  {
   "cell_type": "code",
   "execution_count": 61,
   "metadata": {},
   "outputs": [],
   "source": [
    "def process(val):\n",
    "    return ''.join(x for x in val if x.isdigit() or x in ('-', '.'))"
   ]
  },
  {
   "cell_type": "code",
   "execution_count": 62,
   "metadata": {},
   "outputs": [],
   "source": [
    "df['maxtemp'] = df['maxtemp'].astype(str).apply(lambda x: process(x))\n",
    "df['mintemp'] = df['mintemp'].astype(str).apply(lambda x: process(x))\n",
    "df['precipitation'] = df['precipitation'].astype(str).apply(lambda x: process(x))"
   ]
  },
  {
   "cell_type": "code",
   "execution_count": 63,
   "metadata": {},
   "outputs": [],
   "source": [
    "df[['temp', 'meanslp', 'meanstp', 'maxtemp', 'mintemp']] \\\n",
    "    = df[['temp', 'meanslp', 'meanstp', 'maxtemp', 'mintemp']].astype(str).replace('9999.9', np.nan).astype(float)\n",
    "\n",
    "df[['meanvisib', 'meanwindsp', 'maxwindsp', 'maxwindgust', 'snowdepth']]\\\n",
    "    = df[['meanvisib', 'meanwindsp', 'maxwindsp', 'maxwindgust', 'snowdepth']].astype(str).replace('999.9', np.nan).astype(float)\n",
    "\n",
    "df['precipitation'] = df['precipitation'].replace('99.99', np.nan).astype(float)"
   ]
  },
  {
   "cell_type": "code",
   "execution_count": 64,
   "metadata": {
    "scrolled": true
   },
   "outputs": [
    {
     "data": {
      "text/html": [
       "<div>\n",
       "<style scoped>\n",
       "    .dataframe tbody tr th:only-of-type {\n",
       "        vertical-align: middle;\n",
       "    }\n",
       "\n",
       "    .dataframe tbody tr th {\n",
       "        vertical-align: top;\n",
       "    }\n",
       "\n",
       "    .dataframe thead th {\n",
       "        text-align: right;\n",
       "    }\n",
       "</style>\n",
       "<table border=\"1\" class=\"dataframe\">\n",
       "  <thead>\n",
       "    <tr style=\"text-align: right;\">\n",
       "      <th></th>\n",
       "      <th>number</th>\n",
       "      <th>date</th>\n",
       "      <th>temp</th>\n",
       "      <th>tempcount</th>\n",
       "      <th>meanslp</th>\n",
       "      <th>slpcount</th>\n",
       "      <th>meanstp</th>\n",
       "      <th>stpcount</th>\n",
       "      <th>meanvisib</th>\n",
       "      <th>visibcount</th>\n",
       "      <th>meanwindsp</th>\n",
       "      <th>windspcount</th>\n",
       "      <th>maxwindsp</th>\n",
       "      <th>maxwindgust</th>\n",
       "      <th>maxtemp</th>\n",
       "      <th>mintemp</th>\n",
       "      <th>precipitation</th>\n",
       "      <th>snowdepth</th>\n",
       "      <th>eventobs</th>\n",
       "    </tr>\n",
       "  </thead>\n",
       "  <tbody>\n",
       "    <tr>\n",
       "      <th>0</th>\n",
       "      <td>336310</td>\n",
       "      <td>1983-11-05</td>\n",
       "      <td>44.8</td>\n",
       "      <td>8</td>\n",
       "      <td>1020.5</td>\n",
       "      <td>6</td>\n",
       "      <td>NaN</td>\n",
       "      <td>0</td>\n",
       "      <td>2.5</td>\n",
       "      <td>8</td>\n",
       "      <td>1.2</td>\n",
       "      <td>8</td>\n",
       "      <td>3.9</td>\n",
       "      <td>NaN</td>\n",
       "      <td>53.1</td>\n",
       "      <td>35.8</td>\n",
       "      <td>0.00</td>\n",
       "      <td>NaN</td>\n",
       "      <td>0</td>\n",
       "    </tr>\n",
       "    <tr>\n",
       "      <th>1</th>\n",
       "      <td>336310</td>\n",
       "      <td>1983-11-06</td>\n",
       "      <td>43.8</td>\n",
       "      <td>8</td>\n",
       "      <td>1024.6</td>\n",
       "      <td>8</td>\n",
       "      <td>NaN</td>\n",
       "      <td>0</td>\n",
       "      <td>1.3</td>\n",
       "      <td>8</td>\n",
       "      <td>1.2</td>\n",
       "      <td>8</td>\n",
       "      <td>5.8</td>\n",
       "      <td>NaN</td>\n",
       "      <td>54.3</td>\n",
       "      <td>35.2</td>\n",
       "      <td>0.00</td>\n",
       "      <td>NaN</td>\n",
       "      <td>100000</td>\n",
       "    </tr>\n",
       "    <tr>\n",
       "      <th>2</th>\n",
       "      <td>336310</td>\n",
       "      <td>1983-11-07</td>\n",
       "      <td>37.9</td>\n",
       "      <td>8</td>\n",
       "      <td>1028.9</td>\n",
       "      <td>7</td>\n",
       "      <td>NaN</td>\n",
       "      <td>0</td>\n",
       "      <td>0.0</td>\n",
       "      <td>8</td>\n",
       "      <td>2.2</td>\n",
       "      <td>8</td>\n",
       "      <td>5.8</td>\n",
       "      <td>NaN</td>\n",
       "      <td>46.8</td>\n",
       "      <td>30.4</td>\n",
       "      <td>0.00</td>\n",
       "      <td>NaN</td>\n",
       "      <td>110000</td>\n",
       "    </tr>\n",
       "    <tr>\n",
       "      <th>3</th>\n",
       "      <td>336310</td>\n",
       "      <td>1983-11-08</td>\n",
       "      <td>37.0</td>\n",
       "      <td>7</td>\n",
       "      <td>1029.2</td>\n",
       "      <td>7</td>\n",
       "      <td>NaN</td>\n",
       "      <td>0</td>\n",
       "      <td>0.0</td>\n",
       "      <td>7</td>\n",
       "      <td>1.4</td>\n",
       "      <td>7</td>\n",
       "      <td>3.9</td>\n",
       "      <td>NaN</td>\n",
       "      <td>39.9</td>\n",
       "      <td>32.2</td>\n",
       "      <td>0.00</td>\n",
       "      <td>NaN</td>\n",
       "      <td>110000</td>\n",
       "    </tr>\n",
       "    <tr>\n",
       "      <th>4</th>\n",
       "      <td>336310</td>\n",
       "      <td>1983-11-09</td>\n",
       "      <td>39.1</td>\n",
       "      <td>7</td>\n",
       "      <td>1029.0</td>\n",
       "      <td>7</td>\n",
       "      <td>NaN</td>\n",
       "      <td>0</td>\n",
       "      <td>0.2</td>\n",
       "      <td>7</td>\n",
       "      <td>2.5</td>\n",
       "      <td>7</td>\n",
       "      <td>3.9</td>\n",
       "      <td>NaN</td>\n",
       "      <td>40.6</td>\n",
       "      <td>37.4</td>\n",
       "      <td>0.02</td>\n",
       "      <td>NaN</td>\n",
       "      <td>10000</td>\n",
       "    </tr>\n",
       "    <tr>\n",
       "      <th>...</th>\n",
       "      <td>...</td>\n",
       "      <td>...</td>\n",
       "      <td>...</td>\n",
       "      <td>...</td>\n",
       "      <td>...</td>\n",
       "      <td>...</td>\n",
       "      <td>...</td>\n",
       "      <td>...</td>\n",
       "      <td>...</td>\n",
       "      <td>...</td>\n",
       "      <td>...</td>\n",
       "      <td>...</td>\n",
       "      <td>...</td>\n",
       "      <td>...</td>\n",
       "      <td>...</td>\n",
       "      <td>...</td>\n",
       "      <td>...</td>\n",
       "      <td>...</td>\n",
       "      <td>...</td>\n",
       "    </tr>\n",
       "    <tr>\n",
       "      <th>462051</th>\n",
       "      <td>336140</td>\n",
       "      <td>2001-03-16</td>\n",
       "      <td>38.6</td>\n",
       "      <td>8</td>\n",
       "      <td>1008.5</td>\n",
       "      <td>8</td>\n",
       "      <td>NaN</td>\n",
       "      <td>0</td>\n",
       "      <td>7.6</td>\n",
       "      <td>8</td>\n",
       "      <td>10.0</td>\n",
       "      <td>8</td>\n",
       "      <td>17.5</td>\n",
       "      <td>NaN</td>\n",
       "      <td>43.9</td>\n",
       "      <td>34.9</td>\n",
       "      <td>0.43</td>\n",
       "      <td>NaN</td>\n",
       "      <td>10000</td>\n",
       "    </tr>\n",
       "    <tr>\n",
       "      <th>462052</th>\n",
       "      <td>336140</td>\n",
       "      <td>2001-03-17</td>\n",
       "      <td>44.1</td>\n",
       "      <td>8</td>\n",
       "      <td>1009.5</td>\n",
       "      <td>8</td>\n",
       "      <td>NaN</td>\n",
       "      <td>0</td>\n",
       "      <td>6.8</td>\n",
       "      <td>8</td>\n",
       "      <td>4.6</td>\n",
       "      <td>8</td>\n",
       "      <td>7.8</td>\n",
       "      <td>NaN</td>\n",
       "      <td>51.8</td>\n",
       "      <td>36.5</td>\n",
       "      <td>0.02</td>\n",
       "      <td>NaN</td>\n",
       "      <td>10000</td>\n",
       "    </tr>\n",
       "    <tr>\n",
       "      <th>462053</th>\n",
       "      <td>336140</td>\n",
       "      <td>2001-03-18</td>\n",
       "      <td>45.2</td>\n",
       "      <td>8</td>\n",
       "      <td>1001.2</td>\n",
       "      <td>8</td>\n",
       "      <td>NaN</td>\n",
       "      <td>0</td>\n",
       "      <td>5.1</td>\n",
       "      <td>8</td>\n",
       "      <td>3.6</td>\n",
       "      <td>8</td>\n",
       "      <td>7.8</td>\n",
       "      <td>NaN</td>\n",
       "      <td>51.3</td>\n",
       "      <td>41.5</td>\n",
       "      <td>0.04</td>\n",
       "      <td>NaN</td>\n",
       "      <td>110000</td>\n",
       "    </tr>\n",
       "    <tr>\n",
       "      <th>462054</th>\n",
       "      <td>336140</td>\n",
       "      <td>2001-03-19</td>\n",
       "      <td>38.4</td>\n",
       "      <td>8</td>\n",
       "      <td>1009.2</td>\n",
       "      <td>8</td>\n",
       "      <td>NaN</td>\n",
       "      <td>0</td>\n",
       "      <td>9.1</td>\n",
       "      <td>8</td>\n",
       "      <td>7.5</td>\n",
       "      <td>8</td>\n",
       "      <td>13.6</td>\n",
       "      <td>NaN</td>\n",
       "      <td>42.1</td>\n",
       "      <td>34.7</td>\n",
       "      <td>0.04</td>\n",
       "      <td>NaN</td>\n",
       "      <td>11000</td>\n",
       "    </tr>\n",
       "    <tr>\n",
       "      <th>462055</th>\n",
       "      <td>336140</td>\n",
       "      <td>2001-03-20</td>\n",
       "      <td>41.4</td>\n",
       "      <td>8</td>\n",
       "      <td>1005.6</td>\n",
       "      <td>8</td>\n",
       "      <td>NaN</td>\n",
       "      <td>0</td>\n",
       "      <td>5.7</td>\n",
       "      <td>8</td>\n",
       "      <td>5.8</td>\n",
       "      <td>8</td>\n",
       "      <td>7.8</td>\n",
       "      <td>NaN</td>\n",
       "      <td>46.0</td>\n",
       "      <td>37.6</td>\n",
       "      <td>0.28</td>\n",
       "      <td>NaN</td>\n",
       "      <td>10000</td>\n",
       "    </tr>\n",
       "  </tbody>\n",
       "</table>\n",
       "<p>462056 rows × 19 columns</p>\n",
       "</div>"
      ],
      "text/plain": [
       "        number       date  temp  tempcount  meanslp  slpcount  meanstp  \\\n",
       "0       336310 1983-11-05  44.8          8   1020.5         6      NaN   \n",
       "1       336310 1983-11-06  43.8          8   1024.6         8      NaN   \n",
       "2       336310 1983-11-07  37.9          8   1028.9         7      NaN   \n",
       "3       336310 1983-11-08  37.0          7   1029.2         7      NaN   \n",
       "4       336310 1983-11-09  39.1          7   1029.0         7      NaN   \n",
       "...        ...        ...   ...        ...      ...       ...      ...   \n",
       "462051  336140 2001-03-16  38.6          8   1008.5         8      NaN   \n",
       "462052  336140 2001-03-17  44.1          8   1009.5         8      NaN   \n",
       "462053  336140 2001-03-18  45.2          8   1001.2         8      NaN   \n",
       "462054  336140 2001-03-19  38.4          8   1009.2         8      NaN   \n",
       "462055  336140 2001-03-20  41.4          8   1005.6         8      NaN   \n",
       "\n",
       "        stpcount  meanvisib  visibcount  meanwindsp  windspcount  maxwindsp  \\\n",
       "0              0        2.5           8         1.2            8        3.9   \n",
       "1              0        1.3           8         1.2            8        5.8   \n",
       "2              0        0.0           8         2.2            8        5.8   \n",
       "3              0        0.0           7         1.4            7        3.9   \n",
       "4              0        0.2           7         2.5            7        3.9   \n",
       "...          ...        ...         ...         ...          ...        ...   \n",
       "462051         0        7.6           8        10.0            8       17.5   \n",
       "462052         0        6.8           8         4.6            8        7.8   \n",
       "462053         0        5.1           8         3.6            8        7.8   \n",
       "462054         0        9.1           8         7.5            8       13.6   \n",
       "462055         0        5.7           8         5.8            8        7.8   \n",
       "\n",
       "        maxwindgust  maxtemp  mintemp  precipitation  snowdepth  eventobs  \n",
       "0               NaN     53.1     35.8           0.00        NaN         0  \n",
       "1               NaN     54.3     35.2           0.00        NaN    100000  \n",
       "2               NaN     46.8     30.4           0.00        NaN    110000  \n",
       "3               NaN     39.9     32.2           0.00        NaN    110000  \n",
       "4               NaN     40.6     37.4           0.02        NaN     10000  \n",
       "...             ...      ...      ...            ...        ...       ...  \n",
       "462051          NaN     43.9     34.9           0.43        NaN     10000  \n",
       "462052          NaN     51.8     36.5           0.02        NaN     10000  \n",
       "462053          NaN     51.3     41.5           0.04        NaN    110000  \n",
       "462054          NaN     42.1     34.7           0.04        NaN     11000  \n",
       "462055          NaN     46.0     37.6           0.28        NaN     10000  \n",
       "\n",
       "[462056 rows x 19 columns]"
      ]
     },
     "execution_count": 64,
     "metadata": {},
     "output_type": "execute_result"
    }
   ],
   "source": [
    "df"
   ]
  },
  {
   "cell_type": "code",
   "execution_count": 65,
   "metadata": {},
   "outputs": [
    {
     "data": {
      "text/plain": [
       "number                    int32\n",
       "date             datetime64[ns]\n",
       "temp                    float64\n",
       "tempcount                 int32\n",
       "meanslp                 float64\n",
       "slpcount                  int32\n",
       "meanstp                 float64\n",
       "stpcount                  int32\n",
       "meanvisib               float64\n",
       "visibcount                int32\n",
       "meanwindsp              float64\n",
       "windspcount               int32\n",
       "maxwindsp               float64\n",
       "maxwindgust             float64\n",
       "maxtemp                 float64\n",
       "mintemp                 float64\n",
       "precipitation           float64\n",
       "snowdepth               float64\n",
       "eventobs                  int32\n",
       "dtype: object"
      ]
     },
     "execution_count": 65,
     "metadata": {},
     "output_type": "execute_result"
    }
   ],
   "source": [
    "df.dtypes"
   ]
  },
  {
   "cell_type": "markdown",
   "metadata": {},
   "source": [
    "#### Merging GSOD data with UA station frame to add stations info"
   ]
  },
  {
   "cell_type": "code",
   "execution_count": 66,
   "metadata": {},
   "outputs": [
    {
     "data": {
      "text/html": [
       "<div>\n",
       "<style scoped>\n",
       "    .dataframe tbody tr th:only-of-type {\n",
       "        vertical-align: middle;\n",
       "    }\n",
       "\n",
       "    .dataframe tbody tr th {\n",
       "        vertical-align: top;\n",
       "    }\n",
       "\n",
       "    .dataframe thead th {\n",
       "        text-align: right;\n",
       "    }\n",
       "</style>\n",
       "<table border=\"1\" class=\"dataframe\">\n",
       "  <thead>\n",
       "    <tr style=\"text-align: right;\">\n",
       "      <th></th>\n",
       "      <th>number</th>\n",
       "      <th>name</th>\n",
       "      <th>date</th>\n",
       "      <th>temp</th>\n",
       "      <th>tempcount</th>\n",
       "      <th>meanslp</th>\n",
       "      <th>slpcount</th>\n",
       "      <th>meanstp</th>\n",
       "      <th>stpcount</th>\n",
       "      <th>meanvisib</th>\n",
       "      <th>...</th>\n",
       "      <th>maxwindsp</th>\n",
       "      <th>maxwindgust</th>\n",
       "      <th>maxtemp</th>\n",
       "      <th>mintemp</th>\n",
       "      <th>precipitation</th>\n",
       "      <th>snowdepth</th>\n",
       "      <th>eventobs</th>\n",
       "      <th>lat</th>\n",
       "      <th>lon</th>\n",
       "      <th>elev</th>\n",
       "    </tr>\n",
       "  </thead>\n",
       "  <tbody>\n",
       "    <tr>\n",
       "      <th>0</th>\n",
       "      <td>336310</td>\n",
       "      <td>UZGOROD</td>\n",
       "      <td>1983-11-05</td>\n",
       "      <td>44.8</td>\n",
       "      <td>8</td>\n",
       "      <td>1020.5</td>\n",
       "      <td>6</td>\n",
       "      <td>NaN</td>\n",
       "      <td>0</td>\n",
       "      <td>2.5</td>\n",
       "      <td>...</td>\n",
       "      <td>3.9</td>\n",
       "      <td>NaN</td>\n",
       "      <td>53.1</td>\n",
       "      <td>35.8</td>\n",
       "      <td>0.00</td>\n",
       "      <td>NaN</td>\n",
       "      <td>0</td>\n",
       "      <td>48.38</td>\n",
       "      <td>22.16</td>\n",
       "      <td>118</td>\n",
       "    </tr>\n",
       "    <tr>\n",
       "      <th>1</th>\n",
       "      <td>336310</td>\n",
       "      <td>UZGOROD</td>\n",
       "      <td>1983-11-06</td>\n",
       "      <td>43.8</td>\n",
       "      <td>8</td>\n",
       "      <td>1024.6</td>\n",
       "      <td>8</td>\n",
       "      <td>NaN</td>\n",
       "      <td>0</td>\n",
       "      <td>1.3</td>\n",
       "      <td>...</td>\n",
       "      <td>5.8</td>\n",
       "      <td>NaN</td>\n",
       "      <td>54.3</td>\n",
       "      <td>35.2</td>\n",
       "      <td>0.00</td>\n",
       "      <td>NaN</td>\n",
       "      <td>100000</td>\n",
       "      <td>48.38</td>\n",
       "      <td>22.16</td>\n",
       "      <td>118</td>\n",
       "    </tr>\n",
       "    <tr>\n",
       "      <th>2</th>\n",
       "      <td>336310</td>\n",
       "      <td>UZGOROD</td>\n",
       "      <td>1983-11-07</td>\n",
       "      <td>37.9</td>\n",
       "      <td>8</td>\n",
       "      <td>1028.9</td>\n",
       "      <td>7</td>\n",
       "      <td>NaN</td>\n",
       "      <td>0</td>\n",
       "      <td>0.0</td>\n",
       "      <td>...</td>\n",
       "      <td>5.8</td>\n",
       "      <td>NaN</td>\n",
       "      <td>46.8</td>\n",
       "      <td>30.4</td>\n",
       "      <td>0.00</td>\n",
       "      <td>NaN</td>\n",
       "      <td>110000</td>\n",
       "      <td>48.38</td>\n",
       "      <td>22.16</td>\n",
       "      <td>118</td>\n",
       "    </tr>\n",
       "    <tr>\n",
       "      <th>3</th>\n",
       "      <td>336310</td>\n",
       "      <td>UZGOROD</td>\n",
       "      <td>1983-11-08</td>\n",
       "      <td>37.0</td>\n",
       "      <td>7</td>\n",
       "      <td>1029.2</td>\n",
       "      <td>7</td>\n",
       "      <td>NaN</td>\n",
       "      <td>0</td>\n",
       "      <td>0.0</td>\n",
       "      <td>...</td>\n",
       "      <td>3.9</td>\n",
       "      <td>NaN</td>\n",
       "      <td>39.9</td>\n",
       "      <td>32.2</td>\n",
       "      <td>0.00</td>\n",
       "      <td>NaN</td>\n",
       "      <td>110000</td>\n",
       "      <td>48.38</td>\n",
       "      <td>22.16</td>\n",
       "      <td>118</td>\n",
       "    </tr>\n",
       "    <tr>\n",
       "      <th>4</th>\n",
       "      <td>336310</td>\n",
       "      <td>UZGOROD</td>\n",
       "      <td>1983-11-09</td>\n",
       "      <td>39.1</td>\n",
       "      <td>7</td>\n",
       "      <td>1029.0</td>\n",
       "      <td>7</td>\n",
       "      <td>NaN</td>\n",
       "      <td>0</td>\n",
       "      <td>0.2</td>\n",
       "      <td>...</td>\n",
       "      <td>3.9</td>\n",
       "      <td>NaN</td>\n",
       "      <td>40.6</td>\n",
       "      <td>37.4</td>\n",
       "      <td>0.02</td>\n",
       "      <td>NaN</td>\n",
       "      <td>10000</td>\n",
       "      <td>48.38</td>\n",
       "      <td>22.16</td>\n",
       "      <td>118</td>\n",
       "    </tr>\n",
       "    <tr>\n",
       "      <th>...</th>\n",
       "      <td>...</td>\n",
       "      <td>...</td>\n",
       "      <td>...</td>\n",
       "      <td>...</td>\n",
       "      <td>...</td>\n",
       "      <td>...</td>\n",
       "      <td>...</td>\n",
       "      <td>...</td>\n",
       "      <td>...</td>\n",
       "      <td>...</td>\n",
       "      <td>...</td>\n",
       "      <td>...</td>\n",
       "      <td>...</td>\n",
       "      <td>...</td>\n",
       "      <td>...</td>\n",
       "      <td>...</td>\n",
       "      <td>...</td>\n",
       "      <td>...</td>\n",
       "      <td>...</td>\n",
       "      <td>...</td>\n",
       "      <td>...</td>\n",
       "    </tr>\n",
       "    <tr>\n",
       "      <th>462051</th>\n",
       "      <td>335170</td>\n",
       "      <td>PERECHIN</td>\n",
       "      <td>1959-11-13</td>\n",
       "      <td>29.8</td>\n",
       "      <td>4</td>\n",
       "      <td>NaN</td>\n",
       "      <td>0</td>\n",
       "      <td>NaN</td>\n",
       "      <td>0</td>\n",
       "      <td>9.3</td>\n",
       "      <td>...</td>\n",
       "      <td>NaN</td>\n",
       "      <td>NaN</td>\n",
       "      <td>57.0</td>\n",
       "      <td>27.0</td>\n",
       "      <td>0.00</td>\n",
       "      <td>NaN</td>\n",
       "      <td>0</td>\n",
       "      <td>48.44</td>\n",
       "      <td>22.28</td>\n",
       "      <td>198</td>\n",
       "    </tr>\n",
       "    <tr>\n",
       "      <th>462052</th>\n",
       "      <td>335170</td>\n",
       "      <td>PERECHIN</td>\n",
       "      <td>1959-12-10</td>\n",
       "      <td>35.7</td>\n",
       "      <td>4</td>\n",
       "      <td>NaN</td>\n",
       "      <td>0</td>\n",
       "      <td>NaN</td>\n",
       "      <td>0</td>\n",
       "      <td>9.3</td>\n",
       "      <td>...</td>\n",
       "      <td>NaN</td>\n",
       "      <td>NaN</td>\n",
       "      <td>41.0</td>\n",
       "      <td>34.0</td>\n",
       "      <td>0.00</td>\n",
       "      <td>NaN</td>\n",
       "      <td>0</td>\n",
       "      <td>48.44</td>\n",
       "      <td>22.28</td>\n",
       "      <td>198</td>\n",
       "    </tr>\n",
       "    <tr>\n",
       "      <th>462053</th>\n",
       "      <td>335170</td>\n",
       "      <td>PERECHIN</td>\n",
       "      <td>1961-07-16</td>\n",
       "      <td>62.5</td>\n",
       "      <td>4</td>\n",
       "      <td>NaN</td>\n",
       "      <td>0</td>\n",
       "      <td>NaN</td>\n",
       "      <td>0</td>\n",
       "      <td>10.9</td>\n",
       "      <td>...</td>\n",
       "      <td>8.0</td>\n",
       "      <td>NaN</td>\n",
       "      <td>77.0</td>\n",
       "      <td>46.0</td>\n",
       "      <td>0.04</td>\n",
       "      <td>NaN</td>\n",
       "      <td>0</td>\n",
       "      <td>48.44</td>\n",
       "      <td>22.28</td>\n",
       "      <td>198</td>\n",
       "    </tr>\n",
       "    <tr>\n",
       "      <th>462054</th>\n",
       "      <td>335170</td>\n",
       "      <td>PERECHIN</td>\n",
       "      <td>1961-09-30</td>\n",
       "      <td>47.0</td>\n",
       "      <td>4</td>\n",
       "      <td>NaN</td>\n",
       "      <td>0</td>\n",
       "      <td>NaN</td>\n",
       "      <td>0</td>\n",
       "      <td>12.4</td>\n",
       "      <td>...</td>\n",
       "      <td>4.1</td>\n",
       "      <td>NaN</td>\n",
       "      <td>64.0</td>\n",
       "      <td>36.0</td>\n",
       "      <td>0.00</td>\n",
       "      <td>NaN</td>\n",
       "      <td>0</td>\n",
       "      <td>48.44</td>\n",
       "      <td>22.28</td>\n",
       "      <td>198</td>\n",
       "    </tr>\n",
       "    <tr>\n",
       "      <th>462055</th>\n",
       "      <td>335170</td>\n",
       "      <td>PERECHIN</td>\n",
       "      <td>1961-12-31</td>\n",
       "      <td>36.7</td>\n",
       "      <td>4</td>\n",
       "      <td>NaN</td>\n",
       "      <td>0</td>\n",
       "      <td>NaN</td>\n",
       "      <td>0</td>\n",
       "      <td>10.9</td>\n",
       "      <td>...</td>\n",
       "      <td>8.0</td>\n",
       "      <td>NaN</td>\n",
       "      <td>41.0</td>\n",
       "      <td>30.0</td>\n",
       "      <td>0.00</td>\n",
       "      <td>NaN</td>\n",
       "      <td>10000</td>\n",
       "      <td>48.44</td>\n",
       "      <td>22.28</td>\n",
       "      <td>198</td>\n",
       "    </tr>\n",
       "  </tbody>\n",
       "</table>\n",
       "<p>462056 rows × 23 columns</p>\n",
       "</div>"
      ],
      "text/plain": [
       "        number      name       date  temp  tempcount  meanslp  slpcount  \\\n",
       "0       336310   UZGOROD 1983-11-05  44.8          8   1020.5         6   \n",
       "1       336310   UZGOROD 1983-11-06  43.8          8   1024.6         8   \n",
       "2       336310   UZGOROD 1983-11-07  37.9          8   1028.9         7   \n",
       "3       336310   UZGOROD 1983-11-08  37.0          7   1029.2         7   \n",
       "4       336310   UZGOROD 1983-11-09  39.1          7   1029.0         7   \n",
       "...        ...       ...        ...   ...        ...      ...       ...   \n",
       "462051  335170  PERECHIN 1959-11-13  29.8          4      NaN         0   \n",
       "462052  335170  PERECHIN 1959-12-10  35.7          4      NaN         0   \n",
       "462053  335170  PERECHIN 1961-07-16  62.5          4      NaN         0   \n",
       "462054  335170  PERECHIN 1961-09-30  47.0          4      NaN         0   \n",
       "462055  335170  PERECHIN 1961-12-31  36.7          4      NaN         0   \n",
       "\n",
       "        meanstp  stpcount  meanvisib  ...  maxwindsp  maxwindgust  maxtemp  \\\n",
       "0           NaN         0        2.5  ...        3.9          NaN     53.1   \n",
       "1           NaN         0        1.3  ...        5.8          NaN     54.3   \n",
       "2           NaN         0        0.0  ...        5.8          NaN     46.8   \n",
       "3           NaN         0        0.0  ...        3.9          NaN     39.9   \n",
       "4           NaN         0        0.2  ...        3.9          NaN     40.6   \n",
       "...         ...       ...        ...  ...        ...          ...      ...   \n",
       "462051      NaN         0        9.3  ...        NaN          NaN     57.0   \n",
       "462052      NaN         0        9.3  ...        NaN          NaN     41.0   \n",
       "462053      NaN         0       10.9  ...        8.0          NaN     77.0   \n",
       "462054      NaN         0       12.4  ...        4.1          NaN     64.0   \n",
       "462055      NaN         0       10.9  ...        8.0          NaN     41.0   \n",
       "\n",
       "        mintemp  precipitation  snowdepth  eventobs    lat    lon  elev  \n",
       "0          35.8           0.00        NaN         0  48.38  22.16   118  \n",
       "1          35.2           0.00        NaN    100000  48.38  22.16   118  \n",
       "2          30.4           0.00        NaN    110000  48.38  22.16   118  \n",
       "3          32.2           0.00        NaN    110000  48.38  22.16   118  \n",
       "4          37.4           0.02        NaN     10000  48.38  22.16   118  \n",
       "...         ...            ...        ...       ...    ...    ...   ...  \n",
       "462051     27.0           0.00        NaN         0  48.44  22.28   198  \n",
       "462052     34.0           0.00        NaN         0  48.44  22.28   198  \n",
       "462053     46.0           0.04        NaN         0  48.44  22.28   198  \n",
       "462054     36.0           0.00        NaN         0  48.44  22.28   198  \n",
       "462055     30.0           0.00        NaN     10000  48.44  22.28   198  \n",
       "\n",
       "[462056 rows x 23 columns]"
      ]
     },
     "execution_count": 66,
     "metadata": {},
     "output_type": "execute_result"
    }
   ],
   "source": [
    "mrg = df.merge(uastations_df, on='number', suffixes=('','_y'))\n",
    "cols = list(mrg.columns.values)\n",
    "cols.pop(cols.index('number'))\n",
    "cols.pop(cols.index('name'))\n",
    "df = mrg[['number', 'name'] + cols]\n",
    "df['name'] = df['name'].astype(str).replace('BORISPOL\\'/KEIV', 'BORISPOL\\'/KIEV')\n",
    "df"
   ]
  },
  {
   "cell_type": "markdown",
   "metadata": {},
   "source": [
    "#### Formating data"
   ]
  },
  {
   "cell_type": "code",
   "execution_count": 67,
   "metadata": {},
   "outputs": [],
   "source": [
    "def frh_to_celc(val):\n",
    "    return round((val-32)*5/9, 1)\n",
    "\n",
    "def mls_to_km(val):\n",
    "    return round(val*1.609, 1)\n",
    "\n",
    "def knots_to_mps(val):\n",
    "    return round(val/1.944, 1)\n",
    "\n",
    "def inchs_to_cm(val):\n",
    "    return round(val*2.54, 2)"
   ]
  },
  {
   "cell_type": "code",
   "execution_count": 68,
   "metadata": {},
   "outputs": [],
   "source": [
    "df[['temp', 'mintemp', 'maxtemp']] = df[['temp', 'mintemp', 'maxtemp']].apply(lambda x: frh_to_celc(x))\n",
    "df['meanvisib'] = df['meanvisib'].apply(lambda x: mls_to_km(x))\n",
    "df[['meanwindsp', 'maxwindsp', 'maxwindgust']] = df[['meanwindsp', 'maxwindsp', 'maxwindgust']].apply(lambda x: knots_to_mps(x))\n",
    "df[['precipitation', 'snowdepth']] = df[['precipitation', 'snowdepth']].apply(lambda x: inchs_to_cm(x))\n",
    "df['year'] = df['date'].dt.year\n",
    "df['month'] = df['date'].dt.month"
   ]
  },
  {
   "cell_type": "code",
   "execution_count": 69,
   "metadata": {
    "scrolled": true
   },
   "outputs": [
    {
     "data": {
      "text/html": [
       "<div>\n",
       "<style scoped>\n",
       "    .dataframe tbody tr th:only-of-type {\n",
       "        vertical-align: middle;\n",
       "    }\n",
       "\n",
       "    .dataframe tbody tr th {\n",
       "        vertical-align: top;\n",
       "    }\n",
       "\n",
       "    .dataframe thead th {\n",
       "        text-align: right;\n",
       "    }\n",
       "</style>\n",
       "<table border=\"1\" class=\"dataframe\">\n",
       "  <thead>\n",
       "    <tr style=\"text-align: right;\">\n",
       "      <th></th>\n",
       "      <th>number</th>\n",
       "      <th>name</th>\n",
       "      <th>date</th>\n",
       "      <th>temp</th>\n",
       "      <th>tempcount</th>\n",
       "      <th>meanslp</th>\n",
       "      <th>slpcount</th>\n",
       "      <th>meanstp</th>\n",
       "      <th>stpcount</th>\n",
       "      <th>meanvisib</th>\n",
       "      <th>...</th>\n",
       "      <th>maxtemp</th>\n",
       "      <th>mintemp</th>\n",
       "      <th>precipitation</th>\n",
       "      <th>snowdepth</th>\n",
       "      <th>eventobs</th>\n",
       "      <th>lat</th>\n",
       "      <th>lon</th>\n",
       "      <th>elev</th>\n",
       "      <th>year</th>\n",
       "      <th>month</th>\n",
       "    </tr>\n",
       "  </thead>\n",
       "  <tbody>\n",
       "    <tr>\n",
       "      <th>0</th>\n",
       "      <td>336310</td>\n",
       "      <td>UZGOROD</td>\n",
       "      <td>1983-11-05</td>\n",
       "      <td>7.1</td>\n",
       "      <td>8</td>\n",
       "      <td>1020.5</td>\n",
       "      <td>6</td>\n",
       "      <td>NaN</td>\n",
       "      <td>0</td>\n",
       "      <td>4.0</td>\n",
       "      <td>...</td>\n",
       "      <td>11.7</td>\n",
       "      <td>2.1</td>\n",
       "      <td>0.00</td>\n",
       "      <td>NaN</td>\n",
       "      <td>0</td>\n",
       "      <td>48.38</td>\n",
       "      <td>22.16</td>\n",
       "      <td>118</td>\n",
       "      <td>1983</td>\n",
       "      <td>11</td>\n",
       "    </tr>\n",
       "    <tr>\n",
       "      <th>1</th>\n",
       "      <td>336310</td>\n",
       "      <td>UZGOROD</td>\n",
       "      <td>1983-11-06</td>\n",
       "      <td>6.6</td>\n",
       "      <td>8</td>\n",
       "      <td>1024.6</td>\n",
       "      <td>8</td>\n",
       "      <td>NaN</td>\n",
       "      <td>0</td>\n",
       "      <td>2.1</td>\n",
       "      <td>...</td>\n",
       "      <td>12.4</td>\n",
       "      <td>1.8</td>\n",
       "      <td>0.00</td>\n",
       "      <td>NaN</td>\n",
       "      <td>100000</td>\n",
       "      <td>48.38</td>\n",
       "      <td>22.16</td>\n",
       "      <td>118</td>\n",
       "      <td>1983</td>\n",
       "      <td>11</td>\n",
       "    </tr>\n",
       "    <tr>\n",
       "      <th>2</th>\n",
       "      <td>336310</td>\n",
       "      <td>UZGOROD</td>\n",
       "      <td>1983-11-07</td>\n",
       "      <td>3.3</td>\n",
       "      <td>8</td>\n",
       "      <td>1028.9</td>\n",
       "      <td>7</td>\n",
       "      <td>NaN</td>\n",
       "      <td>0</td>\n",
       "      <td>0.0</td>\n",
       "      <td>...</td>\n",
       "      <td>8.2</td>\n",
       "      <td>-0.9</td>\n",
       "      <td>0.00</td>\n",
       "      <td>NaN</td>\n",
       "      <td>110000</td>\n",
       "      <td>48.38</td>\n",
       "      <td>22.16</td>\n",
       "      <td>118</td>\n",
       "      <td>1983</td>\n",
       "      <td>11</td>\n",
       "    </tr>\n",
       "    <tr>\n",
       "      <th>3</th>\n",
       "      <td>336310</td>\n",
       "      <td>UZGOROD</td>\n",
       "      <td>1983-11-08</td>\n",
       "      <td>2.8</td>\n",
       "      <td>7</td>\n",
       "      <td>1029.2</td>\n",
       "      <td>7</td>\n",
       "      <td>NaN</td>\n",
       "      <td>0</td>\n",
       "      <td>0.0</td>\n",
       "      <td>...</td>\n",
       "      <td>4.4</td>\n",
       "      <td>0.1</td>\n",
       "      <td>0.00</td>\n",
       "      <td>NaN</td>\n",
       "      <td>110000</td>\n",
       "      <td>48.38</td>\n",
       "      <td>22.16</td>\n",
       "      <td>118</td>\n",
       "      <td>1983</td>\n",
       "      <td>11</td>\n",
       "    </tr>\n",
       "    <tr>\n",
       "      <th>4</th>\n",
       "      <td>336310</td>\n",
       "      <td>UZGOROD</td>\n",
       "      <td>1983-11-09</td>\n",
       "      <td>3.9</td>\n",
       "      <td>7</td>\n",
       "      <td>1029.0</td>\n",
       "      <td>7</td>\n",
       "      <td>NaN</td>\n",
       "      <td>0</td>\n",
       "      <td>0.3</td>\n",
       "      <td>...</td>\n",
       "      <td>4.8</td>\n",
       "      <td>3.0</td>\n",
       "      <td>0.05</td>\n",
       "      <td>NaN</td>\n",
       "      <td>10000</td>\n",
       "      <td>48.38</td>\n",
       "      <td>22.16</td>\n",
       "      <td>118</td>\n",
       "      <td>1983</td>\n",
       "      <td>11</td>\n",
       "    </tr>\n",
       "    <tr>\n",
       "      <th>...</th>\n",
       "      <td>...</td>\n",
       "      <td>...</td>\n",
       "      <td>...</td>\n",
       "      <td>...</td>\n",
       "      <td>...</td>\n",
       "      <td>...</td>\n",
       "      <td>...</td>\n",
       "      <td>...</td>\n",
       "      <td>...</td>\n",
       "      <td>...</td>\n",
       "      <td>...</td>\n",
       "      <td>...</td>\n",
       "      <td>...</td>\n",
       "      <td>...</td>\n",
       "      <td>...</td>\n",
       "      <td>...</td>\n",
       "      <td>...</td>\n",
       "      <td>...</td>\n",
       "      <td>...</td>\n",
       "      <td>...</td>\n",
       "      <td>...</td>\n",
       "    </tr>\n",
       "    <tr>\n",
       "      <th>462051</th>\n",
       "      <td>335170</td>\n",
       "      <td>PERECHIN</td>\n",
       "      <td>1959-11-13</td>\n",
       "      <td>-1.2</td>\n",
       "      <td>4</td>\n",
       "      <td>NaN</td>\n",
       "      <td>0</td>\n",
       "      <td>NaN</td>\n",
       "      <td>0</td>\n",
       "      <td>15.0</td>\n",
       "      <td>...</td>\n",
       "      <td>13.9</td>\n",
       "      <td>-2.8</td>\n",
       "      <td>0.00</td>\n",
       "      <td>NaN</td>\n",
       "      <td>0</td>\n",
       "      <td>48.44</td>\n",
       "      <td>22.28</td>\n",
       "      <td>198</td>\n",
       "      <td>1959</td>\n",
       "      <td>11</td>\n",
       "    </tr>\n",
       "    <tr>\n",
       "      <th>462052</th>\n",
       "      <td>335170</td>\n",
       "      <td>PERECHIN</td>\n",
       "      <td>1959-12-10</td>\n",
       "      <td>2.1</td>\n",
       "      <td>4</td>\n",
       "      <td>NaN</td>\n",
       "      <td>0</td>\n",
       "      <td>NaN</td>\n",
       "      <td>0</td>\n",
       "      <td>15.0</td>\n",
       "      <td>...</td>\n",
       "      <td>5.0</td>\n",
       "      <td>1.1</td>\n",
       "      <td>0.00</td>\n",
       "      <td>NaN</td>\n",
       "      <td>0</td>\n",
       "      <td>48.44</td>\n",
       "      <td>22.28</td>\n",
       "      <td>198</td>\n",
       "      <td>1959</td>\n",
       "      <td>12</td>\n",
       "    </tr>\n",
       "    <tr>\n",
       "      <th>462053</th>\n",
       "      <td>335170</td>\n",
       "      <td>PERECHIN</td>\n",
       "      <td>1961-07-16</td>\n",
       "      <td>16.9</td>\n",
       "      <td>4</td>\n",
       "      <td>NaN</td>\n",
       "      <td>0</td>\n",
       "      <td>NaN</td>\n",
       "      <td>0</td>\n",
       "      <td>17.5</td>\n",
       "      <td>...</td>\n",
       "      <td>25.0</td>\n",
       "      <td>7.8</td>\n",
       "      <td>0.10</td>\n",
       "      <td>NaN</td>\n",
       "      <td>0</td>\n",
       "      <td>48.44</td>\n",
       "      <td>22.28</td>\n",
       "      <td>198</td>\n",
       "      <td>1961</td>\n",
       "      <td>7</td>\n",
       "    </tr>\n",
       "    <tr>\n",
       "      <th>462054</th>\n",
       "      <td>335170</td>\n",
       "      <td>PERECHIN</td>\n",
       "      <td>1961-09-30</td>\n",
       "      <td>8.3</td>\n",
       "      <td>4</td>\n",
       "      <td>NaN</td>\n",
       "      <td>0</td>\n",
       "      <td>NaN</td>\n",
       "      <td>0</td>\n",
       "      <td>20.0</td>\n",
       "      <td>...</td>\n",
       "      <td>17.8</td>\n",
       "      <td>2.2</td>\n",
       "      <td>0.00</td>\n",
       "      <td>NaN</td>\n",
       "      <td>0</td>\n",
       "      <td>48.44</td>\n",
       "      <td>22.28</td>\n",
       "      <td>198</td>\n",
       "      <td>1961</td>\n",
       "      <td>9</td>\n",
       "    </tr>\n",
       "    <tr>\n",
       "      <th>462055</th>\n",
       "      <td>335170</td>\n",
       "      <td>PERECHIN</td>\n",
       "      <td>1961-12-31</td>\n",
       "      <td>2.6</td>\n",
       "      <td>4</td>\n",
       "      <td>NaN</td>\n",
       "      <td>0</td>\n",
       "      <td>NaN</td>\n",
       "      <td>0</td>\n",
       "      <td>17.5</td>\n",
       "      <td>...</td>\n",
       "      <td>5.0</td>\n",
       "      <td>-1.1</td>\n",
       "      <td>0.00</td>\n",
       "      <td>NaN</td>\n",
       "      <td>10000</td>\n",
       "      <td>48.44</td>\n",
       "      <td>22.28</td>\n",
       "      <td>198</td>\n",
       "      <td>1961</td>\n",
       "      <td>12</td>\n",
       "    </tr>\n",
       "  </tbody>\n",
       "</table>\n",
       "<p>462056 rows × 25 columns</p>\n",
       "</div>"
      ],
      "text/plain": [
       "        number      name       date  temp  tempcount  meanslp  slpcount  \\\n",
       "0       336310   UZGOROD 1983-11-05   7.1          8   1020.5         6   \n",
       "1       336310   UZGOROD 1983-11-06   6.6          8   1024.6         8   \n",
       "2       336310   UZGOROD 1983-11-07   3.3          8   1028.9         7   \n",
       "3       336310   UZGOROD 1983-11-08   2.8          7   1029.2         7   \n",
       "4       336310   UZGOROD 1983-11-09   3.9          7   1029.0         7   \n",
       "...        ...       ...        ...   ...        ...      ...       ...   \n",
       "462051  335170  PERECHIN 1959-11-13  -1.2          4      NaN         0   \n",
       "462052  335170  PERECHIN 1959-12-10   2.1          4      NaN         0   \n",
       "462053  335170  PERECHIN 1961-07-16  16.9          4      NaN         0   \n",
       "462054  335170  PERECHIN 1961-09-30   8.3          4      NaN         0   \n",
       "462055  335170  PERECHIN 1961-12-31   2.6          4      NaN         0   \n",
       "\n",
       "        meanstp  stpcount  meanvisib  ...  maxtemp  mintemp  precipitation  \\\n",
       "0           NaN         0        4.0  ...     11.7      2.1           0.00   \n",
       "1           NaN         0        2.1  ...     12.4      1.8           0.00   \n",
       "2           NaN         0        0.0  ...      8.2     -0.9           0.00   \n",
       "3           NaN         0        0.0  ...      4.4      0.1           0.00   \n",
       "4           NaN         0        0.3  ...      4.8      3.0           0.05   \n",
       "...         ...       ...        ...  ...      ...      ...            ...   \n",
       "462051      NaN         0       15.0  ...     13.9     -2.8           0.00   \n",
       "462052      NaN         0       15.0  ...      5.0      1.1           0.00   \n",
       "462053      NaN         0       17.5  ...     25.0      7.8           0.10   \n",
       "462054      NaN         0       20.0  ...     17.8      2.2           0.00   \n",
       "462055      NaN         0       17.5  ...      5.0     -1.1           0.00   \n",
       "\n",
       "        snowdepth  eventobs    lat    lon  elev  year  month  \n",
       "0             NaN         0  48.38  22.16   118  1983     11  \n",
       "1             NaN    100000  48.38  22.16   118  1983     11  \n",
       "2             NaN    110000  48.38  22.16   118  1983     11  \n",
       "3             NaN    110000  48.38  22.16   118  1983     11  \n",
       "4             NaN     10000  48.38  22.16   118  1983     11  \n",
       "...           ...       ...    ...    ...   ...   ...    ...  \n",
       "462051        NaN         0  48.44  22.28   198  1959     11  \n",
       "462052        NaN         0  48.44  22.28   198  1959     12  \n",
       "462053        NaN         0  48.44  22.28   198  1961      7  \n",
       "462054        NaN         0  48.44  22.28   198  1961      9  \n",
       "462055        NaN     10000  48.44  22.28   198  1961     12  \n",
       "\n",
       "[462056 rows x 25 columns]"
      ]
     },
     "execution_count": 69,
     "metadata": {},
     "output_type": "execute_result"
    }
   ],
   "source": [
    "df"
   ]
  },
  {
   "cell_type": "code",
   "execution_count": 70,
   "metadata": {
    "scrolled": true
   },
   "outputs": [
    {
     "data": {
      "text/plain": [
       "year\n",
       "1984    27399\n",
       "2015    23914\n",
       "1994    20858\n",
       "1970    19460\n",
       "1969    19215\n",
       "1989    18382\n",
       "1988    18255\n",
       "1977    18195\n",
       "1997    15900\n",
       "1987    15784\n",
       "1978    14979\n",
       "2016    14322\n",
       "2012    12775\n",
       "2002    12748\n",
       "1982    12285\n",
       "2000    12123\n",
       "1976    11449\n",
       "2011    10950\n",
       "2009    10949\n",
       "1998    10648\n",
       "dtype: int64"
      ]
     },
     "execution_count": 70,
     "metadata": {},
     "output_type": "execute_result"
    }
   ],
   "source": [
    "df.value_counts('year').head(20)"
   ]
  },
  {
   "cell_type": "code",
   "execution_count": 71,
   "metadata": {},
   "outputs": [
    {
     "data": {
      "text/html": [
       "<div>\n",
       "<style scoped>\n",
       "    .dataframe tbody tr th:only-of-type {\n",
       "        vertical-align: middle;\n",
       "    }\n",
       "\n",
       "    .dataframe tbody tr th {\n",
       "        vertical-align: top;\n",
       "    }\n",
       "\n",
       "    .dataframe thead th {\n",
       "        text-align: right;\n",
       "    }\n",
       "</style>\n",
       "<table border=\"1\" class=\"dataframe\">\n",
       "  <thead>\n",
       "    <tr style=\"text-align: right;\">\n",
       "      <th></th>\n",
       "      <th>name</th>\n",
       "      <th>month</th>\n",
       "      <th>number</th>\n",
       "      <th>temp</th>\n",
       "      <th>tempcount</th>\n",
       "      <th>meanslp</th>\n",
       "      <th>slpcount</th>\n",
       "      <th>meanstp</th>\n",
       "      <th>stpcount</th>\n",
       "      <th>meanvisib</th>\n",
       "      <th>...</th>\n",
       "      <th>maxwindgust</th>\n",
       "      <th>maxtemp</th>\n",
       "      <th>mintemp</th>\n",
       "      <th>precipitation</th>\n",
       "      <th>snowdepth</th>\n",
       "      <th>eventobs</th>\n",
       "      <th>lat</th>\n",
       "      <th>lon</th>\n",
       "      <th>elev</th>\n",
       "      <th>year</th>\n",
       "    </tr>\n",
       "  </thead>\n",
       "  <tbody>\n",
       "    <tr>\n",
       "      <th>0</th>\n",
       "      <td>ASKANIJA-NOVA</td>\n",
       "      <td>1</td>\n",
       "      <td>339150.0</td>\n",
       "      <td>-0.235484</td>\n",
       "      <td>7.064516</td>\n",
       "      <td>1018.390323</td>\n",
       "      <td>7.064516</td>\n",
       "      <td>1014.603226</td>\n",
       "      <td>7.064516</td>\n",
       "      <td>10.087097</td>\n",
       "      <td>...</td>\n",
       "      <td>NaN</td>\n",
       "      <td>2.070968</td>\n",
       "      <td>-2.535484</td>\n",
       "      <td>0.067778</td>\n",
       "      <td>2.034545</td>\n",
       "      <td>38516.129032</td>\n",
       "      <td>46.27</td>\n",
       "      <td>33.53</td>\n",
       "      <td>28.0</td>\n",
       "      <td>2015</td>\n",
       "    </tr>\n",
       "    <tr>\n",
       "      <th>1</th>\n",
       "      <td>ASKANIJA-NOVA</td>\n",
       "      <td>2</td>\n",
       "      <td>339150.0</td>\n",
       "      <td>0.671429</td>\n",
       "      <td>7.535714</td>\n",
       "      <td>1018.278571</td>\n",
       "      <td>7.535714</td>\n",
       "      <td>1014.496429</td>\n",
       "      <td>7.535714</td>\n",
       "      <td>16.228571</td>\n",
       "      <td>...</td>\n",
       "      <td>NaN</td>\n",
       "      <td>5.000000</td>\n",
       "      <td>-2.928571</td>\n",
       "      <td>0.126786</td>\n",
       "      <td>1.526667</td>\n",
       "      <td>12642.857143</td>\n",
       "      <td>46.27</td>\n",
       "      <td>33.53</td>\n",
       "      <td>28.0</td>\n",
       "      <td>2015</td>\n",
       "    </tr>\n",
       "    <tr>\n",
       "      <th>2</th>\n",
       "      <td>ASKANIJA-NOVA</td>\n",
       "      <td>3</td>\n",
       "      <td>339150.0</td>\n",
       "      <td>4.977419</td>\n",
       "      <td>7.483871</td>\n",
       "      <td>1021.406452</td>\n",
       "      <td>7.483871</td>\n",
       "      <td>1017.674194</td>\n",
       "      <td>7.483871</td>\n",
       "      <td>16.051613</td>\n",
       "      <td>...</td>\n",
       "      <td>NaN</td>\n",
       "      <td>9.819355</td>\n",
       "      <td>0.354839</td>\n",
       "      <td>0.166452</td>\n",
       "      <td>NaN</td>\n",
       "      <td>9677.419355</td>\n",
       "      <td>46.27</td>\n",
       "      <td>33.53</td>\n",
       "      <td>28.0</td>\n",
       "      <td>2015</td>\n",
       "    </tr>\n",
       "    <tr>\n",
       "      <th>3</th>\n",
       "      <td>ASKANIJA-NOVA</td>\n",
       "      <td>4</td>\n",
       "      <td>339150.0</td>\n",
       "      <td>7.788889</td>\n",
       "      <td>7.333333</td>\n",
       "      <td>1009.477778</td>\n",
       "      <td>7.333333</td>\n",
       "      <td>1005.833333</td>\n",
       "      <td>7.333333</td>\n",
       "      <td>16.555556</td>\n",
       "      <td>...</td>\n",
       "      <td>NaN</td>\n",
       "      <td>12.944444</td>\n",
       "      <td>3.477778</td>\n",
       "      <td>0.295556</td>\n",
       "      <td>NaN</td>\n",
       "      <td>17778.888889</td>\n",
       "      <td>46.27</td>\n",
       "      <td>33.53</td>\n",
       "      <td>28.0</td>\n",
       "      <td>2015</td>\n",
       "    </tr>\n",
       "    <tr>\n",
       "      <th>4</th>\n",
       "      <td>ASKANIJA-NOVA</td>\n",
       "      <td>5</td>\n",
       "      <td>339150.0</td>\n",
       "      <td>16.719355</td>\n",
       "      <td>7.645161</td>\n",
       "      <td>1013.541935</td>\n",
       "      <td>7.645161</td>\n",
       "      <td>1009.990323</td>\n",
       "      <td>7.645161</td>\n",
       "      <td>18.480645</td>\n",
       "      <td>...</td>\n",
       "      <td>NaN</td>\n",
       "      <td>23.100000</td>\n",
       "      <td>10.280645</td>\n",
       "      <td>0.140968</td>\n",
       "      <td>NaN</td>\n",
       "      <td>5807.096774</td>\n",
       "      <td>46.27</td>\n",
       "      <td>33.53</td>\n",
       "      <td>28.0</td>\n",
       "      <td>2015</td>\n",
       "    </tr>\n",
       "    <tr>\n",
       "      <th>...</th>\n",
       "      <td>...</td>\n",
       "      <td>...</td>\n",
       "      <td>...</td>\n",
       "      <td>...</td>\n",
       "      <td>...</td>\n",
       "      <td>...</td>\n",
       "      <td>...</td>\n",
       "      <td>...</td>\n",
       "      <td>...</td>\n",
       "      <td>...</td>\n",
       "      <td>...</td>\n",
       "      <td>...</td>\n",
       "      <td>...</td>\n",
       "      <td>...</td>\n",
       "      <td>...</td>\n",
       "      <td>...</td>\n",
       "      <td>...</td>\n",
       "      <td>...</td>\n",
       "      <td>...</td>\n",
       "      <td>...</td>\n",
       "      <td>...</td>\n",
       "    </tr>\n",
       "    <tr>\n",
       "      <th>832</th>\n",
       "      <td>ZNAMENKA</td>\n",
       "      <td>8</td>\n",
       "      <td>336090.0</td>\n",
       "      <td>20.858065</td>\n",
       "      <td>7.935484</td>\n",
       "      <td>1018.345161</td>\n",
       "      <td>7.935484</td>\n",
       "      <td>997.296774</td>\n",
       "      <td>7.935484</td>\n",
       "      <td>11.893548</td>\n",
       "      <td>...</td>\n",
       "      <td>NaN</td>\n",
       "      <td>27.535484</td>\n",
       "      <td>14.070968</td>\n",
       "      <td>0.112903</td>\n",
       "      <td>NaN</td>\n",
       "      <td>645.483871</td>\n",
       "      <td>48.43</td>\n",
       "      <td>32.40</td>\n",
       "      <td>181.0</td>\n",
       "      <td>2015</td>\n",
       "    </tr>\n",
       "    <tr>\n",
       "      <th>833</th>\n",
       "      <td>ZNAMENKA</td>\n",
       "      <td>9</td>\n",
       "      <td>336090.0</td>\n",
       "      <td>18.442857</td>\n",
       "      <td>7.714286</td>\n",
       "      <td>1017.192857</td>\n",
       "      <td>7.714286</td>\n",
       "      <td>995.989286</td>\n",
       "      <td>7.714286</td>\n",
       "      <td>12.089286</td>\n",
       "      <td>...</td>\n",
       "      <td>NaN</td>\n",
       "      <td>25.960714</td>\n",
       "      <td>12.135714</td>\n",
       "      <td>0.085357</td>\n",
       "      <td>NaN</td>\n",
       "      <td>357.857143</td>\n",
       "      <td>48.43</td>\n",
       "      <td>32.40</td>\n",
       "      <td>181.0</td>\n",
       "      <td>2015</td>\n",
       "    </tr>\n",
       "    <tr>\n",
       "      <th>834</th>\n",
       "      <td>ZNAMENKA</td>\n",
       "      <td>10</td>\n",
       "      <td>336090.0</td>\n",
       "      <td>6.567742</td>\n",
       "      <td>7.838710</td>\n",
       "      <td>1023.680645</td>\n",
       "      <td>7.838710</td>\n",
       "      <td>1001.403226</td>\n",
       "      <td>7.838710</td>\n",
       "      <td>11.119355</td>\n",
       "      <td>...</td>\n",
       "      <td>NaN</td>\n",
       "      <td>12.887097</td>\n",
       "      <td>1.400000</td>\n",
       "      <td>0.041935</td>\n",
       "      <td>NaN</td>\n",
       "      <td>1290.322581</td>\n",
       "      <td>48.43</td>\n",
       "      <td>32.40</td>\n",
       "      <td>181.0</td>\n",
       "      <td>2015</td>\n",
       "    </tr>\n",
       "    <tr>\n",
       "      <th>835</th>\n",
       "      <td>ZNAMENKA</td>\n",
       "      <td>11</td>\n",
       "      <td>336090.0</td>\n",
       "      <td>4.523333</td>\n",
       "      <td>7.400000</td>\n",
       "      <td>1016.513333</td>\n",
       "      <td>7.400000</td>\n",
       "      <td>994.243333</td>\n",
       "      <td>7.400000</td>\n",
       "      <td>7.026667</td>\n",
       "      <td>...</td>\n",
       "      <td>NaN</td>\n",
       "      <td>7.473333</td>\n",
       "      <td>1.993333</td>\n",
       "      <td>0.177333</td>\n",
       "      <td>NaN</td>\n",
       "      <td>24733.333333</td>\n",
       "      <td>48.43</td>\n",
       "      <td>32.40</td>\n",
       "      <td>181.0</td>\n",
       "      <td>2015</td>\n",
       "    </tr>\n",
       "    <tr>\n",
       "      <th>836</th>\n",
       "      <td>ZNAMENKA</td>\n",
       "      <td>12</td>\n",
       "      <td>336090.0</td>\n",
       "      <td>1.029032</td>\n",
       "      <td>7.548387</td>\n",
       "      <td>1026.038710</td>\n",
       "      <td>7.548387</td>\n",
       "      <td>1003.251613</td>\n",
       "      <td>7.548387</td>\n",
       "      <td>9.145161</td>\n",
       "      <td>...</td>\n",
       "      <td>NaN</td>\n",
       "      <td>3.774194</td>\n",
       "      <td>-1.483871</td>\n",
       "      <td>0.055000</td>\n",
       "      <td>1.020000</td>\n",
       "      <td>5261.290323</td>\n",
       "      <td>48.43</td>\n",
       "      <td>32.40</td>\n",
       "      <td>181.0</td>\n",
       "      <td>2015</td>\n",
       "    </tr>\n",
       "  </tbody>\n",
       "</table>\n",
       "<p>837 rows × 24 columns</p>\n",
       "</div>"
      ],
      "text/plain": [
       "              name  month    number       temp  tempcount      meanslp  \\\n",
       "0    ASKANIJA-NOVA      1  339150.0  -0.235484   7.064516  1018.390323   \n",
       "1    ASKANIJA-NOVA      2  339150.0   0.671429   7.535714  1018.278571   \n",
       "2    ASKANIJA-NOVA      3  339150.0   4.977419   7.483871  1021.406452   \n",
       "3    ASKANIJA-NOVA      4  339150.0   7.788889   7.333333  1009.477778   \n",
       "4    ASKANIJA-NOVA      5  339150.0  16.719355   7.645161  1013.541935   \n",
       "..             ...    ...       ...        ...        ...          ...   \n",
       "832       ZNAMENKA      8  336090.0  20.858065   7.935484  1018.345161   \n",
       "833       ZNAMENKA      9  336090.0  18.442857   7.714286  1017.192857   \n",
       "834       ZNAMENKA     10  336090.0   6.567742   7.838710  1023.680645   \n",
       "835       ZNAMENKA     11  336090.0   4.523333   7.400000  1016.513333   \n",
       "836       ZNAMENKA     12  336090.0   1.029032   7.548387  1026.038710   \n",
       "\n",
       "     slpcount      meanstp  stpcount  meanvisib  ...  maxwindgust    maxtemp  \\\n",
       "0    7.064516  1014.603226  7.064516  10.087097  ...          NaN   2.070968   \n",
       "1    7.535714  1014.496429  7.535714  16.228571  ...          NaN   5.000000   \n",
       "2    7.483871  1017.674194  7.483871  16.051613  ...          NaN   9.819355   \n",
       "3    7.333333  1005.833333  7.333333  16.555556  ...          NaN  12.944444   \n",
       "4    7.645161  1009.990323  7.645161  18.480645  ...          NaN  23.100000   \n",
       "..        ...          ...       ...        ...  ...          ...        ...   \n",
       "832  7.935484   997.296774  7.935484  11.893548  ...          NaN  27.535484   \n",
       "833  7.714286   995.989286  7.714286  12.089286  ...          NaN  25.960714   \n",
       "834  7.838710  1001.403226  7.838710  11.119355  ...          NaN  12.887097   \n",
       "835  7.400000   994.243333  7.400000   7.026667  ...          NaN   7.473333   \n",
       "836  7.548387  1003.251613  7.548387   9.145161  ...          NaN   3.774194   \n",
       "\n",
       "       mintemp  precipitation  snowdepth      eventobs    lat    lon   elev  \\\n",
       "0    -2.535484       0.067778   2.034545  38516.129032  46.27  33.53   28.0   \n",
       "1    -2.928571       0.126786   1.526667  12642.857143  46.27  33.53   28.0   \n",
       "2     0.354839       0.166452        NaN   9677.419355  46.27  33.53   28.0   \n",
       "3     3.477778       0.295556        NaN  17778.888889  46.27  33.53   28.0   \n",
       "4    10.280645       0.140968        NaN   5807.096774  46.27  33.53   28.0   \n",
       "..         ...            ...        ...           ...    ...    ...    ...   \n",
       "832  14.070968       0.112903        NaN    645.483871  48.43  32.40  181.0   \n",
       "833  12.135714       0.085357        NaN    357.857143  48.43  32.40  181.0   \n",
       "834   1.400000       0.041935        NaN   1290.322581  48.43  32.40  181.0   \n",
       "835   1.993333       0.177333        NaN  24733.333333  48.43  32.40  181.0   \n",
       "836  -1.483871       0.055000   1.020000   5261.290323  48.43  32.40  181.0   \n",
       "\n",
       "     year  \n",
       "0    2015  \n",
       "1    2015  \n",
       "2    2015  \n",
       "3    2015  \n",
       "4    2015  \n",
       "..    ...  \n",
       "832  2015  \n",
       "833  2015  \n",
       "834  2015  \n",
       "835  2015  \n",
       "836  2015  \n",
       "\n",
       "[837 rows x 24 columns]"
      ]
     },
     "execution_count": 71,
     "metadata": {},
     "output_type": "execute_result"
    }
   ],
   "source": [
    "geoscat_df = df[df['year']==2015].groupby(['name', 'month'], as_index=False).mean()\n",
    "geoscat_df"
   ]
  },
  {
   "cell_type": "markdown",
   "metadata": {},
   "source": [
    "#### Plotting average monthly temperature by month for the latest year with largest ammount of data"
   ]
  },
  {
   "cell_type": "code",
   "execution_count": 72,
   "metadata": {},
   "outputs": [
    {
     "data": {
      "application/vnd.plotly.v1+json": {
       "config": {
        "plotlyServerURL": "https://plot.ly"
       },
       "data": [
        {
         "geo": "geo",
         "hovertemplate": "<b>%{hovertext}</b><br><br>month=1<br>lat=%{lat}<br>lon=%{lon}<br>temp=%{marker.color}<extra></extra>",
         "hovertext": [
          "ASKANIJA-NOVA",
          "BELAJA_CERKOV'",
          "BELOPOL'E",
          "BEREZANY",
          "BOBRYNETS'",
          "BORISPOL'/KIEV",
          "BRODY",
          "CERNIGOV",
          "CERNOBYL'",
          "CERNOMORSKOE",
          "CERTKOV",
          "CHERNIVTSI",
          "CHYHYRYN",
          "DROGOBYC",
          "FEODOSIJA",
          "GADJAC",
          "GAJSIN",
          "GENICESK",
          "HERSON",
          "HMEL'NICKIJ",
          "HUTOR_MIHAJLOVSKIJ",
          "IMENI_STARCENKO",
          "IZMAIL",
          "JAGOTIN",
          "JALTA",
          "KAHOVKA",
          "KAMENETS_PODOL'SKIJ",
          "KERC'",
          "KIEV/ZHULYANY",
          "KIROVOGRAD",
          "KLEPYNINE",
          "KOBELIAKY",
          "KOLOMYJA",
          "KOMISSAROVKA",
          "KONOTOP",
          "KOVEL'",
          "KRYVYI_RIH",
          "L'VIV",
          "LJUBASEVKA",
          "LUBNY",
          "LUCK",
          "MOGILEV-PODOL'SKIJ",
          "NEZIN",
          "NOVAYA_ULICA",
          "NOVGOROD_VOLYNSKIJ",
          "ODESSA/TSENTRALNY",
          "OVRUC",
          "OZERNA",
          "POLTAVA",
          "PRILUKI",
          "RAVA_RUSSKAJA",
          "ROMNY",
          "ROVNO",
          "SARNY",
          "SELETIN",
          "SEMENOVKA",
          "SEPETOVKA",
          "SIMFEROPOL'",
          "SUMY",
          "SVITLOVODS'K",
          "TERNOPOL'",
          "TETEREV",
          "UMAN'",
          "UZGOROD",
          "VELIKAIA_ALEKSANDRO",
          "VESELYJ_PODOL",
          "VINNICA",
          "VLADIMIR-VOLYNSKIJ",
          "VOZNESENSK",
          "ZHASHKOV",
          "ZITOMIR",
          "ZNAMENKA"
         ],
         "ids": [
          -0.23548387096774218,
          -0.7838709677419352,
          -0.9677419354838706,
          -0.12258064516129043,
          -1.2838709677419353,
          -1.1096774193548387,
          0.5709677419354839,
          -1.4290322580645156,
          -0.8838709677419353,
          3.506451612903225,
          -0.6677419354838708,
          -0.029032258064516082,
          -1.193548387096775,
          0.9806451612903225,
          3.632258064516128,
          -2.2161290322580642,
          -0.8838709677419356,
          -0.7032258064516129,
          -0.27096774193548323,
          -1.112903225806451,
          -2.990322580645161,
          -0.8516129032258066,
          0.06774193548387067,
          -1.4967741935483867,
          5.812903225806452,
          -0.3870967741935481,
          -0.4129032258064514,
          2.232258064516129,
          -0.7612903225806452,
          -1.419354838709678,
          1.2129032258064518,
          -1.8161290322580643,
          -0.45483870967741946,
          -1.7709677419354841,
          -2.3967741935483873,
          0.8645161290322579,
          -1.6741935483870978,
          -0.10322580645161308,
          -0.980645161290323,
          -1.9774193548387093,
          0.29354838709677394,
          0.5161290322580644,
          -1.7483870967741937,
          -0.912903225806452,
          -0.34516129032258097,
          -0.3516129032258066,
          -0.590322580645161,
          -1.458064516129032,
          -2.1774193548387104,
          -2.0612903225806454,
          0.5806451612903225,
          -2.5387096774193547,
          -0.3032258064516126,
          0.3096774193548388,
          -2.7903225806451615,
          -2.2032258064516133,
          -0.674193548387097,
          1.974193548387097,
          -2.8516129032258073,
          -1.0419354838709678,
          -0.8903225806451611,
          -0.5000000000000002,
          -1.3387096774193543,
          0.9903225806451614,
          -0.7741935483870972,
          -1.5774193548387099,
          -1.174193548387097,
          0.8096774193548387,
          0.0322580645161288,
          -1.290322580645161,
          -0.39677419354838717,
          -1.7741935483870963
         ],
         "lat": [
          46.26999999999999,
          49.47000000000002,
          49.5,
          49.26,
          48.02999999999998,
          50.200000000000024,
          50.05999999999997,
          51.28999999999998,
          51.170000000000016,
          45.30999999999997,
          49.01,
          48.22000000000002,
          49.03999999999998,
          49.21000000000002,
          45.01999999999999,
          50.22000000000002,
          48.48000000000001,
          46.09999999999999,
          46.40000000000001,
          49.24,
          52.02999999999998,
          49.40000000000002,
          45.22000000000002,
          50.13000000000004,
          44.299999999999976,
          46.48000000000001,
          48.40000000000002,
          45.24,
          50.24,
          48.28999999999998,
          45.39000000000002,
          49.08999999999998,
          48.31999999999999,
          48.26,
          51.14000000000003,
          51.13000000000004,
          47.53999999999998,
          49.49,
          47.51,
          50.01,
          50.450000000000024,
          48.26999999999999,
          51.02999999999998,
          48.51,
          50.35999999999997,
          46.26,
          51.19000000000003,
          49.049999999999976,
          49.35999999999997,
          50.34999999999998,
          50.15000000000002,
          50.46000000000002,
          50.34999999999998,
          51.21000000000002,
          47.51999999999999,
          52.109999999999964,
          50.09999999999998,
          44.41000000000002,
          50.52999999999998,
          49.02999999999998,
          49.33999999999998,
          50.420000000000016,
          48.46000000000002,
          48.38000000000004,
          47.19000000000003,
          49.36999999999996,
          49.14000000000003,
          50.5,
          47.33999999999999,
          49.15000000000002,
          50.160000000000025,
          48.43000000000001
         ],
         "legendgroup": "",
         "lon": [
          33.52999999999998,
          30.11000000000001,
          28.52999999999998,
          24.570000000000014,
          32.12,
          30.580000000000016,
          25.090000000000003,
          31.169999999999987,
          30.13999999999999,
          32.41999999999999,
          25.470000000000017,
          25.539999999999992,
          32.399999999999984,
          23.33000000000001,
          35.23000000000001,
          33.59000000000002,
          29.240000000000006,
          34.49,
          32.37,
          26.590000000000003,
          33.57000000000002,
          31,
          28.51999999999999,
          31.48000000000001,
          34.10000000000001,
          33.309999999999974,
          26.350000000000016,
          36.25,
          30.26999999999999,
          32.149999999999984,
          34.12,
          34.12,
          25.01999999999999,
          33.539999999999985,
          33.12,
          24.409999999999997,
          33.20000000000002,
          23.570000000000014,
          30.15999999999999,
          33,
          25.20000000000001,
          27.470000000000017,
          31.539999999999985,
          27.159999999999993,
          27.37,
          30.460000000000015,
          28.47000000000002,
          30.52999999999998,
          34.330000000000005,
          32.23000000000001,
          23.38,
          33.26999999999999,
          26.080000000000013,
          26.37,
          25.13,
          32.350000000000016,
          27.029999999999983,
          34.08000000000001,
          34.47000000000002,
          33.14999999999999,
          25.36000000000001,
          29.350000000000016,
          30.13999999999999,
          22.16,
          33.16999999999999,
          33.16,
          28.279999999999983,
          24.19000000000002,
          31.200000000000017,
          30.05999999999998,
          28.38,
          32.399999999999984
         ],
         "marker": {
          "color": [
           -0.23548387096774218,
           -0.7838709677419352,
           -0.9677419354838706,
           -0.12258064516129043,
           -1.2838709677419353,
           -1.1096774193548387,
           0.5709677419354839,
           -1.4290322580645156,
           -0.8838709677419353,
           3.506451612903225,
           -0.6677419354838708,
           -0.029032258064516082,
           -1.193548387096775,
           0.9806451612903225,
           3.632258064516128,
           -2.2161290322580642,
           -0.8838709677419356,
           -0.7032258064516129,
           -0.27096774193548323,
           -1.112903225806451,
           -2.990322580645161,
           -0.8516129032258066,
           0.06774193548387067,
           -1.4967741935483867,
           5.812903225806452,
           -0.3870967741935481,
           -0.4129032258064514,
           2.232258064516129,
           -0.7612903225806452,
           -1.419354838709678,
           1.2129032258064518,
           -1.8161290322580643,
           -0.45483870967741946,
           -1.7709677419354841,
           -2.3967741935483873,
           0.8645161290322579,
           -1.6741935483870978,
           -0.10322580645161308,
           -0.980645161290323,
           -1.9774193548387093,
           0.29354838709677394,
           0.5161290322580644,
           -1.7483870967741937,
           -0.912903225806452,
           -0.34516129032258097,
           -0.3516129032258066,
           -0.590322580645161,
           -1.458064516129032,
           -2.1774193548387104,
           -2.0612903225806454,
           0.5806451612903225,
           -2.5387096774193547,
           -0.3032258064516126,
           0.3096774193548388,
           -2.7903225806451615,
           -2.2032258064516133,
           -0.674193548387097,
           1.974193548387097,
           -2.8516129032258073,
           -1.0419354838709678,
           -0.8903225806451611,
           -0.5000000000000002,
           -1.3387096774193543,
           0.9903225806451614,
           -0.7741935483870972,
           -1.5774193548387099,
           -1.174193548387097,
           0.8096774193548387,
           0.0322580645161288,
           -1.290322580645161,
           -0.39677419354838717,
           -1.7741935483870963
          ],
          "coloraxis": "coloraxis",
          "symbol": "circle"
         },
         "mode": "markers",
         "name": "",
         "showlegend": false,
         "type": "scattergeo"
        }
       ],
       "frames": [
        {
         "data": [
          {
           "geo": "geo",
           "hovertemplate": "<b>%{hovertext}</b><br><br>month=1<br>lat=%{lat}<br>lon=%{lon}<br>temp=%{marker.color}<extra></extra>",
           "hovertext": [
            "ASKANIJA-NOVA",
            "BELAJA_CERKOV'",
            "BELOPOL'E",
            "BEREZANY",
            "BOBRYNETS'",
            "BORISPOL'/KIEV",
            "BRODY",
            "CERNIGOV",
            "CERNOBYL'",
            "CERNOMORSKOE",
            "CERTKOV",
            "CHERNIVTSI",
            "CHYHYRYN",
            "DROGOBYC",
            "FEODOSIJA",
            "GADJAC",
            "GAJSIN",
            "GENICESK",
            "HERSON",
            "HMEL'NICKIJ",
            "HUTOR_MIHAJLOVSKIJ",
            "IMENI_STARCENKO",
            "IZMAIL",
            "JAGOTIN",
            "JALTA",
            "KAHOVKA",
            "KAMENETS_PODOL'SKIJ",
            "KERC'",
            "KIEV/ZHULYANY",
            "KIROVOGRAD",
            "KLEPYNINE",
            "KOBELIAKY",
            "KOLOMYJA",
            "KOMISSAROVKA",
            "KONOTOP",
            "KOVEL'",
            "KRYVYI_RIH",
            "L'VIV",
            "LJUBASEVKA",
            "LUBNY",
            "LUCK",
            "MOGILEV-PODOL'SKIJ",
            "NEZIN",
            "NOVAYA_ULICA",
            "NOVGOROD_VOLYNSKIJ",
            "ODESSA/TSENTRALNY",
            "OVRUC",
            "OZERNA",
            "POLTAVA",
            "PRILUKI",
            "RAVA_RUSSKAJA",
            "ROMNY",
            "ROVNO",
            "SARNY",
            "SELETIN",
            "SEMENOVKA",
            "SEPETOVKA",
            "SIMFEROPOL'",
            "SUMY",
            "SVITLOVODS'K",
            "TERNOPOL'",
            "TETEREV",
            "UMAN'",
            "UZGOROD",
            "VELIKAIA_ALEKSANDRO",
            "VESELYJ_PODOL",
            "VINNICA",
            "VLADIMIR-VOLYNSKIJ",
            "VOZNESENSK",
            "ZHASHKOV",
            "ZITOMIR",
            "ZNAMENKA"
           ],
           "ids": [
            -0.23548387096774218,
            -0.7838709677419352,
            -0.9677419354838706,
            -0.12258064516129043,
            -1.2838709677419353,
            -1.1096774193548387,
            0.5709677419354839,
            -1.4290322580645156,
            -0.8838709677419353,
            3.506451612903225,
            -0.6677419354838708,
            -0.029032258064516082,
            -1.193548387096775,
            0.9806451612903225,
            3.632258064516128,
            -2.2161290322580642,
            -0.8838709677419356,
            -0.7032258064516129,
            -0.27096774193548323,
            -1.112903225806451,
            -2.990322580645161,
            -0.8516129032258066,
            0.06774193548387067,
            -1.4967741935483867,
            5.812903225806452,
            -0.3870967741935481,
            -0.4129032258064514,
            2.232258064516129,
            -0.7612903225806452,
            -1.419354838709678,
            1.2129032258064518,
            -1.8161290322580643,
            -0.45483870967741946,
            -1.7709677419354841,
            -2.3967741935483873,
            0.8645161290322579,
            -1.6741935483870978,
            -0.10322580645161308,
            -0.980645161290323,
            -1.9774193548387093,
            0.29354838709677394,
            0.5161290322580644,
            -1.7483870967741937,
            -0.912903225806452,
            -0.34516129032258097,
            -0.3516129032258066,
            -0.590322580645161,
            -1.458064516129032,
            -2.1774193548387104,
            -2.0612903225806454,
            0.5806451612903225,
            -2.5387096774193547,
            -0.3032258064516126,
            0.3096774193548388,
            -2.7903225806451615,
            -2.2032258064516133,
            -0.674193548387097,
            1.974193548387097,
            -2.8516129032258073,
            -1.0419354838709678,
            -0.8903225806451611,
            -0.5000000000000002,
            -1.3387096774193543,
            0.9903225806451614,
            -0.7741935483870972,
            -1.5774193548387099,
            -1.174193548387097,
            0.8096774193548387,
            0.0322580645161288,
            -1.290322580645161,
            -0.39677419354838717,
            -1.7741935483870963
           ],
           "lat": [
            46.26999999999999,
            49.47000000000002,
            49.5,
            49.26,
            48.02999999999998,
            50.200000000000024,
            50.05999999999997,
            51.28999999999998,
            51.170000000000016,
            45.30999999999997,
            49.01,
            48.22000000000002,
            49.03999999999998,
            49.21000000000002,
            45.01999999999999,
            50.22000000000002,
            48.48000000000001,
            46.09999999999999,
            46.40000000000001,
            49.24,
            52.02999999999998,
            49.40000000000002,
            45.22000000000002,
            50.13000000000004,
            44.299999999999976,
            46.48000000000001,
            48.40000000000002,
            45.24,
            50.24,
            48.28999999999998,
            45.39000000000002,
            49.08999999999998,
            48.31999999999999,
            48.26,
            51.14000000000003,
            51.13000000000004,
            47.53999999999998,
            49.49,
            47.51,
            50.01,
            50.450000000000024,
            48.26999999999999,
            51.02999999999998,
            48.51,
            50.35999999999997,
            46.26,
            51.19000000000003,
            49.049999999999976,
            49.35999999999997,
            50.34999999999998,
            50.15000000000002,
            50.46000000000002,
            50.34999999999998,
            51.21000000000002,
            47.51999999999999,
            52.109999999999964,
            50.09999999999998,
            44.41000000000002,
            50.52999999999998,
            49.02999999999998,
            49.33999999999998,
            50.420000000000016,
            48.46000000000002,
            48.38000000000004,
            47.19000000000003,
            49.36999999999996,
            49.14000000000003,
            50.5,
            47.33999999999999,
            49.15000000000002,
            50.160000000000025,
            48.43000000000001
           ],
           "legendgroup": "",
           "lon": [
            33.52999999999998,
            30.11000000000001,
            28.52999999999998,
            24.570000000000014,
            32.12,
            30.580000000000016,
            25.090000000000003,
            31.169999999999987,
            30.13999999999999,
            32.41999999999999,
            25.470000000000017,
            25.539999999999992,
            32.399999999999984,
            23.33000000000001,
            35.23000000000001,
            33.59000000000002,
            29.240000000000006,
            34.49,
            32.37,
            26.590000000000003,
            33.57000000000002,
            31,
            28.51999999999999,
            31.48000000000001,
            34.10000000000001,
            33.309999999999974,
            26.350000000000016,
            36.25,
            30.26999999999999,
            32.149999999999984,
            34.12,
            34.12,
            25.01999999999999,
            33.539999999999985,
            33.12,
            24.409999999999997,
            33.20000000000002,
            23.570000000000014,
            30.15999999999999,
            33,
            25.20000000000001,
            27.470000000000017,
            31.539999999999985,
            27.159999999999993,
            27.37,
            30.460000000000015,
            28.47000000000002,
            30.52999999999998,
            34.330000000000005,
            32.23000000000001,
            23.38,
            33.26999999999999,
            26.080000000000013,
            26.37,
            25.13,
            32.350000000000016,
            27.029999999999983,
            34.08000000000001,
            34.47000000000002,
            33.14999999999999,
            25.36000000000001,
            29.350000000000016,
            30.13999999999999,
            22.16,
            33.16999999999999,
            33.16,
            28.279999999999983,
            24.19000000000002,
            31.200000000000017,
            30.05999999999998,
            28.38,
            32.399999999999984
           ],
           "marker": {
            "color": [
             -0.23548387096774218,
             -0.7838709677419352,
             -0.9677419354838706,
             -0.12258064516129043,
             -1.2838709677419353,
             -1.1096774193548387,
             0.5709677419354839,
             -1.4290322580645156,
             -0.8838709677419353,
             3.506451612903225,
             -0.6677419354838708,
             -0.029032258064516082,
             -1.193548387096775,
             0.9806451612903225,
             3.632258064516128,
             -2.2161290322580642,
             -0.8838709677419356,
             -0.7032258064516129,
             -0.27096774193548323,
             -1.112903225806451,
             -2.990322580645161,
             -0.8516129032258066,
             0.06774193548387067,
             -1.4967741935483867,
             5.812903225806452,
             -0.3870967741935481,
             -0.4129032258064514,
             2.232258064516129,
             -0.7612903225806452,
             -1.419354838709678,
             1.2129032258064518,
             -1.8161290322580643,
             -0.45483870967741946,
             -1.7709677419354841,
             -2.3967741935483873,
             0.8645161290322579,
             -1.6741935483870978,
             -0.10322580645161308,
             -0.980645161290323,
             -1.9774193548387093,
             0.29354838709677394,
             0.5161290322580644,
             -1.7483870967741937,
             -0.912903225806452,
             -0.34516129032258097,
             -0.3516129032258066,
             -0.590322580645161,
             -1.458064516129032,
             -2.1774193548387104,
             -2.0612903225806454,
             0.5806451612903225,
             -2.5387096774193547,
             -0.3032258064516126,
             0.3096774193548388,
             -2.7903225806451615,
             -2.2032258064516133,
             -0.674193548387097,
             1.974193548387097,
             -2.8516129032258073,
             -1.0419354838709678,
             -0.8903225806451611,
             -0.5000000000000002,
             -1.3387096774193543,
             0.9903225806451614,
             -0.7741935483870972,
             -1.5774193548387099,
             -1.174193548387097,
             0.8096774193548387,
             0.0322580645161288,
             -1.290322580645161,
             -0.39677419354838717,
             -1.7741935483870963
            ],
            "coloraxis": "coloraxis",
            "symbol": "circle"
           },
           "mode": "markers",
           "name": "",
           "showlegend": false,
           "type": "scattergeo"
          }
         ],
         "name": "1"
        },
        {
         "data": [
          {
           "geo": "geo",
           "hovertemplate": "<b>%{hovertext}</b><br><br>month=2<br>lat=%{lat}<br>lon=%{lon}<br>temp=%{marker.color}<extra></extra>",
           "hovertext": [
            "ASKANIJA-NOVA",
            "BELAJA_CERKOV'",
            "BELOPOL'E",
            "BEREZANY",
            "BOBRYNETS'",
            "BORISPOL'/KIEV",
            "BRODY",
            "CERNIGOV",
            "CERNOBYL'",
            "CERNOMORSKOE",
            "CERTKOV",
            "CHERNIVTSI",
            "CHYHYRYN",
            "DROGOBYC",
            "FEODOSIJA",
            "GADJAC",
            "GAJSIN",
            "GENICESK",
            "HERSON",
            "HMEL'NICKIJ",
            "HUTOR_MIHAJLOVSKIJ",
            "IMENI_STARCENKO",
            "IZMAIL",
            "JAGOTIN",
            "JALTA",
            "KAHOVKA",
            "KAMENETS_PODOL'SKIJ",
            "KERC'",
            "KIEV/ZHULYANY",
            "KIROVOGRAD",
            "KLEPYNINE",
            "KOBELIAKY",
            "KOLOMYJA",
            "KOMISSAROVKA",
            "KONOTOP",
            "KOVEL'",
            "KRYVYI_RIH",
            "L'VIV",
            "LJUBASEVKA",
            "LUBNY",
            "LUCK",
            "MOGILEV-PODOL'SKIJ",
            "NEZIN",
            "NOVAYA_ULICA",
            "NOVGOROD_VOLYNSKIJ",
            "ODESSA/TSENTRALNY",
            "OVRUC",
            "OZERNA",
            "POLTAVA",
            "PRILUKI",
            "RAVA_RUSSKAJA",
            "ROMNY",
            "ROVNO",
            "SARNY",
            "SELETIN",
            "SEMENOVKA",
            "SEPETOVKA",
            "SIMFEROPOL'",
            "SUMY",
            "SVITLOVODS'K",
            "TERNOPOL'",
            "TETEREV",
            "UMAN'",
            "UZGOROD",
            "VELIKAIA_ALEKSANDRO",
            "VESELYJ_PODOL",
            "VINNICA",
            "VLADIMIR-VOLYNSKIJ",
            "VOZNESENSK",
            "ZHASHKOV",
            "ZITOMIR",
            "ZNAMENKA"
           ],
           "ids": [
            0.6714285714285715,
            -1.6678571428571425,
            -1.4857142857142864,
            -0.10357142857142858,
            -0.9714285714285718,
            -2.1464285714285714,
            0.4607142857142858,
            -1.4714285714285718,
            -1.0785714285714285,
            2.389285714285715,
            -0.25357142857142845,
            0.38571428571428573,
            -1.6785714285714275,
            0.9749999999999999,
            3.6464285714285714,
            -2.7357142857142867,
            -0.4999999999999999,
            0.5035714285714284,
            0.6964285714285714,
            -1.0392857142857146,
            -2.503571428571429,
            -1.3964285714285716,
            1.614285714285714,
            -1.8642857142857139,
            5.210714285714286,
            0.7964285714285716,
            -0.5535714285714286,
            2.682142857142857,
            -1.1892857142857152,
            -1.635714285714286,
            1.503571428571428,
            -1.5285714285714282,
            -0.4500000000000003,
            -1.075,
            -2.096428571428571,
            0.6892857142857144,
            -0.8964285714285714,
            0.2642857142857141,
            -0.5357142857142858,
            -2.185714285714286,
            0.5571428571428572,
            0.192857142857143,
            -1.5928571428571432,
            -1.0785714285714287,
            -0.40357142857142886,
            1.1035714285714284,
            -0.8785714285714283,
            -1.392857142857143,
            -2.5714285714285716,
            -2.2107142857142854,
            0.8285714285714286,
            -2.621428571428571,
            -0.2678571428571427,
            -0.06071428571428578,
            -3.478571428571429,
            -1.6678571428571427,
            -0.8607142857142855,
            1.9000000000000004,
            -3.6857142857142855,
            -1.625,
            -0.5214285714285712,
            -1.192857142857143,
            -1.1035714285714284,
            1.9250000000000003,
            0.4321428571428572,
            -2.646428571428572,
            -1.385714285714286,
            0.8714285714285716,
            0.6785714285714286,
            -1.2642857142857142,
            -0.6464285714285717,
            -2.0500000000000003
           ],
           "lat": [
            46.26999999999999,
            49.47000000000002,
            49.5,
            49.26,
            48.02999999999998,
            50.200000000000024,
            50.05999999999997,
            51.28999999999998,
            51.17000000000001,
            45.30999999999997,
            49.01,
            48.22000000000002,
            49.03999999999998,
            49.21000000000002,
            45.01999999999999,
            50.22000000000002,
            48.48000000000001,
            46.1,
            46.4,
            49.24,
            52.02999999999998,
            49.40000000000001,
            45.22000000000002,
            50.13000000000003,
            44.299999999999976,
            46.48000000000001,
            48.40000000000001,
            45.24,
            50.24,
            48.28999999999998,
            45.39000000000001,
            49.08999999999999,
            48.32,
            48.26,
            51.14000000000002,
            51.13000000000003,
            47.53999999999998,
            49.49,
            47.51,
            50.01,
            50.450000000000024,
            48.26999999999999,
            51.02999999999998,
            48.51,
            50.35999999999998,
            46.26,
            51.19000000000003,
            49.049999999999976,
            49.35999999999998,
            50.34999999999999,
            50.15000000000001,
            50.46000000000002,
            50.34999999999999,
            51.21000000000002,
            47.51999999999999,
            52.10999999999997,
            50.09999999999999,
            44.41000000000001,
            50.52999999999998,
            49.02999999999998,
            49.33999999999999,
            50.42000000000001,
            48.46000000000002,
            48.38000000000003,
            47.19000000000003,
            49.36999999999997,
            49.14000000000002,
            50.5,
            47.339999999999996,
            49.15000000000001,
            50.16000000000002,
            48.43
           ],
           "legendgroup": "",
           "lon": [
            33.52999999999998,
            30.11000000000001,
            28.52999999999998,
            24.57000000000001,
            32.12,
            30.580000000000013,
            25.09,
            31.16999999999999,
            30.13999999999999,
            32.41999999999999,
            25.470000000000017,
            25.539999999999996,
            32.399999999999984,
            23.330000000000005,
            35.23000000000001,
            33.590000000000025,
            29.240000000000006,
            34.49,
            32.37,
            26.59,
            33.57000000000002,
            31,
            28.51999999999999,
            31.48000000000001,
            34.100000000000016,
            33.30999999999998,
            26.350000000000016,
            36.25,
            30.26999999999999,
            32.149999999999984,
            34.12,
            34.12,
            25.01999999999999,
            33.539999999999985,
            33.12,
            24.41,
            33.20000000000002,
            23.57000000000001,
            30.159999999999993,
            33,
            25.200000000000006,
            27.470000000000017,
            31.53999999999999,
            27.159999999999997,
            27.37,
            30.46000000000001,
            28.47000000000002,
            30.52999999999998,
            34.33000000000001,
            32.23000000000001,
            23.38,
            33.26999999999999,
            26.08000000000001,
            26.37,
            25.13,
            32.350000000000016,
            27.029999999999983,
            34.08000000000001,
            34.47000000000002,
            33.149999999999984,
            25.36000000000001,
            29.350000000000016,
            30.13999999999999,
            22.160000000000004,
            33.16999999999999,
            33.15999999999999,
            28.279999999999983,
            24.190000000000015,
            31.200000000000014,
            30.059999999999985,
            28.38,
            32.399999999999984
           ],
           "marker": {
            "color": [
             0.6714285714285715,
             -1.6678571428571425,
             -1.4857142857142864,
             -0.10357142857142858,
             -0.9714285714285718,
             -2.1464285714285714,
             0.4607142857142858,
             -1.4714285714285718,
             -1.0785714285714285,
             2.389285714285715,
             -0.25357142857142845,
             0.38571428571428573,
             -1.6785714285714275,
             0.9749999999999999,
             3.6464285714285714,
             -2.7357142857142867,
             -0.4999999999999999,
             0.5035714285714284,
             0.6964285714285714,
             -1.0392857142857146,
             -2.503571428571429,
             -1.3964285714285716,
             1.614285714285714,
             -1.8642857142857139,
             5.210714285714286,
             0.7964285714285716,
             -0.5535714285714286,
             2.682142857142857,
             -1.1892857142857152,
             -1.635714285714286,
             1.503571428571428,
             -1.5285714285714282,
             -0.4500000000000003,
             -1.075,
             -2.096428571428571,
             0.6892857142857144,
             -0.8964285714285714,
             0.2642857142857141,
             -0.5357142857142858,
             -2.185714285714286,
             0.5571428571428572,
             0.192857142857143,
             -1.5928571428571432,
             -1.0785714285714287,
             -0.40357142857142886,
             1.1035714285714284,
             -0.8785714285714283,
             -1.392857142857143,
             -2.5714285714285716,
             -2.2107142857142854,
             0.8285714285714286,
             -2.621428571428571,
             -0.2678571428571427,
             -0.06071428571428578,
             -3.478571428571429,
             -1.6678571428571427,
             -0.8607142857142855,
             1.9000000000000004,
             -3.6857142857142855,
             -1.625,
             -0.5214285714285712,
             -1.192857142857143,
             -1.1035714285714284,
             1.9250000000000003,
             0.4321428571428572,
             -2.646428571428572,
             -1.385714285714286,
             0.8714285714285716,
             0.6785714285714286,
             -1.2642857142857142,
             -0.6464285714285717,
             -2.0500000000000003
            ],
            "coloraxis": "coloraxis",
            "symbol": "circle"
           },
           "mode": "markers",
           "name": "",
           "showlegend": false,
           "type": "scattergeo"
          }
         ],
         "name": "2"
        },
        {
         "data": [
          {
           "geo": "geo",
           "hovertemplate": "<b>%{hovertext}</b><br><br>month=3<br>lat=%{lat}<br>lon=%{lon}<br>temp=%{marker.color}<extra></extra>",
           "hovertext": [
            "ASKANIJA-NOVA",
            "BELAJA_CERKOV'",
            "BELOPOL'E",
            "BEREZANY",
            "BOBRYNETS'",
            "BORISPOL'/KIEV",
            "BRODY",
            "CERNIGOV",
            "CERNOBYL'",
            "CERNOMORSKOE",
            "CERTKOV",
            "CHERNIVTSI",
            "CHYHYRYN",
            "DROGOBYC",
            "FEODOSIJA",
            "GADJAC",
            "GAJSIN",
            "GENICESK",
            "HERSON",
            "HMEL'NICKIJ",
            "HUTOR_MIHAJLOVSKIJ",
            "IMENI_STARCENKO",
            "IZMAIL",
            "JAGOTIN",
            "JALTA",
            "KAHOVKA",
            "KAMENETS_PODOL'SKIJ",
            "KERC'",
            "KIEV/ZHULYANY",
            "KIROVOGRAD",
            "KLEPYNINE",
            "KOBELIAKY",
            "KOLOMYJA",
            "KOMISSAROVKA",
            "KONOTOP",
            "KOVEL'",
            "KRYVYI_RIH",
            "L'VIV",
            "LJUBASEVKA",
            "LUBNY",
            "LUCK",
            "MOGILEV-PODOL'SKIJ",
            "NEZIN",
            "NOVAYA_ULICA",
            "NOVGOROD_VOLYNSKIJ",
            "ODESSA/TSENTRALNY",
            "OVRUC",
            "OZERNA",
            "POLTAVA",
            "PRILUKI",
            "RAVA_RUSSKAJA",
            "ROMNY",
            "ROVNO",
            "SARNY",
            "SELETIN",
            "SEMENOVKA",
            "SEPETOVKA",
            "SIMFEROPOL'",
            "SUMY",
            "SVITLOVODS'K",
            "TERNOPOL'",
            "TETEREV",
            "UMAN'",
            "UZGOROD",
            "VELIKAIA_ALEKSANDRO",
            "VESELYJ_PODOL",
            "VINNICA",
            "VLADIMIR-VOLYNSKIJ",
            "VOZNESENSK",
            "ZHASHKOV",
            "ZITOMIR",
            "ZNAMENKA"
           ],
           "ids": [
            4.97741935483871,
            4.516129032258063,
            4.148387096774194,
            4.354838709677419,
            4.577419354838709,
            3.9612903225806457,
            4.606451612903226,
            4.261290322580645,
            4.461290322580646,
            5.232258064516128,
            4.187096774193548,
            5.164516129032258,
            4.496774193548387,
            4.47741935483871,
            6.641935483870967,
            3.6903225806451614,
            4.39032258064516,
            4.951612903225805,
            5.1806451612903235,
            3.8645161290322574,
            2.561290322580645,
            4.6903225806451605,
            5.516129032258063,
            4.290322580645161,
            7.366666666666669,
            5.319354838709677,
            4.648387096774194,
            5.706451612903227,
            4.670967741935482,
            4.387096774193549,
            5.106451612903225,
            4.412903225806452,
            3.648387096774194,
            4.309677419354839,
            3.645161290322581,
            4.780645161290323,
            4.651612903225806,
            4.274193548387098,
            4.56451612903226,
            4.280645161290321,
            4.880645161290323,
            5.209677419354839,
            4.048387096774194,
            4.193548387096773,
            4.84516129032258,
            5.312903225806453,
            4.574193548387097,
            4.267741935483872,
            3.9000000000000004,
            3.9612903225806453,
            4.587096774193549,
            3.541935483870968,
            4.725806451612903,
            4.932258064516129,
            0.8870967741935484,
            3.761290322580645,
            4.403225806451612,
            5.306451612903226,
            2.7580645161290325,
            4.467741935483872,
            4.058064516129032,
            4.629032258064515,
            4.080645161290324,
            6.690322580645161,
            5.13548387096774,
            4.4225806451612915,
            4.016129032258065,
            4.725806451612903,
            5.638709677419356,
            4.241935483870968,
            4.861290322580645,
            4.174193548387096
           ],
           "lat": [
            46.26999999999999,
            49.47000000000002,
            49.5,
            49.26,
            48.02999999999998,
            50.200000000000024,
            50.05999999999997,
            51.28999999999998,
            51.170000000000016,
            45.30999999999997,
            49.01,
            48.22000000000002,
            49.03999999999998,
            49.21000000000002,
            45.01999999999999,
            50.22000000000002,
            48.48000000000001,
            46.09999999999999,
            46.40000000000001,
            49.24,
            52.02999999999998,
            49.40000000000002,
            45.22000000000002,
            50.13000000000004,
            44.299999999999976,
            46.48000000000001,
            48.40000000000002,
            45.24,
            50.24,
            48.28999999999998,
            45.39000000000002,
            49.08999999999998,
            48.31999999999999,
            48.26,
            51.14000000000003,
            51.13000000000004,
            47.53999999999998,
            49.49,
            47.51,
            50.01,
            50.450000000000024,
            48.26999999999999,
            51.02999999999998,
            48.51,
            50.35999999999997,
            46.26,
            51.19000000000003,
            49.049999999999976,
            49.35999999999997,
            50.34999999999998,
            50.15000000000002,
            50.46000000000002,
            50.34999999999998,
            51.21000000000002,
            47.51999999999999,
            52.109999999999964,
            50.09999999999998,
            44.41000000000002,
            50.52999999999998,
            49.02999999999998,
            49.33999999999998,
            50.420000000000016,
            48.46000000000002,
            48.38000000000004,
            47.19000000000003,
            49.36999999999996,
            49.14000000000003,
            50.5,
            47.33999999999999,
            49.15000000000002,
            50.160000000000025,
            48.43000000000001
           ],
           "legendgroup": "",
           "lon": [
            33.52999999999998,
            30.11000000000001,
            28.52999999999998,
            24.570000000000014,
            32.12,
            30.580000000000016,
            25.090000000000003,
            31.169999999999987,
            30.13999999999999,
            32.41999999999999,
            25.470000000000017,
            25.539999999999992,
            32.399999999999984,
            23.33000000000001,
            35.23000000000001,
            33.59000000000002,
            29.240000000000006,
            34.49,
            32.37,
            26.590000000000003,
            33.57000000000002,
            31,
            28.51999999999999,
            31.48000000000001,
            34.100000000000016,
            33.309999999999974,
            26.350000000000016,
            36.25,
            30.26999999999999,
            32.149999999999984,
            34.12,
            34.12,
            25.01999999999999,
            33.539999999999985,
            33.12,
            24.409999999999997,
            33.20000000000002,
            23.570000000000014,
            30.15999999999999,
            33,
            25.20000000000001,
            27.470000000000017,
            31.539999999999985,
            27.159999999999993,
            27.37,
            30.460000000000015,
            28.47000000000002,
            30.52999999999998,
            34.330000000000005,
            32.23000000000001,
            23.38,
            33.26999999999999,
            26.080000000000013,
            26.37,
            25.13,
            32.350000000000016,
            27.029999999999983,
            34.08000000000001,
            34.47000000000002,
            33.14999999999999,
            25.36000000000001,
            29.350000000000016,
            30.13999999999999,
            22.16,
            33.16999999999999,
            33.16,
            28.279999999999983,
            24.19000000000002,
            31.200000000000017,
            30.05999999999998,
            28.38,
            32.399999999999984
           ],
           "marker": {
            "color": [
             4.97741935483871,
             4.516129032258063,
             4.148387096774194,
             4.354838709677419,
             4.577419354838709,
             3.9612903225806457,
             4.606451612903226,
             4.261290322580645,
             4.461290322580646,
             5.232258064516128,
             4.187096774193548,
             5.164516129032258,
             4.496774193548387,
             4.47741935483871,
             6.641935483870967,
             3.6903225806451614,
             4.39032258064516,
             4.951612903225805,
             5.1806451612903235,
             3.8645161290322574,
             2.561290322580645,
             4.6903225806451605,
             5.516129032258063,
             4.290322580645161,
             7.366666666666669,
             5.319354838709677,
             4.648387096774194,
             5.706451612903227,
             4.670967741935482,
             4.387096774193549,
             5.106451612903225,
             4.412903225806452,
             3.648387096774194,
             4.309677419354839,
             3.645161290322581,
             4.780645161290323,
             4.651612903225806,
             4.274193548387098,
             4.56451612903226,
             4.280645161290321,
             4.880645161290323,
             5.209677419354839,
             4.048387096774194,
             4.193548387096773,
             4.84516129032258,
             5.312903225806453,
             4.574193548387097,
             4.267741935483872,
             3.9000000000000004,
             3.9612903225806453,
             4.587096774193549,
             3.541935483870968,
             4.725806451612903,
             4.932258064516129,
             0.8870967741935484,
             3.761290322580645,
             4.403225806451612,
             5.306451612903226,
             2.7580645161290325,
             4.467741935483872,
             4.058064516129032,
             4.629032258064515,
             4.080645161290324,
             6.690322580645161,
             5.13548387096774,
             4.4225806451612915,
             4.016129032258065,
             4.725806451612903,
             5.638709677419356,
             4.241935483870968,
             4.861290322580645,
             4.174193548387096
            ],
            "coloraxis": "coloraxis",
            "symbol": "circle"
           },
           "mode": "markers",
           "name": "",
           "showlegend": false,
           "type": "scattergeo"
          }
         ],
         "name": "3"
        },
        {
         "data": [
          {
           "geo": "geo",
           "hovertemplate": "<b>%{hovertext}</b><br><br>month=4<br>lat=%{lat}<br>lon=%{lon}<br>temp=%{marker.color}<extra></extra>",
           "hovertext": [
            "ASKANIJA-NOVA",
            "BELAJA_CERKOV'",
            "BELOPOL'E",
            "BEREZANY",
            "BOBRYNETS'",
            "BORISPOL'/KIEV",
            "BRODY",
            "CERNIGOV",
            "CERNOBYL'",
            "CERNOMORSKOE",
            "CERTKOV",
            "CHERNIVTSI",
            "CHYHYRYN",
            "DROGOBYC",
            "GADJAC",
            "GAJSIN",
            "GENICESK",
            "HERSON",
            "HMEL'NICKIJ",
            "HUTOR_MIHAJLOVSKIJ",
            "IMENI_STARCENKO",
            "IZMAIL",
            "JAGOTIN",
            "KAHOVKA",
            "KAMENETS_PODOL'SKIJ",
            "KERC'",
            "KIEV/ZHULYANY",
            "KIROVOGRAD",
            "KOBELIAKY",
            "KOLOMYJA",
            "KOMISSAROVKA",
            "KONOTOP",
            "KOVEL'",
            "KRYVYI_RIH",
            "L'VIV",
            "LJUBASEVKA",
            "LUBNY",
            "LUCK",
            "MOGILEV-PODOL'SKIJ",
            "NEZIN",
            "NOVAYA_ULICA",
            "NOVGOROD_VOLYNSKIJ",
            "ODESSA/TSENTRALNY",
            "OVRUC",
            "OZERNA",
            "POLTAVA",
            "PRILUKI",
            "RAVA_RUSSKAJA",
            "ROMNY",
            "ROVNO",
            "SARNY",
            "SELETIN",
            "SEMENOVKA",
            "SEPETOVKA",
            "SIMFEROPOL'",
            "SUMY",
            "SVITLOVODS'K",
            "TERNOPOL'",
            "TETEREV",
            "UMAN'",
            "UZGOROD",
            "VELIKAIA_ALEKSANDRO",
            "VESELYJ_PODOL",
            "VINNICA",
            "VLADIMIR-VOLYNSKIJ",
            "VOZNESENSK",
            "ZHASHKOV",
            "ZITOMIR",
            "ZNAMENKA"
           ],
           "ids": [
            7.788888888888888,
            5.822222222222223,
            4.977777777777778,
            4.066666666666666,
            6.388888888888889,
            5.711111111111111,
            4.277777777777778,
            5.722222222222221,
            5.066666666666666,
            8.388888888888891,
            4.277777777777778,
            5.588888888888889,
            6.488888888888889,
            3.9555555555555557,
            6.666666666666667,
            5.855555555555556,
            9.266666666666666,
            7.3999999999999995,
            4.155555555555555,
            4.688888888888889,
            6.211111111111112,
            8.31111111111111,
            6.288888888888888,
            7.633333333333334,
            5.4111111111111105,
            8.987499999999999,
            5.955555555555555,
            5.922222222222222,
            6.555555555555555,
            4,
            6.699999999999999,
            5.644444444444444,
            3.9111111111111105,
            6.266666666666667,
            3.3666666666666663,
            6.022222222222223,
            6.466666666666668,
            3.9111111111111114,
            6.711111111111112,
            5.933333333333333,
            4.688888888888889,
            5.044444444444444,
            7.366666666666666,
            4.422222222222222,
            5.277777777777778,
            6.699999999999999,
            5.855555555555556,
            3.322222222222222,
            6.055555555555556,
            3.877777777777778,
            4.822222222222223,
            1.2,
            5.188888888888889,
            4.111111111111111,
            8.125,
            5.8999999999999995,
            6.7555555555555555,
            3.755555555555555,
            5.2,
            5.122222222222222,
            6.1,
            7.3999999999999995,
            6.788888888888889,
            4.811111111111112,
            4.055555555555556,
            7.300000000000001,
            5.488888888888889,
            5.311111111111111,
            6.01111111111111
           ],
           "lat": [
            46.269999999999996,
            49.47,
            49.5,
            49.26,
            48.03,
            50.199999999999996,
            50.06,
            51.290000000000006,
            51.17000000000001,
            45.31,
            49.01,
            48.22,
            49.040000000000006,
            49.209999999999994,
            50.22,
            48.48000000000001,
            46.10000000000001,
            46.39999999999999,
            49.24,
            52.02999999999999,
            49.39999999999999,
            45.22,
            50.13,
            46.48000000000001,
            48.39999999999999,
            45.24,
            50.24,
            48.290000000000006,
            49.09,
            48.32,
            48.26,
            51.13999999999999,
            51.13,
            47.540000000000006,
            49.49,
            47.51,
            50.01,
            50.449999999999996,
            48.269999999999996,
            51.03,
            48.51,
            50.36000000000001,
            46.26,
            51.19,
            49.050000000000004,
            49.36000000000001,
            50.35000000000001,
            50.14999999999999,
            50.459999999999994,
            50.35000000000001,
            51.209999999999994,
            47.519999999999996,
            52.11000000000001,
            50.10000000000001,
            44.41000000000001,
            50.53,
            49.03,
            49.34,
            50.42000000000001,
            48.459999999999994,
            48.38,
            47.19,
            49.370000000000005,
            49.13999999999999,
            50.5,
            47.34,
            49.14999999999999,
            50.16000000000001,
            48.43
           ],
           "legendgroup": "",
           "lon": [
            33.53,
            30.110000000000007,
            28.529999999999998,
            24.569999999999997,
            32.12,
            30.580000000000002,
            25.09,
            31.17000000000001,
            30.139999999999993,
            32.42000000000001,
            25.47,
            25.539999999999996,
            32.4,
            23.330000000000005,
            33.59,
            29.240000000000002,
            34.49,
            32.37,
            26.59,
            33.57,
            31,
            28.52,
            31.48,
            33.31,
            26.349999999999998,
            36.25,
            30.27,
            32.15,
            34.12,
            25.020000000000003,
            33.54,
            33.12,
            24.41,
            33.199999999999996,
            23.569999999999997,
            30.16,
            33,
            25.199999999999996,
            27.47,
            31.539999999999996,
            27.16,
            27.37,
            30.460000000000004,
            28.470000000000002,
            30.529999999999998,
            34.32999999999999,
            32.23000000000001,
            23.38,
            33.27,
            26.080000000000005,
            26.37,
            25.13,
            32.35,
            27.03,
            34.07999999999999,
            34.47,
            33.15,
            25.36,
            29.349999999999998,
            30.139999999999993,
            22.16,
            33.17000000000001,
            33.160000000000004,
            28.28,
            24.19,
            31.199999999999996,
            30.060000000000002,
            28.38,
            32.4
           ],
           "marker": {
            "color": [
             7.788888888888888,
             5.822222222222223,
             4.977777777777778,
             4.066666666666666,
             6.388888888888889,
             5.711111111111111,
             4.277777777777778,
             5.722222222222221,
             5.066666666666666,
             8.388888888888891,
             4.277777777777778,
             5.588888888888889,
             6.488888888888889,
             3.9555555555555557,
             6.666666666666667,
             5.855555555555556,
             9.266666666666666,
             7.3999999999999995,
             4.155555555555555,
             4.688888888888889,
             6.211111111111112,
             8.31111111111111,
             6.288888888888888,
             7.633333333333334,
             5.4111111111111105,
             8.987499999999999,
             5.955555555555555,
             5.922222222222222,
             6.555555555555555,
             4,
             6.699999999999999,
             5.644444444444444,
             3.9111111111111105,
             6.266666666666667,
             3.3666666666666663,
             6.022222222222223,
             6.466666666666668,
             3.9111111111111114,
             6.711111111111112,
             5.933333333333333,
             4.688888888888889,
             5.044444444444444,
             7.366666666666666,
             4.422222222222222,
             5.277777777777778,
             6.699999999999999,
             5.855555555555556,
             3.322222222222222,
             6.055555555555556,
             3.877777777777778,
             4.822222222222223,
             1.2,
             5.188888888888889,
             4.111111111111111,
             8.125,
             5.8999999999999995,
             6.7555555555555555,
             3.755555555555555,
             5.2,
             5.122222222222222,
             6.1,
             7.3999999999999995,
             6.788888888888889,
             4.811111111111112,
             4.055555555555556,
             7.300000000000001,
             5.488888888888889,
             5.311111111111111,
             6.01111111111111
            ],
            "coloraxis": "coloraxis",
            "symbol": "circle"
           },
           "mode": "markers",
           "name": "",
           "showlegend": false,
           "type": "scattergeo"
          }
         ],
         "name": "4"
        },
        {
         "data": [
          {
           "geo": "geo",
           "hovertemplate": "<b>%{hovertext}</b><br><br>month=5<br>lat=%{lat}<br>lon=%{lon}<br>temp=%{marker.color}<extra></extra>",
           "hovertext": [
            "ASKANIJA-NOVA",
            "BELAJA_CERKOV'",
            "BELOPOL'E",
            "BEREZANY",
            "BOBRYNETS'",
            "BORISPOL'/KIEV",
            "BRODY",
            "CERNIGOV",
            "CERNOBYL'",
            "CERNOMORSKOE",
            "CERTKOV",
            "CHERNIVTSI",
            "CHYHYRYN",
            "DROGOBYC",
            "GADJAC",
            "GAJSIN",
            "GENICESK",
            "HERSON",
            "HMEL'NICKIJ",
            "HUTOR_MIHAJLOVSKIJ",
            "IMENI_STARCENKO",
            "IZMAIL",
            "JAGOTIN",
            "KAHOVKA",
            "KAMENETS_PODOL'SKIJ",
            "KERC'",
            "KIEV/ZHULYANY",
            "KIROVOGRAD",
            "KOBELIAKY",
            "KOLOMYJA",
            "KOMISSAROVKA",
            "KONOTOP",
            "KOVEL'",
            "KRYVYI_RIH",
            "L'VIV",
            "LJUBASEVKA",
            "LUBNY",
            "LUCK",
            "MOGILEV-PODOL'SKIJ",
            "NEZIN",
            "NOVAYA_ULICA",
            "NOVGOROD_VOLYNSKIJ",
            "ODESSA/TSENTRALNY",
            "OVRUC",
            "OZERNA",
            "POLTAVA",
            "PRILUKI",
            "RAVA_RUSSKAJA",
            "ROMNY",
            "ROVNO",
            "SARNY",
            "SELETIN",
            "SEMENOVKA",
            "SEPETOVKA",
            "SIMFEROPOL'",
            "SUMY",
            "SVITLOVODS'K",
            "TERNOPOL'",
            "TETEREV",
            "UMAN'",
            "UZGOROD",
            "VELIKAIA_ALEKSANDRO",
            "VESELYJ_PODOL",
            "VINNICA",
            "VLADIMIR-VOLYNSKIJ",
            "VOZNESENSK",
            "ZHASHKOV",
            "ZITOMIR",
            "ZNAMENKA"
           ],
           "ids": [
            16.719354838709677,
            16.316129032258065,
            15.26774193548387,
            13.525806451612905,
            16.606451612903232,
            15.429032258064511,
            13.74193548387097,
            14.99032258064516,
            15.045161290322577,
            15.696774193548386,
            14.441935483870969,
            16.006451612903227,
            16.46774193548387,
            13.577419354838709,
            16.293548387096777,
            16.164516129032258,
            17.425806451612903,
            17.00967741935484,
            14.64193548387097,
            14.735483870967743,
            16.270967741935483,
            17.30322580645161,
            16.33225806451613,
            17.325806451612902,
            15.441935483870967,
            16.429032258064513,
            15.6741935483871,
            16.24516129032258,
            16.703225806451613,
            13.900000000000002,
            16.10322580645161,
            15.961290322580643,
            13.583870967741937,
            16.467741935483872,
            13.090322580645159,
            16.567741935483873,
            16.261290322580646,
            13.74193548387097,
            16.570967741935483,
            15.58064516129032,
            15.141935483870965,
            14.81935483870968,
            16.693548387096776,
            14.37741935483871,
            15.945161290322579,
            16.325806451612905,
            16.112903225806456,
            13.190322580645159,
            15.687096774193545,
            14.477419354838712,
            14.16129032258065,
            11.532258064516132,
            14.609677419354844,
            14.42258064516129,
            15.493548387096775,
            15.061290322580646,
            16.554838709677416,
            13.987096774193551,
            15.154838709677417,
            15.593548387096778,
            16.093548387096767,
            17.212903225806457,
            16.76774193548387,
            15.24516129032258,
            13.377419354838706,
            17.203225806451613,
            15.83548387096774,
            15.351612903225806,
            16.158064516129034
           ],
           "lat": [
            46.26999999999999,
            49.47000000000002,
            49.5,
            49.26,
            48.02999999999998,
            50.200000000000024,
            50.05999999999997,
            51.28999999999998,
            51.170000000000016,
            45.30999999999997,
            49.01,
            48.22000000000002,
            49.03999999999998,
            49.21000000000002,
            50.22000000000002,
            48.48000000000001,
            46.09999999999999,
            46.40000000000001,
            49.24,
            52.02999999999998,
            49.40000000000002,
            45.22000000000002,
            50.13000000000004,
            46.48000000000001,
            48.40000000000002,
            45.24,
            50.24,
            48.28999999999998,
            49.08999999999998,
            48.31999999999999,
            48.26,
            51.14000000000003,
            51.13000000000004,
            47.53999999999998,
            49.49,
            47.51,
            50.01,
            50.450000000000024,
            48.26999999999999,
            51.02999999999998,
            48.51,
            50.35999999999997,
            46.26,
            51.19000000000003,
            49.049999999999976,
            49.35999999999997,
            50.34999999999998,
            50.15000000000002,
            50.46000000000002,
            50.34999999999998,
            51.21000000000002,
            47.51999999999999,
            52.109999999999964,
            50.09999999999998,
            44.41000000000002,
            50.52999999999998,
            49.02999999999998,
            49.33999999999998,
            50.420000000000016,
            48.46000000000002,
            48.38000000000004,
            47.19000000000003,
            49.36999999999996,
            49.14000000000003,
            50.5,
            47.33999999999999,
            49.15000000000002,
            50.160000000000025,
            48.43000000000001
           ],
           "legendgroup": "",
           "lon": [
            33.52999999999998,
            30.11000000000001,
            28.52999999999998,
            24.570000000000014,
            32.12,
            30.580000000000016,
            25.090000000000003,
            31.169999999999987,
            30.13999999999999,
            32.41999999999999,
            25.470000000000017,
            25.539999999999992,
            32.399999999999984,
            23.33000000000001,
            33.59000000000002,
            29.240000000000006,
            34.49,
            32.37,
            26.590000000000003,
            33.57000000000002,
            31,
            28.51999999999999,
            31.48000000000001,
            33.309999999999974,
            26.350000000000016,
            36.25,
            30.26999999999999,
            32.149999999999984,
            34.12,
            25.01999999999999,
            33.539999999999985,
            33.12,
            24.409999999999997,
            33.20000000000002,
            23.570000000000014,
            30.15999999999999,
            33,
            25.20000000000001,
            27.470000000000017,
            31.539999999999985,
            27.159999999999993,
            27.37,
            30.460000000000015,
            28.47000000000002,
            30.52999999999998,
            34.330000000000005,
            32.23000000000001,
            23.38,
            33.26999999999999,
            26.080000000000013,
            26.37,
            25.13,
            32.350000000000016,
            27.029999999999983,
            34.08000000000001,
            34.47000000000002,
            33.14999999999999,
            25.36000000000001,
            29.350000000000016,
            30.13999999999999,
            22.16,
            33.16999999999999,
            33.16,
            28.279999999999983,
            24.19000000000002,
            31.200000000000017,
            30.05999999999998,
            28.38,
            32.399999999999984
           ],
           "marker": {
            "color": [
             16.719354838709677,
             16.316129032258065,
             15.26774193548387,
             13.525806451612905,
             16.606451612903232,
             15.429032258064511,
             13.74193548387097,
             14.99032258064516,
             15.045161290322577,
             15.696774193548386,
             14.441935483870969,
             16.006451612903227,
             16.46774193548387,
             13.577419354838709,
             16.293548387096777,
             16.164516129032258,
             17.425806451612903,
             17.00967741935484,
             14.64193548387097,
             14.735483870967743,
             16.270967741935483,
             17.30322580645161,
             16.33225806451613,
             17.325806451612902,
             15.441935483870967,
             16.429032258064513,
             15.6741935483871,
             16.24516129032258,
             16.703225806451613,
             13.900000000000002,
             16.10322580645161,
             15.961290322580643,
             13.583870967741937,
             16.467741935483872,
             13.090322580645159,
             16.567741935483873,
             16.261290322580646,
             13.74193548387097,
             16.570967741935483,
             15.58064516129032,
             15.141935483870965,
             14.81935483870968,
             16.693548387096776,
             14.37741935483871,
             15.945161290322579,
             16.325806451612905,
             16.112903225806456,
             13.190322580645159,
             15.687096774193545,
             14.477419354838712,
             14.16129032258065,
             11.532258064516132,
             14.609677419354844,
             14.42258064516129,
             15.493548387096775,
             15.061290322580646,
             16.554838709677416,
             13.987096774193551,
             15.154838709677417,
             15.593548387096778,
             16.093548387096767,
             17.212903225806457,
             16.76774193548387,
             15.24516129032258,
             13.377419354838706,
             17.203225806451613,
             15.83548387096774,
             15.351612903225806,
             16.158064516129034
            ],
            "coloraxis": "coloraxis",
            "symbol": "circle"
           },
           "mode": "markers",
           "name": "",
           "showlegend": false,
           "type": "scattergeo"
          }
         ],
         "name": "5"
        },
        {
         "data": [
          {
           "geo": "geo",
           "hovertemplate": "<b>%{hovertext}</b><br><br>month=6<br>lat=%{lat}<br>lon=%{lon}<br>temp=%{marker.color}<extra></extra>",
           "hovertext": [
            "ASKANIJA-NOVA",
            "BELAJA_CERKOV'",
            "BELOPOL'E",
            "BEREZANY",
            "BOBRYNETS'",
            "BORISPOL'/KIEV",
            "BRODY",
            "CERNIGOV",
            "CERNOBYL'",
            "CERNOMORSKOE",
            "CERTKOV",
            "CHERNIVTSI",
            "CHYHYRYN",
            "DROGOBYC",
            "GADJAC",
            "GAJSIN",
            "GENICESK",
            "HERSON",
            "HMEL'NICKIJ",
            "HUTOR_MIHAJLOVSKIJ",
            "IMENI_STARCENKO",
            "IZMAIL",
            "JAGOTIN",
            "KAHOVKA",
            "KAMENETS_PODOL'SKIJ",
            "KERC'",
            "KIEV/ZHULYANY",
            "KIROVOGRAD",
            "KOBELIAKY",
            "KOLOMYJA",
            "KOMISSAROVKA",
            "KONOTOP",
            "KOVEL'",
            "KRYVYI_RIH",
            "L'VIV",
            "LJUBASEVKA",
            "LUBNY",
            "LUCK",
            "MOGILEV-PODOL'SKIJ",
            "NEZIN",
            "NOVAYA_ULICA",
            "NOVGOROD_VOLYNSKIJ",
            "ODESSA/TSENTRALNY",
            "OVRUC",
            "OZERNA",
            "POLTAVA",
            "PRILUKI",
            "RAVA_RUSSKAJA",
            "ROMNY",
            "ROVNO",
            "SARNY",
            "SELETIN",
            "SEMENOVKA",
            "SEPETOVKA",
            "SIMFEROPOL'",
            "SUMY",
            "SVITLOVODS'K",
            "TERNOPOL'",
            "TETEREV",
            "UMAN'",
            "UZGOROD",
            "VELIKAIA_ALEKSANDRO",
            "VESELYJ_PODOL",
            "VINNICA",
            "VLADIMIR-VOLYNSKIJ",
            "VOZNESENSK",
            "ZHASHKOV",
            "ZITOMIR",
            "ZNAMENKA"
           ],
           "ids": [
            21.2,
            19.58,
            19.193333333333335,
            17.839999999999996,
            20.253333333333334,
            18.99,
            17.75666666666666,
            19.1,
            19.639999999999997,
            20.470000000000002,
            18.470000000000006,
            19.716666666666665,
            19.60666666666667,
            17.39333333333333,
            19.746666666666666,
            19.96333333333333,
            21.96999999999999,
            20.90666666666666,
            18.71333333333333,
            17.826666666666668,
            19.37666666666666,
            21.01333333333333,
            19.37666666666666,
            21.456666666666663,
            19.56,
            21.856666666666662,
            19.93,
            19.42333333333334,
            20.55666666666667,
            17.44333333333333,
            20.196666666666662,
            18.933333333333334,
            18.286666666666672,
            20.380000000000003,
            17.52,
            20.180000000000003,
            19.436666666666667,
            18.37333333333334,
            20.71,
            18.936666666666667,
            19.36,
            18.933333333333337,
            21.44333333333334,
            19.1,
            19.37,
            20.516666666666666,
            18.990000000000002,
            17.740000000000002,
            18.980000000000008,
            18.85,
            18.763333333333332,
            14.306666666666668,
            17.860000000000003,
            18.470000000000006,
            19.660000000000007,
            19.14,
            20.449999999999996,
            17.856666666666666,
            19.913333333333334,
            19.3,
            20.243333333333332,
            20.83,
            20.183333333333334,
            19.23,
            17.846666666666668,
            21.123333333333328,
            19.356666666666666,
            19.696666666666662,
            19.413333333333338
           ],
           "lat": [
            46.26999999999999,
            49.47000000000002,
            49.5,
            49.26,
            48.02999999999998,
            50.200000000000024,
            50.05999999999997,
            51.28999999999998,
            51.17000000000001,
            45.30999999999997,
            49.01,
            48.22000000000002,
            49.03999999999998,
            49.21000000000002,
            50.22000000000002,
            48.48000000000001,
            46.099999999999994,
            46.400000000000006,
            49.24,
            52.02999999999998,
            49.40000000000001,
            45.22000000000002,
            50.13000000000003,
            46.48000000000001,
            48.40000000000001,
            45.24,
            50.24,
            48.28999999999998,
            49.08999999999999,
            48.32,
            48.26,
            51.14000000000002,
            51.13000000000003,
            47.53999999999998,
            49.49,
            47.51,
            50.01,
            50.450000000000024,
            48.26999999999999,
            51.02999999999998,
            48.51,
            50.35999999999998,
            46.26,
            51.19000000000003,
            49.049999999999976,
            49.35999999999998,
            50.34999999999999,
            50.15000000000001,
            50.46000000000002,
            50.34999999999999,
            51.21000000000002,
            47.51999999999999,
            52.10999999999997,
            50.09999999999999,
            44.41000000000001,
            50.52999999999998,
            49.02999999999998,
            49.33999999999999,
            50.42000000000001,
            48.46000000000002,
            48.38000000000003,
            47.19000000000003,
            49.36999999999997,
            49.14000000000002,
            50.5,
            47.339999999999996,
            49.15000000000001,
            50.16000000000002,
            48.43
           ],
           "legendgroup": "",
           "lon": [
            33.52999999999998,
            30.11000000000001,
            28.52999999999998,
            24.57000000000001,
            32.12,
            30.580000000000016,
            25.09,
            31.16999999999999,
            30.13999999999999,
            32.41999999999999,
            25.470000000000017,
            25.539999999999996,
            32.399999999999984,
            23.330000000000005,
            33.590000000000025,
            29.240000000000006,
            34.49,
            32.37,
            26.59,
            33.57000000000002,
            31,
            28.51999999999999,
            31.48000000000001,
            33.309999999999974,
            26.350000000000016,
            36.25,
            30.26999999999999,
            32.149999999999984,
            34.12,
            25.01999999999999,
            33.539999999999985,
            33.12,
            24.41,
            33.20000000000002,
            23.57000000000001,
            30.15999999999999,
            33,
            25.200000000000006,
            27.470000000000017,
            31.539999999999985,
            27.159999999999993,
            27.37,
            30.460000000000015,
            28.47000000000002,
            30.52999999999998,
            34.33000000000001,
            32.23000000000001,
            23.38,
            33.26999999999999,
            26.08000000000001,
            26.37,
            25.13,
            32.350000000000016,
            27.029999999999983,
            34.08000000000001,
            34.47000000000002,
            33.149999999999984,
            25.36000000000001,
            29.350000000000016,
            30.13999999999999,
            22.160000000000004,
            33.16999999999999,
            33.15999999999999,
            28.279999999999983,
            24.190000000000015,
            31.200000000000014,
            30.059999999999985,
            28.38,
            32.399999999999984
           ],
           "marker": {
            "color": [
             21.2,
             19.58,
             19.193333333333335,
             17.839999999999996,
             20.253333333333334,
             18.99,
             17.75666666666666,
             19.1,
             19.639999999999997,
             20.470000000000002,
             18.470000000000006,
             19.716666666666665,
             19.60666666666667,
             17.39333333333333,
             19.746666666666666,
             19.96333333333333,
             21.96999999999999,
             20.90666666666666,
             18.71333333333333,
             17.826666666666668,
             19.37666666666666,
             21.01333333333333,
             19.37666666666666,
             21.456666666666663,
             19.56,
             21.856666666666662,
             19.93,
             19.42333333333334,
             20.55666666666667,
             17.44333333333333,
             20.196666666666662,
             18.933333333333334,
             18.286666666666672,
             20.380000000000003,
             17.52,
             20.180000000000003,
             19.436666666666667,
             18.37333333333334,
             20.71,
             18.936666666666667,
             19.36,
             18.933333333333337,
             21.44333333333334,
             19.1,
             19.37,
             20.516666666666666,
             18.990000000000002,
             17.740000000000002,
             18.980000000000008,
             18.85,
             18.763333333333332,
             14.306666666666668,
             17.860000000000003,
             18.470000000000006,
             19.660000000000007,
             19.14,
             20.449999999999996,
             17.856666666666666,
             19.913333333333334,
             19.3,
             20.243333333333332,
             20.83,
             20.183333333333334,
             19.23,
             17.846666666666668,
             21.123333333333328,
             19.356666666666666,
             19.696666666666662,
             19.413333333333338
            ],
            "coloraxis": "coloraxis",
            "symbol": "circle"
           },
           "mode": "markers",
           "name": "",
           "showlegend": false,
           "type": "scattergeo"
          }
         ],
         "name": "6"
        },
        {
         "data": [
          {
           "geo": "geo",
           "hovertemplate": "<b>%{hovertext}</b><br><br>month=7<br>lat=%{lat}<br>lon=%{lon}<br>temp=%{marker.color}<extra></extra>",
           "hovertext": [
            "ASKANIJA-NOVA",
            "BELAJA_CERKOV'",
            "BELOPOL'E",
            "BEREZANY",
            "BOBRYNETS'",
            "BORISPOL'/KIEV",
            "BRODY",
            "CERNIGOV",
            "CERNOBYL'",
            "CERNOMORSKOE",
            "CERTKOV",
            "CHERNIVTSI",
            "CHYHYRYN",
            "DROGOBYC",
            "GADJAC",
            "GAJSIN",
            "GENICESK",
            "HERSON",
            "HMEL'NICKIJ",
            "HUTOR_MIHAJLOVSKIJ",
            "IMENI_STARCENKO",
            "IZMAIL",
            "JAGOTIN",
            "KAHOVKA",
            "KAMENETS_PODOL'SKIJ",
            "KERC'",
            "KIEV/ZHULYANY",
            "KIROVOGRAD",
            "KOBELIAKY",
            "KOLOMYJA",
            "KOMISSAROVKA",
            "KONOTOP",
            "KOVEL'",
            "KRYVYI_RIH",
            "L'VIV",
            "LJUBASEVKA",
            "LUBNY",
            "LUCK",
            "MOGILEV-PODOL'SKIJ",
            "NEZIN",
            "NOVAYA_ULICA",
            "NOVGOROD_VOLYNSKIJ",
            "ODESSA/TSENTRALNY",
            "OVRUC",
            "OZERNA",
            "POLTAVA",
            "PRILUKI",
            "RAVA_RUSSKAJA",
            "ROMNY",
            "ROVNO",
            "SARNY",
            "SELETIN",
            "SEMENOVKA",
            "SEPETOVKA",
            "SIMFEROPOL'",
            "SUMY",
            "SVITLOVODS'K",
            "TERNOPOL'",
            "TETEREV",
            "UMAN'",
            "UZGOROD",
            "VELIKAIA_ALEKSANDRO",
            "VESELYJ_PODOL",
            "VINNICA",
            "VLADIMIR-VOLYNSKIJ",
            "VOZNESENSK",
            "ZHASHKOV",
            "ZITOMIR",
            "ZNAMENKA"
           ],
           "ids": [
            23.225806451612907,
            20.9258064516129,
            21.21290322580646,
            19.741935483870968,
            22.11935483870968,
            20.851612903225806,
            19.770967741935486,
            19.745161290322574,
            19.967741935483865,
            22.964516129032265,
            20.700000000000006,
            22.283870967741937,
            21.287096774193543,
            19.954838709677418,
            20.77741935483871,
            22.422580645161286,
            24.293548387096777,
            23.409677419354836,
            20.287096774193554,
            19.025806451612905,
            21.570967741935487,
            24.196774193548386,
            20.88387096774193,
            23.59032258064516,
            21.764516129032263,
            23.896774193548385,
            21.46774193548387,
            21.703225806451616,
            21.812903225806455,
            20.09677419354839,
            21.835483870967735,
            20.377419354838707,
            20.02903225806451,
            22.445161290322584,
            19.46451612903226,
            23.01290322580645,
            21.048387096774192,
            19.95483870967742,
            22.851612903225803,
            20.04516129032258,
            21.241935483870968,
            20.3,
            23.583870967741937,
            19.687096774193556,
            21.477419354838712,
            21.15806451612903,
            20.548387096774196,
            19.935483870967737,
            20.070967741935483,
            20.48387096774194,
            20.167741935483875,
            17.138709677419353,
            19.190322580645166,
            19.893548387096775,
            22.158064516129034,
            20.00322580645161,
            22.19354838709678,
            19.816129032258058,
            21.380645161290325,
            21.345161290322583,
            23.10000000000001,
            23.248387096774195,
            21.587096774193547,
            21.148387096774197,
            19.745161290322585,
            23.9258064516129,
            21.49677419354839,
            21.083870967741937,
            21.380645161290325
           ],
           "lat": [
            46.26999999999999,
            49.47000000000002,
            49.5,
            49.26,
            48.02999999999998,
            50.200000000000024,
            50.05999999999997,
            51.28999999999998,
            51.170000000000016,
            45.30999999999997,
            49.01,
            48.22000000000002,
            49.03999999999998,
            49.21000000000002,
            50.22000000000002,
            48.48000000000001,
            46.09999999999999,
            46.40000000000001,
            49.24,
            52.02999999999998,
            49.40000000000002,
            45.22000000000002,
            50.13000000000004,
            46.48000000000001,
            48.40000000000002,
            45.24,
            50.24,
            48.28999999999998,
            49.08999999999998,
            48.31999999999999,
            48.26,
            51.14000000000003,
            51.13000000000004,
            47.53999999999998,
            49.49,
            47.51,
            50.01,
            50.450000000000024,
            48.26999999999999,
            51.02999999999998,
            48.51,
            50.35999999999997,
            46.26,
            51.19000000000003,
            49.049999999999976,
            49.35999999999997,
            50.34999999999998,
            50.15000000000002,
            50.46000000000002,
            50.34999999999998,
            51.21000000000002,
            47.51999999999999,
            52.109999999999964,
            50.09999999999998,
            44.41000000000002,
            50.52999999999998,
            49.02999999999998,
            49.33999999999998,
            50.420000000000016,
            48.46000000000002,
            48.38000000000004,
            47.19000000000003,
            49.36999999999996,
            49.14000000000003,
            50.5,
            47.33999999999999,
            49.15000000000002,
            50.160000000000025,
            48.43000000000001
           ],
           "legendgroup": "",
           "lon": [
            33.52999999999998,
            30.11000000000001,
            28.52999999999998,
            24.570000000000014,
            32.12,
            30.580000000000016,
            25.090000000000003,
            31.169999999999987,
            30.13999999999999,
            32.41999999999999,
            25.470000000000017,
            25.539999999999992,
            32.399999999999984,
            23.33000000000001,
            33.59000000000002,
            29.240000000000006,
            34.49,
            32.37,
            26.590000000000003,
            33.57000000000002,
            31,
            28.51999999999999,
            31.48000000000001,
            33.309999999999974,
            26.350000000000016,
            36.25,
            30.26999999999999,
            32.149999999999984,
            34.12,
            25.01999999999999,
            33.539999999999985,
            33.12,
            24.409999999999997,
            33.20000000000002,
            23.570000000000014,
            30.15999999999999,
            33,
            25.20000000000001,
            27.470000000000017,
            31.539999999999985,
            27.159999999999993,
            27.37,
            30.460000000000015,
            28.47000000000002,
            30.52999999999998,
            34.330000000000005,
            32.23000000000001,
            23.38,
            33.26999999999999,
            26.080000000000013,
            26.37,
            25.13,
            32.350000000000016,
            27.029999999999983,
            34.08000000000001,
            34.47000000000002,
            33.14999999999999,
            25.36000000000001,
            29.350000000000016,
            30.13999999999999,
            22.16,
            33.16999999999999,
            33.16,
            28.279999999999983,
            24.19000000000002,
            31.200000000000017,
            30.05999999999998,
            28.38,
            32.399999999999984
           ],
           "marker": {
            "color": [
             23.225806451612907,
             20.9258064516129,
             21.21290322580646,
             19.741935483870968,
             22.11935483870968,
             20.851612903225806,
             19.770967741935486,
             19.745161290322574,
             19.967741935483865,
             22.964516129032265,
             20.700000000000006,
             22.283870967741937,
             21.287096774193543,
             19.954838709677418,
             20.77741935483871,
             22.422580645161286,
             24.293548387096777,
             23.409677419354836,
             20.287096774193554,
             19.025806451612905,
             21.570967741935487,
             24.196774193548386,
             20.88387096774193,
             23.59032258064516,
             21.764516129032263,
             23.896774193548385,
             21.46774193548387,
             21.703225806451616,
             21.812903225806455,
             20.09677419354839,
             21.835483870967735,
             20.377419354838707,
             20.02903225806451,
             22.445161290322584,
             19.46451612903226,
             23.01290322580645,
             21.048387096774192,
             19.95483870967742,
             22.851612903225803,
             20.04516129032258,
             21.241935483870968,
             20.3,
             23.583870967741937,
             19.687096774193556,
             21.477419354838712,
             21.15806451612903,
             20.548387096774196,
             19.935483870967737,
             20.070967741935483,
             20.48387096774194,
             20.167741935483875,
             17.138709677419353,
             19.190322580645166,
             19.893548387096775,
             22.158064516129034,
             20.00322580645161,
             22.19354838709678,
             19.816129032258058,
             21.380645161290325,
             21.345161290322583,
             23.10000000000001,
             23.248387096774195,
             21.587096774193547,
             21.148387096774197,
             19.745161290322585,
             23.9258064516129,
             21.49677419354839,
             21.083870967741937,
             21.380645161290325
            ],
            "coloraxis": "coloraxis",
            "symbol": "circle"
           },
           "mode": "markers",
           "name": "",
           "showlegend": false,
           "type": "scattergeo"
          }
         ],
         "name": "7"
        },
        {
         "data": [
          {
           "geo": "geo",
           "hovertemplate": "<b>%{hovertext}</b><br><br>month=8<br>lat=%{lat}<br>lon=%{lon}<br>temp=%{marker.color}<extra></extra>",
           "hovertext": [
            "ASKANIJA-NOVA",
            "BELAJA_CERKOV'",
            "BELOPOL'E",
            "BEREZANY",
            "BOBRYNETS'",
            "BORISPOL'/KIEV",
            "BRODY",
            "CERNIGOV",
            "CERNOBYL'",
            "CERNOMORSKOE",
            "CERTKOV",
            "CHERNIVTSI",
            "CHYHYRYN",
            "DROGOBYC",
            "GADJAC",
            "GAJSIN",
            "GENICESK",
            "HERSON",
            "HMEL'NICKIJ",
            "HUTOR_MIHAJLOVSKIJ",
            "IMENI_STARCENKO",
            "IZMAIL",
            "JAGOTIN",
            "KAHOVKA",
            "KAMENETS_PODOL'SKIJ",
            "KERC'",
            "KIEV/ZHULYANY",
            "KIROVOGRAD",
            "KOBELIAKY",
            "KOLOMYJA",
            "KOMISSAROVKA",
            "KONOTOP",
            "KOVEL'",
            "KRYVYI_RIH",
            "L'VIV",
            "LJUBASEVKA",
            "LUBNY",
            "LUCK",
            "MOGILEV-PODOL'SKIJ",
            "NEZIN",
            "NOVAYA_ULICA",
            "NOVGOROD_VOLYNSKIJ",
            "ODESSA/TSENTRALNY",
            "OVRUC",
            "OZERNA",
            "POLTAVA",
            "PRILUKI",
            "RAVA_RUSSKAJA",
            "ROMNY",
            "ROVNO",
            "SARNY",
            "SELETIN",
            "SEMENOVKA",
            "SEPETOVKA",
            "SIMFEROPOL'",
            "SUMY",
            "SVITLOVODS'K",
            "TERNOPOL'",
            "TETEREV",
            "UMAN'",
            "UZGOROD",
            "VELIKAIA_ALEKSANDRO",
            "VESELYJ_PODOL",
            "VINNICA",
            "VLADIMIR-VOLYNSKIJ",
            "VOZNESENSK",
            "ZHASHKOV",
            "ZITOMIR",
            "ZNAMENKA"
           ],
           "ids": [
            24.203225806451616,
            20.56774193548387,
            21.235483870967744,
            21.54193548387097,
            22.59354838709677,
            20.983870967741936,
            21.28709677419355,
            20.441935483870974,
            20.664516129032254,
            23.932258064516123,
            22.238709677419354,
            22.977419354838712,
            21.27741935483871,
            20.638709677419357,
            21.083870967741937,
            22.174193548387098,
            24.16451612903226,
            24.087096774193544,
            21.68387096774193,
            19.25806451612903,
            21.570967741935487,
            24.62258064516129,
            21.393548387096775,
            24.364516129032253,
            22.951612903225815,
            24.996774193548386,
            21.764516129032263,
            21.63870967741936,
            21.870967741935484,
            20.60322580645161,
            20.861290322580647,
            20.48709677419355,
            21.554838709677416,
            22.60967741935484,
            21.629032258064516,
            22.854838709677416,
            21.374193548387098,
            22.02258064516129,
            23.100000000000005,
            20.24838709677419,
            22.38064516129032,
            21.241935483870964,
            24.541935483870965,
            20.864516129032268,
            21.938709677419357,
            21.55806451612903,
            20.516129032258064,
            21.43225806451612,
            20.49032258064516,
            22.429032258064517,
            21.738709677419354,
            16.970967741935485,
            20.099999999999998,
            21.238709677419354,
            23.396774193548392,
            20.045161290322582,
            22.054838709677416,
            21.16451612903225,
            21.54838709677419,
            21.225806451612907,
            24.42903225806451,
            23.612903225806456,
            20.861290322580647,
            21.264516129032256,
            21.080645161290317,
            24.26129032258064,
            21.551612903225806,
            21.506451612903227,
            20.858064516129037
           ],
           "lat": [
            46.26999999999999,
            49.47000000000002,
            49.5,
            49.26,
            48.02999999999998,
            50.200000000000024,
            50.05999999999997,
            51.28999999999998,
            51.170000000000016,
            45.30999999999997,
            49.01,
            48.22000000000002,
            49.03999999999998,
            49.21000000000002,
            50.22000000000002,
            48.48000000000001,
            46.09999999999999,
            46.40000000000001,
            49.24,
            52.02999999999998,
            49.40000000000002,
            45.22000000000002,
            50.13000000000004,
            46.48000000000001,
            48.40000000000002,
            45.24,
            50.24,
            48.28999999999998,
            49.08999999999998,
            48.31999999999999,
            48.26,
            51.14000000000003,
            51.13000000000004,
            47.53999999999998,
            49.49,
            47.51,
            50.01,
            50.450000000000024,
            48.26999999999999,
            51.02999999999998,
            48.51,
            50.35999999999997,
            46.26,
            51.19000000000003,
            49.049999999999976,
            49.35999999999997,
            50.34999999999998,
            50.15000000000002,
            50.46000000000002,
            50.34999999999998,
            51.21000000000002,
            47.51999999999999,
            52.109999999999964,
            50.09999999999998,
            44.41000000000002,
            50.52999999999998,
            49.02999999999998,
            49.33999999999998,
            50.420000000000016,
            48.46000000000002,
            48.38000000000004,
            47.19000000000003,
            49.36999999999996,
            49.14000000000003,
            50.5,
            47.33999999999999,
            49.15000000000002,
            50.160000000000025,
            48.43000000000001
           ],
           "legendgroup": "",
           "lon": [
            33.52999999999998,
            30.11000000000001,
            28.52999999999998,
            24.570000000000014,
            32.12,
            30.580000000000016,
            25.090000000000003,
            31.169999999999987,
            30.13999999999999,
            32.41999999999999,
            25.470000000000017,
            25.539999999999992,
            32.399999999999984,
            23.33000000000001,
            33.59000000000002,
            29.240000000000006,
            34.49,
            32.37,
            26.590000000000003,
            33.57000000000002,
            31,
            28.51999999999999,
            31.48000000000001,
            33.309999999999974,
            26.350000000000016,
            36.25,
            30.26999999999999,
            32.149999999999984,
            34.12,
            25.01999999999999,
            33.539999999999985,
            33.12,
            24.409999999999997,
            33.20000000000002,
            23.570000000000014,
            30.15999999999999,
            33,
            25.20000000000001,
            27.470000000000017,
            31.539999999999985,
            27.159999999999993,
            27.37,
            30.460000000000015,
            28.47000000000002,
            30.52999999999998,
            34.330000000000005,
            32.23000000000001,
            23.38,
            33.26999999999999,
            26.080000000000013,
            26.37,
            25.13,
            32.350000000000016,
            27.029999999999983,
            34.08000000000001,
            34.47000000000002,
            33.14999999999999,
            25.36000000000001,
            29.350000000000016,
            30.13999999999999,
            22.16,
            33.16999999999999,
            33.16,
            28.279999999999983,
            24.19000000000002,
            31.200000000000017,
            30.05999999999998,
            28.38,
            32.399999999999984
           ],
           "marker": {
            "color": [
             24.203225806451616,
             20.56774193548387,
             21.235483870967744,
             21.54193548387097,
             22.59354838709677,
             20.983870967741936,
             21.28709677419355,
             20.441935483870974,
             20.664516129032254,
             23.932258064516123,
             22.238709677419354,
             22.977419354838712,
             21.27741935483871,
             20.638709677419357,
             21.083870967741937,
             22.174193548387098,
             24.16451612903226,
             24.087096774193544,
             21.68387096774193,
             19.25806451612903,
             21.570967741935487,
             24.62258064516129,
             21.393548387096775,
             24.364516129032253,
             22.951612903225815,
             24.996774193548386,
             21.764516129032263,
             21.63870967741936,
             21.870967741935484,
             20.60322580645161,
             20.861290322580647,
             20.48709677419355,
             21.554838709677416,
             22.60967741935484,
             21.629032258064516,
             22.854838709677416,
             21.374193548387098,
             22.02258064516129,
             23.100000000000005,
             20.24838709677419,
             22.38064516129032,
             21.241935483870964,
             24.541935483870965,
             20.864516129032268,
             21.938709677419357,
             21.55806451612903,
             20.516129032258064,
             21.43225806451612,
             20.49032258064516,
             22.429032258064517,
             21.738709677419354,
             16.970967741935485,
             20.099999999999998,
             21.238709677419354,
             23.396774193548392,
             20.045161290322582,
             22.054838709677416,
             21.16451612903225,
             21.54838709677419,
             21.225806451612907,
             24.42903225806451,
             23.612903225806456,
             20.861290322580647,
             21.264516129032256,
             21.080645161290317,
             24.26129032258064,
             21.551612903225806,
             21.506451612903227,
             20.858064516129037
            ],
            "coloraxis": "coloraxis",
            "symbol": "circle"
           },
           "mode": "markers",
           "name": "",
           "showlegend": false,
           "type": "scattergeo"
          }
         ],
         "name": "8"
        },
        {
         "data": [
          {
           "geo": "geo",
           "hovertemplate": "<b>%{hovertext}</b><br><br>month=9<br>lat=%{lat}<br>lon=%{lon}<br>temp=%{marker.color}<extra></extra>",
           "hovertext": [
            "ASKANIJA-NOVA",
            "BELAJA_CERKOV'",
            "BELOPOL'E",
            "BEREZANY",
            "BOBRYNETS'",
            "BORISPOL'/KIEV",
            "BRODY",
            "CERNIGOV",
            "CERNOBYL'",
            "CERNOMORSKOE",
            "CERTKOV",
            "CHERNIVTSI",
            "CHYHYRYN",
            "DROGOBYC",
            "GADJAC",
            "GAJSIN",
            "GENICESK",
            "HERSON",
            "HMEL'NICKIJ",
            "HUTOR_MIHAJLOVSKIJ",
            "IMENI_STARCENKO",
            "IZMAIL",
            "JAGOTIN",
            "KAHOVKA",
            "KAMENETS_PODOL'SKIJ",
            "KERC'",
            "KIEV/ZHULYANY",
            "KIROVOGRAD",
            "KOBELIAKY",
            "KOLOMYJA",
            "KOMISSAROVKA",
            "KONOTOP",
            "KOVEL'",
            "KRYVYI_RIH",
            "L'VIV",
            "LJUBASEVKA",
            "LUBNY",
            "LUCK",
            "MOGILEV-PODOL'SKIJ",
            "NEZIN",
            "NOVAYA_ULICA",
            "NOVGOROD_VOLYNSKIJ",
            "ODESSA/TSENTRALNY",
            "OVRUC",
            "OZERNA",
            "POLTAVA",
            "PRILUKI",
            "RAVA_RUSSKAJA",
            "ROMNY",
            "ROVNO",
            "SARNY",
            "SELETIN",
            "SEMENOVKA",
            "SEPETOVKA",
            "SIMFEROPOL'",
            "SUMY",
            "SVITLOVODS'K",
            "TERNOPOL'",
            "TETEREV",
            "UMAN'",
            "UZGOROD",
            "VELIKAIA_ALEKSANDRO",
            "VESELYJ_PODOL",
            "VINNICA",
            "VLADIMIR-VOLYNSKIJ",
            "VOZNESENSK",
            "ZHASHKOV",
            "ZITOMIR",
            "ZNAMENKA"
           ],
           "ids": [
            20.83214285714286,
            17.685714285714287,
            17.017857142857142,
            16.12857142857143,
            19.992857142857144,
            17.15,
            15.735714285714284,
            16.286666666666665,
            16.360714285714284,
            21.064285714285713,
            16.742857142857144,
            17.446666666666665,
            18.732142857142854,
            15.721428571428573,
            18.178571428571434,
            18.325000000000006,
            21.435714285714287,
            20.849999999999998,
            16.496666666666663,
            15.914285714285713,
            18.149999999999995,
            20.34444444444444,
            18.014285714285712,
            21.632142857142863,
            18.010714285714286,
            22.096428571428564,
            17.43,
            19.04666666666667,
            19.760714285714283,
            15.799999999999997,
            19.189285714285713,
            16.923333333333336,
            15.514814814814814,
            20.136666666666663,
            15.563333333333333,
            19.143333333333334,
            18.12666666666667,
            16.081481481481482,
            18.71,
            16.885714285714283,
            17.485714285714284,
            16.367857142857137,
            20.310000000000002,
            16.346428571428568,
            18.485714285714288,
            18.72666666666667,
            17.52857142857143,
            15.548148148148151,
            17.135714285714283,
            16.369999999999997,
            15.843333333333335,
            13.38148148148148,
            15.88571428571429,
            16.029999999999998,
            21.439285714285713,
            16.676666666666666,
            19.223333333333336,
            16.09,
            17.325,
            17.709999999999997,
            18.54666666666667,
            21.053571428571423,
            18.235714285714288,
            17.02,
            15.400000000000002,
            21.139285714285716,
            17.860714285714284,
            16.893333333333334,
            18.44285714285714
           ],
           "lat": [
            46.26999999999999,
            49.47000000000002,
            49.5,
            49.26,
            48.02999999999998,
            50.200000000000024,
            50.05999999999997,
            51.28999999999998,
            51.17000000000001,
            45.30999999999997,
            49.01,
            48.22000000000002,
            49.03999999999998,
            49.21000000000002,
            50.22000000000002,
            48.48000000000001,
            46.1,
            46.400000000000006,
            49.24,
            52.02999999999998,
            49.40000000000001,
            45.22000000000002,
            50.13000000000003,
            46.48000000000001,
            48.40000000000001,
            45.24,
            50.24,
            48.28999999999998,
            49.08999999999999,
            48.32,
            48.26,
            51.14000000000002,
            51.130000000000024,
            47.53999999999998,
            49.49,
            47.51,
            50.01,
            50.45000000000002,
            48.26999999999999,
            51.02999999999998,
            48.51,
            50.35999999999998,
            46.26,
            51.19000000000003,
            49.049999999999976,
            49.35999999999998,
            50.34999999999999,
            50.150000000000006,
            50.46000000000002,
            50.34999999999999,
            51.21000000000002,
            47.51999999999999,
            52.10999999999997,
            50.09999999999999,
            44.41000000000001,
            50.52999999999998,
            49.02999999999998,
            49.33999999999999,
            50.42000000000001,
            48.46000000000002,
            48.38000000000003,
            47.19000000000003,
            49.36999999999997,
            49.14000000000002,
            50.5,
            47.339999999999996,
            49.15000000000001,
            50.16000000000002,
            48.43
           ],
           "legendgroup": "",
           "lon": [
            33.52999999999998,
            30.11000000000001,
            28.52999999999998,
            24.57000000000001,
            32.12,
            30.580000000000016,
            25.09,
            31.16999999999999,
            30.13999999999999,
            32.41999999999999,
            25.470000000000017,
            25.539999999999996,
            32.399999999999984,
            23.330000000000005,
            33.590000000000025,
            29.240000000000006,
            34.49,
            32.37,
            26.59,
            33.57000000000002,
            31,
            28.51999999999999,
            31.48000000000001,
            33.30999999999998,
            26.350000000000016,
            36.25,
            30.26999999999999,
            32.149999999999984,
            34.12,
            25.01999999999999,
            33.539999999999985,
            33.12,
            24.41,
            33.20000000000002,
            23.57000000000001,
            30.15999999999999,
            33,
            25.200000000000003,
            27.470000000000017,
            31.53999999999999,
            27.159999999999997,
            27.37,
            30.460000000000015,
            28.47000000000002,
            30.52999999999998,
            34.33000000000001,
            32.23000000000001,
            23.38,
            33.26999999999999,
            26.08000000000001,
            26.37,
            25.13,
            32.350000000000016,
            27.029999999999983,
            34.08000000000001,
            34.47000000000002,
            33.149999999999984,
            25.36000000000001,
            29.350000000000016,
            30.13999999999999,
            22.160000000000004,
            33.16999999999999,
            33.15999999999999,
            28.279999999999983,
            24.190000000000015,
            31.200000000000014,
            30.059999999999985,
            28.38,
            32.399999999999984
           ],
           "marker": {
            "color": [
             20.83214285714286,
             17.685714285714287,
             17.017857142857142,
             16.12857142857143,
             19.992857142857144,
             17.15,
             15.735714285714284,
             16.286666666666665,
             16.360714285714284,
             21.064285714285713,
             16.742857142857144,
             17.446666666666665,
             18.732142857142854,
             15.721428571428573,
             18.178571428571434,
             18.325000000000006,
             21.435714285714287,
             20.849999999999998,
             16.496666666666663,
             15.914285714285713,
             18.149999999999995,
             20.34444444444444,
             18.014285714285712,
             21.632142857142863,
             18.010714285714286,
             22.096428571428564,
             17.43,
             19.04666666666667,
             19.760714285714283,
             15.799999999999997,
             19.189285714285713,
             16.923333333333336,
             15.514814814814814,
             20.136666666666663,
             15.563333333333333,
             19.143333333333334,
             18.12666666666667,
             16.081481481481482,
             18.71,
             16.885714285714283,
             17.485714285714284,
             16.367857142857137,
             20.310000000000002,
             16.346428571428568,
             18.485714285714288,
             18.72666666666667,
             17.52857142857143,
             15.548148148148151,
             17.135714285714283,
             16.369999999999997,
             15.843333333333335,
             13.38148148148148,
             15.88571428571429,
             16.029999999999998,
             21.439285714285713,
             16.676666666666666,
             19.223333333333336,
             16.09,
             17.325,
             17.709999999999997,
             18.54666666666667,
             21.053571428571423,
             18.235714285714288,
             17.02,
             15.400000000000002,
             21.139285714285716,
             17.860714285714284,
             16.893333333333334,
             18.44285714285714
            ],
            "coloraxis": "coloraxis",
            "symbol": "circle"
           },
           "mode": "markers",
           "name": "",
           "showlegend": false,
           "type": "scattergeo"
          }
         ],
         "name": "9"
        },
        {
         "data": [
          {
           "geo": "geo",
           "hovertemplate": "<b>%{hovertext}</b><br><br>month=10<br>lat=%{lat}<br>lon=%{lon}<br>temp=%{marker.color}<extra></extra>",
           "hovertext": [
            "ASKANIJA-NOVA",
            "BELAJA_CERKOV'",
            "BELOPOL'E",
            "BEREZANY",
            "BOBRYNETS'",
            "BORISPOL'/KIEV",
            "BRODY",
            "CERNIGOV",
            "CERNOBYL'",
            "CERNOMORSKOE",
            "CERTKOV",
            "CHERNIVTSI",
            "CHYHYRYN",
            "DROGOBYC",
            "GADJAC",
            "GAJSIN",
            "GENICESK",
            "HERSON",
            "HMEL'NICKIJ",
            "HUTOR_MIHAJLOVSKIJ",
            "IMENI_STARCENKO",
            "IZMAIL",
            "JAGOTIN",
            "KAHOVKA",
            "KAMENETS_PODOL'SKIJ",
            "KERC'",
            "KIEV/ZHULYANY",
            "KIROVOGRAD",
            "KOBELIAKY",
            "KOLOMYJA",
            "KOMISSAROVKA",
            "KONOTOP",
            "KOVEL'",
            "KRYVYI_RIH",
            "L'VIV",
            "LJUBASEVKA",
            "LUBNY",
            "LUCK",
            "MOGILEV-PODOL'SKIJ",
            "NEZIN",
            "NOVAYA_ULICA",
            "NOVGOROD_VOLYNSKIJ",
            "ODESSA/TSENTRALNY",
            "OVRUC",
            "OZERNA",
            "POLTAVA",
            "PRILUKI",
            "RAVA_RUSSKAJA",
            "ROMNY",
            "ROVNO",
            "SARNY",
            "SELETIN",
            "SEMENOVKA",
            "SEPETOVKA",
            "SIMFEROPOL'",
            "SUMY",
            "SVITLOVODS'K",
            "TERNOPOL'",
            "TETEREV",
            "UMAN'",
            "UZGOROD",
            "VELIKAIA_ALEKSANDRO",
            "VESELYJ_PODOL",
            "VINNICA",
            "VLADIMIR-VOLYNSKIJ",
            "VOZNESENSK",
            "ZHASHKOV",
            "ZITOMIR",
            "ZNAMENKA"
           ],
           "ids": [
            9.006451612903227,
            6.7193548387096795,
            6.509677419354839,
            7.280645161290322,
            7.919354838709675,
            5.935483870967741,
            7.0193548387096785,
            5.251612903225806,
            5.548387096774195,
            11.387096774193546,
            7.6000000000000005,
            8.55806451612903,
            6.935483870967742,
            7.193548387096774,
            5.825806451612903,
            7.2806451612903205,
            10.435483870967742,
            9.3,
            7.303225806451613,
            3.841935483870968,
            6.929032258064517,
            10.703225806451613,
            6.316129032258065,
            10.093548387096776,
            8.235483870967741,
            11.570967741935483,
            6.529032258064516,
            7.106451612903227,
            7.064516129032256,
            7.358064516129033,
            6.419354838709676,
            5.3774193548387075,
            6.7548387096774185,
            7.948387096774194,
            7.141935483870967,
            8.422580645161291,
            6.290322580645162,
            7.0516129032258075,
            8.764516129032256,
            5.225806451612902,
            7.790322580645161,
            6.458064516129031,
            10.380645161290325,
            5.880645161290321,
            6.967741935483872,
            6.49677419354839,
            5.538709677419354,
            6.929032258064518,
            5.564516129032259,
            6.861290322580647,
            6.412903225806452,
            5.2,
            4.548387096774194,
            6.654838709677419,
            10.709677419354838,
            5.0193548387096785,
            7.651612903225805,
            7.058064516129034,
            5.641935483870966,
            6.812903225806453,
            10.416129032258064,
            8.574193548387097,
            6.209677419354839,
            7.006451612903225,
            6.854838709677421,
            9.019354838709678,
            6.835483870967744,
            6.783870967741937,
            6.567741935483872
           ],
           "lat": [
            46.26999999999999,
            49.47000000000002,
            49.5,
            49.26,
            48.02999999999998,
            50.200000000000024,
            50.05999999999997,
            51.28999999999998,
            51.170000000000016,
            45.30999999999997,
            49.01,
            48.22000000000002,
            49.03999999999998,
            49.21000000000002,
            50.22000000000002,
            48.48000000000001,
            46.09999999999999,
            46.40000000000001,
            49.24,
            52.02999999999998,
            49.40000000000002,
            45.22000000000002,
            50.13000000000004,
            46.48000000000001,
            48.40000000000002,
            45.24,
            50.24,
            48.28999999999998,
            49.08999999999998,
            48.31999999999999,
            48.26,
            51.14000000000003,
            51.13000000000004,
            47.53999999999998,
            49.49,
            47.51,
            50.01,
            50.450000000000024,
            48.26999999999999,
            51.02999999999998,
            48.51,
            50.35999999999997,
            46.26,
            51.19000000000003,
            49.049999999999976,
            49.35999999999997,
            50.34999999999998,
            50.15000000000002,
            50.46000000000002,
            50.34999999999998,
            51.21000000000002,
            47.51999999999999,
            52.109999999999964,
            50.09999999999998,
            44.41000000000002,
            50.52999999999998,
            49.02999999999998,
            49.33999999999998,
            50.420000000000016,
            48.46000000000002,
            48.38000000000004,
            47.19000000000003,
            49.36999999999996,
            49.14000000000003,
            50.5,
            47.33999999999999,
            49.15000000000002,
            50.160000000000025,
            48.43000000000001
           ],
           "legendgroup": "",
           "lon": [
            33.52999999999998,
            30.11000000000001,
            28.52999999999998,
            24.570000000000014,
            32.12,
            30.580000000000016,
            25.090000000000003,
            31.169999999999987,
            30.13999999999999,
            32.41999999999999,
            25.470000000000017,
            25.539999999999992,
            32.399999999999984,
            23.33000000000001,
            33.59000000000002,
            29.240000000000006,
            34.49,
            32.37,
            26.590000000000003,
            33.57000000000002,
            31,
            28.51999999999999,
            31.48000000000001,
            33.309999999999974,
            26.350000000000016,
            36.25,
            30.26999999999999,
            32.149999999999984,
            34.12,
            25.01999999999999,
            33.539999999999985,
            33.12,
            24.409999999999997,
            33.20000000000002,
            23.570000000000014,
            30.15999999999999,
            33,
            25.20000000000001,
            27.470000000000017,
            31.539999999999985,
            27.159999999999993,
            27.37,
            30.460000000000015,
            28.47000000000002,
            30.52999999999998,
            34.330000000000005,
            32.23000000000001,
            23.38,
            33.26999999999999,
            26.080000000000013,
            26.37,
            25.13,
            32.350000000000016,
            27.029999999999983,
            34.08000000000001,
            34.47000000000002,
            33.14999999999999,
            25.36000000000001,
            29.350000000000016,
            30.13999999999999,
            22.16,
            33.16999999999999,
            33.16,
            28.279999999999983,
            24.19000000000002,
            31.200000000000017,
            30.05999999999998,
            28.38,
            32.399999999999984
           ],
           "marker": {
            "color": [
             9.006451612903227,
             6.7193548387096795,
             6.509677419354839,
             7.280645161290322,
             7.919354838709675,
             5.935483870967741,
             7.0193548387096785,
             5.251612903225806,
             5.548387096774195,
             11.387096774193546,
             7.6000000000000005,
             8.55806451612903,
             6.935483870967742,
             7.193548387096774,
             5.825806451612903,
             7.2806451612903205,
             10.435483870967742,
             9.3,
             7.303225806451613,
             3.841935483870968,
             6.929032258064517,
             10.703225806451613,
             6.316129032258065,
             10.093548387096776,
             8.235483870967741,
             11.570967741935483,
             6.529032258064516,
             7.106451612903227,
             7.064516129032256,
             7.358064516129033,
             6.419354838709676,
             5.3774193548387075,
             6.7548387096774185,
             7.948387096774194,
             7.141935483870967,
             8.422580645161291,
             6.290322580645162,
             7.0516129032258075,
             8.764516129032256,
             5.225806451612902,
             7.790322580645161,
             6.458064516129031,
             10.380645161290325,
             5.880645161290321,
             6.967741935483872,
             6.49677419354839,
             5.538709677419354,
             6.929032258064518,
             5.564516129032259,
             6.861290322580647,
             6.412903225806452,
             5.2,
             4.548387096774194,
             6.654838709677419,
             10.709677419354838,
             5.0193548387096785,
             7.651612903225805,
             7.058064516129034,
             5.641935483870966,
             6.812903225806453,
             10.416129032258064,
             8.574193548387097,
             6.209677419354839,
             7.006451612903225,
             6.854838709677421,
             9.019354838709678,
             6.835483870967744,
             6.783870967741937,
             6.567741935483872
            ],
            "coloraxis": "coloraxis",
            "symbol": "circle"
           },
           "mode": "markers",
           "name": "",
           "showlegend": false,
           "type": "scattergeo"
          }
         ],
         "name": "10"
        },
        {
         "data": [
          {
           "geo": "geo",
           "hovertemplate": "<b>%{hovertext}</b><br><br>month=11<br>lat=%{lat}<br>lon=%{lon}<br>temp=%{marker.color}<extra></extra>",
           "hovertext": [
            "ASKANIJA-NOVA",
            "BELAJA_CERKOV'",
            "BELOPOL'E",
            "BEREZANY",
            "BOBRYNETS'",
            "BORISPOL'/KIEV",
            "BRODY",
            "CERNIGOV",
            "CERNOBYL'",
            "CERNOMORSKOE",
            "CERTKOV",
            "CHERNIVTSI",
            "CHYHYRYN",
            "DROGOBYC",
            "GADJAC",
            "GAJSIN",
            "GENICESK",
            "HERSON",
            "HMEL'NICKIJ",
            "HUTOR_MIHAJLOVSKIJ",
            "IMENI_STARCENKO",
            "IZMAIL",
            "JAGOTIN",
            "KAHOVKA",
            "KAMENETS_PODOL'SKIJ",
            "KERC'",
            "KIEV/ZHULYANY",
            "KIROVOGRAD",
            "KOBELIAKY",
            "KOLOMYJA",
            "KOMISSAROVKA",
            "KONOTOP",
            "KOVEL'",
            "KRYVYI_RIH",
            "L'VIV",
            "LJUBASEVKA",
            "LUBNY",
            "LUCK",
            "MOGILEV-PODOL'SKIJ",
            "NEZIN",
            "NOVAYA_ULICA",
            "NOVGOROD_VOLYNSKIJ",
            "ODESSA/TSENTRALNY",
            "OVRUC",
            "OZERNA",
            "POLTAVA",
            "PRILUKI",
            "RAVA_RUSSKAJA",
            "ROMNY",
            "ROVNO",
            "SARNY",
            "SELETIN",
            "SEMENOVKA",
            "SEPETOVKA",
            "SIMFEROPOL'",
            "SUMY",
            "SVITLOVODS'K",
            "TERNOPOL'",
            "TETEREV",
            "UMAN'",
            "UZGOROD",
            "VELIKAIA_ALEKSANDRO",
            "VESELYJ_PODOL",
            "VINNICA",
            "VLADIMIR-VOLYNSKIJ",
            "VOZNESENSK",
            "ZHASHKOV",
            "ZITOMIR",
            "ZNAMENKA"
           ],
           "ids": [
            7.206666666666667,
            4.23,
            4.0266666666666655,
            4.71,
            5.459999999999999,
            4.040000000000001,
            5.1833333333333345,
            3.5366666666666675,
            3.7899999999999996,
            10.053333333333333,
            4.763333333333334,
            6.070000000000002,
            5.110000000000001,
            5.216666666666668,
            3.8200000000000003,
            4.636666666666667,
            8.006666666666668,
            7.2633333333333345,
            4.133333333333335,
            2.2399999999999998,
            4.6433333333333335,
            8.806666666666667,
            4.13,
            7.443333333333336,
            4.88,
            8.856666666666664,
            4.383333333333334,
            4.763333333333334,
            4.403333333333334,
            4.926666666666666,
            5.0299999999999985,
            3.230000000000001,
            4.833333333333333,
            5.360000000000001,
            4.65,
            5.510000000000001,
            4.083333333333333,
            4.713333333333334,
            5.733333333333332,
            3.706666666666666,
            4.5166666666666675,
            4.183333333333332,
            7.973333333333334,
            3.8033333333333337,
            4.426666666666666,
            4.08,
            3.81,
            4.963333333333334,
            3.4266666666666667,
            4.553333333333334,
            4.453333333333334,
            2.846666666666667,
            2.896666666666666,
            4.05,
            9.133333333333335,
            2.873333333333334,
            5.3533333333333335,
            4.363333333333332,
            3.9766666666666666,
            4.613333333333333,
            5.156666666666668,
            6.519999999999999,
            4.379999999999999,
            4.19,
            4.989999999999999,
            6.536666666666666,
            4.27,
            4.316666666666666,
            4.523333333333335
           ],
           "lat": [
            46.26999999999999,
            49.47000000000002,
            49.5,
            49.26,
            48.02999999999998,
            50.200000000000024,
            50.05999999999997,
            51.28999999999998,
            51.17000000000001,
            45.30999999999997,
            49.01,
            48.22000000000002,
            49.03999999999998,
            49.21000000000002,
            50.22000000000002,
            48.48000000000001,
            46.099999999999994,
            46.400000000000006,
            49.24,
            52.02999999999998,
            49.40000000000001,
            45.22000000000002,
            50.13000000000003,
            46.48000000000001,
            48.40000000000001,
            45.24,
            50.24,
            48.28999999999998,
            49.08999999999999,
            48.32,
            48.26,
            51.14000000000002,
            51.13000000000003,
            47.53999999999998,
            49.49,
            47.51,
            50.01,
            50.450000000000024,
            48.26999999999999,
            51.02999999999998,
            48.51,
            50.35999999999998,
            46.26,
            51.19000000000003,
            49.049999999999976,
            49.35999999999998,
            50.34999999999999,
            50.15000000000001,
            50.46000000000002,
            50.34999999999999,
            51.21000000000002,
            47.51999999999999,
            52.10999999999997,
            50.09999999999999,
            44.41000000000001,
            50.52999999999998,
            49.02999999999998,
            49.33999999999999,
            50.42000000000001,
            48.46000000000002,
            48.38000000000003,
            47.19000000000003,
            49.36999999999997,
            49.14000000000002,
            50.5,
            47.339999999999996,
            49.15000000000001,
            50.16000000000002,
            48.43
           ],
           "legendgroup": "",
           "lon": [
            33.52999999999998,
            30.11000000000001,
            28.52999999999998,
            24.57000000000001,
            32.12,
            30.580000000000016,
            25.09,
            31.16999999999999,
            30.13999999999999,
            32.41999999999999,
            25.470000000000017,
            25.539999999999996,
            32.399999999999984,
            23.330000000000005,
            33.590000000000025,
            29.240000000000006,
            34.49,
            32.37,
            26.59,
            33.57000000000002,
            31,
            28.51999999999999,
            31.48000000000001,
            33.309999999999974,
            26.350000000000016,
            36.25,
            30.26999999999999,
            32.149999999999984,
            34.12,
            25.01999999999999,
            33.539999999999985,
            33.12,
            24.41,
            33.20000000000002,
            23.57000000000001,
            30.15999999999999,
            33,
            25.200000000000006,
            27.470000000000017,
            31.539999999999985,
            27.159999999999993,
            27.37,
            30.460000000000015,
            28.47000000000002,
            30.52999999999998,
            34.33000000000001,
            32.23000000000001,
            23.38,
            33.26999999999999,
            26.08000000000001,
            26.37,
            25.13,
            32.350000000000016,
            27.029999999999983,
            34.08000000000001,
            34.47000000000002,
            33.149999999999984,
            25.36000000000001,
            29.350000000000016,
            30.13999999999999,
            22.160000000000004,
            33.16999999999999,
            33.15999999999999,
            28.279999999999983,
            24.190000000000015,
            31.200000000000014,
            30.059999999999985,
            28.38,
            32.399999999999984
           ],
           "marker": {
            "color": [
             7.206666666666667,
             4.23,
             4.0266666666666655,
             4.71,
             5.459999999999999,
             4.040000000000001,
             5.1833333333333345,
             3.5366666666666675,
             3.7899999999999996,
             10.053333333333333,
             4.763333333333334,
             6.070000000000002,
             5.110000000000001,
             5.216666666666668,
             3.8200000000000003,
             4.636666666666667,
             8.006666666666668,
             7.2633333333333345,
             4.133333333333335,
             2.2399999999999998,
             4.6433333333333335,
             8.806666666666667,
             4.13,
             7.443333333333336,
             4.88,
             8.856666666666664,
             4.383333333333334,
             4.763333333333334,
             4.403333333333334,
             4.926666666666666,
             5.0299999999999985,
             3.230000000000001,
             4.833333333333333,
             5.360000000000001,
             4.65,
             5.510000000000001,
             4.083333333333333,
             4.713333333333334,
             5.733333333333332,
             3.706666666666666,
             4.5166666666666675,
             4.183333333333332,
             7.973333333333334,
             3.8033333333333337,
             4.426666666666666,
             4.08,
             3.81,
             4.963333333333334,
             3.4266666666666667,
             4.553333333333334,
             4.453333333333334,
             2.846666666666667,
             2.896666666666666,
             4.05,
             9.133333333333335,
             2.873333333333334,
             5.3533333333333335,
             4.363333333333332,
             3.9766666666666666,
             4.613333333333333,
             5.156666666666668,
             6.519999999999999,
             4.379999999999999,
             4.19,
             4.989999999999999,
             6.536666666666666,
             4.27,
             4.316666666666666,
             4.523333333333335
            ],
            "coloraxis": "coloraxis",
            "symbol": "circle"
           },
           "mode": "markers",
           "name": "",
           "showlegend": false,
           "type": "scattergeo"
          }
         ],
         "name": "11"
        },
        {
         "data": [
          {
           "geo": "geo",
           "hovertemplate": "<b>%{hovertext}</b><br><br>month=12<br>lat=%{lat}<br>lon=%{lon}<br>temp=%{marker.color}<extra></extra>",
           "hovertext": [
            "ASKANIJA-NOVA",
            "BELAJA_CERKOV'",
            "BELOPOL'E",
            "BEREZANY",
            "BOBRYNETS'",
            "BORISPOL'/KIEV",
            "BRODY",
            "CERNIGOV",
            "CERNOBYL'",
            "CERNOMORSKOE",
            "CERTKOV",
            "CHERNIVTSI",
            "CHYHYRYN",
            "DROGOBYC",
            "GADJAC",
            "GAJSIN",
            "GENICESK",
            "HERSON",
            "HMEL'NICKIJ",
            "HUTOR_MIHAJLOVSKIJ",
            "IMENI_STARCENKO",
            "IZMAIL",
            "JAGOTIN",
            "KAHOVKA",
            "KAMENETS_PODOL'SKIJ",
            "KERC'",
            "KIEV/ZHULYANY",
            "KIROVOGRAD",
            "KOBELIAKY",
            "KOLOMYJA",
            "KOMISSAROVKA",
            "KONOTOP",
            "KOVEL'",
            "KRYVYI_RIH",
            "L'VIV",
            "LJUBASEVKA",
            "LUBNY",
            "LUCK",
            "MOGILEV-PODOL'SKIJ",
            "NEZIN",
            "NOVAYA_ULICA",
            "NOVGOROD_VOLYNSKIJ",
            "ODESSA/TSENTRALNY",
            "OVRUC",
            "OZERNA",
            "POLTAVA",
            "PRILUKI",
            "RAVA_RUSSKAJA",
            "ROMNY",
            "ROVNO",
            "SARNY",
            "SELETIN",
            "SEMENOVKA",
            "SEPETOVKA",
            "SIMFEROPOL'",
            "SUMY",
            "SVITLOVODS'K",
            "TERNOPOL'",
            "TETEREV",
            "UMAN'",
            "UZGOROD",
            "VELIKAIA_ALEKSANDRO",
            "VESELYJ_PODOL",
            "VINNICA",
            "VLADIMIR-VOLYNSKIJ",
            "VOZNESENSK",
            "ZHASHKOV",
            "ZITOMIR",
            "ZNAMENKA"
           ],
           "ids": [
            2.335483870967742,
            1.5419354838709676,
            1.5322580645161286,
            3.0322580645161294,
            1.4548387096774194,
            1.4096774193548383,
            3.1645161290322585,
            1.1451612903225812,
            1.1870967741935485,
            5.270967741935484,
            2.5774193548387094,
            3.3096774193548395,
            1.7387096774193556,
            3.9774193548387102,
            0.42903225806451606,
            1.696774193548387,
            2.8290322580645157,
            2.2,
            1.7677419354838708,
            0.3322580645161291,
            1.748387096774194,
            2.803225806451613,
            1.1451612903225807,
            2.722580645161289,
            1.8451612903225807,
            3.94516129032258,
            1.580645161290323,
            1.1387096774193546,
            0.4967741935483873,
            1.9870967741935481,
            0.6548387096774196,
            0.6580645161290323,
            3.0193548387096776,
            0.8064516129032258,
            2.6774193548387095,
            1.8193548387096776,
            0.6838709677419356,
            2.6,
            2.190322580645162,
            1.1774193548387097,
            1.9096774193548383,
            1.854838709677419,
            2.3709677419354853,
            1.5419354838709678,
            1.3741935483870973,
            0.26774193548387076,
            0.7064516129032261,
            3.0612903225806454,
            0.33870967741935454,
            2.0903225806451617,
            2.367741935483871,
            -1.474193548387097,
            0.890322580645161,
            1.7387096774193547,
            3.061290322580645,
            0.08064516129032269,
            1.8064516129032253,
            2.419354838709678,
            1.2903225806451613,
            1.619354838709677,
            2.7838709677419358,
            1.8935483870967742,
            0.829032258064516,
            1.596774193548387,
            3.2032258064516133,
            2.2161290322580642,
            1.3838709677419354,
            2.038709677419355,
            1.0290322580645157
           ],
           "lat": [
            46.26999999999999,
            49.47000000000002,
            49.5,
            49.26,
            48.02999999999998,
            50.200000000000024,
            50.05999999999997,
            51.28999999999998,
            51.170000000000016,
            45.30999999999997,
            49.01,
            48.22000000000002,
            49.03999999999998,
            49.21000000000002,
            50.22000000000002,
            48.48000000000001,
            46.09999999999999,
            46.40000000000001,
            49.24,
            52.02999999999998,
            49.40000000000002,
            45.22000000000002,
            50.13000000000004,
            46.48000000000001,
            48.40000000000002,
            45.24,
            50.24,
            48.28999999999998,
            49.08999999999998,
            48.31999999999999,
            48.26,
            51.14000000000003,
            51.13000000000004,
            47.53999999999998,
            49.49,
            47.51,
            50.01,
            50.450000000000024,
            48.26999999999999,
            51.02999999999998,
            48.51,
            50.35999999999997,
            46.26,
            51.19000000000003,
            49.049999999999976,
            49.35999999999997,
            50.34999999999998,
            50.15000000000002,
            50.46000000000002,
            50.34999999999998,
            51.21000000000002,
            47.51999999999999,
            52.109999999999964,
            50.09999999999998,
            44.41000000000002,
            50.52999999999998,
            49.02999999999998,
            49.33999999999998,
            50.420000000000016,
            48.46000000000002,
            48.38000000000004,
            47.19000000000003,
            49.36999999999996,
            49.14000000000003,
            50.5,
            47.33999999999999,
            49.15000000000002,
            50.160000000000025,
            48.43000000000001
           ],
           "legendgroup": "",
           "lon": [
            33.52999999999998,
            30.11000000000001,
            28.52999999999998,
            24.570000000000014,
            32.12,
            30.580000000000016,
            25.090000000000003,
            31.169999999999987,
            30.13999999999999,
            32.41999999999999,
            25.470000000000017,
            25.539999999999992,
            32.399999999999984,
            23.33000000000001,
            33.59000000000002,
            29.240000000000006,
            34.49,
            32.37,
            26.590000000000003,
            33.57000000000002,
            31,
            28.51999999999999,
            31.48000000000001,
            33.309999999999974,
            26.350000000000016,
            36.25,
            30.26999999999999,
            32.149999999999984,
            34.12,
            25.01999999999999,
            33.539999999999985,
            33.12,
            24.409999999999997,
            33.20000000000002,
            23.570000000000014,
            30.15999999999999,
            33,
            25.20000000000001,
            27.470000000000017,
            31.539999999999985,
            27.159999999999993,
            27.37,
            30.460000000000015,
            28.47000000000002,
            30.52999999999998,
            34.330000000000005,
            32.23000000000001,
            23.38,
            33.26999999999999,
            26.080000000000013,
            26.37,
            25.13,
            32.350000000000016,
            27.029999999999983,
            34.08000000000001,
            34.47000000000002,
            33.14999999999999,
            25.36000000000001,
            29.350000000000016,
            30.13999999999999,
            22.16,
            33.16999999999999,
            33.16,
            28.279999999999983,
            24.19000000000002,
            31.200000000000017,
            30.05999999999998,
            28.38,
            32.399999999999984
           ],
           "marker": {
            "color": [
             2.335483870967742,
             1.5419354838709676,
             1.5322580645161286,
             3.0322580645161294,
             1.4548387096774194,
             1.4096774193548383,
             3.1645161290322585,
             1.1451612903225812,
             1.1870967741935485,
             5.270967741935484,
             2.5774193548387094,
             3.3096774193548395,
             1.7387096774193556,
             3.9774193548387102,
             0.42903225806451606,
             1.696774193548387,
             2.8290322580645157,
             2.2,
             1.7677419354838708,
             0.3322580645161291,
             1.748387096774194,
             2.803225806451613,
             1.1451612903225807,
             2.722580645161289,
             1.8451612903225807,
             3.94516129032258,
             1.580645161290323,
             1.1387096774193546,
             0.4967741935483873,
             1.9870967741935481,
             0.6548387096774196,
             0.6580645161290323,
             3.0193548387096776,
             0.8064516129032258,
             2.6774193548387095,
             1.8193548387096776,
             0.6838709677419356,
             2.6,
             2.190322580645162,
             1.1774193548387097,
             1.9096774193548383,
             1.854838709677419,
             2.3709677419354853,
             1.5419354838709678,
             1.3741935483870973,
             0.26774193548387076,
             0.7064516129032261,
             3.0612903225806454,
             0.33870967741935454,
             2.0903225806451617,
             2.367741935483871,
             -1.474193548387097,
             0.890322580645161,
             1.7387096774193547,
             3.061290322580645,
             0.08064516129032269,
             1.8064516129032253,
             2.419354838709678,
             1.2903225806451613,
             1.619354838709677,
             2.7838709677419358,
             1.8935483870967742,
             0.829032258064516,
             1.596774193548387,
             3.2032258064516133,
             2.2161290322580642,
             1.3838709677419354,
             2.038709677419355,
             1.0290322580645157
            ],
            "coloraxis": "coloraxis",
            "symbol": "circle"
           },
           "mode": "markers",
           "name": "",
           "showlegend": false,
           "type": "scattergeo"
          }
         ],
         "name": "12"
        }
       ],
       "layout": {
        "coloraxis": {
         "colorbar": {
          "title": {
           "text": "temp"
          }
         },
         "colorscale": [
          [
           0,
           "#0d0887"
          ],
          [
           0.1111111111111111,
           "#46039f"
          ],
          [
           0.2222222222222222,
           "#7201a8"
          ],
          [
           0.3333333333333333,
           "#9c179e"
          ],
          [
           0.4444444444444444,
           "#bd3786"
          ],
          [
           0.5555555555555556,
           "#d8576b"
          ],
          [
           0.6666666666666666,
           "#ed7953"
          ],
          [
           0.7777777777777778,
           "#fb9f3a"
          ],
          [
           0.8888888888888888,
           "#fdca26"
          ],
          [
           1,
           "#f0f921"
          ]
         ]
        },
        "geo": {
         "center": {
          "lat": 52,
          "lon": 32
         },
         "domain": {
          "x": [
           0,
           1
          ],
          "y": [
           0,
           1
          ]
         },
         "projection": {
          "scale": 4.5
         },
         "scope": "europe"
        },
        "height": 800,
        "legend": {
         "tracegroupgap": 0
        },
        "margin": {
         "t": 60
        },
        "sliders": [
         {
          "active": 0,
          "currentvalue": {
           "prefix": "month="
          },
          "len": 0.9,
          "pad": {
           "b": 10,
           "t": 60
          },
          "steps": [
           {
            "args": [
             [
              "1"
             ],
             {
              "frame": {
               "duration": 0,
               "redraw": true
              },
              "fromcurrent": true,
              "mode": "immediate",
              "transition": {
               "duration": 0,
               "easing": "linear"
              }
             }
            ],
            "label": "1",
            "method": "animate"
           },
           {
            "args": [
             [
              "2"
             ],
             {
              "frame": {
               "duration": 0,
               "redraw": true
              },
              "fromcurrent": true,
              "mode": "immediate",
              "transition": {
               "duration": 0,
               "easing": "linear"
              }
             }
            ],
            "label": "2",
            "method": "animate"
           },
           {
            "args": [
             [
              "3"
             ],
             {
              "frame": {
               "duration": 0,
               "redraw": true
              },
              "fromcurrent": true,
              "mode": "immediate",
              "transition": {
               "duration": 0,
               "easing": "linear"
              }
             }
            ],
            "label": "3",
            "method": "animate"
           },
           {
            "args": [
             [
              "4"
             ],
             {
              "frame": {
               "duration": 0,
               "redraw": true
              },
              "fromcurrent": true,
              "mode": "immediate",
              "transition": {
               "duration": 0,
               "easing": "linear"
              }
             }
            ],
            "label": "4",
            "method": "animate"
           },
           {
            "args": [
             [
              "5"
             ],
             {
              "frame": {
               "duration": 0,
               "redraw": true
              },
              "fromcurrent": true,
              "mode": "immediate",
              "transition": {
               "duration": 0,
               "easing": "linear"
              }
             }
            ],
            "label": "5",
            "method": "animate"
           },
           {
            "args": [
             [
              "6"
             ],
             {
              "frame": {
               "duration": 0,
               "redraw": true
              },
              "fromcurrent": true,
              "mode": "immediate",
              "transition": {
               "duration": 0,
               "easing": "linear"
              }
             }
            ],
            "label": "6",
            "method": "animate"
           },
           {
            "args": [
             [
              "7"
             ],
             {
              "frame": {
               "duration": 0,
               "redraw": true
              },
              "fromcurrent": true,
              "mode": "immediate",
              "transition": {
               "duration": 0,
               "easing": "linear"
              }
             }
            ],
            "label": "7",
            "method": "animate"
           },
           {
            "args": [
             [
              "8"
             ],
             {
              "frame": {
               "duration": 0,
               "redraw": true
              },
              "fromcurrent": true,
              "mode": "immediate",
              "transition": {
               "duration": 0,
               "easing": "linear"
              }
             }
            ],
            "label": "8",
            "method": "animate"
           },
           {
            "args": [
             [
              "9"
             ],
             {
              "frame": {
               "duration": 0,
               "redraw": true
              },
              "fromcurrent": true,
              "mode": "immediate",
              "transition": {
               "duration": 0,
               "easing": "linear"
              }
             }
            ],
            "label": "9",
            "method": "animate"
           },
           {
            "args": [
             [
              "10"
             ],
             {
              "frame": {
               "duration": 0,
               "redraw": true
              },
              "fromcurrent": true,
              "mode": "immediate",
              "transition": {
               "duration": 0,
               "easing": "linear"
              }
             }
            ],
            "label": "10",
            "method": "animate"
           },
           {
            "args": [
             [
              "11"
             ],
             {
              "frame": {
               "duration": 0,
               "redraw": true
              },
              "fromcurrent": true,
              "mode": "immediate",
              "transition": {
               "duration": 0,
               "easing": "linear"
              }
             }
            ],
            "label": "11",
            "method": "animate"
           },
           {
            "args": [
             [
              "12"
             ],
             {
              "frame": {
               "duration": 0,
               "redraw": true
              },
              "fromcurrent": true,
              "mode": "immediate",
              "transition": {
               "duration": 0,
               "easing": "linear"
              }
             }
            ],
            "label": "12",
            "method": "animate"
           }
          ],
          "x": 0.1,
          "xanchor": "left",
          "y": 0,
          "yanchor": "top"
         }
        ],
        "template": {
         "data": {
          "bar": [
           {
            "error_x": {
             "color": "#2a3f5f"
            },
            "error_y": {
             "color": "#2a3f5f"
            },
            "marker": {
             "line": {
              "color": "#E5ECF6",
              "width": 0.5
             }
            },
            "type": "bar"
           }
          ],
          "barpolar": [
           {
            "marker": {
             "line": {
              "color": "#E5ECF6",
              "width": 0.5
             }
            },
            "type": "barpolar"
           }
          ],
          "carpet": [
           {
            "aaxis": {
             "endlinecolor": "#2a3f5f",
             "gridcolor": "white",
             "linecolor": "white",
             "minorgridcolor": "white",
             "startlinecolor": "#2a3f5f"
            },
            "baxis": {
             "endlinecolor": "#2a3f5f",
             "gridcolor": "white",
             "linecolor": "white",
             "minorgridcolor": "white",
             "startlinecolor": "#2a3f5f"
            },
            "type": "carpet"
           }
          ],
          "choropleth": [
           {
            "colorbar": {
             "outlinewidth": 0,
             "ticks": ""
            },
            "type": "choropleth"
           }
          ],
          "contour": [
           {
            "colorbar": {
             "outlinewidth": 0,
             "ticks": ""
            },
            "colorscale": [
             [
              0,
              "#0d0887"
             ],
             [
              0.1111111111111111,
              "#46039f"
             ],
             [
              0.2222222222222222,
              "#7201a8"
             ],
             [
              0.3333333333333333,
              "#9c179e"
             ],
             [
              0.4444444444444444,
              "#bd3786"
             ],
             [
              0.5555555555555556,
              "#d8576b"
             ],
             [
              0.6666666666666666,
              "#ed7953"
             ],
             [
              0.7777777777777778,
              "#fb9f3a"
             ],
             [
              0.8888888888888888,
              "#fdca26"
             ],
             [
              1,
              "#f0f921"
             ]
            ],
            "type": "contour"
           }
          ],
          "contourcarpet": [
           {
            "colorbar": {
             "outlinewidth": 0,
             "ticks": ""
            },
            "type": "contourcarpet"
           }
          ],
          "heatmap": [
           {
            "colorbar": {
             "outlinewidth": 0,
             "ticks": ""
            },
            "colorscale": [
             [
              0,
              "#0d0887"
             ],
             [
              0.1111111111111111,
              "#46039f"
             ],
             [
              0.2222222222222222,
              "#7201a8"
             ],
             [
              0.3333333333333333,
              "#9c179e"
             ],
             [
              0.4444444444444444,
              "#bd3786"
             ],
             [
              0.5555555555555556,
              "#d8576b"
             ],
             [
              0.6666666666666666,
              "#ed7953"
             ],
             [
              0.7777777777777778,
              "#fb9f3a"
             ],
             [
              0.8888888888888888,
              "#fdca26"
             ],
             [
              1,
              "#f0f921"
             ]
            ],
            "type": "heatmap"
           }
          ],
          "heatmapgl": [
           {
            "colorbar": {
             "outlinewidth": 0,
             "ticks": ""
            },
            "colorscale": [
             [
              0,
              "#0d0887"
             ],
             [
              0.1111111111111111,
              "#46039f"
             ],
             [
              0.2222222222222222,
              "#7201a8"
             ],
             [
              0.3333333333333333,
              "#9c179e"
             ],
             [
              0.4444444444444444,
              "#bd3786"
             ],
             [
              0.5555555555555556,
              "#d8576b"
             ],
             [
              0.6666666666666666,
              "#ed7953"
             ],
             [
              0.7777777777777778,
              "#fb9f3a"
             ],
             [
              0.8888888888888888,
              "#fdca26"
             ],
             [
              1,
              "#f0f921"
             ]
            ],
            "type": "heatmapgl"
           }
          ],
          "histogram": [
           {
            "marker": {
             "colorbar": {
              "outlinewidth": 0,
              "ticks": ""
             }
            },
            "type": "histogram"
           }
          ],
          "histogram2d": [
           {
            "colorbar": {
             "outlinewidth": 0,
             "ticks": ""
            },
            "colorscale": [
             [
              0,
              "#0d0887"
             ],
             [
              0.1111111111111111,
              "#46039f"
             ],
             [
              0.2222222222222222,
              "#7201a8"
             ],
             [
              0.3333333333333333,
              "#9c179e"
             ],
             [
              0.4444444444444444,
              "#bd3786"
             ],
             [
              0.5555555555555556,
              "#d8576b"
             ],
             [
              0.6666666666666666,
              "#ed7953"
             ],
             [
              0.7777777777777778,
              "#fb9f3a"
             ],
             [
              0.8888888888888888,
              "#fdca26"
             ],
             [
              1,
              "#f0f921"
             ]
            ],
            "type": "histogram2d"
           }
          ],
          "histogram2dcontour": [
           {
            "colorbar": {
             "outlinewidth": 0,
             "ticks": ""
            },
            "colorscale": [
             [
              0,
              "#0d0887"
             ],
             [
              0.1111111111111111,
              "#46039f"
             ],
             [
              0.2222222222222222,
              "#7201a8"
             ],
             [
              0.3333333333333333,
              "#9c179e"
             ],
             [
              0.4444444444444444,
              "#bd3786"
             ],
             [
              0.5555555555555556,
              "#d8576b"
             ],
             [
              0.6666666666666666,
              "#ed7953"
             ],
             [
              0.7777777777777778,
              "#fb9f3a"
             ],
             [
              0.8888888888888888,
              "#fdca26"
             ],
             [
              1,
              "#f0f921"
             ]
            ],
            "type": "histogram2dcontour"
           }
          ],
          "mesh3d": [
           {
            "colorbar": {
             "outlinewidth": 0,
             "ticks": ""
            },
            "type": "mesh3d"
           }
          ],
          "parcoords": [
           {
            "line": {
             "colorbar": {
              "outlinewidth": 0,
              "ticks": ""
             }
            },
            "type": "parcoords"
           }
          ],
          "pie": [
           {
            "automargin": true,
            "type": "pie"
           }
          ],
          "scatter": [
           {
            "marker": {
             "colorbar": {
              "outlinewidth": 0,
              "ticks": ""
             }
            },
            "type": "scatter"
           }
          ],
          "scatter3d": [
           {
            "line": {
             "colorbar": {
              "outlinewidth": 0,
              "ticks": ""
             }
            },
            "marker": {
             "colorbar": {
              "outlinewidth": 0,
              "ticks": ""
             }
            },
            "type": "scatter3d"
           }
          ],
          "scattercarpet": [
           {
            "marker": {
             "colorbar": {
              "outlinewidth": 0,
              "ticks": ""
             }
            },
            "type": "scattercarpet"
           }
          ],
          "scattergeo": [
           {
            "marker": {
             "colorbar": {
              "outlinewidth": 0,
              "ticks": ""
             }
            },
            "type": "scattergeo"
           }
          ],
          "scattergl": [
           {
            "marker": {
             "colorbar": {
              "outlinewidth": 0,
              "ticks": ""
             }
            },
            "type": "scattergl"
           }
          ],
          "scattermapbox": [
           {
            "marker": {
             "colorbar": {
              "outlinewidth": 0,
              "ticks": ""
             }
            },
            "type": "scattermapbox"
           }
          ],
          "scatterpolar": [
           {
            "marker": {
             "colorbar": {
              "outlinewidth": 0,
              "ticks": ""
             }
            },
            "type": "scatterpolar"
           }
          ],
          "scatterpolargl": [
           {
            "marker": {
             "colorbar": {
              "outlinewidth": 0,
              "ticks": ""
             }
            },
            "type": "scatterpolargl"
           }
          ],
          "scatterternary": [
           {
            "marker": {
             "colorbar": {
              "outlinewidth": 0,
              "ticks": ""
             }
            },
            "type": "scatterternary"
           }
          ],
          "surface": [
           {
            "colorbar": {
             "outlinewidth": 0,
             "ticks": ""
            },
            "colorscale": [
             [
              0,
              "#0d0887"
             ],
             [
              0.1111111111111111,
              "#46039f"
             ],
             [
              0.2222222222222222,
              "#7201a8"
             ],
             [
              0.3333333333333333,
              "#9c179e"
             ],
             [
              0.4444444444444444,
              "#bd3786"
             ],
             [
              0.5555555555555556,
              "#d8576b"
             ],
             [
              0.6666666666666666,
              "#ed7953"
             ],
             [
              0.7777777777777778,
              "#fb9f3a"
             ],
             [
              0.8888888888888888,
              "#fdca26"
             ],
             [
              1,
              "#f0f921"
             ]
            ],
            "type": "surface"
           }
          ],
          "table": [
           {
            "cells": {
             "fill": {
              "color": "#EBF0F8"
             },
             "line": {
              "color": "white"
             }
            },
            "header": {
             "fill": {
              "color": "#C8D4E3"
             },
             "line": {
              "color": "white"
             }
            },
            "type": "table"
           }
          ]
         },
         "layout": {
          "annotationdefaults": {
           "arrowcolor": "#2a3f5f",
           "arrowhead": 0,
           "arrowwidth": 1
          },
          "autotypenumbers": "strict",
          "coloraxis": {
           "colorbar": {
            "outlinewidth": 0,
            "ticks": ""
           }
          },
          "colorscale": {
           "diverging": [
            [
             0,
             "#8e0152"
            ],
            [
             0.1,
             "#c51b7d"
            ],
            [
             0.2,
             "#de77ae"
            ],
            [
             0.3,
             "#f1b6da"
            ],
            [
             0.4,
             "#fde0ef"
            ],
            [
             0.5,
             "#f7f7f7"
            ],
            [
             0.6,
             "#e6f5d0"
            ],
            [
             0.7,
             "#b8e186"
            ],
            [
             0.8,
             "#7fbc41"
            ],
            [
             0.9,
             "#4d9221"
            ],
            [
             1,
             "#276419"
            ]
           ],
           "sequential": [
            [
             0,
             "#0d0887"
            ],
            [
             0.1111111111111111,
             "#46039f"
            ],
            [
             0.2222222222222222,
             "#7201a8"
            ],
            [
             0.3333333333333333,
             "#9c179e"
            ],
            [
             0.4444444444444444,
             "#bd3786"
            ],
            [
             0.5555555555555556,
             "#d8576b"
            ],
            [
             0.6666666666666666,
             "#ed7953"
            ],
            [
             0.7777777777777778,
             "#fb9f3a"
            ],
            [
             0.8888888888888888,
             "#fdca26"
            ],
            [
             1,
             "#f0f921"
            ]
           ],
           "sequentialminus": [
            [
             0,
             "#0d0887"
            ],
            [
             0.1111111111111111,
             "#46039f"
            ],
            [
             0.2222222222222222,
             "#7201a8"
            ],
            [
             0.3333333333333333,
             "#9c179e"
            ],
            [
             0.4444444444444444,
             "#bd3786"
            ],
            [
             0.5555555555555556,
             "#d8576b"
            ],
            [
             0.6666666666666666,
             "#ed7953"
            ],
            [
             0.7777777777777778,
             "#fb9f3a"
            ],
            [
             0.8888888888888888,
             "#fdca26"
            ],
            [
             1,
             "#f0f921"
            ]
           ]
          },
          "colorway": [
           "#636efa",
           "#EF553B",
           "#00cc96",
           "#ab63fa",
           "#FFA15A",
           "#19d3f3",
           "#FF6692",
           "#B6E880",
           "#FF97FF",
           "#FECB52"
          ],
          "font": {
           "color": "#2a3f5f"
          },
          "geo": {
           "bgcolor": "white",
           "lakecolor": "white",
           "landcolor": "#E5ECF6",
           "showlakes": true,
           "showland": true,
           "subunitcolor": "white"
          },
          "hoverlabel": {
           "align": "left"
          },
          "hovermode": "closest",
          "mapbox": {
           "style": "light"
          },
          "paper_bgcolor": "white",
          "plot_bgcolor": "#E5ECF6",
          "polar": {
           "angularaxis": {
            "gridcolor": "white",
            "linecolor": "white",
            "ticks": ""
           },
           "bgcolor": "#E5ECF6",
           "radialaxis": {
            "gridcolor": "white",
            "linecolor": "white",
            "ticks": ""
           }
          },
          "scene": {
           "xaxis": {
            "backgroundcolor": "#E5ECF6",
            "gridcolor": "white",
            "gridwidth": 2,
            "linecolor": "white",
            "showbackground": true,
            "ticks": "",
            "zerolinecolor": "white"
           },
           "yaxis": {
            "backgroundcolor": "#E5ECF6",
            "gridcolor": "white",
            "gridwidth": 2,
            "linecolor": "white",
            "showbackground": true,
            "ticks": "",
            "zerolinecolor": "white"
           },
           "zaxis": {
            "backgroundcolor": "#E5ECF6",
            "gridcolor": "white",
            "gridwidth": 2,
            "linecolor": "white",
            "showbackground": true,
            "ticks": "",
            "zerolinecolor": "white"
           }
          },
          "shapedefaults": {
           "line": {
            "color": "#2a3f5f"
           }
          },
          "ternary": {
           "aaxis": {
            "gridcolor": "white",
            "linecolor": "white",
            "ticks": ""
           },
           "baxis": {
            "gridcolor": "white",
            "linecolor": "white",
            "ticks": ""
           },
           "bgcolor": "#E5ECF6",
           "caxis": {
            "gridcolor": "white",
            "linecolor": "white",
            "ticks": ""
           }
          },
          "title": {
           "x": 0.05
          },
          "xaxis": {
           "automargin": true,
           "gridcolor": "white",
           "linecolor": "white",
           "ticks": "",
           "title": {
            "standoff": 15
           },
           "zerolinecolor": "white",
           "zerolinewidth": 2
          },
          "yaxis": {
           "automargin": true,
           "gridcolor": "white",
           "linecolor": "white",
           "ticks": "",
           "title": {
            "standoff": 15
           },
           "zerolinecolor": "white",
           "zerolinewidth": 2
          }
         }
        },
        "title": {
         "text": "motnhtly average temperature in 2015"
        },
        "width": 800
       }
      },
      "text/html": [
       "<div>                            <div id=\"c0eb3bdf-c238-493d-9713-6fdb7bc4258b\" class=\"plotly-graph-div\" style=\"height:800px; width:800px;\"></div>            <script type=\"text/javascript\">                require([\"plotly\"], function(Plotly) {                    window.PLOTLYENV=window.PLOTLYENV || {};                                    if (document.getElementById(\"c0eb3bdf-c238-493d-9713-6fdb7bc4258b\")) {                    Plotly.newPlot(                        \"c0eb3bdf-c238-493d-9713-6fdb7bc4258b\",                        [{\"geo\": \"geo\", \"hovertemplate\": \"<b>%{hovertext}</b><br><br>month=1<br>lat=%{lat}<br>lon=%{lon}<br>temp=%{marker.color}<extra></extra>\", \"hovertext\": [\"ASKANIJA-NOVA\", \"BELAJA_CERKOV'\", \"BELOPOL'E\", \"BEREZANY\", \"BOBRYNETS'\", \"BORISPOL'/KIEV\", \"BRODY\", \"CERNIGOV\", \"CERNOBYL'\", \"CERNOMORSKOE\", \"CERTKOV\", \"CHERNIVTSI\", \"CHYHYRYN\", \"DROGOBYC\", \"FEODOSIJA\", \"GADJAC\", \"GAJSIN\", \"GENICESK\", \"HERSON\", \"HMEL'NICKIJ\", \"HUTOR_MIHAJLOVSKIJ\", \"IMENI_STARCENKO\", \"IZMAIL\", \"JAGOTIN\", \"JALTA\", \"KAHOVKA\", \"KAMENETS_PODOL'SKIJ\", \"KERC'\", \"KIEV/ZHULYANY\", \"KIROVOGRAD\", \"KLEPYNINE\", \"KOBELIAKY\", \"KOLOMYJA\", \"KOMISSAROVKA\", \"KONOTOP\", \"KOVEL'\", \"KRYVYI_RIH\", \"L'VIV\", \"LJUBASEVKA\", \"LUBNY\", \"LUCK\", \"MOGILEV-PODOL'SKIJ\", \"NEZIN\", \"NOVAYA_ULICA\", \"NOVGOROD_VOLYNSKIJ\", \"ODESSA/TSENTRALNY\", \"OVRUC\", \"OZERNA\", \"POLTAVA\", \"PRILUKI\", \"RAVA_RUSSKAJA\", \"ROMNY\", \"ROVNO\", \"SARNY\", \"SELETIN\", \"SEMENOVKA\", \"SEPETOVKA\", \"SIMFEROPOL'\", \"SUMY\", \"SVITLOVODS'K\", \"TERNOPOL'\", \"TETEREV\", \"UMAN'\", \"UZGOROD\", \"VELIKAIA_ALEKSANDRO\", \"VESELYJ_PODOL\", \"VINNICA\", \"VLADIMIR-VOLYNSKIJ\", \"VOZNESENSK\", \"ZHASHKOV\", \"ZITOMIR\", \"ZNAMENKA\"], \"ids\": [-0.23548387096774218, -0.7838709677419352, -0.9677419354838706, -0.12258064516129043, -1.2838709677419353, -1.1096774193548387, 0.5709677419354839, -1.4290322580645156, -0.8838709677419353, 3.506451612903225, -0.6677419354838708, -0.029032258064516082, -1.193548387096775, 0.9806451612903225, 3.632258064516128, -2.2161290322580642, -0.8838709677419356, -0.7032258064516129, -0.27096774193548323, -1.112903225806451, -2.990322580645161, -0.8516129032258066, 0.06774193548387067, -1.4967741935483867, 5.812903225806452, -0.3870967741935481, -0.4129032258064514, 2.232258064516129, -0.7612903225806452, -1.419354838709678, 1.2129032258064518, -1.8161290322580643, -0.45483870967741946, -1.7709677419354841, -2.3967741935483873, 0.8645161290322579, -1.6741935483870978, -0.10322580645161308, -0.980645161290323, -1.9774193548387093, 0.29354838709677394, 0.5161290322580644, -1.7483870967741937, -0.912903225806452, -0.34516129032258097, -0.3516129032258066, -0.590322580645161, -1.458064516129032, -2.1774193548387104, -2.0612903225806454, 0.5806451612903225, -2.5387096774193547, -0.3032258064516126, 0.3096774193548388, -2.7903225806451615, -2.2032258064516133, -0.674193548387097, 1.974193548387097, -2.8516129032258073, -1.0419354838709678, -0.8903225806451611, -0.5000000000000002, -1.3387096774193543, 0.9903225806451614, -0.7741935483870972, -1.5774193548387099, -1.174193548387097, 0.8096774193548387, 0.0322580645161288, -1.290322580645161, -0.39677419354838717, -1.7741935483870963], \"lat\": [46.26999999999999, 49.47000000000002, 49.5, 49.26, 48.02999999999998, 50.200000000000024, 50.05999999999997, 51.28999999999998, 51.170000000000016, 45.30999999999997, 49.01, 48.22000000000002, 49.03999999999998, 49.21000000000002, 45.01999999999999, 50.22000000000002, 48.48000000000001, 46.09999999999999, 46.40000000000001, 49.24, 52.02999999999998, 49.40000000000002, 45.22000000000002, 50.13000000000004, 44.299999999999976, 46.48000000000001, 48.40000000000002, 45.24, 50.24, 48.28999999999998, 45.39000000000002, 49.08999999999998, 48.31999999999999, 48.26, 51.14000000000003, 51.13000000000004, 47.53999999999998, 49.49, 47.51, 50.01, 50.450000000000024, 48.26999999999999, 51.02999999999998, 48.51, 50.35999999999997, 46.26, 51.19000000000003, 49.049999999999976, 49.35999999999997, 50.34999999999998, 50.15000000000002, 50.46000000000002, 50.34999999999998, 51.21000000000002, 47.51999999999999, 52.109999999999964, 50.09999999999998, 44.41000000000002, 50.52999999999998, 49.02999999999998, 49.33999999999998, 50.420000000000016, 48.46000000000002, 48.38000000000004, 47.19000000000003, 49.36999999999996, 49.14000000000003, 50.5, 47.33999999999999, 49.15000000000002, 50.160000000000025, 48.43000000000001], \"legendgroup\": \"\", \"lon\": [33.52999999999998, 30.11000000000001, 28.52999999999998, 24.570000000000014, 32.12, 30.580000000000016, 25.090000000000003, 31.169999999999987, 30.13999999999999, 32.41999999999999, 25.470000000000017, 25.539999999999992, 32.399999999999984, 23.33000000000001, 35.23000000000001, 33.59000000000002, 29.240000000000006, 34.49, 32.37, 26.590000000000003, 33.57000000000002, 31.0, 28.51999999999999, 31.48000000000001, 34.10000000000001, 33.309999999999974, 26.350000000000016, 36.25, 30.26999999999999, 32.149999999999984, 34.12, 34.12, 25.01999999999999, 33.539999999999985, 33.12, 24.409999999999997, 33.20000000000002, 23.570000000000014, 30.15999999999999, 33.0, 25.20000000000001, 27.470000000000017, 31.539999999999985, 27.159999999999993, 27.37, 30.460000000000015, 28.47000000000002, 30.52999999999998, 34.330000000000005, 32.23000000000001, 23.38, 33.26999999999999, 26.080000000000013, 26.37, 25.13, 32.350000000000016, 27.029999999999983, 34.08000000000001, 34.47000000000002, 33.14999999999999, 25.36000000000001, 29.350000000000016, 30.13999999999999, 22.16, 33.16999999999999, 33.16, 28.279999999999983, 24.19000000000002, 31.200000000000017, 30.05999999999998, 28.38, 32.399999999999984], \"marker\": {\"color\": [-0.23548387096774218, -0.7838709677419352, -0.9677419354838706, -0.12258064516129043, -1.2838709677419353, -1.1096774193548387, 0.5709677419354839, -1.4290322580645156, -0.8838709677419353, 3.506451612903225, -0.6677419354838708, -0.029032258064516082, -1.193548387096775, 0.9806451612903225, 3.632258064516128, -2.2161290322580642, -0.8838709677419356, -0.7032258064516129, -0.27096774193548323, -1.112903225806451, -2.990322580645161, -0.8516129032258066, 0.06774193548387067, -1.4967741935483867, 5.812903225806452, -0.3870967741935481, -0.4129032258064514, 2.232258064516129, -0.7612903225806452, -1.419354838709678, 1.2129032258064518, -1.8161290322580643, -0.45483870967741946, -1.7709677419354841, -2.3967741935483873, 0.8645161290322579, -1.6741935483870978, -0.10322580645161308, -0.980645161290323, -1.9774193548387093, 0.29354838709677394, 0.5161290322580644, -1.7483870967741937, -0.912903225806452, -0.34516129032258097, -0.3516129032258066, -0.590322580645161, -1.458064516129032, -2.1774193548387104, -2.0612903225806454, 0.5806451612903225, -2.5387096774193547, -0.3032258064516126, 0.3096774193548388, -2.7903225806451615, -2.2032258064516133, -0.674193548387097, 1.974193548387097, -2.8516129032258073, -1.0419354838709678, -0.8903225806451611, -0.5000000000000002, -1.3387096774193543, 0.9903225806451614, -0.7741935483870972, -1.5774193548387099, -1.174193548387097, 0.8096774193548387, 0.0322580645161288, -1.290322580645161, -0.39677419354838717, -1.7741935483870963], \"coloraxis\": \"coloraxis\", \"symbol\": \"circle\"}, \"mode\": \"markers\", \"name\": \"\", \"showlegend\": false, \"type\": \"scattergeo\"}],                        {\"coloraxis\": {\"colorbar\": {\"title\": {\"text\": \"temp\"}}, \"colorscale\": [[0.0, \"#0d0887\"], [0.1111111111111111, \"#46039f\"], [0.2222222222222222, \"#7201a8\"], [0.3333333333333333, \"#9c179e\"], [0.4444444444444444, \"#bd3786\"], [0.5555555555555556, \"#d8576b\"], [0.6666666666666666, \"#ed7953\"], [0.7777777777777778, \"#fb9f3a\"], [0.8888888888888888, \"#fdca26\"], [1.0, \"#f0f921\"]]}, \"geo\": {\"center\": {\"lat\": 52, \"lon\": 32}, \"domain\": {\"x\": [0.0, 1.0], \"y\": [0.0, 1.0]}, \"projection\": {\"scale\": 4.5}, \"scope\": \"europe\"}, \"height\": 800, \"legend\": {\"tracegroupgap\": 0}, \"margin\": {\"t\": 60}, \"sliders\": [{\"active\": 0, \"currentvalue\": {\"prefix\": \"month=\"}, \"len\": 0.9, \"pad\": {\"b\": 10, \"t\": 60}, \"steps\": [{\"args\": [[\"1\"], {\"frame\": {\"duration\": 0, \"redraw\": true}, \"fromcurrent\": true, \"mode\": \"immediate\", \"transition\": {\"duration\": 0, \"easing\": \"linear\"}}], \"label\": \"1\", \"method\": \"animate\"}, {\"args\": [[\"2\"], {\"frame\": {\"duration\": 0, \"redraw\": true}, \"fromcurrent\": true, \"mode\": \"immediate\", \"transition\": {\"duration\": 0, \"easing\": \"linear\"}}], \"label\": \"2\", \"method\": \"animate\"}, {\"args\": [[\"3\"], {\"frame\": {\"duration\": 0, \"redraw\": true}, \"fromcurrent\": true, \"mode\": \"immediate\", \"transition\": {\"duration\": 0, \"easing\": \"linear\"}}], \"label\": \"3\", \"method\": \"animate\"}, {\"args\": [[\"4\"], {\"frame\": {\"duration\": 0, \"redraw\": true}, \"fromcurrent\": true, \"mode\": \"immediate\", \"transition\": {\"duration\": 0, \"easing\": \"linear\"}}], \"label\": \"4\", \"method\": \"animate\"}, {\"args\": [[\"5\"], {\"frame\": {\"duration\": 0, \"redraw\": true}, \"fromcurrent\": true, \"mode\": \"immediate\", \"transition\": {\"duration\": 0, \"easing\": \"linear\"}}], \"label\": \"5\", \"method\": \"animate\"}, {\"args\": [[\"6\"], {\"frame\": {\"duration\": 0, \"redraw\": true}, \"fromcurrent\": true, \"mode\": \"immediate\", \"transition\": {\"duration\": 0, \"easing\": \"linear\"}}], \"label\": \"6\", \"method\": \"animate\"}, {\"args\": [[\"7\"], {\"frame\": {\"duration\": 0, \"redraw\": true}, \"fromcurrent\": true, \"mode\": \"immediate\", \"transition\": {\"duration\": 0, \"easing\": \"linear\"}}], \"label\": \"7\", \"method\": \"animate\"}, {\"args\": [[\"8\"], {\"frame\": {\"duration\": 0, \"redraw\": true}, \"fromcurrent\": true, \"mode\": \"immediate\", \"transition\": {\"duration\": 0, \"easing\": \"linear\"}}], \"label\": \"8\", \"method\": \"animate\"}, {\"args\": [[\"9\"], {\"frame\": {\"duration\": 0, \"redraw\": true}, \"fromcurrent\": true, \"mode\": \"immediate\", \"transition\": {\"duration\": 0, \"easing\": \"linear\"}}], \"label\": \"9\", \"method\": \"animate\"}, {\"args\": [[\"10\"], {\"frame\": {\"duration\": 0, \"redraw\": true}, \"fromcurrent\": true, \"mode\": \"immediate\", \"transition\": {\"duration\": 0, \"easing\": \"linear\"}}], \"label\": \"10\", \"method\": \"animate\"}, {\"args\": [[\"11\"], {\"frame\": {\"duration\": 0, \"redraw\": true}, \"fromcurrent\": true, \"mode\": \"immediate\", \"transition\": {\"duration\": 0, \"easing\": \"linear\"}}], \"label\": \"11\", \"method\": \"animate\"}, {\"args\": [[\"12\"], {\"frame\": {\"duration\": 0, \"redraw\": true}, \"fromcurrent\": true, \"mode\": \"immediate\", \"transition\": {\"duration\": 0, \"easing\": \"linear\"}}], \"label\": \"12\", \"method\": \"animate\"}], \"x\": 0.1, \"xanchor\": \"left\", \"y\": 0, \"yanchor\": \"top\"}], \"template\": {\"data\": {\"bar\": [{\"error_x\": {\"color\": \"#2a3f5f\"}, \"error_y\": {\"color\": \"#2a3f5f\"}, \"marker\": {\"line\": {\"color\": \"#E5ECF6\", \"width\": 0.5}}, \"type\": \"bar\"}], \"barpolar\": [{\"marker\": {\"line\": {\"color\": \"#E5ECF6\", \"width\": 0.5}}, \"type\": \"barpolar\"}], \"carpet\": [{\"aaxis\": {\"endlinecolor\": \"#2a3f5f\", \"gridcolor\": \"white\", \"linecolor\": \"white\", \"minorgridcolor\": \"white\", \"startlinecolor\": \"#2a3f5f\"}, \"baxis\": {\"endlinecolor\": \"#2a3f5f\", \"gridcolor\": \"white\", \"linecolor\": \"white\", \"minorgridcolor\": \"white\", \"startlinecolor\": \"#2a3f5f\"}, \"type\": \"carpet\"}], \"choropleth\": [{\"colorbar\": {\"outlinewidth\": 0, \"ticks\": \"\"}, \"type\": \"choropleth\"}], \"contour\": [{\"colorbar\": {\"outlinewidth\": 0, \"ticks\": \"\"}, \"colorscale\": [[0.0, \"#0d0887\"], [0.1111111111111111, \"#46039f\"], [0.2222222222222222, \"#7201a8\"], [0.3333333333333333, \"#9c179e\"], [0.4444444444444444, \"#bd3786\"], [0.5555555555555556, \"#d8576b\"], [0.6666666666666666, \"#ed7953\"], [0.7777777777777778, \"#fb9f3a\"], [0.8888888888888888, \"#fdca26\"], [1.0, \"#f0f921\"]], \"type\": \"contour\"}], \"contourcarpet\": [{\"colorbar\": {\"outlinewidth\": 0, \"ticks\": \"\"}, \"type\": \"contourcarpet\"}], \"heatmap\": [{\"colorbar\": {\"outlinewidth\": 0, \"ticks\": \"\"}, \"colorscale\": [[0.0, \"#0d0887\"], [0.1111111111111111, \"#46039f\"], [0.2222222222222222, \"#7201a8\"], [0.3333333333333333, \"#9c179e\"], [0.4444444444444444, \"#bd3786\"], [0.5555555555555556, \"#d8576b\"], [0.6666666666666666, \"#ed7953\"], [0.7777777777777778, \"#fb9f3a\"], [0.8888888888888888, \"#fdca26\"], [1.0, \"#f0f921\"]], \"type\": \"heatmap\"}], \"heatmapgl\": [{\"colorbar\": {\"outlinewidth\": 0, \"ticks\": \"\"}, \"colorscale\": [[0.0, \"#0d0887\"], [0.1111111111111111, \"#46039f\"], [0.2222222222222222, \"#7201a8\"], [0.3333333333333333, \"#9c179e\"], [0.4444444444444444, \"#bd3786\"], [0.5555555555555556, \"#d8576b\"], [0.6666666666666666, \"#ed7953\"], [0.7777777777777778, \"#fb9f3a\"], [0.8888888888888888, \"#fdca26\"], [1.0, \"#f0f921\"]], \"type\": \"heatmapgl\"}], \"histogram\": [{\"marker\": {\"colorbar\": {\"outlinewidth\": 0, \"ticks\": \"\"}}, \"type\": \"histogram\"}], \"histogram2d\": [{\"colorbar\": {\"outlinewidth\": 0, \"ticks\": \"\"}, \"colorscale\": [[0.0, \"#0d0887\"], [0.1111111111111111, \"#46039f\"], [0.2222222222222222, \"#7201a8\"], [0.3333333333333333, \"#9c179e\"], [0.4444444444444444, \"#bd3786\"], [0.5555555555555556, \"#d8576b\"], [0.6666666666666666, \"#ed7953\"], [0.7777777777777778, \"#fb9f3a\"], [0.8888888888888888, \"#fdca26\"], [1.0, \"#f0f921\"]], \"type\": \"histogram2d\"}], \"histogram2dcontour\": [{\"colorbar\": {\"outlinewidth\": 0, \"ticks\": \"\"}, \"colorscale\": [[0.0, \"#0d0887\"], [0.1111111111111111, \"#46039f\"], [0.2222222222222222, \"#7201a8\"], [0.3333333333333333, \"#9c179e\"], [0.4444444444444444, \"#bd3786\"], [0.5555555555555556, \"#d8576b\"], [0.6666666666666666, \"#ed7953\"], [0.7777777777777778, \"#fb9f3a\"], [0.8888888888888888, \"#fdca26\"], [1.0, \"#f0f921\"]], \"type\": \"histogram2dcontour\"}], \"mesh3d\": [{\"colorbar\": {\"outlinewidth\": 0, \"ticks\": \"\"}, \"type\": \"mesh3d\"}], \"parcoords\": [{\"line\": {\"colorbar\": {\"outlinewidth\": 0, \"ticks\": \"\"}}, \"type\": \"parcoords\"}], \"pie\": [{\"automargin\": true, \"type\": \"pie\"}], \"scatter\": [{\"marker\": {\"colorbar\": {\"outlinewidth\": 0, \"ticks\": \"\"}}, \"type\": \"scatter\"}], \"scatter3d\": [{\"line\": {\"colorbar\": {\"outlinewidth\": 0, \"ticks\": \"\"}}, \"marker\": {\"colorbar\": {\"outlinewidth\": 0, \"ticks\": \"\"}}, \"type\": \"scatter3d\"}], \"scattercarpet\": [{\"marker\": {\"colorbar\": {\"outlinewidth\": 0, \"ticks\": \"\"}}, \"type\": \"scattercarpet\"}], \"scattergeo\": [{\"marker\": {\"colorbar\": {\"outlinewidth\": 0, \"ticks\": \"\"}}, \"type\": \"scattergeo\"}], \"scattergl\": [{\"marker\": {\"colorbar\": {\"outlinewidth\": 0, \"ticks\": \"\"}}, \"type\": \"scattergl\"}], \"scattermapbox\": [{\"marker\": {\"colorbar\": {\"outlinewidth\": 0, \"ticks\": \"\"}}, \"type\": \"scattermapbox\"}], \"scatterpolar\": [{\"marker\": {\"colorbar\": {\"outlinewidth\": 0, \"ticks\": \"\"}}, \"type\": \"scatterpolar\"}], \"scatterpolargl\": [{\"marker\": {\"colorbar\": {\"outlinewidth\": 0, \"ticks\": \"\"}}, \"type\": \"scatterpolargl\"}], \"scatterternary\": [{\"marker\": {\"colorbar\": {\"outlinewidth\": 0, \"ticks\": \"\"}}, \"type\": \"scatterternary\"}], \"surface\": [{\"colorbar\": {\"outlinewidth\": 0, \"ticks\": \"\"}, \"colorscale\": [[0.0, \"#0d0887\"], [0.1111111111111111, \"#46039f\"], [0.2222222222222222, \"#7201a8\"], [0.3333333333333333, \"#9c179e\"], [0.4444444444444444, \"#bd3786\"], [0.5555555555555556, \"#d8576b\"], [0.6666666666666666, \"#ed7953\"], [0.7777777777777778, \"#fb9f3a\"], [0.8888888888888888, \"#fdca26\"], [1.0, \"#f0f921\"]], \"type\": \"surface\"}], \"table\": [{\"cells\": {\"fill\": {\"color\": \"#EBF0F8\"}, \"line\": {\"color\": \"white\"}}, \"header\": {\"fill\": {\"color\": \"#C8D4E3\"}, \"line\": {\"color\": \"white\"}}, \"type\": \"table\"}]}, \"layout\": {\"annotationdefaults\": {\"arrowcolor\": \"#2a3f5f\", \"arrowhead\": 0, \"arrowwidth\": 1}, \"autotypenumbers\": \"strict\", \"coloraxis\": {\"colorbar\": {\"outlinewidth\": 0, \"ticks\": \"\"}}, \"colorscale\": {\"diverging\": [[0, \"#8e0152\"], [0.1, \"#c51b7d\"], [0.2, \"#de77ae\"], [0.3, \"#f1b6da\"], [0.4, \"#fde0ef\"], [0.5, \"#f7f7f7\"], [0.6, \"#e6f5d0\"], [0.7, \"#b8e186\"], [0.8, \"#7fbc41\"], [0.9, \"#4d9221\"], [1, \"#276419\"]], \"sequential\": [[0.0, \"#0d0887\"], [0.1111111111111111, \"#46039f\"], [0.2222222222222222, \"#7201a8\"], [0.3333333333333333, \"#9c179e\"], [0.4444444444444444, \"#bd3786\"], [0.5555555555555556, \"#d8576b\"], [0.6666666666666666, \"#ed7953\"], [0.7777777777777778, \"#fb9f3a\"], [0.8888888888888888, \"#fdca26\"], [1.0, \"#f0f921\"]], \"sequentialminus\": [[0.0, \"#0d0887\"], [0.1111111111111111, \"#46039f\"], [0.2222222222222222, \"#7201a8\"], [0.3333333333333333, \"#9c179e\"], [0.4444444444444444, \"#bd3786\"], [0.5555555555555556, \"#d8576b\"], [0.6666666666666666, \"#ed7953\"], [0.7777777777777778, \"#fb9f3a\"], [0.8888888888888888, \"#fdca26\"], [1.0, \"#f0f921\"]]}, \"colorway\": [\"#636efa\", \"#EF553B\", \"#00cc96\", \"#ab63fa\", \"#FFA15A\", \"#19d3f3\", \"#FF6692\", \"#B6E880\", \"#FF97FF\", \"#FECB52\"], \"font\": {\"color\": \"#2a3f5f\"}, \"geo\": {\"bgcolor\": \"white\", \"lakecolor\": \"white\", \"landcolor\": \"#E5ECF6\", \"showlakes\": true, \"showland\": true, \"subunitcolor\": \"white\"}, \"hoverlabel\": {\"align\": \"left\"}, \"hovermode\": \"closest\", \"mapbox\": {\"style\": \"light\"}, \"paper_bgcolor\": \"white\", \"plot_bgcolor\": \"#E5ECF6\", \"polar\": {\"angularaxis\": {\"gridcolor\": \"white\", \"linecolor\": \"white\", \"ticks\": \"\"}, \"bgcolor\": \"#E5ECF6\", \"radialaxis\": {\"gridcolor\": \"white\", \"linecolor\": \"white\", \"ticks\": \"\"}}, \"scene\": {\"xaxis\": {\"backgroundcolor\": \"#E5ECF6\", \"gridcolor\": \"white\", \"gridwidth\": 2, \"linecolor\": \"white\", \"showbackground\": true, \"ticks\": \"\", \"zerolinecolor\": \"white\"}, \"yaxis\": {\"backgroundcolor\": \"#E5ECF6\", \"gridcolor\": \"white\", \"gridwidth\": 2, \"linecolor\": \"white\", \"showbackground\": true, \"ticks\": \"\", \"zerolinecolor\": \"white\"}, \"zaxis\": {\"backgroundcolor\": \"#E5ECF6\", \"gridcolor\": \"white\", \"gridwidth\": 2, \"linecolor\": \"white\", \"showbackground\": true, \"ticks\": \"\", \"zerolinecolor\": \"white\"}}, \"shapedefaults\": {\"line\": {\"color\": \"#2a3f5f\"}}, \"ternary\": {\"aaxis\": {\"gridcolor\": \"white\", \"linecolor\": \"white\", \"ticks\": \"\"}, \"baxis\": {\"gridcolor\": \"white\", \"linecolor\": \"white\", \"ticks\": \"\"}, \"bgcolor\": \"#E5ECF6\", \"caxis\": {\"gridcolor\": \"white\", \"linecolor\": \"white\", \"ticks\": \"\"}}, \"title\": {\"x\": 0.05}, \"xaxis\": {\"automargin\": true, \"gridcolor\": \"white\", \"linecolor\": \"white\", \"ticks\": \"\", \"title\": {\"standoff\": 15}, \"zerolinecolor\": \"white\", \"zerolinewidth\": 2}, \"yaxis\": {\"automargin\": true, \"gridcolor\": \"white\", \"linecolor\": \"white\", \"ticks\": \"\", \"title\": {\"standoff\": 15}, \"zerolinecolor\": \"white\", \"zerolinewidth\": 2}}}, \"title\": {\"text\": \"motnhtly average temperature in 2015\"}, \"width\": 800},                        {\"responsive\": true}                    ).then(function(){\n",
       "                            Plotly.addFrames('c0eb3bdf-c238-493d-9713-6fdb7bc4258b', [{\"data\": [{\"geo\": \"geo\", \"hovertemplate\": \"<b>%{hovertext}</b><br><br>month=1<br>lat=%{lat}<br>lon=%{lon}<br>temp=%{marker.color}<extra></extra>\", \"hovertext\": [\"ASKANIJA-NOVA\", \"BELAJA_CERKOV'\", \"BELOPOL'E\", \"BEREZANY\", \"BOBRYNETS'\", \"BORISPOL'/KIEV\", \"BRODY\", \"CERNIGOV\", \"CERNOBYL'\", \"CERNOMORSKOE\", \"CERTKOV\", \"CHERNIVTSI\", \"CHYHYRYN\", \"DROGOBYC\", \"FEODOSIJA\", \"GADJAC\", \"GAJSIN\", \"GENICESK\", \"HERSON\", \"HMEL'NICKIJ\", \"HUTOR_MIHAJLOVSKIJ\", \"IMENI_STARCENKO\", \"IZMAIL\", \"JAGOTIN\", \"JALTA\", \"KAHOVKA\", \"KAMENETS_PODOL'SKIJ\", \"KERC'\", \"KIEV/ZHULYANY\", \"KIROVOGRAD\", \"KLEPYNINE\", \"KOBELIAKY\", \"KOLOMYJA\", \"KOMISSAROVKA\", \"KONOTOP\", \"KOVEL'\", \"KRYVYI_RIH\", \"L'VIV\", \"LJUBASEVKA\", \"LUBNY\", \"LUCK\", \"MOGILEV-PODOL'SKIJ\", \"NEZIN\", \"NOVAYA_ULICA\", \"NOVGOROD_VOLYNSKIJ\", \"ODESSA/TSENTRALNY\", \"OVRUC\", \"OZERNA\", \"POLTAVA\", \"PRILUKI\", \"RAVA_RUSSKAJA\", \"ROMNY\", \"ROVNO\", \"SARNY\", \"SELETIN\", \"SEMENOVKA\", \"SEPETOVKA\", \"SIMFEROPOL'\", \"SUMY\", \"SVITLOVODS'K\", \"TERNOPOL'\", \"TETEREV\", \"UMAN'\", \"UZGOROD\", \"VELIKAIA_ALEKSANDRO\", \"VESELYJ_PODOL\", \"VINNICA\", \"VLADIMIR-VOLYNSKIJ\", \"VOZNESENSK\", \"ZHASHKOV\", \"ZITOMIR\", \"ZNAMENKA\"], \"ids\": [-0.23548387096774218, -0.7838709677419352, -0.9677419354838706, -0.12258064516129043, -1.2838709677419353, -1.1096774193548387, 0.5709677419354839, -1.4290322580645156, -0.8838709677419353, 3.506451612903225, -0.6677419354838708, -0.029032258064516082, -1.193548387096775, 0.9806451612903225, 3.632258064516128, -2.2161290322580642, -0.8838709677419356, -0.7032258064516129, -0.27096774193548323, -1.112903225806451, -2.990322580645161, -0.8516129032258066, 0.06774193548387067, -1.4967741935483867, 5.812903225806452, -0.3870967741935481, -0.4129032258064514, 2.232258064516129, -0.7612903225806452, -1.419354838709678, 1.2129032258064518, -1.8161290322580643, -0.45483870967741946, -1.7709677419354841, -2.3967741935483873, 0.8645161290322579, -1.6741935483870978, -0.10322580645161308, -0.980645161290323, -1.9774193548387093, 0.29354838709677394, 0.5161290322580644, -1.7483870967741937, -0.912903225806452, -0.34516129032258097, -0.3516129032258066, -0.590322580645161, -1.458064516129032, -2.1774193548387104, -2.0612903225806454, 0.5806451612903225, -2.5387096774193547, -0.3032258064516126, 0.3096774193548388, -2.7903225806451615, -2.2032258064516133, -0.674193548387097, 1.974193548387097, -2.8516129032258073, -1.0419354838709678, -0.8903225806451611, -0.5000000000000002, -1.3387096774193543, 0.9903225806451614, -0.7741935483870972, -1.5774193548387099, -1.174193548387097, 0.8096774193548387, 0.0322580645161288, -1.290322580645161, -0.39677419354838717, -1.7741935483870963], \"lat\": [46.26999999999999, 49.47000000000002, 49.5, 49.26, 48.02999999999998, 50.200000000000024, 50.05999999999997, 51.28999999999998, 51.170000000000016, 45.30999999999997, 49.01, 48.22000000000002, 49.03999999999998, 49.21000000000002, 45.01999999999999, 50.22000000000002, 48.48000000000001, 46.09999999999999, 46.40000000000001, 49.24, 52.02999999999998, 49.40000000000002, 45.22000000000002, 50.13000000000004, 44.299999999999976, 46.48000000000001, 48.40000000000002, 45.24, 50.24, 48.28999999999998, 45.39000000000002, 49.08999999999998, 48.31999999999999, 48.26, 51.14000000000003, 51.13000000000004, 47.53999999999998, 49.49, 47.51, 50.01, 50.450000000000024, 48.26999999999999, 51.02999999999998, 48.51, 50.35999999999997, 46.26, 51.19000000000003, 49.049999999999976, 49.35999999999997, 50.34999999999998, 50.15000000000002, 50.46000000000002, 50.34999999999998, 51.21000000000002, 47.51999999999999, 52.109999999999964, 50.09999999999998, 44.41000000000002, 50.52999999999998, 49.02999999999998, 49.33999999999998, 50.420000000000016, 48.46000000000002, 48.38000000000004, 47.19000000000003, 49.36999999999996, 49.14000000000003, 50.5, 47.33999999999999, 49.15000000000002, 50.160000000000025, 48.43000000000001], \"legendgroup\": \"\", \"lon\": [33.52999999999998, 30.11000000000001, 28.52999999999998, 24.570000000000014, 32.12, 30.580000000000016, 25.090000000000003, 31.169999999999987, 30.13999999999999, 32.41999999999999, 25.470000000000017, 25.539999999999992, 32.399999999999984, 23.33000000000001, 35.23000000000001, 33.59000000000002, 29.240000000000006, 34.49, 32.37, 26.590000000000003, 33.57000000000002, 31.0, 28.51999999999999, 31.48000000000001, 34.10000000000001, 33.309999999999974, 26.350000000000016, 36.25, 30.26999999999999, 32.149999999999984, 34.12, 34.12, 25.01999999999999, 33.539999999999985, 33.12, 24.409999999999997, 33.20000000000002, 23.570000000000014, 30.15999999999999, 33.0, 25.20000000000001, 27.470000000000017, 31.539999999999985, 27.159999999999993, 27.37, 30.460000000000015, 28.47000000000002, 30.52999999999998, 34.330000000000005, 32.23000000000001, 23.38, 33.26999999999999, 26.080000000000013, 26.37, 25.13, 32.350000000000016, 27.029999999999983, 34.08000000000001, 34.47000000000002, 33.14999999999999, 25.36000000000001, 29.350000000000016, 30.13999999999999, 22.16, 33.16999999999999, 33.16, 28.279999999999983, 24.19000000000002, 31.200000000000017, 30.05999999999998, 28.38, 32.399999999999984], \"marker\": {\"color\": [-0.23548387096774218, -0.7838709677419352, -0.9677419354838706, -0.12258064516129043, -1.2838709677419353, -1.1096774193548387, 0.5709677419354839, -1.4290322580645156, -0.8838709677419353, 3.506451612903225, -0.6677419354838708, -0.029032258064516082, -1.193548387096775, 0.9806451612903225, 3.632258064516128, -2.2161290322580642, -0.8838709677419356, -0.7032258064516129, -0.27096774193548323, -1.112903225806451, -2.990322580645161, -0.8516129032258066, 0.06774193548387067, -1.4967741935483867, 5.812903225806452, -0.3870967741935481, -0.4129032258064514, 2.232258064516129, -0.7612903225806452, -1.419354838709678, 1.2129032258064518, -1.8161290322580643, -0.45483870967741946, -1.7709677419354841, -2.3967741935483873, 0.8645161290322579, -1.6741935483870978, -0.10322580645161308, -0.980645161290323, -1.9774193548387093, 0.29354838709677394, 0.5161290322580644, -1.7483870967741937, -0.912903225806452, -0.34516129032258097, -0.3516129032258066, -0.590322580645161, -1.458064516129032, -2.1774193548387104, -2.0612903225806454, 0.5806451612903225, -2.5387096774193547, -0.3032258064516126, 0.3096774193548388, -2.7903225806451615, -2.2032258064516133, -0.674193548387097, 1.974193548387097, -2.8516129032258073, -1.0419354838709678, -0.8903225806451611, -0.5000000000000002, -1.3387096774193543, 0.9903225806451614, -0.7741935483870972, -1.5774193548387099, -1.174193548387097, 0.8096774193548387, 0.0322580645161288, -1.290322580645161, -0.39677419354838717, -1.7741935483870963], \"coloraxis\": \"coloraxis\", \"symbol\": \"circle\"}, \"mode\": \"markers\", \"name\": \"\", \"showlegend\": false, \"type\": \"scattergeo\"}], \"name\": \"1\"}, {\"data\": [{\"geo\": \"geo\", \"hovertemplate\": \"<b>%{hovertext}</b><br><br>month=2<br>lat=%{lat}<br>lon=%{lon}<br>temp=%{marker.color}<extra></extra>\", \"hovertext\": [\"ASKANIJA-NOVA\", \"BELAJA_CERKOV'\", \"BELOPOL'E\", \"BEREZANY\", \"BOBRYNETS'\", \"BORISPOL'/KIEV\", \"BRODY\", \"CERNIGOV\", \"CERNOBYL'\", \"CERNOMORSKOE\", \"CERTKOV\", \"CHERNIVTSI\", \"CHYHYRYN\", \"DROGOBYC\", \"FEODOSIJA\", \"GADJAC\", \"GAJSIN\", \"GENICESK\", \"HERSON\", \"HMEL'NICKIJ\", \"HUTOR_MIHAJLOVSKIJ\", \"IMENI_STARCENKO\", \"IZMAIL\", \"JAGOTIN\", \"JALTA\", \"KAHOVKA\", \"KAMENETS_PODOL'SKIJ\", \"KERC'\", \"KIEV/ZHULYANY\", \"KIROVOGRAD\", \"KLEPYNINE\", \"KOBELIAKY\", \"KOLOMYJA\", \"KOMISSAROVKA\", \"KONOTOP\", \"KOVEL'\", \"KRYVYI_RIH\", \"L'VIV\", \"LJUBASEVKA\", \"LUBNY\", \"LUCK\", \"MOGILEV-PODOL'SKIJ\", \"NEZIN\", \"NOVAYA_ULICA\", \"NOVGOROD_VOLYNSKIJ\", \"ODESSA/TSENTRALNY\", \"OVRUC\", \"OZERNA\", \"POLTAVA\", \"PRILUKI\", \"RAVA_RUSSKAJA\", \"ROMNY\", \"ROVNO\", \"SARNY\", \"SELETIN\", \"SEMENOVKA\", \"SEPETOVKA\", \"SIMFEROPOL'\", \"SUMY\", \"SVITLOVODS'K\", \"TERNOPOL'\", \"TETEREV\", \"UMAN'\", \"UZGOROD\", \"VELIKAIA_ALEKSANDRO\", \"VESELYJ_PODOL\", \"VINNICA\", \"VLADIMIR-VOLYNSKIJ\", \"VOZNESENSK\", \"ZHASHKOV\", \"ZITOMIR\", \"ZNAMENKA\"], \"ids\": [0.6714285714285715, -1.6678571428571425, -1.4857142857142864, -0.10357142857142858, -0.9714285714285718, -2.1464285714285714, 0.4607142857142858, -1.4714285714285718, -1.0785714285714285, 2.389285714285715, -0.25357142857142845, 0.38571428571428573, -1.6785714285714275, 0.9749999999999999, 3.6464285714285714, -2.7357142857142867, -0.4999999999999999, 0.5035714285714284, 0.6964285714285714, -1.0392857142857146, -2.503571428571429, -1.3964285714285716, 1.614285714285714, -1.8642857142857139, 5.210714285714286, 0.7964285714285716, -0.5535714285714286, 2.682142857142857, -1.1892857142857152, -1.635714285714286, 1.503571428571428, -1.5285714285714282, -0.4500000000000003, -1.075, -2.096428571428571, 0.6892857142857144, -0.8964285714285714, 0.2642857142857141, -0.5357142857142858, -2.185714285714286, 0.5571428571428572, 0.192857142857143, -1.5928571428571432, -1.0785714285714287, -0.40357142857142886, 1.1035714285714284, -0.8785714285714283, -1.392857142857143, -2.5714285714285716, -2.2107142857142854, 0.8285714285714286, -2.621428571428571, -0.2678571428571427, -0.06071428571428578, -3.478571428571429, -1.6678571428571427, -0.8607142857142855, 1.9000000000000004, -3.6857142857142855, -1.625, -0.5214285714285712, -1.192857142857143, -1.1035714285714284, 1.9250000000000003, 0.4321428571428572, -2.646428571428572, -1.385714285714286, 0.8714285714285716, 0.6785714285714286, -1.2642857142857142, -0.6464285714285717, -2.0500000000000003], \"lat\": [46.26999999999999, 49.47000000000002, 49.5, 49.26, 48.02999999999998, 50.200000000000024, 50.05999999999997, 51.28999999999998, 51.17000000000001, 45.30999999999997, 49.01, 48.22000000000002, 49.03999999999998, 49.21000000000002, 45.01999999999999, 50.22000000000002, 48.48000000000001, 46.1, 46.4, 49.24, 52.02999999999998, 49.40000000000001, 45.22000000000002, 50.13000000000003, 44.299999999999976, 46.48000000000001, 48.40000000000001, 45.24, 50.24, 48.28999999999998, 45.39000000000001, 49.08999999999999, 48.32, 48.26, 51.14000000000002, 51.13000000000003, 47.53999999999998, 49.49, 47.51, 50.01, 50.450000000000024, 48.26999999999999, 51.02999999999998, 48.51, 50.35999999999998, 46.26, 51.19000000000003, 49.049999999999976, 49.35999999999998, 50.34999999999999, 50.15000000000001, 50.46000000000002, 50.34999999999999, 51.21000000000002, 47.51999999999999, 52.10999999999997, 50.09999999999999, 44.41000000000001, 50.52999999999998, 49.02999999999998, 49.33999999999999, 50.42000000000001, 48.46000000000002, 48.38000000000003, 47.19000000000003, 49.36999999999997, 49.14000000000002, 50.5, 47.339999999999996, 49.15000000000001, 50.16000000000002, 48.43], \"legendgroup\": \"\", \"lon\": [33.52999999999998, 30.11000000000001, 28.52999999999998, 24.57000000000001, 32.12, 30.580000000000013, 25.09, 31.16999999999999, 30.13999999999999, 32.41999999999999, 25.470000000000017, 25.539999999999996, 32.399999999999984, 23.330000000000005, 35.23000000000001, 33.590000000000025, 29.240000000000006, 34.49, 32.37, 26.59, 33.57000000000002, 31.0, 28.51999999999999, 31.48000000000001, 34.100000000000016, 33.30999999999998, 26.350000000000016, 36.25, 30.26999999999999, 32.149999999999984, 34.12, 34.12, 25.01999999999999, 33.539999999999985, 33.12, 24.41, 33.20000000000002, 23.57000000000001, 30.159999999999993, 33.0, 25.200000000000006, 27.470000000000017, 31.53999999999999, 27.159999999999997, 27.37, 30.46000000000001, 28.47000000000002, 30.52999999999998, 34.33000000000001, 32.23000000000001, 23.38, 33.26999999999999, 26.08000000000001, 26.37, 25.13, 32.350000000000016, 27.029999999999983, 34.08000000000001, 34.47000000000002, 33.149999999999984, 25.36000000000001, 29.350000000000016, 30.13999999999999, 22.160000000000004, 33.16999999999999, 33.15999999999999, 28.279999999999983, 24.190000000000015, 31.200000000000014, 30.059999999999985, 28.38, 32.399999999999984], \"marker\": {\"color\": [0.6714285714285715, -1.6678571428571425, -1.4857142857142864, -0.10357142857142858, -0.9714285714285718, -2.1464285714285714, 0.4607142857142858, -1.4714285714285718, -1.0785714285714285, 2.389285714285715, -0.25357142857142845, 0.38571428571428573, -1.6785714285714275, 0.9749999999999999, 3.6464285714285714, -2.7357142857142867, -0.4999999999999999, 0.5035714285714284, 0.6964285714285714, -1.0392857142857146, -2.503571428571429, -1.3964285714285716, 1.614285714285714, -1.8642857142857139, 5.210714285714286, 0.7964285714285716, -0.5535714285714286, 2.682142857142857, -1.1892857142857152, -1.635714285714286, 1.503571428571428, -1.5285714285714282, -0.4500000000000003, -1.075, -2.096428571428571, 0.6892857142857144, -0.8964285714285714, 0.2642857142857141, -0.5357142857142858, -2.185714285714286, 0.5571428571428572, 0.192857142857143, -1.5928571428571432, -1.0785714285714287, -0.40357142857142886, 1.1035714285714284, -0.8785714285714283, -1.392857142857143, -2.5714285714285716, -2.2107142857142854, 0.8285714285714286, -2.621428571428571, -0.2678571428571427, -0.06071428571428578, -3.478571428571429, -1.6678571428571427, -0.8607142857142855, 1.9000000000000004, -3.6857142857142855, -1.625, -0.5214285714285712, -1.192857142857143, -1.1035714285714284, 1.9250000000000003, 0.4321428571428572, -2.646428571428572, -1.385714285714286, 0.8714285714285716, 0.6785714285714286, -1.2642857142857142, -0.6464285714285717, -2.0500000000000003], \"coloraxis\": \"coloraxis\", \"symbol\": \"circle\"}, \"mode\": \"markers\", \"name\": \"\", \"showlegend\": false, \"type\": \"scattergeo\"}], \"name\": \"2\"}, {\"data\": [{\"geo\": \"geo\", \"hovertemplate\": \"<b>%{hovertext}</b><br><br>month=3<br>lat=%{lat}<br>lon=%{lon}<br>temp=%{marker.color}<extra></extra>\", \"hovertext\": [\"ASKANIJA-NOVA\", \"BELAJA_CERKOV'\", \"BELOPOL'E\", \"BEREZANY\", \"BOBRYNETS'\", \"BORISPOL'/KIEV\", \"BRODY\", \"CERNIGOV\", \"CERNOBYL'\", \"CERNOMORSKOE\", \"CERTKOV\", \"CHERNIVTSI\", \"CHYHYRYN\", \"DROGOBYC\", \"FEODOSIJA\", \"GADJAC\", \"GAJSIN\", \"GENICESK\", \"HERSON\", \"HMEL'NICKIJ\", \"HUTOR_MIHAJLOVSKIJ\", \"IMENI_STARCENKO\", \"IZMAIL\", \"JAGOTIN\", \"JALTA\", \"KAHOVKA\", \"KAMENETS_PODOL'SKIJ\", \"KERC'\", \"KIEV/ZHULYANY\", \"KIROVOGRAD\", \"KLEPYNINE\", \"KOBELIAKY\", \"KOLOMYJA\", \"KOMISSAROVKA\", \"KONOTOP\", \"KOVEL'\", \"KRYVYI_RIH\", \"L'VIV\", \"LJUBASEVKA\", \"LUBNY\", \"LUCK\", \"MOGILEV-PODOL'SKIJ\", \"NEZIN\", \"NOVAYA_ULICA\", \"NOVGOROD_VOLYNSKIJ\", \"ODESSA/TSENTRALNY\", \"OVRUC\", \"OZERNA\", \"POLTAVA\", \"PRILUKI\", \"RAVA_RUSSKAJA\", \"ROMNY\", \"ROVNO\", \"SARNY\", \"SELETIN\", \"SEMENOVKA\", \"SEPETOVKA\", \"SIMFEROPOL'\", \"SUMY\", \"SVITLOVODS'K\", \"TERNOPOL'\", \"TETEREV\", \"UMAN'\", \"UZGOROD\", \"VELIKAIA_ALEKSANDRO\", \"VESELYJ_PODOL\", \"VINNICA\", \"VLADIMIR-VOLYNSKIJ\", \"VOZNESENSK\", \"ZHASHKOV\", \"ZITOMIR\", \"ZNAMENKA\"], \"ids\": [4.97741935483871, 4.516129032258063, 4.148387096774194, 4.354838709677419, 4.577419354838709, 3.9612903225806457, 4.606451612903226, 4.261290322580645, 4.461290322580646, 5.232258064516128, 4.187096774193548, 5.164516129032258, 4.496774193548387, 4.47741935483871, 6.641935483870967, 3.6903225806451614, 4.39032258064516, 4.951612903225805, 5.1806451612903235, 3.8645161290322574, 2.561290322580645, 4.6903225806451605, 5.516129032258063, 4.290322580645161, 7.366666666666669, 5.319354838709677, 4.648387096774194, 5.706451612903227, 4.670967741935482, 4.387096774193549, 5.106451612903225, 4.412903225806452, 3.648387096774194, 4.309677419354839, 3.645161290322581, 4.780645161290323, 4.651612903225806, 4.274193548387098, 4.56451612903226, 4.280645161290321, 4.880645161290323, 5.209677419354839, 4.048387096774194, 4.193548387096773, 4.84516129032258, 5.312903225806453, 4.574193548387097, 4.267741935483872, 3.9000000000000004, 3.9612903225806453, 4.587096774193549, 3.541935483870968, 4.725806451612903, 4.932258064516129, 0.8870967741935484, 3.761290322580645, 4.403225806451612, 5.306451612903226, 2.7580645161290325, 4.467741935483872, 4.058064516129032, 4.629032258064515, 4.080645161290324, 6.690322580645161, 5.13548387096774, 4.4225806451612915, 4.016129032258065, 4.725806451612903, 5.638709677419356, 4.241935483870968, 4.861290322580645, 4.174193548387096], \"lat\": [46.26999999999999, 49.47000000000002, 49.5, 49.26, 48.02999999999998, 50.200000000000024, 50.05999999999997, 51.28999999999998, 51.170000000000016, 45.30999999999997, 49.01, 48.22000000000002, 49.03999999999998, 49.21000000000002, 45.01999999999999, 50.22000000000002, 48.48000000000001, 46.09999999999999, 46.40000000000001, 49.24, 52.02999999999998, 49.40000000000002, 45.22000000000002, 50.13000000000004, 44.299999999999976, 46.48000000000001, 48.40000000000002, 45.24, 50.24, 48.28999999999998, 45.39000000000002, 49.08999999999998, 48.31999999999999, 48.26, 51.14000000000003, 51.13000000000004, 47.53999999999998, 49.49, 47.51, 50.01, 50.450000000000024, 48.26999999999999, 51.02999999999998, 48.51, 50.35999999999997, 46.26, 51.19000000000003, 49.049999999999976, 49.35999999999997, 50.34999999999998, 50.15000000000002, 50.46000000000002, 50.34999999999998, 51.21000000000002, 47.51999999999999, 52.109999999999964, 50.09999999999998, 44.41000000000002, 50.52999999999998, 49.02999999999998, 49.33999999999998, 50.420000000000016, 48.46000000000002, 48.38000000000004, 47.19000000000003, 49.36999999999996, 49.14000000000003, 50.5, 47.33999999999999, 49.15000000000002, 50.160000000000025, 48.43000000000001], \"legendgroup\": \"\", \"lon\": [33.52999999999998, 30.11000000000001, 28.52999999999998, 24.570000000000014, 32.12, 30.580000000000016, 25.090000000000003, 31.169999999999987, 30.13999999999999, 32.41999999999999, 25.470000000000017, 25.539999999999992, 32.399999999999984, 23.33000000000001, 35.23000000000001, 33.59000000000002, 29.240000000000006, 34.49, 32.37, 26.590000000000003, 33.57000000000002, 31.0, 28.51999999999999, 31.48000000000001, 34.100000000000016, 33.309999999999974, 26.350000000000016, 36.25, 30.26999999999999, 32.149999999999984, 34.12, 34.12, 25.01999999999999, 33.539999999999985, 33.12, 24.409999999999997, 33.20000000000002, 23.570000000000014, 30.15999999999999, 33.0, 25.20000000000001, 27.470000000000017, 31.539999999999985, 27.159999999999993, 27.37, 30.460000000000015, 28.47000000000002, 30.52999999999998, 34.330000000000005, 32.23000000000001, 23.38, 33.26999999999999, 26.080000000000013, 26.37, 25.13, 32.350000000000016, 27.029999999999983, 34.08000000000001, 34.47000000000002, 33.14999999999999, 25.36000000000001, 29.350000000000016, 30.13999999999999, 22.16, 33.16999999999999, 33.16, 28.279999999999983, 24.19000000000002, 31.200000000000017, 30.05999999999998, 28.38, 32.399999999999984], \"marker\": {\"color\": [4.97741935483871, 4.516129032258063, 4.148387096774194, 4.354838709677419, 4.577419354838709, 3.9612903225806457, 4.606451612903226, 4.261290322580645, 4.461290322580646, 5.232258064516128, 4.187096774193548, 5.164516129032258, 4.496774193548387, 4.47741935483871, 6.641935483870967, 3.6903225806451614, 4.39032258064516, 4.951612903225805, 5.1806451612903235, 3.8645161290322574, 2.561290322580645, 4.6903225806451605, 5.516129032258063, 4.290322580645161, 7.366666666666669, 5.319354838709677, 4.648387096774194, 5.706451612903227, 4.670967741935482, 4.387096774193549, 5.106451612903225, 4.412903225806452, 3.648387096774194, 4.309677419354839, 3.645161290322581, 4.780645161290323, 4.651612903225806, 4.274193548387098, 4.56451612903226, 4.280645161290321, 4.880645161290323, 5.209677419354839, 4.048387096774194, 4.193548387096773, 4.84516129032258, 5.312903225806453, 4.574193548387097, 4.267741935483872, 3.9000000000000004, 3.9612903225806453, 4.587096774193549, 3.541935483870968, 4.725806451612903, 4.932258064516129, 0.8870967741935484, 3.761290322580645, 4.403225806451612, 5.306451612903226, 2.7580645161290325, 4.467741935483872, 4.058064516129032, 4.629032258064515, 4.080645161290324, 6.690322580645161, 5.13548387096774, 4.4225806451612915, 4.016129032258065, 4.725806451612903, 5.638709677419356, 4.241935483870968, 4.861290322580645, 4.174193548387096], \"coloraxis\": \"coloraxis\", \"symbol\": \"circle\"}, \"mode\": \"markers\", \"name\": \"\", \"showlegend\": false, \"type\": \"scattergeo\"}], \"name\": \"3\"}, {\"data\": [{\"geo\": \"geo\", \"hovertemplate\": \"<b>%{hovertext}</b><br><br>month=4<br>lat=%{lat}<br>lon=%{lon}<br>temp=%{marker.color}<extra></extra>\", \"hovertext\": [\"ASKANIJA-NOVA\", \"BELAJA_CERKOV'\", \"BELOPOL'E\", \"BEREZANY\", \"BOBRYNETS'\", \"BORISPOL'/KIEV\", \"BRODY\", \"CERNIGOV\", \"CERNOBYL'\", \"CERNOMORSKOE\", \"CERTKOV\", \"CHERNIVTSI\", \"CHYHYRYN\", \"DROGOBYC\", \"GADJAC\", \"GAJSIN\", \"GENICESK\", \"HERSON\", \"HMEL'NICKIJ\", \"HUTOR_MIHAJLOVSKIJ\", \"IMENI_STARCENKO\", \"IZMAIL\", \"JAGOTIN\", \"KAHOVKA\", \"KAMENETS_PODOL'SKIJ\", \"KERC'\", \"KIEV/ZHULYANY\", \"KIROVOGRAD\", \"KOBELIAKY\", \"KOLOMYJA\", \"KOMISSAROVKA\", \"KONOTOP\", \"KOVEL'\", \"KRYVYI_RIH\", \"L'VIV\", \"LJUBASEVKA\", \"LUBNY\", \"LUCK\", \"MOGILEV-PODOL'SKIJ\", \"NEZIN\", \"NOVAYA_ULICA\", \"NOVGOROD_VOLYNSKIJ\", \"ODESSA/TSENTRALNY\", \"OVRUC\", \"OZERNA\", \"POLTAVA\", \"PRILUKI\", \"RAVA_RUSSKAJA\", \"ROMNY\", \"ROVNO\", \"SARNY\", \"SELETIN\", \"SEMENOVKA\", \"SEPETOVKA\", \"SIMFEROPOL'\", \"SUMY\", \"SVITLOVODS'K\", \"TERNOPOL'\", \"TETEREV\", \"UMAN'\", \"UZGOROD\", \"VELIKAIA_ALEKSANDRO\", \"VESELYJ_PODOL\", \"VINNICA\", \"VLADIMIR-VOLYNSKIJ\", \"VOZNESENSK\", \"ZHASHKOV\", \"ZITOMIR\", \"ZNAMENKA\"], \"ids\": [7.788888888888888, 5.822222222222223, 4.977777777777778, 4.066666666666666, 6.388888888888889, 5.711111111111111, 4.277777777777778, 5.722222222222221, 5.066666666666666, 8.388888888888891, 4.277777777777778, 5.588888888888889, 6.488888888888889, 3.9555555555555557, 6.666666666666667, 5.855555555555556, 9.266666666666666, 7.3999999999999995, 4.155555555555555, 4.688888888888889, 6.211111111111112, 8.31111111111111, 6.288888888888888, 7.633333333333334, 5.4111111111111105, 8.987499999999999, 5.955555555555555, 5.922222222222222, 6.555555555555555, 4.0, 6.699999999999999, 5.644444444444444, 3.9111111111111105, 6.266666666666667, 3.3666666666666663, 6.022222222222223, 6.466666666666668, 3.9111111111111114, 6.711111111111112, 5.933333333333333, 4.688888888888889, 5.044444444444444, 7.366666666666666, 4.422222222222222, 5.277777777777778, 6.699999999999999, 5.855555555555556, 3.322222222222222, 6.055555555555556, 3.877777777777778, 4.822222222222223, 1.2, 5.188888888888889, 4.111111111111111, 8.125, 5.8999999999999995, 6.7555555555555555, 3.755555555555555, 5.2, 5.122222222222222, 6.1, 7.3999999999999995, 6.788888888888889, 4.811111111111112, 4.055555555555556, 7.300000000000001, 5.488888888888889, 5.311111111111111, 6.01111111111111], \"lat\": [46.269999999999996, 49.47, 49.5, 49.26, 48.03, 50.199999999999996, 50.06, 51.290000000000006, 51.17000000000001, 45.31, 49.01, 48.22, 49.040000000000006, 49.209999999999994, 50.22, 48.48000000000001, 46.10000000000001, 46.39999999999999, 49.24, 52.02999999999999, 49.39999999999999, 45.22, 50.13, 46.48000000000001, 48.39999999999999, 45.24, 50.24, 48.290000000000006, 49.09, 48.32, 48.26, 51.13999999999999, 51.13, 47.540000000000006, 49.49, 47.51, 50.01, 50.449999999999996, 48.269999999999996, 51.03, 48.51, 50.36000000000001, 46.26, 51.19, 49.050000000000004, 49.36000000000001, 50.35000000000001, 50.14999999999999, 50.459999999999994, 50.35000000000001, 51.209999999999994, 47.519999999999996, 52.11000000000001, 50.10000000000001, 44.41000000000001, 50.53, 49.03, 49.34, 50.42000000000001, 48.459999999999994, 48.38, 47.19, 49.370000000000005, 49.13999999999999, 50.5, 47.34, 49.14999999999999, 50.16000000000001, 48.43], \"legendgroup\": \"\", \"lon\": [33.53, 30.110000000000007, 28.529999999999998, 24.569999999999997, 32.12, 30.580000000000002, 25.09, 31.17000000000001, 30.139999999999993, 32.42000000000001, 25.47, 25.539999999999996, 32.4, 23.330000000000005, 33.59, 29.240000000000002, 34.49, 32.37, 26.59, 33.57, 31.0, 28.52, 31.48, 33.31, 26.349999999999998, 36.25, 30.27, 32.15, 34.12, 25.020000000000003, 33.54, 33.12, 24.41, 33.199999999999996, 23.569999999999997, 30.16, 33.0, 25.199999999999996, 27.47, 31.539999999999996, 27.16, 27.37, 30.460000000000004, 28.470000000000002, 30.529999999999998, 34.32999999999999, 32.23000000000001, 23.38, 33.27, 26.080000000000005, 26.37, 25.13, 32.35, 27.03, 34.07999999999999, 34.47, 33.15, 25.36, 29.349999999999998, 30.139999999999993, 22.16, 33.17000000000001, 33.160000000000004, 28.28, 24.19, 31.199999999999996, 30.060000000000002, 28.38, 32.4], \"marker\": {\"color\": [7.788888888888888, 5.822222222222223, 4.977777777777778, 4.066666666666666, 6.388888888888889, 5.711111111111111, 4.277777777777778, 5.722222222222221, 5.066666666666666, 8.388888888888891, 4.277777777777778, 5.588888888888889, 6.488888888888889, 3.9555555555555557, 6.666666666666667, 5.855555555555556, 9.266666666666666, 7.3999999999999995, 4.155555555555555, 4.688888888888889, 6.211111111111112, 8.31111111111111, 6.288888888888888, 7.633333333333334, 5.4111111111111105, 8.987499999999999, 5.955555555555555, 5.922222222222222, 6.555555555555555, 4.0, 6.699999999999999, 5.644444444444444, 3.9111111111111105, 6.266666666666667, 3.3666666666666663, 6.022222222222223, 6.466666666666668, 3.9111111111111114, 6.711111111111112, 5.933333333333333, 4.688888888888889, 5.044444444444444, 7.366666666666666, 4.422222222222222, 5.277777777777778, 6.699999999999999, 5.855555555555556, 3.322222222222222, 6.055555555555556, 3.877777777777778, 4.822222222222223, 1.2, 5.188888888888889, 4.111111111111111, 8.125, 5.8999999999999995, 6.7555555555555555, 3.755555555555555, 5.2, 5.122222222222222, 6.1, 7.3999999999999995, 6.788888888888889, 4.811111111111112, 4.055555555555556, 7.300000000000001, 5.488888888888889, 5.311111111111111, 6.01111111111111], \"coloraxis\": \"coloraxis\", \"symbol\": \"circle\"}, \"mode\": \"markers\", \"name\": \"\", \"showlegend\": false, \"type\": \"scattergeo\"}], \"name\": \"4\"}, {\"data\": [{\"geo\": \"geo\", \"hovertemplate\": \"<b>%{hovertext}</b><br><br>month=5<br>lat=%{lat}<br>lon=%{lon}<br>temp=%{marker.color}<extra></extra>\", \"hovertext\": [\"ASKANIJA-NOVA\", \"BELAJA_CERKOV'\", \"BELOPOL'E\", \"BEREZANY\", \"BOBRYNETS'\", \"BORISPOL'/KIEV\", \"BRODY\", \"CERNIGOV\", \"CERNOBYL'\", \"CERNOMORSKOE\", \"CERTKOV\", \"CHERNIVTSI\", \"CHYHYRYN\", \"DROGOBYC\", \"GADJAC\", \"GAJSIN\", \"GENICESK\", \"HERSON\", \"HMEL'NICKIJ\", \"HUTOR_MIHAJLOVSKIJ\", \"IMENI_STARCENKO\", \"IZMAIL\", \"JAGOTIN\", \"KAHOVKA\", \"KAMENETS_PODOL'SKIJ\", \"KERC'\", \"KIEV/ZHULYANY\", \"KIROVOGRAD\", \"KOBELIAKY\", \"KOLOMYJA\", \"KOMISSAROVKA\", \"KONOTOP\", \"KOVEL'\", \"KRYVYI_RIH\", \"L'VIV\", \"LJUBASEVKA\", \"LUBNY\", \"LUCK\", \"MOGILEV-PODOL'SKIJ\", \"NEZIN\", \"NOVAYA_ULICA\", \"NOVGOROD_VOLYNSKIJ\", \"ODESSA/TSENTRALNY\", \"OVRUC\", \"OZERNA\", \"POLTAVA\", \"PRILUKI\", \"RAVA_RUSSKAJA\", \"ROMNY\", \"ROVNO\", \"SARNY\", \"SELETIN\", \"SEMENOVKA\", \"SEPETOVKA\", \"SIMFEROPOL'\", \"SUMY\", \"SVITLOVODS'K\", \"TERNOPOL'\", \"TETEREV\", \"UMAN'\", \"UZGOROD\", \"VELIKAIA_ALEKSANDRO\", \"VESELYJ_PODOL\", \"VINNICA\", \"VLADIMIR-VOLYNSKIJ\", \"VOZNESENSK\", \"ZHASHKOV\", \"ZITOMIR\", \"ZNAMENKA\"], \"ids\": [16.719354838709677, 16.316129032258065, 15.26774193548387, 13.525806451612905, 16.606451612903232, 15.429032258064511, 13.74193548387097, 14.99032258064516, 15.045161290322577, 15.696774193548386, 14.441935483870969, 16.006451612903227, 16.46774193548387, 13.577419354838709, 16.293548387096777, 16.164516129032258, 17.425806451612903, 17.00967741935484, 14.64193548387097, 14.735483870967743, 16.270967741935483, 17.30322580645161, 16.33225806451613, 17.325806451612902, 15.441935483870967, 16.429032258064513, 15.6741935483871, 16.24516129032258, 16.703225806451613, 13.900000000000002, 16.10322580645161, 15.961290322580643, 13.583870967741937, 16.467741935483872, 13.090322580645159, 16.567741935483873, 16.261290322580646, 13.74193548387097, 16.570967741935483, 15.58064516129032, 15.141935483870965, 14.81935483870968, 16.693548387096776, 14.37741935483871, 15.945161290322579, 16.325806451612905, 16.112903225806456, 13.190322580645159, 15.687096774193545, 14.477419354838712, 14.16129032258065, 11.532258064516132, 14.609677419354844, 14.42258064516129, 15.493548387096775, 15.061290322580646, 16.554838709677416, 13.987096774193551, 15.154838709677417, 15.593548387096778, 16.093548387096767, 17.212903225806457, 16.76774193548387, 15.24516129032258, 13.377419354838706, 17.203225806451613, 15.83548387096774, 15.351612903225806, 16.158064516129034], \"lat\": [46.26999999999999, 49.47000000000002, 49.5, 49.26, 48.02999999999998, 50.200000000000024, 50.05999999999997, 51.28999999999998, 51.170000000000016, 45.30999999999997, 49.01, 48.22000000000002, 49.03999999999998, 49.21000000000002, 50.22000000000002, 48.48000000000001, 46.09999999999999, 46.40000000000001, 49.24, 52.02999999999998, 49.40000000000002, 45.22000000000002, 50.13000000000004, 46.48000000000001, 48.40000000000002, 45.24, 50.24, 48.28999999999998, 49.08999999999998, 48.31999999999999, 48.26, 51.14000000000003, 51.13000000000004, 47.53999999999998, 49.49, 47.51, 50.01, 50.450000000000024, 48.26999999999999, 51.02999999999998, 48.51, 50.35999999999997, 46.26, 51.19000000000003, 49.049999999999976, 49.35999999999997, 50.34999999999998, 50.15000000000002, 50.46000000000002, 50.34999999999998, 51.21000000000002, 47.51999999999999, 52.109999999999964, 50.09999999999998, 44.41000000000002, 50.52999999999998, 49.02999999999998, 49.33999999999998, 50.420000000000016, 48.46000000000002, 48.38000000000004, 47.19000000000003, 49.36999999999996, 49.14000000000003, 50.5, 47.33999999999999, 49.15000000000002, 50.160000000000025, 48.43000000000001], \"legendgroup\": \"\", \"lon\": [33.52999999999998, 30.11000000000001, 28.52999999999998, 24.570000000000014, 32.12, 30.580000000000016, 25.090000000000003, 31.169999999999987, 30.13999999999999, 32.41999999999999, 25.470000000000017, 25.539999999999992, 32.399999999999984, 23.33000000000001, 33.59000000000002, 29.240000000000006, 34.49, 32.37, 26.590000000000003, 33.57000000000002, 31.0, 28.51999999999999, 31.48000000000001, 33.309999999999974, 26.350000000000016, 36.25, 30.26999999999999, 32.149999999999984, 34.12, 25.01999999999999, 33.539999999999985, 33.12, 24.409999999999997, 33.20000000000002, 23.570000000000014, 30.15999999999999, 33.0, 25.20000000000001, 27.470000000000017, 31.539999999999985, 27.159999999999993, 27.37, 30.460000000000015, 28.47000000000002, 30.52999999999998, 34.330000000000005, 32.23000000000001, 23.38, 33.26999999999999, 26.080000000000013, 26.37, 25.13, 32.350000000000016, 27.029999999999983, 34.08000000000001, 34.47000000000002, 33.14999999999999, 25.36000000000001, 29.350000000000016, 30.13999999999999, 22.16, 33.16999999999999, 33.16, 28.279999999999983, 24.19000000000002, 31.200000000000017, 30.05999999999998, 28.38, 32.399999999999984], \"marker\": {\"color\": [16.719354838709677, 16.316129032258065, 15.26774193548387, 13.525806451612905, 16.606451612903232, 15.429032258064511, 13.74193548387097, 14.99032258064516, 15.045161290322577, 15.696774193548386, 14.441935483870969, 16.006451612903227, 16.46774193548387, 13.577419354838709, 16.293548387096777, 16.164516129032258, 17.425806451612903, 17.00967741935484, 14.64193548387097, 14.735483870967743, 16.270967741935483, 17.30322580645161, 16.33225806451613, 17.325806451612902, 15.441935483870967, 16.429032258064513, 15.6741935483871, 16.24516129032258, 16.703225806451613, 13.900000000000002, 16.10322580645161, 15.961290322580643, 13.583870967741937, 16.467741935483872, 13.090322580645159, 16.567741935483873, 16.261290322580646, 13.74193548387097, 16.570967741935483, 15.58064516129032, 15.141935483870965, 14.81935483870968, 16.693548387096776, 14.37741935483871, 15.945161290322579, 16.325806451612905, 16.112903225806456, 13.190322580645159, 15.687096774193545, 14.477419354838712, 14.16129032258065, 11.532258064516132, 14.609677419354844, 14.42258064516129, 15.493548387096775, 15.061290322580646, 16.554838709677416, 13.987096774193551, 15.154838709677417, 15.593548387096778, 16.093548387096767, 17.212903225806457, 16.76774193548387, 15.24516129032258, 13.377419354838706, 17.203225806451613, 15.83548387096774, 15.351612903225806, 16.158064516129034], \"coloraxis\": \"coloraxis\", \"symbol\": \"circle\"}, \"mode\": \"markers\", \"name\": \"\", \"showlegend\": false, \"type\": \"scattergeo\"}], \"name\": \"5\"}, {\"data\": [{\"geo\": \"geo\", \"hovertemplate\": \"<b>%{hovertext}</b><br><br>month=6<br>lat=%{lat}<br>lon=%{lon}<br>temp=%{marker.color}<extra></extra>\", \"hovertext\": [\"ASKANIJA-NOVA\", \"BELAJA_CERKOV'\", \"BELOPOL'E\", \"BEREZANY\", \"BOBRYNETS'\", \"BORISPOL'/KIEV\", \"BRODY\", \"CERNIGOV\", \"CERNOBYL'\", \"CERNOMORSKOE\", \"CERTKOV\", \"CHERNIVTSI\", \"CHYHYRYN\", \"DROGOBYC\", \"GADJAC\", \"GAJSIN\", \"GENICESK\", \"HERSON\", \"HMEL'NICKIJ\", \"HUTOR_MIHAJLOVSKIJ\", \"IMENI_STARCENKO\", \"IZMAIL\", \"JAGOTIN\", \"KAHOVKA\", \"KAMENETS_PODOL'SKIJ\", \"KERC'\", \"KIEV/ZHULYANY\", \"KIROVOGRAD\", \"KOBELIAKY\", \"KOLOMYJA\", \"KOMISSAROVKA\", \"KONOTOP\", \"KOVEL'\", \"KRYVYI_RIH\", \"L'VIV\", \"LJUBASEVKA\", \"LUBNY\", \"LUCK\", \"MOGILEV-PODOL'SKIJ\", \"NEZIN\", \"NOVAYA_ULICA\", \"NOVGOROD_VOLYNSKIJ\", \"ODESSA/TSENTRALNY\", \"OVRUC\", \"OZERNA\", \"POLTAVA\", \"PRILUKI\", \"RAVA_RUSSKAJA\", \"ROMNY\", \"ROVNO\", \"SARNY\", \"SELETIN\", \"SEMENOVKA\", \"SEPETOVKA\", \"SIMFEROPOL'\", \"SUMY\", \"SVITLOVODS'K\", \"TERNOPOL'\", \"TETEREV\", \"UMAN'\", \"UZGOROD\", \"VELIKAIA_ALEKSANDRO\", \"VESELYJ_PODOL\", \"VINNICA\", \"VLADIMIR-VOLYNSKIJ\", \"VOZNESENSK\", \"ZHASHKOV\", \"ZITOMIR\", \"ZNAMENKA\"], \"ids\": [21.2, 19.58, 19.193333333333335, 17.839999999999996, 20.253333333333334, 18.99, 17.75666666666666, 19.1, 19.639999999999997, 20.470000000000002, 18.470000000000006, 19.716666666666665, 19.60666666666667, 17.39333333333333, 19.746666666666666, 19.96333333333333, 21.96999999999999, 20.90666666666666, 18.71333333333333, 17.826666666666668, 19.37666666666666, 21.01333333333333, 19.37666666666666, 21.456666666666663, 19.56, 21.856666666666662, 19.93, 19.42333333333334, 20.55666666666667, 17.44333333333333, 20.196666666666662, 18.933333333333334, 18.286666666666672, 20.380000000000003, 17.52, 20.180000000000003, 19.436666666666667, 18.37333333333334, 20.71, 18.936666666666667, 19.36, 18.933333333333337, 21.44333333333334, 19.1, 19.37, 20.516666666666666, 18.990000000000002, 17.740000000000002, 18.980000000000008, 18.85, 18.763333333333332, 14.306666666666668, 17.860000000000003, 18.470000000000006, 19.660000000000007, 19.14, 20.449999999999996, 17.856666666666666, 19.913333333333334, 19.3, 20.243333333333332, 20.83, 20.183333333333334, 19.23, 17.846666666666668, 21.123333333333328, 19.356666666666666, 19.696666666666662, 19.413333333333338], \"lat\": [46.26999999999999, 49.47000000000002, 49.5, 49.26, 48.02999999999998, 50.200000000000024, 50.05999999999997, 51.28999999999998, 51.17000000000001, 45.30999999999997, 49.01, 48.22000000000002, 49.03999999999998, 49.21000000000002, 50.22000000000002, 48.48000000000001, 46.099999999999994, 46.400000000000006, 49.24, 52.02999999999998, 49.40000000000001, 45.22000000000002, 50.13000000000003, 46.48000000000001, 48.40000000000001, 45.24, 50.24, 48.28999999999998, 49.08999999999999, 48.32, 48.26, 51.14000000000002, 51.13000000000003, 47.53999999999998, 49.49, 47.51, 50.01, 50.450000000000024, 48.26999999999999, 51.02999999999998, 48.51, 50.35999999999998, 46.26, 51.19000000000003, 49.049999999999976, 49.35999999999998, 50.34999999999999, 50.15000000000001, 50.46000000000002, 50.34999999999999, 51.21000000000002, 47.51999999999999, 52.10999999999997, 50.09999999999999, 44.41000000000001, 50.52999999999998, 49.02999999999998, 49.33999999999999, 50.42000000000001, 48.46000000000002, 48.38000000000003, 47.19000000000003, 49.36999999999997, 49.14000000000002, 50.5, 47.339999999999996, 49.15000000000001, 50.16000000000002, 48.43], \"legendgroup\": \"\", \"lon\": [33.52999999999998, 30.11000000000001, 28.52999999999998, 24.57000000000001, 32.12, 30.580000000000016, 25.09, 31.16999999999999, 30.13999999999999, 32.41999999999999, 25.470000000000017, 25.539999999999996, 32.399999999999984, 23.330000000000005, 33.590000000000025, 29.240000000000006, 34.49, 32.37, 26.59, 33.57000000000002, 31.0, 28.51999999999999, 31.48000000000001, 33.309999999999974, 26.350000000000016, 36.25, 30.26999999999999, 32.149999999999984, 34.12, 25.01999999999999, 33.539999999999985, 33.12, 24.41, 33.20000000000002, 23.57000000000001, 30.15999999999999, 33.0, 25.200000000000006, 27.470000000000017, 31.539999999999985, 27.159999999999993, 27.37, 30.460000000000015, 28.47000000000002, 30.52999999999998, 34.33000000000001, 32.23000000000001, 23.38, 33.26999999999999, 26.08000000000001, 26.37, 25.13, 32.350000000000016, 27.029999999999983, 34.08000000000001, 34.47000000000002, 33.149999999999984, 25.36000000000001, 29.350000000000016, 30.13999999999999, 22.160000000000004, 33.16999999999999, 33.15999999999999, 28.279999999999983, 24.190000000000015, 31.200000000000014, 30.059999999999985, 28.38, 32.399999999999984], \"marker\": {\"color\": [21.2, 19.58, 19.193333333333335, 17.839999999999996, 20.253333333333334, 18.99, 17.75666666666666, 19.1, 19.639999999999997, 20.470000000000002, 18.470000000000006, 19.716666666666665, 19.60666666666667, 17.39333333333333, 19.746666666666666, 19.96333333333333, 21.96999999999999, 20.90666666666666, 18.71333333333333, 17.826666666666668, 19.37666666666666, 21.01333333333333, 19.37666666666666, 21.456666666666663, 19.56, 21.856666666666662, 19.93, 19.42333333333334, 20.55666666666667, 17.44333333333333, 20.196666666666662, 18.933333333333334, 18.286666666666672, 20.380000000000003, 17.52, 20.180000000000003, 19.436666666666667, 18.37333333333334, 20.71, 18.936666666666667, 19.36, 18.933333333333337, 21.44333333333334, 19.1, 19.37, 20.516666666666666, 18.990000000000002, 17.740000000000002, 18.980000000000008, 18.85, 18.763333333333332, 14.306666666666668, 17.860000000000003, 18.470000000000006, 19.660000000000007, 19.14, 20.449999999999996, 17.856666666666666, 19.913333333333334, 19.3, 20.243333333333332, 20.83, 20.183333333333334, 19.23, 17.846666666666668, 21.123333333333328, 19.356666666666666, 19.696666666666662, 19.413333333333338], \"coloraxis\": \"coloraxis\", \"symbol\": \"circle\"}, \"mode\": \"markers\", \"name\": \"\", \"showlegend\": false, \"type\": \"scattergeo\"}], \"name\": \"6\"}, {\"data\": [{\"geo\": \"geo\", \"hovertemplate\": \"<b>%{hovertext}</b><br><br>month=7<br>lat=%{lat}<br>lon=%{lon}<br>temp=%{marker.color}<extra></extra>\", \"hovertext\": [\"ASKANIJA-NOVA\", \"BELAJA_CERKOV'\", \"BELOPOL'E\", \"BEREZANY\", \"BOBRYNETS'\", \"BORISPOL'/KIEV\", \"BRODY\", \"CERNIGOV\", \"CERNOBYL'\", \"CERNOMORSKOE\", \"CERTKOV\", \"CHERNIVTSI\", \"CHYHYRYN\", \"DROGOBYC\", \"GADJAC\", \"GAJSIN\", \"GENICESK\", \"HERSON\", \"HMEL'NICKIJ\", \"HUTOR_MIHAJLOVSKIJ\", \"IMENI_STARCENKO\", \"IZMAIL\", \"JAGOTIN\", \"KAHOVKA\", \"KAMENETS_PODOL'SKIJ\", \"KERC'\", \"KIEV/ZHULYANY\", \"KIROVOGRAD\", \"KOBELIAKY\", \"KOLOMYJA\", \"KOMISSAROVKA\", \"KONOTOP\", \"KOVEL'\", \"KRYVYI_RIH\", \"L'VIV\", \"LJUBASEVKA\", \"LUBNY\", \"LUCK\", \"MOGILEV-PODOL'SKIJ\", \"NEZIN\", \"NOVAYA_ULICA\", \"NOVGOROD_VOLYNSKIJ\", \"ODESSA/TSENTRALNY\", \"OVRUC\", \"OZERNA\", \"POLTAVA\", \"PRILUKI\", \"RAVA_RUSSKAJA\", \"ROMNY\", \"ROVNO\", \"SARNY\", \"SELETIN\", \"SEMENOVKA\", \"SEPETOVKA\", \"SIMFEROPOL'\", \"SUMY\", \"SVITLOVODS'K\", \"TERNOPOL'\", \"TETEREV\", \"UMAN'\", \"UZGOROD\", \"VELIKAIA_ALEKSANDRO\", \"VESELYJ_PODOL\", \"VINNICA\", \"VLADIMIR-VOLYNSKIJ\", \"VOZNESENSK\", \"ZHASHKOV\", \"ZITOMIR\", \"ZNAMENKA\"], \"ids\": [23.225806451612907, 20.9258064516129, 21.21290322580646, 19.741935483870968, 22.11935483870968, 20.851612903225806, 19.770967741935486, 19.745161290322574, 19.967741935483865, 22.964516129032265, 20.700000000000006, 22.283870967741937, 21.287096774193543, 19.954838709677418, 20.77741935483871, 22.422580645161286, 24.293548387096777, 23.409677419354836, 20.287096774193554, 19.025806451612905, 21.570967741935487, 24.196774193548386, 20.88387096774193, 23.59032258064516, 21.764516129032263, 23.896774193548385, 21.46774193548387, 21.703225806451616, 21.812903225806455, 20.09677419354839, 21.835483870967735, 20.377419354838707, 20.02903225806451, 22.445161290322584, 19.46451612903226, 23.01290322580645, 21.048387096774192, 19.95483870967742, 22.851612903225803, 20.04516129032258, 21.241935483870968, 20.3, 23.583870967741937, 19.687096774193556, 21.477419354838712, 21.15806451612903, 20.548387096774196, 19.935483870967737, 20.070967741935483, 20.48387096774194, 20.167741935483875, 17.138709677419353, 19.190322580645166, 19.893548387096775, 22.158064516129034, 20.00322580645161, 22.19354838709678, 19.816129032258058, 21.380645161290325, 21.345161290322583, 23.10000000000001, 23.248387096774195, 21.587096774193547, 21.148387096774197, 19.745161290322585, 23.9258064516129, 21.49677419354839, 21.083870967741937, 21.380645161290325], \"lat\": [46.26999999999999, 49.47000000000002, 49.5, 49.26, 48.02999999999998, 50.200000000000024, 50.05999999999997, 51.28999999999998, 51.170000000000016, 45.30999999999997, 49.01, 48.22000000000002, 49.03999999999998, 49.21000000000002, 50.22000000000002, 48.48000000000001, 46.09999999999999, 46.40000000000001, 49.24, 52.02999999999998, 49.40000000000002, 45.22000000000002, 50.13000000000004, 46.48000000000001, 48.40000000000002, 45.24, 50.24, 48.28999999999998, 49.08999999999998, 48.31999999999999, 48.26, 51.14000000000003, 51.13000000000004, 47.53999999999998, 49.49, 47.51, 50.01, 50.450000000000024, 48.26999999999999, 51.02999999999998, 48.51, 50.35999999999997, 46.26, 51.19000000000003, 49.049999999999976, 49.35999999999997, 50.34999999999998, 50.15000000000002, 50.46000000000002, 50.34999999999998, 51.21000000000002, 47.51999999999999, 52.109999999999964, 50.09999999999998, 44.41000000000002, 50.52999999999998, 49.02999999999998, 49.33999999999998, 50.420000000000016, 48.46000000000002, 48.38000000000004, 47.19000000000003, 49.36999999999996, 49.14000000000003, 50.5, 47.33999999999999, 49.15000000000002, 50.160000000000025, 48.43000000000001], \"legendgroup\": \"\", \"lon\": [33.52999999999998, 30.11000000000001, 28.52999999999998, 24.570000000000014, 32.12, 30.580000000000016, 25.090000000000003, 31.169999999999987, 30.13999999999999, 32.41999999999999, 25.470000000000017, 25.539999999999992, 32.399999999999984, 23.33000000000001, 33.59000000000002, 29.240000000000006, 34.49, 32.37, 26.590000000000003, 33.57000000000002, 31.0, 28.51999999999999, 31.48000000000001, 33.309999999999974, 26.350000000000016, 36.25, 30.26999999999999, 32.149999999999984, 34.12, 25.01999999999999, 33.539999999999985, 33.12, 24.409999999999997, 33.20000000000002, 23.570000000000014, 30.15999999999999, 33.0, 25.20000000000001, 27.470000000000017, 31.539999999999985, 27.159999999999993, 27.37, 30.460000000000015, 28.47000000000002, 30.52999999999998, 34.330000000000005, 32.23000000000001, 23.38, 33.26999999999999, 26.080000000000013, 26.37, 25.13, 32.350000000000016, 27.029999999999983, 34.08000000000001, 34.47000000000002, 33.14999999999999, 25.36000000000001, 29.350000000000016, 30.13999999999999, 22.16, 33.16999999999999, 33.16, 28.279999999999983, 24.19000000000002, 31.200000000000017, 30.05999999999998, 28.38, 32.399999999999984], \"marker\": {\"color\": [23.225806451612907, 20.9258064516129, 21.21290322580646, 19.741935483870968, 22.11935483870968, 20.851612903225806, 19.770967741935486, 19.745161290322574, 19.967741935483865, 22.964516129032265, 20.700000000000006, 22.283870967741937, 21.287096774193543, 19.954838709677418, 20.77741935483871, 22.422580645161286, 24.293548387096777, 23.409677419354836, 20.287096774193554, 19.025806451612905, 21.570967741935487, 24.196774193548386, 20.88387096774193, 23.59032258064516, 21.764516129032263, 23.896774193548385, 21.46774193548387, 21.703225806451616, 21.812903225806455, 20.09677419354839, 21.835483870967735, 20.377419354838707, 20.02903225806451, 22.445161290322584, 19.46451612903226, 23.01290322580645, 21.048387096774192, 19.95483870967742, 22.851612903225803, 20.04516129032258, 21.241935483870968, 20.3, 23.583870967741937, 19.687096774193556, 21.477419354838712, 21.15806451612903, 20.548387096774196, 19.935483870967737, 20.070967741935483, 20.48387096774194, 20.167741935483875, 17.138709677419353, 19.190322580645166, 19.893548387096775, 22.158064516129034, 20.00322580645161, 22.19354838709678, 19.816129032258058, 21.380645161290325, 21.345161290322583, 23.10000000000001, 23.248387096774195, 21.587096774193547, 21.148387096774197, 19.745161290322585, 23.9258064516129, 21.49677419354839, 21.083870967741937, 21.380645161290325], \"coloraxis\": \"coloraxis\", \"symbol\": \"circle\"}, \"mode\": \"markers\", \"name\": \"\", \"showlegend\": false, \"type\": \"scattergeo\"}], \"name\": \"7\"}, {\"data\": [{\"geo\": \"geo\", \"hovertemplate\": \"<b>%{hovertext}</b><br><br>month=8<br>lat=%{lat}<br>lon=%{lon}<br>temp=%{marker.color}<extra></extra>\", \"hovertext\": [\"ASKANIJA-NOVA\", \"BELAJA_CERKOV'\", \"BELOPOL'E\", \"BEREZANY\", \"BOBRYNETS'\", \"BORISPOL'/KIEV\", \"BRODY\", \"CERNIGOV\", \"CERNOBYL'\", \"CERNOMORSKOE\", \"CERTKOV\", \"CHERNIVTSI\", \"CHYHYRYN\", \"DROGOBYC\", \"GADJAC\", \"GAJSIN\", \"GENICESK\", \"HERSON\", \"HMEL'NICKIJ\", \"HUTOR_MIHAJLOVSKIJ\", \"IMENI_STARCENKO\", \"IZMAIL\", \"JAGOTIN\", \"KAHOVKA\", \"KAMENETS_PODOL'SKIJ\", \"KERC'\", \"KIEV/ZHULYANY\", \"KIROVOGRAD\", \"KOBELIAKY\", \"KOLOMYJA\", \"KOMISSAROVKA\", \"KONOTOP\", \"KOVEL'\", \"KRYVYI_RIH\", \"L'VIV\", \"LJUBASEVKA\", \"LUBNY\", \"LUCK\", \"MOGILEV-PODOL'SKIJ\", \"NEZIN\", \"NOVAYA_ULICA\", \"NOVGOROD_VOLYNSKIJ\", \"ODESSA/TSENTRALNY\", \"OVRUC\", \"OZERNA\", \"POLTAVA\", \"PRILUKI\", \"RAVA_RUSSKAJA\", \"ROMNY\", \"ROVNO\", \"SARNY\", \"SELETIN\", \"SEMENOVKA\", \"SEPETOVKA\", \"SIMFEROPOL'\", \"SUMY\", \"SVITLOVODS'K\", \"TERNOPOL'\", \"TETEREV\", \"UMAN'\", \"UZGOROD\", \"VELIKAIA_ALEKSANDRO\", \"VESELYJ_PODOL\", \"VINNICA\", \"VLADIMIR-VOLYNSKIJ\", \"VOZNESENSK\", \"ZHASHKOV\", \"ZITOMIR\", \"ZNAMENKA\"], \"ids\": [24.203225806451616, 20.56774193548387, 21.235483870967744, 21.54193548387097, 22.59354838709677, 20.983870967741936, 21.28709677419355, 20.441935483870974, 20.664516129032254, 23.932258064516123, 22.238709677419354, 22.977419354838712, 21.27741935483871, 20.638709677419357, 21.083870967741937, 22.174193548387098, 24.16451612903226, 24.087096774193544, 21.68387096774193, 19.25806451612903, 21.570967741935487, 24.62258064516129, 21.393548387096775, 24.364516129032253, 22.951612903225815, 24.996774193548386, 21.764516129032263, 21.63870967741936, 21.870967741935484, 20.60322580645161, 20.861290322580647, 20.48709677419355, 21.554838709677416, 22.60967741935484, 21.629032258064516, 22.854838709677416, 21.374193548387098, 22.02258064516129, 23.100000000000005, 20.24838709677419, 22.38064516129032, 21.241935483870964, 24.541935483870965, 20.864516129032268, 21.938709677419357, 21.55806451612903, 20.516129032258064, 21.43225806451612, 20.49032258064516, 22.429032258064517, 21.738709677419354, 16.970967741935485, 20.099999999999998, 21.238709677419354, 23.396774193548392, 20.045161290322582, 22.054838709677416, 21.16451612903225, 21.54838709677419, 21.225806451612907, 24.42903225806451, 23.612903225806456, 20.861290322580647, 21.264516129032256, 21.080645161290317, 24.26129032258064, 21.551612903225806, 21.506451612903227, 20.858064516129037], \"lat\": [46.26999999999999, 49.47000000000002, 49.5, 49.26, 48.02999999999998, 50.200000000000024, 50.05999999999997, 51.28999999999998, 51.170000000000016, 45.30999999999997, 49.01, 48.22000000000002, 49.03999999999998, 49.21000000000002, 50.22000000000002, 48.48000000000001, 46.09999999999999, 46.40000000000001, 49.24, 52.02999999999998, 49.40000000000002, 45.22000000000002, 50.13000000000004, 46.48000000000001, 48.40000000000002, 45.24, 50.24, 48.28999999999998, 49.08999999999998, 48.31999999999999, 48.26, 51.14000000000003, 51.13000000000004, 47.53999999999998, 49.49, 47.51, 50.01, 50.450000000000024, 48.26999999999999, 51.02999999999998, 48.51, 50.35999999999997, 46.26, 51.19000000000003, 49.049999999999976, 49.35999999999997, 50.34999999999998, 50.15000000000002, 50.46000000000002, 50.34999999999998, 51.21000000000002, 47.51999999999999, 52.109999999999964, 50.09999999999998, 44.41000000000002, 50.52999999999998, 49.02999999999998, 49.33999999999998, 50.420000000000016, 48.46000000000002, 48.38000000000004, 47.19000000000003, 49.36999999999996, 49.14000000000003, 50.5, 47.33999999999999, 49.15000000000002, 50.160000000000025, 48.43000000000001], \"legendgroup\": \"\", \"lon\": [33.52999999999998, 30.11000000000001, 28.52999999999998, 24.570000000000014, 32.12, 30.580000000000016, 25.090000000000003, 31.169999999999987, 30.13999999999999, 32.41999999999999, 25.470000000000017, 25.539999999999992, 32.399999999999984, 23.33000000000001, 33.59000000000002, 29.240000000000006, 34.49, 32.37, 26.590000000000003, 33.57000000000002, 31.0, 28.51999999999999, 31.48000000000001, 33.309999999999974, 26.350000000000016, 36.25, 30.26999999999999, 32.149999999999984, 34.12, 25.01999999999999, 33.539999999999985, 33.12, 24.409999999999997, 33.20000000000002, 23.570000000000014, 30.15999999999999, 33.0, 25.20000000000001, 27.470000000000017, 31.539999999999985, 27.159999999999993, 27.37, 30.460000000000015, 28.47000000000002, 30.52999999999998, 34.330000000000005, 32.23000000000001, 23.38, 33.26999999999999, 26.080000000000013, 26.37, 25.13, 32.350000000000016, 27.029999999999983, 34.08000000000001, 34.47000000000002, 33.14999999999999, 25.36000000000001, 29.350000000000016, 30.13999999999999, 22.16, 33.16999999999999, 33.16, 28.279999999999983, 24.19000000000002, 31.200000000000017, 30.05999999999998, 28.38, 32.399999999999984], \"marker\": {\"color\": [24.203225806451616, 20.56774193548387, 21.235483870967744, 21.54193548387097, 22.59354838709677, 20.983870967741936, 21.28709677419355, 20.441935483870974, 20.664516129032254, 23.932258064516123, 22.238709677419354, 22.977419354838712, 21.27741935483871, 20.638709677419357, 21.083870967741937, 22.174193548387098, 24.16451612903226, 24.087096774193544, 21.68387096774193, 19.25806451612903, 21.570967741935487, 24.62258064516129, 21.393548387096775, 24.364516129032253, 22.951612903225815, 24.996774193548386, 21.764516129032263, 21.63870967741936, 21.870967741935484, 20.60322580645161, 20.861290322580647, 20.48709677419355, 21.554838709677416, 22.60967741935484, 21.629032258064516, 22.854838709677416, 21.374193548387098, 22.02258064516129, 23.100000000000005, 20.24838709677419, 22.38064516129032, 21.241935483870964, 24.541935483870965, 20.864516129032268, 21.938709677419357, 21.55806451612903, 20.516129032258064, 21.43225806451612, 20.49032258064516, 22.429032258064517, 21.738709677419354, 16.970967741935485, 20.099999999999998, 21.238709677419354, 23.396774193548392, 20.045161290322582, 22.054838709677416, 21.16451612903225, 21.54838709677419, 21.225806451612907, 24.42903225806451, 23.612903225806456, 20.861290322580647, 21.264516129032256, 21.080645161290317, 24.26129032258064, 21.551612903225806, 21.506451612903227, 20.858064516129037], \"coloraxis\": \"coloraxis\", \"symbol\": \"circle\"}, \"mode\": \"markers\", \"name\": \"\", \"showlegend\": false, \"type\": \"scattergeo\"}], \"name\": \"8\"}, {\"data\": [{\"geo\": \"geo\", \"hovertemplate\": \"<b>%{hovertext}</b><br><br>month=9<br>lat=%{lat}<br>lon=%{lon}<br>temp=%{marker.color}<extra></extra>\", \"hovertext\": [\"ASKANIJA-NOVA\", \"BELAJA_CERKOV'\", \"BELOPOL'E\", \"BEREZANY\", \"BOBRYNETS'\", \"BORISPOL'/KIEV\", \"BRODY\", \"CERNIGOV\", \"CERNOBYL'\", \"CERNOMORSKOE\", \"CERTKOV\", \"CHERNIVTSI\", \"CHYHYRYN\", \"DROGOBYC\", \"GADJAC\", \"GAJSIN\", \"GENICESK\", \"HERSON\", \"HMEL'NICKIJ\", \"HUTOR_MIHAJLOVSKIJ\", \"IMENI_STARCENKO\", \"IZMAIL\", \"JAGOTIN\", \"KAHOVKA\", \"KAMENETS_PODOL'SKIJ\", \"KERC'\", \"KIEV/ZHULYANY\", \"KIROVOGRAD\", \"KOBELIAKY\", \"KOLOMYJA\", \"KOMISSAROVKA\", \"KONOTOP\", \"KOVEL'\", \"KRYVYI_RIH\", \"L'VIV\", \"LJUBASEVKA\", \"LUBNY\", \"LUCK\", \"MOGILEV-PODOL'SKIJ\", \"NEZIN\", \"NOVAYA_ULICA\", \"NOVGOROD_VOLYNSKIJ\", \"ODESSA/TSENTRALNY\", \"OVRUC\", \"OZERNA\", \"POLTAVA\", \"PRILUKI\", \"RAVA_RUSSKAJA\", \"ROMNY\", \"ROVNO\", \"SARNY\", \"SELETIN\", \"SEMENOVKA\", \"SEPETOVKA\", \"SIMFEROPOL'\", \"SUMY\", \"SVITLOVODS'K\", \"TERNOPOL'\", \"TETEREV\", \"UMAN'\", \"UZGOROD\", \"VELIKAIA_ALEKSANDRO\", \"VESELYJ_PODOL\", \"VINNICA\", \"VLADIMIR-VOLYNSKIJ\", \"VOZNESENSK\", \"ZHASHKOV\", \"ZITOMIR\", \"ZNAMENKA\"], \"ids\": [20.83214285714286, 17.685714285714287, 17.017857142857142, 16.12857142857143, 19.992857142857144, 17.15, 15.735714285714284, 16.286666666666665, 16.360714285714284, 21.064285714285713, 16.742857142857144, 17.446666666666665, 18.732142857142854, 15.721428571428573, 18.178571428571434, 18.325000000000006, 21.435714285714287, 20.849999999999998, 16.496666666666663, 15.914285714285713, 18.149999999999995, 20.34444444444444, 18.014285714285712, 21.632142857142863, 18.010714285714286, 22.096428571428564, 17.43, 19.04666666666667, 19.760714285714283, 15.799999999999997, 19.189285714285713, 16.923333333333336, 15.514814814814814, 20.136666666666663, 15.563333333333333, 19.143333333333334, 18.12666666666667, 16.081481481481482, 18.71, 16.885714285714283, 17.485714285714284, 16.367857142857137, 20.310000000000002, 16.346428571428568, 18.485714285714288, 18.72666666666667, 17.52857142857143, 15.548148148148151, 17.135714285714283, 16.369999999999997, 15.843333333333335, 13.38148148148148, 15.88571428571429, 16.029999999999998, 21.439285714285713, 16.676666666666666, 19.223333333333336, 16.09, 17.325, 17.709999999999997, 18.54666666666667, 21.053571428571423, 18.235714285714288, 17.02, 15.400000000000002, 21.139285714285716, 17.860714285714284, 16.893333333333334, 18.44285714285714], \"lat\": [46.26999999999999, 49.47000000000002, 49.5, 49.26, 48.02999999999998, 50.200000000000024, 50.05999999999997, 51.28999999999998, 51.17000000000001, 45.30999999999997, 49.01, 48.22000000000002, 49.03999999999998, 49.21000000000002, 50.22000000000002, 48.48000000000001, 46.1, 46.400000000000006, 49.24, 52.02999999999998, 49.40000000000001, 45.22000000000002, 50.13000000000003, 46.48000000000001, 48.40000000000001, 45.24, 50.24, 48.28999999999998, 49.08999999999999, 48.32, 48.26, 51.14000000000002, 51.130000000000024, 47.53999999999998, 49.49, 47.51, 50.01, 50.45000000000002, 48.26999999999999, 51.02999999999998, 48.51, 50.35999999999998, 46.26, 51.19000000000003, 49.049999999999976, 49.35999999999998, 50.34999999999999, 50.150000000000006, 50.46000000000002, 50.34999999999999, 51.21000000000002, 47.51999999999999, 52.10999999999997, 50.09999999999999, 44.41000000000001, 50.52999999999998, 49.02999999999998, 49.33999999999999, 50.42000000000001, 48.46000000000002, 48.38000000000003, 47.19000000000003, 49.36999999999997, 49.14000000000002, 50.5, 47.339999999999996, 49.15000000000001, 50.16000000000002, 48.43], \"legendgroup\": \"\", \"lon\": [33.52999999999998, 30.11000000000001, 28.52999999999998, 24.57000000000001, 32.12, 30.580000000000016, 25.09, 31.16999999999999, 30.13999999999999, 32.41999999999999, 25.470000000000017, 25.539999999999996, 32.399999999999984, 23.330000000000005, 33.590000000000025, 29.240000000000006, 34.49, 32.37, 26.59, 33.57000000000002, 31.0, 28.51999999999999, 31.48000000000001, 33.30999999999998, 26.350000000000016, 36.25, 30.26999999999999, 32.149999999999984, 34.12, 25.01999999999999, 33.539999999999985, 33.12, 24.41, 33.20000000000002, 23.57000000000001, 30.15999999999999, 33.0, 25.200000000000003, 27.470000000000017, 31.53999999999999, 27.159999999999997, 27.37, 30.460000000000015, 28.47000000000002, 30.52999999999998, 34.33000000000001, 32.23000000000001, 23.38, 33.26999999999999, 26.08000000000001, 26.37, 25.13, 32.350000000000016, 27.029999999999983, 34.08000000000001, 34.47000000000002, 33.149999999999984, 25.36000000000001, 29.350000000000016, 30.13999999999999, 22.160000000000004, 33.16999999999999, 33.15999999999999, 28.279999999999983, 24.190000000000015, 31.200000000000014, 30.059999999999985, 28.38, 32.399999999999984], \"marker\": {\"color\": [20.83214285714286, 17.685714285714287, 17.017857142857142, 16.12857142857143, 19.992857142857144, 17.15, 15.735714285714284, 16.286666666666665, 16.360714285714284, 21.064285714285713, 16.742857142857144, 17.446666666666665, 18.732142857142854, 15.721428571428573, 18.178571428571434, 18.325000000000006, 21.435714285714287, 20.849999999999998, 16.496666666666663, 15.914285714285713, 18.149999999999995, 20.34444444444444, 18.014285714285712, 21.632142857142863, 18.010714285714286, 22.096428571428564, 17.43, 19.04666666666667, 19.760714285714283, 15.799999999999997, 19.189285714285713, 16.923333333333336, 15.514814814814814, 20.136666666666663, 15.563333333333333, 19.143333333333334, 18.12666666666667, 16.081481481481482, 18.71, 16.885714285714283, 17.485714285714284, 16.367857142857137, 20.310000000000002, 16.346428571428568, 18.485714285714288, 18.72666666666667, 17.52857142857143, 15.548148148148151, 17.135714285714283, 16.369999999999997, 15.843333333333335, 13.38148148148148, 15.88571428571429, 16.029999999999998, 21.439285714285713, 16.676666666666666, 19.223333333333336, 16.09, 17.325, 17.709999999999997, 18.54666666666667, 21.053571428571423, 18.235714285714288, 17.02, 15.400000000000002, 21.139285714285716, 17.860714285714284, 16.893333333333334, 18.44285714285714], \"coloraxis\": \"coloraxis\", \"symbol\": \"circle\"}, \"mode\": \"markers\", \"name\": \"\", \"showlegend\": false, \"type\": \"scattergeo\"}], \"name\": \"9\"}, {\"data\": [{\"geo\": \"geo\", \"hovertemplate\": \"<b>%{hovertext}</b><br><br>month=10<br>lat=%{lat}<br>lon=%{lon}<br>temp=%{marker.color}<extra></extra>\", \"hovertext\": [\"ASKANIJA-NOVA\", \"BELAJA_CERKOV'\", \"BELOPOL'E\", \"BEREZANY\", \"BOBRYNETS'\", \"BORISPOL'/KIEV\", \"BRODY\", \"CERNIGOV\", \"CERNOBYL'\", \"CERNOMORSKOE\", \"CERTKOV\", \"CHERNIVTSI\", \"CHYHYRYN\", \"DROGOBYC\", \"GADJAC\", \"GAJSIN\", \"GENICESK\", \"HERSON\", \"HMEL'NICKIJ\", \"HUTOR_MIHAJLOVSKIJ\", \"IMENI_STARCENKO\", \"IZMAIL\", \"JAGOTIN\", \"KAHOVKA\", \"KAMENETS_PODOL'SKIJ\", \"KERC'\", \"KIEV/ZHULYANY\", \"KIROVOGRAD\", \"KOBELIAKY\", \"KOLOMYJA\", \"KOMISSAROVKA\", \"KONOTOP\", \"KOVEL'\", \"KRYVYI_RIH\", \"L'VIV\", \"LJUBASEVKA\", \"LUBNY\", \"LUCK\", \"MOGILEV-PODOL'SKIJ\", \"NEZIN\", \"NOVAYA_ULICA\", \"NOVGOROD_VOLYNSKIJ\", \"ODESSA/TSENTRALNY\", \"OVRUC\", \"OZERNA\", \"POLTAVA\", \"PRILUKI\", \"RAVA_RUSSKAJA\", \"ROMNY\", \"ROVNO\", \"SARNY\", \"SELETIN\", \"SEMENOVKA\", \"SEPETOVKA\", \"SIMFEROPOL'\", \"SUMY\", \"SVITLOVODS'K\", \"TERNOPOL'\", \"TETEREV\", \"UMAN'\", \"UZGOROD\", \"VELIKAIA_ALEKSANDRO\", \"VESELYJ_PODOL\", \"VINNICA\", \"VLADIMIR-VOLYNSKIJ\", \"VOZNESENSK\", \"ZHASHKOV\", \"ZITOMIR\", \"ZNAMENKA\"], \"ids\": [9.006451612903227, 6.7193548387096795, 6.509677419354839, 7.280645161290322, 7.919354838709675, 5.935483870967741, 7.0193548387096785, 5.251612903225806, 5.548387096774195, 11.387096774193546, 7.6000000000000005, 8.55806451612903, 6.935483870967742, 7.193548387096774, 5.825806451612903, 7.2806451612903205, 10.435483870967742, 9.3, 7.303225806451613, 3.841935483870968, 6.929032258064517, 10.703225806451613, 6.316129032258065, 10.093548387096776, 8.235483870967741, 11.570967741935483, 6.529032258064516, 7.106451612903227, 7.064516129032256, 7.358064516129033, 6.419354838709676, 5.3774193548387075, 6.7548387096774185, 7.948387096774194, 7.141935483870967, 8.422580645161291, 6.290322580645162, 7.0516129032258075, 8.764516129032256, 5.225806451612902, 7.790322580645161, 6.458064516129031, 10.380645161290325, 5.880645161290321, 6.967741935483872, 6.49677419354839, 5.538709677419354, 6.929032258064518, 5.564516129032259, 6.861290322580647, 6.412903225806452, 5.2, 4.548387096774194, 6.654838709677419, 10.709677419354838, 5.0193548387096785, 7.651612903225805, 7.058064516129034, 5.641935483870966, 6.812903225806453, 10.416129032258064, 8.574193548387097, 6.209677419354839, 7.006451612903225, 6.854838709677421, 9.019354838709678, 6.835483870967744, 6.783870967741937, 6.567741935483872], \"lat\": [46.26999999999999, 49.47000000000002, 49.5, 49.26, 48.02999999999998, 50.200000000000024, 50.05999999999997, 51.28999999999998, 51.170000000000016, 45.30999999999997, 49.01, 48.22000000000002, 49.03999999999998, 49.21000000000002, 50.22000000000002, 48.48000000000001, 46.09999999999999, 46.40000000000001, 49.24, 52.02999999999998, 49.40000000000002, 45.22000000000002, 50.13000000000004, 46.48000000000001, 48.40000000000002, 45.24, 50.24, 48.28999999999998, 49.08999999999998, 48.31999999999999, 48.26, 51.14000000000003, 51.13000000000004, 47.53999999999998, 49.49, 47.51, 50.01, 50.450000000000024, 48.26999999999999, 51.02999999999998, 48.51, 50.35999999999997, 46.26, 51.19000000000003, 49.049999999999976, 49.35999999999997, 50.34999999999998, 50.15000000000002, 50.46000000000002, 50.34999999999998, 51.21000000000002, 47.51999999999999, 52.109999999999964, 50.09999999999998, 44.41000000000002, 50.52999999999998, 49.02999999999998, 49.33999999999998, 50.420000000000016, 48.46000000000002, 48.38000000000004, 47.19000000000003, 49.36999999999996, 49.14000000000003, 50.5, 47.33999999999999, 49.15000000000002, 50.160000000000025, 48.43000000000001], \"legendgroup\": \"\", \"lon\": [33.52999999999998, 30.11000000000001, 28.52999999999998, 24.570000000000014, 32.12, 30.580000000000016, 25.090000000000003, 31.169999999999987, 30.13999999999999, 32.41999999999999, 25.470000000000017, 25.539999999999992, 32.399999999999984, 23.33000000000001, 33.59000000000002, 29.240000000000006, 34.49, 32.37, 26.590000000000003, 33.57000000000002, 31.0, 28.51999999999999, 31.48000000000001, 33.309999999999974, 26.350000000000016, 36.25, 30.26999999999999, 32.149999999999984, 34.12, 25.01999999999999, 33.539999999999985, 33.12, 24.409999999999997, 33.20000000000002, 23.570000000000014, 30.15999999999999, 33.0, 25.20000000000001, 27.470000000000017, 31.539999999999985, 27.159999999999993, 27.37, 30.460000000000015, 28.47000000000002, 30.52999999999998, 34.330000000000005, 32.23000000000001, 23.38, 33.26999999999999, 26.080000000000013, 26.37, 25.13, 32.350000000000016, 27.029999999999983, 34.08000000000001, 34.47000000000002, 33.14999999999999, 25.36000000000001, 29.350000000000016, 30.13999999999999, 22.16, 33.16999999999999, 33.16, 28.279999999999983, 24.19000000000002, 31.200000000000017, 30.05999999999998, 28.38, 32.399999999999984], \"marker\": {\"color\": [9.006451612903227, 6.7193548387096795, 6.509677419354839, 7.280645161290322, 7.919354838709675, 5.935483870967741, 7.0193548387096785, 5.251612903225806, 5.548387096774195, 11.387096774193546, 7.6000000000000005, 8.55806451612903, 6.935483870967742, 7.193548387096774, 5.825806451612903, 7.2806451612903205, 10.435483870967742, 9.3, 7.303225806451613, 3.841935483870968, 6.929032258064517, 10.703225806451613, 6.316129032258065, 10.093548387096776, 8.235483870967741, 11.570967741935483, 6.529032258064516, 7.106451612903227, 7.064516129032256, 7.358064516129033, 6.419354838709676, 5.3774193548387075, 6.7548387096774185, 7.948387096774194, 7.141935483870967, 8.422580645161291, 6.290322580645162, 7.0516129032258075, 8.764516129032256, 5.225806451612902, 7.790322580645161, 6.458064516129031, 10.380645161290325, 5.880645161290321, 6.967741935483872, 6.49677419354839, 5.538709677419354, 6.929032258064518, 5.564516129032259, 6.861290322580647, 6.412903225806452, 5.2, 4.548387096774194, 6.654838709677419, 10.709677419354838, 5.0193548387096785, 7.651612903225805, 7.058064516129034, 5.641935483870966, 6.812903225806453, 10.416129032258064, 8.574193548387097, 6.209677419354839, 7.006451612903225, 6.854838709677421, 9.019354838709678, 6.835483870967744, 6.783870967741937, 6.567741935483872], \"coloraxis\": \"coloraxis\", \"symbol\": \"circle\"}, \"mode\": \"markers\", \"name\": \"\", \"showlegend\": false, \"type\": \"scattergeo\"}], \"name\": \"10\"}, {\"data\": [{\"geo\": \"geo\", \"hovertemplate\": \"<b>%{hovertext}</b><br><br>month=11<br>lat=%{lat}<br>lon=%{lon}<br>temp=%{marker.color}<extra></extra>\", \"hovertext\": [\"ASKANIJA-NOVA\", \"BELAJA_CERKOV'\", \"BELOPOL'E\", \"BEREZANY\", \"BOBRYNETS'\", \"BORISPOL'/KIEV\", \"BRODY\", \"CERNIGOV\", \"CERNOBYL'\", \"CERNOMORSKOE\", \"CERTKOV\", \"CHERNIVTSI\", \"CHYHYRYN\", \"DROGOBYC\", \"GADJAC\", \"GAJSIN\", \"GENICESK\", \"HERSON\", \"HMEL'NICKIJ\", \"HUTOR_MIHAJLOVSKIJ\", \"IMENI_STARCENKO\", \"IZMAIL\", \"JAGOTIN\", \"KAHOVKA\", \"KAMENETS_PODOL'SKIJ\", \"KERC'\", \"KIEV/ZHULYANY\", \"KIROVOGRAD\", \"KOBELIAKY\", \"KOLOMYJA\", \"KOMISSAROVKA\", \"KONOTOP\", \"KOVEL'\", \"KRYVYI_RIH\", \"L'VIV\", \"LJUBASEVKA\", \"LUBNY\", \"LUCK\", \"MOGILEV-PODOL'SKIJ\", \"NEZIN\", \"NOVAYA_ULICA\", \"NOVGOROD_VOLYNSKIJ\", \"ODESSA/TSENTRALNY\", \"OVRUC\", \"OZERNA\", \"POLTAVA\", \"PRILUKI\", \"RAVA_RUSSKAJA\", \"ROMNY\", \"ROVNO\", \"SARNY\", \"SELETIN\", \"SEMENOVKA\", \"SEPETOVKA\", \"SIMFEROPOL'\", \"SUMY\", \"SVITLOVODS'K\", \"TERNOPOL'\", \"TETEREV\", \"UMAN'\", \"UZGOROD\", \"VELIKAIA_ALEKSANDRO\", \"VESELYJ_PODOL\", \"VINNICA\", \"VLADIMIR-VOLYNSKIJ\", \"VOZNESENSK\", \"ZHASHKOV\", \"ZITOMIR\", \"ZNAMENKA\"], \"ids\": [7.206666666666667, 4.23, 4.0266666666666655, 4.71, 5.459999999999999, 4.040000000000001, 5.1833333333333345, 3.5366666666666675, 3.7899999999999996, 10.053333333333333, 4.763333333333334, 6.070000000000002, 5.110000000000001, 5.216666666666668, 3.8200000000000003, 4.636666666666667, 8.006666666666668, 7.2633333333333345, 4.133333333333335, 2.2399999999999998, 4.6433333333333335, 8.806666666666667, 4.13, 7.443333333333336, 4.88, 8.856666666666664, 4.383333333333334, 4.763333333333334, 4.403333333333334, 4.926666666666666, 5.0299999999999985, 3.230000000000001, 4.833333333333333, 5.360000000000001, 4.65, 5.510000000000001, 4.083333333333333, 4.713333333333334, 5.733333333333332, 3.706666666666666, 4.5166666666666675, 4.183333333333332, 7.973333333333334, 3.8033333333333337, 4.426666666666666, 4.08, 3.81, 4.963333333333334, 3.4266666666666667, 4.553333333333334, 4.453333333333334, 2.846666666666667, 2.896666666666666, 4.05, 9.133333333333335, 2.873333333333334, 5.3533333333333335, 4.363333333333332, 3.9766666666666666, 4.613333333333333, 5.156666666666668, 6.519999999999999, 4.379999999999999, 4.19, 4.989999999999999, 6.536666666666666, 4.27, 4.316666666666666, 4.523333333333335], \"lat\": [46.26999999999999, 49.47000000000002, 49.5, 49.26, 48.02999999999998, 50.200000000000024, 50.05999999999997, 51.28999999999998, 51.17000000000001, 45.30999999999997, 49.01, 48.22000000000002, 49.03999999999998, 49.21000000000002, 50.22000000000002, 48.48000000000001, 46.099999999999994, 46.400000000000006, 49.24, 52.02999999999998, 49.40000000000001, 45.22000000000002, 50.13000000000003, 46.48000000000001, 48.40000000000001, 45.24, 50.24, 48.28999999999998, 49.08999999999999, 48.32, 48.26, 51.14000000000002, 51.13000000000003, 47.53999999999998, 49.49, 47.51, 50.01, 50.450000000000024, 48.26999999999999, 51.02999999999998, 48.51, 50.35999999999998, 46.26, 51.19000000000003, 49.049999999999976, 49.35999999999998, 50.34999999999999, 50.15000000000001, 50.46000000000002, 50.34999999999999, 51.21000000000002, 47.51999999999999, 52.10999999999997, 50.09999999999999, 44.41000000000001, 50.52999999999998, 49.02999999999998, 49.33999999999999, 50.42000000000001, 48.46000000000002, 48.38000000000003, 47.19000000000003, 49.36999999999997, 49.14000000000002, 50.5, 47.339999999999996, 49.15000000000001, 50.16000000000002, 48.43], \"legendgroup\": \"\", \"lon\": [33.52999999999998, 30.11000000000001, 28.52999999999998, 24.57000000000001, 32.12, 30.580000000000016, 25.09, 31.16999999999999, 30.13999999999999, 32.41999999999999, 25.470000000000017, 25.539999999999996, 32.399999999999984, 23.330000000000005, 33.590000000000025, 29.240000000000006, 34.49, 32.37, 26.59, 33.57000000000002, 31.0, 28.51999999999999, 31.48000000000001, 33.309999999999974, 26.350000000000016, 36.25, 30.26999999999999, 32.149999999999984, 34.12, 25.01999999999999, 33.539999999999985, 33.12, 24.41, 33.20000000000002, 23.57000000000001, 30.15999999999999, 33.0, 25.200000000000006, 27.470000000000017, 31.539999999999985, 27.159999999999993, 27.37, 30.460000000000015, 28.47000000000002, 30.52999999999998, 34.33000000000001, 32.23000000000001, 23.38, 33.26999999999999, 26.08000000000001, 26.37, 25.13, 32.350000000000016, 27.029999999999983, 34.08000000000001, 34.47000000000002, 33.149999999999984, 25.36000000000001, 29.350000000000016, 30.13999999999999, 22.160000000000004, 33.16999999999999, 33.15999999999999, 28.279999999999983, 24.190000000000015, 31.200000000000014, 30.059999999999985, 28.38, 32.399999999999984], \"marker\": {\"color\": [7.206666666666667, 4.23, 4.0266666666666655, 4.71, 5.459999999999999, 4.040000000000001, 5.1833333333333345, 3.5366666666666675, 3.7899999999999996, 10.053333333333333, 4.763333333333334, 6.070000000000002, 5.110000000000001, 5.216666666666668, 3.8200000000000003, 4.636666666666667, 8.006666666666668, 7.2633333333333345, 4.133333333333335, 2.2399999999999998, 4.6433333333333335, 8.806666666666667, 4.13, 7.443333333333336, 4.88, 8.856666666666664, 4.383333333333334, 4.763333333333334, 4.403333333333334, 4.926666666666666, 5.0299999999999985, 3.230000000000001, 4.833333333333333, 5.360000000000001, 4.65, 5.510000000000001, 4.083333333333333, 4.713333333333334, 5.733333333333332, 3.706666666666666, 4.5166666666666675, 4.183333333333332, 7.973333333333334, 3.8033333333333337, 4.426666666666666, 4.08, 3.81, 4.963333333333334, 3.4266666666666667, 4.553333333333334, 4.453333333333334, 2.846666666666667, 2.896666666666666, 4.05, 9.133333333333335, 2.873333333333334, 5.3533333333333335, 4.363333333333332, 3.9766666666666666, 4.613333333333333, 5.156666666666668, 6.519999999999999, 4.379999999999999, 4.19, 4.989999999999999, 6.536666666666666, 4.27, 4.316666666666666, 4.523333333333335], \"coloraxis\": \"coloraxis\", \"symbol\": \"circle\"}, \"mode\": \"markers\", \"name\": \"\", \"showlegend\": false, \"type\": \"scattergeo\"}], \"name\": \"11\"}, {\"data\": [{\"geo\": \"geo\", \"hovertemplate\": \"<b>%{hovertext}</b><br><br>month=12<br>lat=%{lat}<br>lon=%{lon}<br>temp=%{marker.color}<extra></extra>\", \"hovertext\": [\"ASKANIJA-NOVA\", \"BELAJA_CERKOV'\", \"BELOPOL'E\", \"BEREZANY\", \"BOBRYNETS'\", \"BORISPOL'/KIEV\", \"BRODY\", \"CERNIGOV\", \"CERNOBYL'\", \"CERNOMORSKOE\", \"CERTKOV\", \"CHERNIVTSI\", \"CHYHYRYN\", \"DROGOBYC\", \"GADJAC\", \"GAJSIN\", \"GENICESK\", \"HERSON\", \"HMEL'NICKIJ\", \"HUTOR_MIHAJLOVSKIJ\", \"IMENI_STARCENKO\", \"IZMAIL\", \"JAGOTIN\", \"KAHOVKA\", \"KAMENETS_PODOL'SKIJ\", \"KERC'\", \"KIEV/ZHULYANY\", \"KIROVOGRAD\", \"KOBELIAKY\", \"KOLOMYJA\", \"KOMISSAROVKA\", \"KONOTOP\", \"KOVEL'\", \"KRYVYI_RIH\", \"L'VIV\", \"LJUBASEVKA\", \"LUBNY\", \"LUCK\", \"MOGILEV-PODOL'SKIJ\", \"NEZIN\", \"NOVAYA_ULICA\", \"NOVGOROD_VOLYNSKIJ\", \"ODESSA/TSENTRALNY\", \"OVRUC\", \"OZERNA\", \"POLTAVA\", \"PRILUKI\", \"RAVA_RUSSKAJA\", \"ROMNY\", \"ROVNO\", \"SARNY\", \"SELETIN\", \"SEMENOVKA\", \"SEPETOVKA\", \"SIMFEROPOL'\", \"SUMY\", \"SVITLOVODS'K\", \"TERNOPOL'\", \"TETEREV\", \"UMAN'\", \"UZGOROD\", \"VELIKAIA_ALEKSANDRO\", \"VESELYJ_PODOL\", \"VINNICA\", \"VLADIMIR-VOLYNSKIJ\", \"VOZNESENSK\", \"ZHASHKOV\", \"ZITOMIR\", \"ZNAMENKA\"], \"ids\": [2.335483870967742, 1.5419354838709676, 1.5322580645161286, 3.0322580645161294, 1.4548387096774194, 1.4096774193548383, 3.1645161290322585, 1.1451612903225812, 1.1870967741935485, 5.270967741935484, 2.5774193548387094, 3.3096774193548395, 1.7387096774193556, 3.9774193548387102, 0.42903225806451606, 1.696774193548387, 2.8290322580645157, 2.2, 1.7677419354838708, 0.3322580645161291, 1.748387096774194, 2.803225806451613, 1.1451612903225807, 2.722580645161289, 1.8451612903225807, 3.94516129032258, 1.580645161290323, 1.1387096774193546, 0.4967741935483873, 1.9870967741935481, 0.6548387096774196, 0.6580645161290323, 3.0193548387096776, 0.8064516129032258, 2.6774193548387095, 1.8193548387096776, 0.6838709677419356, 2.6, 2.190322580645162, 1.1774193548387097, 1.9096774193548383, 1.854838709677419, 2.3709677419354853, 1.5419354838709678, 1.3741935483870973, 0.26774193548387076, 0.7064516129032261, 3.0612903225806454, 0.33870967741935454, 2.0903225806451617, 2.367741935483871, -1.474193548387097, 0.890322580645161, 1.7387096774193547, 3.061290322580645, 0.08064516129032269, 1.8064516129032253, 2.419354838709678, 1.2903225806451613, 1.619354838709677, 2.7838709677419358, 1.8935483870967742, 0.829032258064516, 1.596774193548387, 3.2032258064516133, 2.2161290322580642, 1.3838709677419354, 2.038709677419355, 1.0290322580645157], \"lat\": [46.26999999999999, 49.47000000000002, 49.5, 49.26, 48.02999999999998, 50.200000000000024, 50.05999999999997, 51.28999999999998, 51.170000000000016, 45.30999999999997, 49.01, 48.22000000000002, 49.03999999999998, 49.21000000000002, 50.22000000000002, 48.48000000000001, 46.09999999999999, 46.40000000000001, 49.24, 52.02999999999998, 49.40000000000002, 45.22000000000002, 50.13000000000004, 46.48000000000001, 48.40000000000002, 45.24, 50.24, 48.28999999999998, 49.08999999999998, 48.31999999999999, 48.26, 51.14000000000003, 51.13000000000004, 47.53999999999998, 49.49, 47.51, 50.01, 50.450000000000024, 48.26999999999999, 51.02999999999998, 48.51, 50.35999999999997, 46.26, 51.19000000000003, 49.049999999999976, 49.35999999999997, 50.34999999999998, 50.15000000000002, 50.46000000000002, 50.34999999999998, 51.21000000000002, 47.51999999999999, 52.109999999999964, 50.09999999999998, 44.41000000000002, 50.52999999999998, 49.02999999999998, 49.33999999999998, 50.420000000000016, 48.46000000000002, 48.38000000000004, 47.19000000000003, 49.36999999999996, 49.14000000000003, 50.5, 47.33999999999999, 49.15000000000002, 50.160000000000025, 48.43000000000001], \"legendgroup\": \"\", \"lon\": [33.52999999999998, 30.11000000000001, 28.52999999999998, 24.570000000000014, 32.12, 30.580000000000016, 25.090000000000003, 31.169999999999987, 30.13999999999999, 32.41999999999999, 25.470000000000017, 25.539999999999992, 32.399999999999984, 23.33000000000001, 33.59000000000002, 29.240000000000006, 34.49, 32.37, 26.590000000000003, 33.57000000000002, 31.0, 28.51999999999999, 31.48000000000001, 33.309999999999974, 26.350000000000016, 36.25, 30.26999999999999, 32.149999999999984, 34.12, 25.01999999999999, 33.539999999999985, 33.12, 24.409999999999997, 33.20000000000002, 23.570000000000014, 30.15999999999999, 33.0, 25.20000000000001, 27.470000000000017, 31.539999999999985, 27.159999999999993, 27.37, 30.460000000000015, 28.47000000000002, 30.52999999999998, 34.330000000000005, 32.23000000000001, 23.38, 33.26999999999999, 26.080000000000013, 26.37, 25.13, 32.350000000000016, 27.029999999999983, 34.08000000000001, 34.47000000000002, 33.14999999999999, 25.36000000000001, 29.350000000000016, 30.13999999999999, 22.16, 33.16999999999999, 33.16, 28.279999999999983, 24.19000000000002, 31.200000000000017, 30.05999999999998, 28.38, 32.399999999999984], \"marker\": {\"color\": [2.335483870967742, 1.5419354838709676, 1.5322580645161286, 3.0322580645161294, 1.4548387096774194, 1.4096774193548383, 3.1645161290322585, 1.1451612903225812, 1.1870967741935485, 5.270967741935484, 2.5774193548387094, 3.3096774193548395, 1.7387096774193556, 3.9774193548387102, 0.42903225806451606, 1.696774193548387, 2.8290322580645157, 2.2, 1.7677419354838708, 0.3322580645161291, 1.748387096774194, 2.803225806451613, 1.1451612903225807, 2.722580645161289, 1.8451612903225807, 3.94516129032258, 1.580645161290323, 1.1387096774193546, 0.4967741935483873, 1.9870967741935481, 0.6548387096774196, 0.6580645161290323, 3.0193548387096776, 0.8064516129032258, 2.6774193548387095, 1.8193548387096776, 0.6838709677419356, 2.6, 2.190322580645162, 1.1774193548387097, 1.9096774193548383, 1.854838709677419, 2.3709677419354853, 1.5419354838709678, 1.3741935483870973, 0.26774193548387076, 0.7064516129032261, 3.0612903225806454, 0.33870967741935454, 2.0903225806451617, 2.367741935483871, -1.474193548387097, 0.890322580645161, 1.7387096774193547, 3.061290322580645, 0.08064516129032269, 1.8064516129032253, 2.419354838709678, 1.2903225806451613, 1.619354838709677, 2.7838709677419358, 1.8935483870967742, 0.829032258064516, 1.596774193548387, 3.2032258064516133, 2.2161290322580642, 1.3838709677419354, 2.038709677419355, 1.0290322580645157], \"coloraxis\": \"coloraxis\", \"symbol\": \"circle\"}, \"mode\": \"markers\", \"name\": \"\", \"showlegend\": false, \"type\": \"scattergeo\"}], \"name\": \"12\"}]);\n",
       "                        }).then(function(){\n",
       "                            \n",
       "var gd = document.getElementById('c0eb3bdf-c238-493d-9713-6fdb7bc4258b');\n",
       "var x = new MutationObserver(function (mutations, observer) {{\n",
       "        var display = window.getComputedStyle(gd).display;\n",
       "        if (!display || display === 'none') {{\n",
       "            console.log([gd, 'removed!']);\n",
       "            Plotly.purge(gd);\n",
       "            observer.disconnect();\n",
       "        }}\n",
       "}});\n",
       "\n",
       "// Listen for the removal of the full notebook cells\n",
       "var notebookContainer = gd.closest('#notebook-container');\n",
       "if (notebookContainer) {{\n",
       "    x.observe(notebookContainer, {childList: true});\n",
       "}}\n",
       "\n",
       "// Listen for the clearing of the current output cell\n",
       "var outputEl = gd.closest('.output');\n",
       "if (outputEl) {{\n",
       "    x.observe(outputEl, {childList: true});\n",
       "}}\n",
       "\n",
       "                        })                };                });            </script>        </div>"
      ]
     },
     "metadata": {},
     "output_type": "display_data"
    }
   ],
   "source": [
    "fig = px.scatter_geo(geoscat_df,lat='lat', lon='lon', animation_frame='month', animation_group='temp',hover_name='name',\n",
    "     color='temp')\n",
    "\n",
    "fig[\"layout\"].pop(\"updatemenus\")\n",
    "fig.update_layout(\n",
    "    title='motnhtly average temperature in 2015',\n",
    "    width=800,\n",
    "    height=800,\n",
    "    geo=dict(\n",
    "        scope='europe',\n",
    "        projection=dict(\n",
    "                scale=4.5\n",
    "        ),\n",
    "        center=dict(\n",
    "                lat=52,\n",
    "                lon=32\n",
    "        )\n",
    "    )\n",
    "    )\n",
    "fig.show()"
   ]
  },
  {
   "cell_type": "markdown",
   "metadata": {},
   "source": [
    "#### Filtering Kyiv stations and getting observations columns"
   ]
  },
  {
   "cell_type": "code",
   "execution_count": 73,
   "metadata": {
    "scrolled": true
   },
   "outputs": [
    {
     "data": {
      "text/plain": [
       "array([333450, 333470])"
      ]
     },
     "execution_count": 73,
     "metadata": {},
     "output_type": "execute_result"
    }
   ],
   "source": [
    "kievid = df[df['name'].str.contains('KIEV')]['number'].unique()\n",
    "kievid"
   ]
  },
  {
   "cell_type": "code",
   "execution_count": 74,
   "metadata": {},
   "outputs": [
    {
     "data": {
      "text/plain": [
       "0"
      ]
     },
     "execution_count": 74,
     "metadata": {},
     "output_type": "execute_result"
    }
   ],
   "source": [
    "def getobs(val, pos):\n",
    "    try:\n",
    "        return int(val[pos])\n",
    "    except:\n",
    "        return 0\n",
    "getobs('10000', 6)"
   ]
  },
  {
   "cell_type": "code",
   "execution_count": 75,
   "metadata": {
    "scrolled": true
   },
   "outputs": [
    {
     "name": "stderr",
     "output_type": "stream",
     "text": [
      "<ipython-input-75-f0c43ec173f9>:2: SettingWithCopyWarning:\n",
      "\n",
      "\n",
      "A value is trying to be set on a copy of a slice from a DataFrame.\n",
      "Try using .loc[row_indexer,col_indexer] = value instead\n",
      "\n",
      "See the caveats in the documentation: https://pandas.pydata.org/pandas-docs/stable/user_guide/indexing.html#returning-a-view-versus-a-copy\n",
      "\n",
      "<ipython-input-75-f0c43ec173f9>:3: SettingWithCopyWarning:\n",
      "\n",
      "\n",
      "A value is trying to be set on a copy of a slice from a DataFrame.\n",
      "Try using .loc[row_indexer,col_indexer] = value instead\n",
      "\n",
      "See the caveats in the documentation: https://pandas.pydata.org/pandas-docs/stable/user_guide/indexing.html#returning-a-view-versus-a-copy\n",
      "\n",
      "<ipython-input-75-f0c43ec173f9>:4: SettingWithCopyWarning:\n",
      "\n",
      "\n",
      "A value is trying to be set on a copy of a slice from a DataFrame.\n",
      "Try using .loc[row_indexer,col_indexer] = value instead\n",
      "\n",
      "See the caveats in the documentation: https://pandas.pydata.org/pandas-docs/stable/user_guide/indexing.html#returning-a-view-versus-a-copy\n",
      "\n",
      "<ipython-input-75-f0c43ec173f9>:5: SettingWithCopyWarning:\n",
      "\n",
      "\n",
      "A value is trying to be set on a copy of a slice from a DataFrame.\n",
      "Try using .loc[row_indexer,col_indexer] = value instead\n",
      "\n",
      "See the caveats in the documentation: https://pandas.pydata.org/pandas-docs/stable/user_guide/indexing.html#returning-a-view-versus-a-copy\n",
      "\n",
      "<ipython-input-75-f0c43ec173f9>:6: SettingWithCopyWarning:\n",
      "\n",
      "\n",
      "A value is trying to be set on a copy of a slice from a DataFrame.\n",
      "Try using .loc[row_indexer,col_indexer] = value instead\n",
      "\n",
      "See the caveats in the documentation: https://pandas.pydata.org/pandas-docs/stable/user_guide/indexing.html#returning-a-view-versus-a-copy\n",
      "\n",
      "<ipython-input-75-f0c43ec173f9>:7: SettingWithCopyWarning:\n",
      "\n",
      "\n",
      "A value is trying to be set on a copy of a slice from a DataFrame.\n",
      "Try using .loc[row_indexer,col_indexer] = value instead\n",
      "\n",
      "See the caveats in the documentation: https://pandas.pydata.org/pandas-docs/stable/user_guide/indexing.html#returning-a-view-versus-a-copy\n",
      "\n",
      "<ipython-input-75-f0c43ec173f9>:8: SettingWithCopyWarning:\n",
      "\n",
      "\n",
      "A value is trying to be set on a copy of a slice from a DataFrame.\n",
      "Try using .loc[row_indexer,col_indexer] = value instead\n",
      "\n",
      "See the caveats in the documentation: https://pandas.pydata.org/pandas-docs/stable/user_guide/indexing.html#returning-a-view-versus-a-copy\n",
      "\n"
     ]
    },
    {
     "data": {
      "text/html": [
       "<div>\n",
       "<style scoped>\n",
       "    .dataframe tbody tr th:only-of-type {\n",
       "        vertical-align: middle;\n",
       "    }\n",
       "\n",
       "    .dataframe tbody tr th {\n",
       "        vertical-align: top;\n",
       "    }\n",
       "\n",
       "    .dataframe thead th {\n",
       "        text-align: right;\n",
       "    }\n",
       "</style>\n",
       "<table border=\"1\" class=\"dataframe\">\n",
       "  <thead>\n",
       "    <tr style=\"text-align: right;\">\n",
       "      <th></th>\n",
       "      <th>number</th>\n",
       "      <th>name</th>\n",
       "      <th>date</th>\n",
       "      <th>temp</th>\n",
       "      <th>tempcount</th>\n",
       "      <th>meanslp</th>\n",
       "      <th>slpcount</th>\n",
       "      <th>meanstp</th>\n",
       "      <th>stpcount</th>\n",
       "      <th>meanvisib</th>\n",
       "      <th>...</th>\n",
       "      <th>lon</th>\n",
       "      <th>elev</th>\n",
       "      <th>year</th>\n",
       "      <th>month</th>\n",
       "      <th>fog</th>\n",
       "      <th>rain</th>\n",
       "      <th>snow</th>\n",
       "      <th>hail</th>\n",
       "      <th>thunder</th>\n",
       "      <th>tornado</th>\n",
       "    </tr>\n",
       "  </thead>\n",
       "  <tbody>\n",
       "    <tr>\n",
       "      <th>288129</th>\n",
       "      <td>333450</td>\n",
       "      <td>KIEV/ZHULYANY</td>\n",
       "      <td>2002-01-01</td>\n",
       "      <td>-10.7</td>\n",
       "      <td>7</td>\n",
       "      <td>1020.0</td>\n",
       "      <td>7</td>\n",
       "      <td>NaN</td>\n",
       "      <td>0</td>\n",
       "      <td>15.4</td>\n",
       "      <td>...</td>\n",
       "      <td>30.27</td>\n",
       "      <td>168</td>\n",
       "      <td>2002</td>\n",
       "      <td>1</td>\n",
       "      <td>1</td>\n",
       "      <td>0</td>\n",
       "      <td>0</td>\n",
       "      <td>0</td>\n",
       "      <td>0</td>\n",
       "      <td>0</td>\n",
       "    </tr>\n",
       "    <tr>\n",
       "      <th>288130</th>\n",
       "      <td>333450</td>\n",
       "      <td>KIEV/ZHULYANY</td>\n",
       "      <td>2002-01-02</td>\n",
       "      <td>-5.5</td>\n",
       "      <td>10</td>\n",
       "      <td>1010.9</td>\n",
       "      <td>8</td>\n",
       "      <td>NaN</td>\n",
       "      <td>0</td>\n",
       "      <td>7.7</td>\n",
       "      <td>...</td>\n",
       "      <td>30.27</td>\n",
       "      <td>168</td>\n",
       "      <td>2002</td>\n",
       "      <td>1</td>\n",
       "      <td>1</td>\n",
       "      <td>0</td>\n",
       "      <td>0</td>\n",
       "      <td>0</td>\n",
       "      <td>0</td>\n",
       "      <td>0</td>\n",
       "    </tr>\n",
       "    <tr>\n",
       "      <th>288131</th>\n",
       "      <td>333450</td>\n",
       "      <td>KIEV/ZHULYANY</td>\n",
       "      <td>2002-01-03</td>\n",
       "      <td>-5.8</td>\n",
       "      <td>18</td>\n",
       "      <td>1027.5</td>\n",
       "      <td>7</td>\n",
       "      <td>NaN</td>\n",
       "      <td>0</td>\n",
       "      <td>8.8</td>\n",
       "      <td>...</td>\n",
       "      <td>30.27</td>\n",
       "      <td>168</td>\n",
       "      <td>2002</td>\n",
       "      <td>1</td>\n",
       "      <td>1</td>\n",
       "      <td>0</td>\n",
       "      <td>0</td>\n",
       "      <td>0</td>\n",
       "      <td>0</td>\n",
       "      <td>0</td>\n",
       "    </tr>\n",
       "    <tr>\n",
       "      <th>288132</th>\n",
       "      <td>333450</td>\n",
       "      <td>KIEV/ZHULYANY</td>\n",
       "      <td>2002-01-04</td>\n",
       "      <td>-11.5</td>\n",
       "      <td>18</td>\n",
       "      <td>1033.0</td>\n",
       "      <td>7</td>\n",
       "      <td>NaN</td>\n",
       "      <td>0</td>\n",
       "      <td>12.2</td>\n",
       "      <td>...</td>\n",
       "      <td>30.27</td>\n",
       "      <td>168</td>\n",
       "      <td>2002</td>\n",
       "      <td>1</td>\n",
       "      <td>1</td>\n",
       "      <td>0</td>\n",
       "      <td>0</td>\n",
       "      <td>0</td>\n",
       "      <td>0</td>\n",
       "      <td>0</td>\n",
       "    </tr>\n",
       "    <tr>\n",
       "      <th>288133</th>\n",
       "      <td>333450</td>\n",
       "      <td>KIEV/ZHULYANY</td>\n",
       "      <td>2002-01-05</td>\n",
       "      <td>-8.6</td>\n",
       "      <td>19</td>\n",
       "      <td>1026.4</td>\n",
       "      <td>8</td>\n",
       "      <td>NaN</td>\n",
       "      <td>0</td>\n",
       "      <td>6.0</td>\n",
       "      <td>...</td>\n",
       "      <td>30.27</td>\n",
       "      <td>168</td>\n",
       "      <td>2002</td>\n",
       "      <td>1</td>\n",
       "      <td>1</td>\n",
       "      <td>1</td>\n",
       "      <td>0</td>\n",
       "      <td>0</td>\n",
       "      <td>0</td>\n",
       "      <td>0</td>\n",
       "    </tr>\n",
       "    <tr>\n",
       "      <th>...</th>\n",
       "      <td>...</td>\n",
       "      <td>...</td>\n",
       "      <td>...</td>\n",
       "      <td>...</td>\n",
       "      <td>...</td>\n",
       "      <td>...</td>\n",
       "      <td>...</td>\n",
       "      <td>...</td>\n",
       "      <td>...</td>\n",
       "      <td>...</td>\n",
       "      <td>...</td>\n",
       "      <td>...</td>\n",
       "      <td>...</td>\n",
       "      <td>...</td>\n",
       "      <td>...</td>\n",
       "      <td>...</td>\n",
       "      <td>...</td>\n",
       "      <td>...</td>\n",
       "      <td>...</td>\n",
       "      <td>...</td>\n",
       "      <td>...</td>\n",
       "    </tr>\n",
       "    <tr>\n",
       "      <th>303724</th>\n",
       "      <td>333470</td>\n",
       "      <td>BORISPOL'/KIEV</td>\n",
       "      <td>2001-12-27</td>\n",
       "      <td>-8.7</td>\n",
       "      <td>23</td>\n",
       "      <td>NaN</td>\n",
       "      <td>0</td>\n",
       "      <td>NaN</td>\n",
       "      <td>0</td>\n",
       "      <td>3.5</td>\n",
       "      <td>...</td>\n",
       "      <td>30.58</td>\n",
       "      <td>119</td>\n",
       "      <td>2001</td>\n",
       "      <td>12</td>\n",
       "      <td>1</td>\n",
       "      <td>0</td>\n",
       "      <td>0</td>\n",
       "      <td>0</td>\n",
       "      <td>0</td>\n",
       "      <td>0</td>\n",
       "    </tr>\n",
       "    <tr>\n",
       "      <th>303725</th>\n",
       "      <td>333470</td>\n",
       "      <td>BORISPOL'/KIEV</td>\n",
       "      <td>2001-12-28</td>\n",
       "      <td>-3.2</td>\n",
       "      <td>23</td>\n",
       "      <td>NaN</td>\n",
       "      <td>0</td>\n",
       "      <td>NaN</td>\n",
       "      <td>0</td>\n",
       "      <td>0.8</td>\n",
       "      <td>...</td>\n",
       "      <td>30.58</td>\n",
       "      <td>119</td>\n",
       "      <td>2001</td>\n",
       "      <td>12</td>\n",
       "      <td>1</td>\n",
       "      <td>0</td>\n",
       "      <td>1</td>\n",
       "      <td>0</td>\n",
       "      <td>0</td>\n",
       "      <td>0</td>\n",
       "    </tr>\n",
       "    <tr>\n",
       "      <th>303726</th>\n",
       "      <td>333470</td>\n",
       "      <td>BORISPOL'/KIEV</td>\n",
       "      <td>2001-12-29</td>\n",
       "      <td>-2.4</td>\n",
       "      <td>23</td>\n",
       "      <td>NaN</td>\n",
       "      <td>0</td>\n",
       "      <td>NaN</td>\n",
       "      <td>0</td>\n",
       "      <td>5.3</td>\n",
       "      <td>...</td>\n",
       "      <td>30.58</td>\n",
       "      <td>119</td>\n",
       "      <td>2001</td>\n",
       "      <td>12</td>\n",
       "      <td>1</td>\n",
       "      <td>0</td>\n",
       "      <td>1</td>\n",
       "      <td>0</td>\n",
       "      <td>0</td>\n",
       "      <td>0</td>\n",
       "    </tr>\n",
       "    <tr>\n",
       "      <th>303727</th>\n",
       "      <td>333470</td>\n",
       "      <td>BORISPOL'/KIEV</td>\n",
       "      <td>2001-12-30</td>\n",
       "      <td>-1.6</td>\n",
       "      <td>21</td>\n",
       "      <td>NaN</td>\n",
       "      <td>0</td>\n",
       "      <td>NaN</td>\n",
       "      <td>0</td>\n",
       "      <td>5.6</td>\n",
       "      <td>...</td>\n",
       "      <td>30.58</td>\n",
       "      <td>119</td>\n",
       "      <td>2001</td>\n",
       "      <td>12</td>\n",
       "      <td>1</td>\n",
       "      <td>0</td>\n",
       "      <td>0</td>\n",
       "      <td>0</td>\n",
       "      <td>0</td>\n",
       "      <td>0</td>\n",
       "    </tr>\n",
       "    <tr>\n",
       "      <th>303728</th>\n",
       "      <td>333470</td>\n",
       "      <td>BORISPOL'/KIEV</td>\n",
       "      <td>2001-12-31</td>\n",
       "      <td>-4.4</td>\n",
       "      <td>23</td>\n",
       "      <td>NaN</td>\n",
       "      <td>0</td>\n",
       "      <td>NaN</td>\n",
       "      <td>0</td>\n",
       "      <td>9.5</td>\n",
       "      <td>...</td>\n",
       "      <td>30.58</td>\n",
       "      <td>119</td>\n",
       "      <td>2001</td>\n",
       "      <td>12</td>\n",
       "      <td>1</td>\n",
       "      <td>0</td>\n",
       "      <td>0</td>\n",
       "      <td>0</td>\n",
       "      <td>0</td>\n",
       "      <td>0</td>\n",
       "    </tr>\n",
       "  </tbody>\n",
       "</table>\n",
       "<p>15600 rows × 31 columns</p>\n",
       "</div>"
      ],
      "text/plain": [
       "        number            name       date  temp  tempcount  meanslp  slpcount  \\\n",
       "288129  333450   KIEV/ZHULYANY 2002-01-01 -10.7          7   1020.0         7   \n",
       "288130  333450   KIEV/ZHULYANY 2002-01-02  -5.5         10   1010.9         8   \n",
       "288131  333450   KIEV/ZHULYANY 2002-01-03  -5.8         18   1027.5         7   \n",
       "288132  333450   KIEV/ZHULYANY 2002-01-04 -11.5         18   1033.0         7   \n",
       "288133  333450   KIEV/ZHULYANY 2002-01-05  -8.6         19   1026.4         8   \n",
       "...        ...             ...        ...   ...        ...      ...       ...   \n",
       "303724  333470  BORISPOL'/KIEV 2001-12-27  -8.7         23      NaN         0   \n",
       "303725  333470  BORISPOL'/KIEV 2001-12-28  -3.2         23      NaN         0   \n",
       "303726  333470  BORISPOL'/KIEV 2001-12-29  -2.4         23      NaN         0   \n",
       "303727  333470  BORISPOL'/KIEV 2001-12-30  -1.6         21      NaN         0   \n",
       "303728  333470  BORISPOL'/KIEV 2001-12-31  -4.4         23      NaN         0   \n",
       "\n",
       "        meanstp  stpcount  meanvisib  ...    lon  elev  year  month  fog  \\\n",
       "288129      NaN         0       15.4  ...  30.27   168  2002      1    1   \n",
       "288130      NaN         0        7.7  ...  30.27   168  2002      1    1   \n",
       "288131      NaN         0        8.8  ...  30.27   168  2002      1    1   \n",
       "288132      NaN         0       12.2  ...  30.27   168  2002      1    1   \n",
       "288133      NaN         0        6.0  ...  30.27   168  2002      1    1   \n",
       "...         ...       ...        ...  ...    ...   ...   ...    ...  ...   \n",
       "303724      NaN         0        3.5  ...  30.58   119  2001     12    1   \n",
       "303725      NaN         0        0.8  ...  30.58   119  2001     12    1   \n",
       "303726      NaN         0        5.3  ...  30.58   119  2001     12    1   \n",
       "303727      NaN         0        5.6  ...  30.58   119  2001     12    1   \n",
       "303728      NaN         0        9.5  ...  30.58   119  2001     12    1   \n",
       "\n",
       "        rain  snow  hail  thunder tornado  \n",
       "288129     0     0     0        0       0  \n",
       "288130     0     0     0        0       0  \n",
       "288131     0     0     0        0       0  \n",
       "288132     0     0     0        0       0  \n",
       "288133     1     0     0        0       0  \n",
       "...      ...   ...   ...      ...     ...  \n",
       "303724     0     0     0        0       0  \n",
       "303725     0     1     0        0       0  \n",
       "303726     0     1     0        0       0  \n",
       "303727     0     0     0        0       0  \n",
       "303728     0     0     0        0       0  \n",
       "\n",
       "[15600 rows x 31 columns]"
      ]
     },
     "execution_count": 75,
     "metadata": {},
     "output_type": "execute_result"
    }
   ],
   "source": [
    "kievdf = df[df['number'].isin(kievid)]\n",
    "kievdf['eventobs'] = kievdf['eventobs'].astype(str)\n",
    "kievdf['fog'] = kievdf['eventobs'].apply(lambda x: getobs(x,0));\n",
    "kievdf['rain'] = kievdf['eventobs'].apply(lambda x: getobs(x,1));\n",
    "kievdf['snow'] = kievdf['eventobs'].apply(lambda x: getobs(x,2));\n",
    "kievdf['hail'] = kievdf['eventobs'].apply(lambda x: getobs(x,3));\n",
    "kievdf['thunder'] = kievdf['eventobs'].apply(lambda x: getobs(x,4));\n",
    "kievdf['tornado'] = kievdf['eventobs'].apply(lambda x: getobs(x,5));\n",
    "kievdf"
   ]
  },
  {
   "cell_type": "code",
   "execution_count": 76,
   "metadata": {},
   "outputs": [
    {
     "data": {
      "text/plain": [
       "2016"
      ]
     },
     "execution_count": 76,
     "metadata": {},
     "output_type": "execute_result"
    }
   ],
   "source": [
    "kievdf['year'].max()"
   ]
  },
  {
   "cell_type": "code",
   "execution_count": 77,
   "metadata": {},
   "outputs": [
    {
     "name": "stderr",
     "output_type": "stream",
     "text": [
      "<ipython-input-77-58b4f566c47b>:2: SettingWithCopyWarning:\n",
      "\n",
      "\n",
      "A value is trying to be set on a copy of a slice from a DataFrame.\n",
      "Try using .loc[row_indexer,col_indexer] = value instead\n",
      "\n",
      "See the caveats in the documentation: https://pandas.pydata.org/pandas-docs/stable/user_guide/indexing.html#returning-a-view-versus-a-copy\n",
      "\n"
     ]
    },
    {
     "data": {
      "text/html": [
       "<div>\n",
       "<style scoped>\n",
       "    .dataframe tbody tr th:only-of-type {\n",
       "        vertical-align: middle;\n",
       "    }\n",
       "\n",
       "    .dataframe tbody tr th {\n",
       "        vertical-align: top;\n",
       "    }\n",
       "\n",
       "    .dataframe thead th {\n",
       "        text-align: right;\n",
       "    }\n",
       "</style>\n",
       "<table border=\"1\" class=\"dataframe\">\n",
       "  <thead>\n",
       "    <tr style=\"text-align: right;\">\n",
       "      <th></th>\n",
       "      <th>number</th>\n",
       "      <th>name</th>\n",
       "      <th>date</th>\n",
       "      <th>temp</th>\n",
       "      <th>tempcount</th>\n",
       "      <th>meanslp</th>\n",
       "      <th>slpcount</th>\n",
       "      <th>meanstp</th>\n",
       "      <th>stpcount</th>\n",
       "      <th>meanvisib</th>\n",
       "      <th>...</th>\n",
       "      <th>elev</th>\n",
       "      <th>year</th>\n",
       "      <th>month</th>\n",
       "      <th>fog</th>\n",
       "      <th>rain</th>\n",
       "      <th>snow</th>\n",
       "      <th>hail</th>\n",
       "      <th>thunder</th>\n",
       "      <th>tornado</th>\n",
       "      <th>day</th>\n",
       "    </tr>\n",
       "  </thead>\n",
       "  <tbody>\n",
       "    <tr>\n",
       "      <th>291198</th>\n",
       "      <td>333450</td>\n",
       "      <td>KIEV/ZHULYANY</td>\n",
       "      <td>2016-01-01</td>\n",
       "      <td>-11.7</td>\n",
       "      <td>24</td>\n",
       "      <td>NaN</td>\n",
       "      <td>0</td>\n",
       "      <td>NaN</td>\n",
       "      <td>0</td>\n",
       "      <td>6.1</td>\n",
       "      <td>...</td>\n",
       "      <td>168</td>\n",
       "      <td>2016</td>\n",
       "      <td>1</td>\n",
       "      <td>1</td>\n",
       "      <td>0</td>\n",
       "      <td>0</td>\n",
       "      <td>0</td>\n",
       "      <td>0</td>\n",
       "      <td>0</td>\n",
       "      <td>1</td>\n",
       "    </tr>\n",
       "    <tr>\n",
       "      <th>291199</th>\n",
       "      <td>333450</td>\n",
       "      <td>KIEV/ZHULYANY</td>\n",
       "      <td>2016-01-02</td>\n",
       "      <td>-15.9</td>\n",
       "      <td>24</td>\n",
       "      <td>NaN</td>\n",
       "      <td>0</td>\n",
       "      <td>NaN</td>\n",
       "      <td>0</td>\n",
       "      <td>7.2</td>\n",
       "      <td>...</td>\n",
       "      <td>168</td>\n",
       "      <td>2016</td>\n",
       "      <td>1</td>\n",
       "      <td>1</td>\n",
       "      <td>0</td>\n",
       "      <td>0</td>\n",
       "      <td>0</td>\n",
       "      <td>0</td>\n",
       "      <td>0</td>\n",
       "      <td>2</td>\n",
       "    </tr>\n",
       "    <tr>\n",
       "      <th>291200</th>\n",
       "      <td>333450</td>\n",
       "      <td>KIEV/ZHULYANY</td>\n",
       "      <td>2016-01-03</td>\n",
       "      <td>-17.9</td>\n",
       "      <td>24</td>\n",
       "      <td>NaN</td>\n",
       "      <td>0</td>\n",
       "      <td>NaN</td>\n",
       "      <td>0</td>\n",
       "      <td>7.4</td>\n",
       "      <td>...</td>\n",
       "      <td>168</td>\n",
       "      <td>2016</td>\n",
       "      <td>1</td>\n",
       "      <td>1</td>\n",
       "      <td>0</td>\n",
       "      <td>0</td>\n",
       "      <td>0</td>\n",
       "      <td>0</td>\n",
       "      <td>0</td>\n",
       "      <td>3</td>\n",
       "    </tr>\n",
       "    <tr>\n",
       "      <th>291201</th>\n",
       "      <td>333450</td>\n",
       "      <td>KIEV/ZHULYANY</td>\n",
       "      <td>2016-01-04</td>\n",
       "      <td>-16.8</td>\n",
       "      <td>24</td>\n",
       "      <td>NaN</td>\n",
       "      <td>0</td>\n",
       "      <td>NaN</td>\n",
       "      <td>0</td>\n",
       "      <td>7.2</td>\n",
       "      <td>...</td>\n",
       "      <td>168</td>\n",
       "      <td>2016</td>\n",
       "      <td>1</td>\n",
       "      <td>1</td>\n",
       "      <td>0</td>\n",
       "      <td>0</td>\n",
       "      <td>0</td>\n",
       "      <td>0</td>\n",
       "      <td>0</td>\n",
       "      <td>4</td>\n",
       "    </tr>\n",
       "    <tr>\n",
       "      <th>291202</th>\n",
       "      <td>333450</td>\n",
       "      <td>KIEV/ZHULYANY</td>\n",
       "      <td>2016-01-05</td>\n",
       "      <td>-11.9</td>\n",
       "      <td>24</td>\n",
       "      <td>NaN</td>\n",
       "      <td>0</td>\n",
       "      <td>NaN</td>\n",
       "      <td>0</td>\n",
       "      <td>6.6</td>\n",
       "      <td>...</td>\n",
       "      <td>168</td>\n",
       "      <td>2016</td>\n",
       "      <td>1</td>\n",
       "      <td>1</td>\n",
       "      <td>0</td>\n",
       "      <td>0</td>\n",
       "      <td>0</td>\n",
       "      <td>0</td>\n",
       "      <td>0</td>\n",
       "      <td>5</td>\n",
       "    </tr>\n",
       "    <tr>\n",
       "      <th>...</th>\n",
       "      <td>...</td>\n",
       "      <td>...</td>\n",
       "      <td>...</td>\n",
       "      <td>...</td>\n",
       "      <td>...</td>\n",
       "      <td>...</td>\n",
       "      <td>...</td>\n",
       "      <td>...</td>\n",
       "      <td>...</td>\n",
       "      <td>...</td>\n",
       "      <td>...</td>\n",
       "      <td>...</td>\n",
       "      <td>...</td>\n",
       "      <td>...</td>\n",
       "      <td>...</td>\n",
       "      <td>...</td>\n",
       "      <td>...</td>\n",
       "      <td>...</td>\n",
       "      <td>...</td>\n",
       "      <td>...</td>\n",
       "      <td>...</td>\n",
       "    </tr>\n",
       "    <tr>\n",
       "      <th>301785</th>\n",
       "      <td>333470</td>\n",
       "      <td>BORISPOL'/KIEV</td>\n",
       "      <td>2016-12-27</td>\n",
       "      <td>2.6</td>\n",
       "      <td>24</td>\n",
       "      <td>NaN</td>\n",
       "      <td>0</td>\n",
       "      <td>NaN</td>\n",
       "      <td>0</td>\n",
       "      <td>9.5</td>\n",
       "      <td>...</td>\n",
       "      <td>119</td>\n",
       "      <td>2016</td>\n",
       "      <td>12</td>\n",
       "      <td>1</td>\n",
       "      <td>0</td>\n",
       "      <td>0</td>\n",
       "      <td>0</td>\n",
       "      <td>0</td>\n",
       "      <td>0</td>\n",
       "      <td>27</td>\n",
       "    </tr>\n",
       "    <tr>\n",
       "      <th>301786</th>\n",
       "      <td>333470</td>\n",
       "      <td>BORISPOL'/KIEV</td>\n",
       "      <td>2016-12-28</td>\n",
       "      <td>0.8</td>\n",
       "      <td>24</td>\n",
       "      <td>NaN</td>\n",
       "      <td>0</td>\n",
       "      <td>NaN</td>\n",
       "      <td>0</td>\n",
       "      <td>9.0</td>\n",
       "      <td>...</td>\n",
       "      <td>119</td>\n",
       "      <td>2016</td>\n",
       "      <td>12</td>\n",
       "      <td>1</td>\n",
       "      <td>1</td>\n",
       "      <td>0</td>\n",
       "      <td>0</td>\n",
       "      <td>0</td>\n",
       "      <td>0</td>\n",
       "      <td>28</td>\n",
       "    </tr>\n",
       "    <tr>\n",
       "      <th>301787</th>\n",
       "      <td>333470</td>\n",
       "      <td>BORISPOL'/KIEV</td>\n",
       "      <td>2016-12-29</td>\n",
       "      <td>-0.7</td>\n",
       "      <td>24</td>\n",
       "      <td>NaN</td>\n",
       "      <td>0</td>\n",
       "      <td>NaN</td>\n",
       "      <td>0</td>\n",
       "      <td>9.7</td>\n",
       "      <td>...</td>\n",
       "      <td>119</td>\n",
       "      <td>2016</td>\n",
       "      <td>12</td>\n",
       "      <td>1</td>\n",
       "      <td>0</td>\n",
       "      <td>0</td>\n",
       "      <td>0</td>\n",
       "      <td>0</td>\n",
       "      <td>0</td>\n",
       "      <td>29</td>\n",
       "    </tr>\n",
       "    <tr>\n",
       "      <th>301788</th>\n",
       "      <td>333470</td>\n",
       "      <td>BORISPOL'/KIEV</td>\n",
       "      <td>2016-12-30</td>\n",
       "      <td>-2.6</td>\n",
       "      <td>24</td>\n",
       "      <td>NaN</td>\n",
       "      <td>0</td>\n",
       "      <td>NaN</td>\n",
       "      <td>0</td>\n",
       "      <td>10.0</td>\n",
       "      <td>...</td>\n",
       "      <td>119</td>\n",
       "      <td>2016</td>\n",
       "      <td>12</td>\n",
       "      <td>0</td>\n",
       "      <td>0</td>\n",
       "      <td>0</td>\n",
       "      <td>0</td>\n",
       "      <td>0</td>\n",
       "      <td>0</td>\n",
       "      <td>30</td>\n",
       "    </tr>\n",
       "    <tr>\n",
       "      <th>301789</th>\n",
       "      <td>333470</td>\n",
       "      <td>BORISPOL'/KIEV</td>\n",
       "      <td>2016-12-31</td>\n",
       "      <td>-0.9</td>\n",
       "      <td>24</td>\n",
       "      <td>NaN</td>\n",
       "      <td>0</td>\n",
       "      <td>NaN</td>\n",
       "      <td>0</td>\n",
       "      <td>9.5</td>\n",
       "      <td>...</td>\n",
       "      <td>119</td>\n",
       "      <td>2016</td>\n",
       "      <td>12</td>\n",
       "      <td>0</td>\n",
       "      <td>0</td>\n",
       "      <td>0</td>\n",
       "      <td>0</td>\n",
       "      <td>0</td>\n",
       "      <td>0</td>\n",
       "      <td>31</td>\n",
       "    </tr>\n",
       "  </tbody>\n",
       "</table>\n",
       "<p>732 rows × 32 columns</p>\n",
       "</div>"
      ],
      "text/plain": [
       "        number            name       date  temp  tempcount  meanslp  slpcount  \\\n",
       "291198  333450   KIEV/ZHULYANY 2016-01-01 -11.7         24      NaN         0   \n",
       "291199  333450   KIEV/ZHULYANY 2016-01-02 -15.9         24      NaN         0   \n",
       "291200  333450   KIEV/ZHULYANY 2016-01-03 -17.9         24      NaN         0   \n",
       "291201  333450   KIEV/ZHULYANY 2016-01-04 -16.8         24      NaN         0   \n",
       "291202  333450   KIEV/ZHULYANY 2016-01-05 -11.9         24      NaN         0   \n",
       "...        ...             ...        ...   ...        ...      ...       ...   \n",
       "301785  333470  BORISPOL'/KIEV 2016-12-27   2.6         24      NaN         0   \n",
       "301786  333470  BORISPOL'/KIEV 2016-12-28   0.8         24      NaN         0   \n",
       "301787  333470  BORISPOL'/KIEV 2016-12-29  -0.7         24      NaN         0   \n",
       "301788  333470  BORISPOL'/KIEV 2016-12-30  -2.6         24      NaN         0   \n",
       "301789  333470  BORISPOL'/KIEV 2016-12-31  -0.9         24      NaN         0   \n",
       "\n",
       "        meanstp  stpcount  meanvisib  ...  elev  year  month  fog  rain  snow  \\\n",
       "291198      NaN         0        6.1  ...   168  2016      1    1     0     0   \n",
       "291199      NaN         0        7.2  ...   168  2016      1    1     0     0   \n",
       "291200      NaN         0        7.4  ...   168  2016      1    1     0     0   \n",
       "291201      NaN         0        7.2  ...   168  2016      1    1     0     0   \n",
       "291202      NaN         0        6.6  ...   168  2016      1    1     0     0   \n",
       "...         ...       ...        ...  ...   ...   ...    ...  ...   ...   ...   \n",
       "301785      NaN         0        9.5  ...   119  2016     12    1     0     0   \n",
       "301786      NaN         0        9.0  ...   119  2016     12    1     1     0   \n",
       "301787      NaN         0        9.7  ...   119  2016     12    1     0     0   \n",
       "301788      NaN         0       10.0  ...   119  2016     12    0     0     0   \n",
       "301789      NaN         0        9.5  ...   119  2016     12    0     0     0   \n",
       "\n",
       "        hail  thunder  tornado day  \n",
       "291198     0        0        0   1  \n",
       "291199     0        0        0   2  \n",
       "291200     0        0        0   3  \n",
       "291201     0        0        0   4  \n",
       "291202     0        0        0   5  \n",
       "...      ...      ...      ...  ..  \n",
       "301785     0        0        0  27  \n",
       "301786     0        0        0  28  \n",
       "301787     0        0        0  29  \n",
       "301788     0        0        0  30  \n",
       "301789     0        0        0  31  \n",
       "\n",
       "[732 rows x 32 columns]"
      ]
     },
     "execution_count": 77,
     "metadata": {},
     "output_type": "execute_result"
    }
   ],
   "source": [
    "kiev2016 = kievdf[kievdf['year'] == 2016]\n",
    "kiev2016['day'] = kiev2016.date.dt.day\n",
    "kiev2016"
   ]
  },
  {
   "cell_type": "code",
   "execution_count": 78,
   "metadata": {},
   "outputs": [
    {
     "data": {
      "text/html": [
       "<div>\n",
       "<style scoped>\n",
       "    .dataframe tbody tr th:only-of-type {\n",
       "        vertical-align: middle;\n",
       "    }\n",
       "\n",
       "    .dataframe tbody tr th {\n",
       "        vertical-align: top;\n",
       "    }\n",
       "\n",
       "    .dataframe thead th {\n",
       "        text-align: right;\n",
       "    }\n",
       "</style>\n",
       "<table border=\"1\" class=\"dataframe\">\n",
       "  <thead>\n",
       "    <tr style=\"text-align: right;\">\n",
       "      <th></th>\n",
       "      <th></th>\n",
       "      <th>number</th>\n",
       "      <th>temp</th>\n",
       "      <th>tempcount</th>\n",
       "      <th>meanslp</th>\n",
       "      <th>slpcount</th>\n",
       "      <th>meanstp</th>\n",
       "      <th>stpcount</th>\n",
       "      <th>meanvisib</th>\n",
       "      <th>visibcount</th>\n",
       "      <th>meanwindsp</th>\n",
       "      <th>...</th>\n",
       "      <th>lon</th>\n",
       "      <th>elev</th>\n",
       "      <th>year</th>\n",
       "      <th>fog</th>\n",
       "      <th>rain</th>\n",
       "      <th>snow</th>\n",
       "      <th>hail</th>\n",
       "      <th>thunder</th>\n",
       "      <th>tornado</th>\n",
       "      <th>day</th>\n",
       "    </tr>\n",
       "    <tr>\n",
       "      <th>name</th>\n",
       "      <th>month</th>\n",
       "      <th></th>\n",
       "      <th></th>\n",
       "      <th></th>\n",
       "      <th></th>\n",
       "      <th></th>\n",
       "      <th></th>\n",
       "      <th></th>\n",
       "      <th></th>\n",
       "      <th></th>\n",
       "      <th></th>\n",
       "      <th></th>\n",
       "      <th></th>\n",
       "      <th></th>\n",
       "      <th></th>\n",
       "      <th></th>\n",
       "      <th></th>\n",
       "      <th></th>\n",
       "      <th></th>\n",
       "      <th></th>\n",
       "      <th></th>\n",
       "      <th></th>\n",
       "    </tr>\n",
       "  </thead>\n",
       "  <tbody>\n",
       "    <tr>\n",
       "      <th rowspan=\"12\" valign=\"top\">KIEV/ZHULYANY</th>\n",
       "      <th>1</th>\n",
       "      <td>333450.0</td>\n",
       "      <td>-5.738710</td>\n",
       "      <td>24.000000</td>\n",
       "      <td>NaN</td>\n",
       "      <td>0.0</td>\n",
       "      <td>NaN</td>\n",
       "      <td>0.0</td>\n",
       "      <td>6.970968</td>\n",
       "      <td>21.516129</td>\n",
       "      <td>4.212903</td>\n",
       "      <td>...</td>\n",
       "      <td>30.27</td>\n",
       "      <td>168.0</td>\n",
       "      <td>2016.0</td>\n",
       "      <td>0.935484</td>\n",
       "      <td>0.193548</td>\n",
       "      <td>0.096774</td>\n",
       "      <td>0.000000</td>\n",
       "      <td>0.000000</td>\n",
       "      <td>0.0</td>\n",
       "      <td>16.0</td>\n",
       "    </tr>\n",
       "    <tr>\n",
       "      <th>2</th>\n",
       "      <td>333450.0</td>\n",
       "      <td>1.934483</td>\n",
       "      <td>23.724138</td>\n",
       "      <td>NaN</td>\n",
       "      <td>0.0</td>\n",
       "      <td>NaN</td>\n",
       "      <td>0.0</td>\n",
       "      <td>8.337037</td>\n",
       "      <td>17.344828</td>\n",
       "      <td>4.041379</td>\n",
       "      <td>...</td>\n",
       "      <td>30.27</td>\n",
       "      <td>168.0</td>\n",
       "      <td>2016.0</td>\n",
       "      <td>0.551724</td>\n",
       "      <td>0.310345</td>\n",
       "      <td>0.068966</td>\n",
       "      <td>0.000000</td>\n",
       "      <td>0.000000</td>\n",
       "      <td>0.0</td>\n",
       "      <td>15.0</td>\n",
       "    </tr>\n",
       "    <tr>\n",
       "      <th>3</th>\n",
       "      <td>333450.0</td>\n",
       "      <td>3.793548</td>\n",
       "      <td>23.838710</td>\n",
       "      <td>NaN</td>\n",
       "      <td>0.0</td>\n",
       "      <td>NaN</td>\n",
       "      <td>0.0</td>\n",
       "      <td>8.706667</td>\n",
       "      <td>18.709677</td>\n",
       "      <td>3.996774</td>\n",
       "      <td>...</td>\n",
       "      <td>30.27</td>\n",
       "      <td>168.0</td>\n",
       "      <td>2016.0</td>\n",
       "      <td>0.612903</td>\n",
       "      <td>0.290323</td>\n",
       "      <td>0.032258</td>\n",
       "      <td>0.000000</td>\n",
       "      <td>0.000000</td>\n",
       "      <td>0.0</td>\n",
       "      <td>16.0</td>\n",
       "    </tr>\n",
       "    <tr>\n",
       "      <th>4</th>\n",
       "      <td>333450.0</td>\n",
       "      <td>11.963333</td>\n",
       "      <td>24.000000</td>\n",
       "      <td>NaN</td>\n",
       "      <td>0.0</td>\n",
       "      <td>NaN</td>\n",
       "      <td>0.0</td>\n",
       "      <td>8.887500</td>\n",
       "      <td>9.566667</td>\n",
       "      <td>3.630000</td>\n",
       "      <td>...</td>\n",
       "      <td>30.27</td>\n",
       "      <td>168.0</td>\n",
       "      <td>2016.0</td>\n",
       "      <td>0.400000</td>\n",
       "      <td>0.033333</td>\n",
       "      <td>0.000000</td>\n",
       "      <td>0.000000</td>\n",
       "      <td>0.000000</td>\n",
       "      <td>0.0</td>\n",
       "      <td>15.5</td>\n",
       "    </tr>\n",
       "    <tr>\n",
       "      <th>5</th>\n",
       "      <td>333450.0</td>\n",
       "      <td>15.190323</td>\n",
       "      <td>24.000000</td>\n",
       "      <td>NaN</td>\n",
       "      <td>0.0</td>\n",
       "      <td>NaN</td>\n",
       "      <td>0.0</td>\n",
       "      <td>9.450000</td>\n",
       "      <td>12.612903</td>\n",
       "      <td>3.000000</td>\n",
       "      <td>...</td>\n",
       "      <td>30.27</td>\n",
       "      <td>168.0</td>\n",
       "      <td>2016.0</td>\n",
       "      <td>0.741935</td>\n",
       "      <td>0.064516</td>\n",
       "      <td>0.000000</td>\n",
       "      <td>0.225806</td>\n",
       "      <td>0.064516</td>\n",
       "      <td>0.0</td>\n",
       "      <td>16.0</td>\n",
       "    </tr>\n",
       "    <tr>\n",
       "      <th>6</th>\n",
       "      <td>333450.0</td>\n",
       "      <td>20.223333</td>\n",
       "      <td>24.000000</td>\n",
       "      <td>NaN</td>\n",
       "      <td>0.0</td>\n",
       "      <td>NaN</td>\n",
       "      <td>0.0</td>\n",
       "      <td>10.095238</td>\n",
       "      <td>7.233333</td>\n",
       "      <td>3.103333</td>\n",
       "      <td>...</td>\n",
       "      <td>30.27</td>\n",
       "      <td>168.0</td>\n",
       "      <td>2016.0</td>\n",
       "      <td>0.366667</td>\n",
       "      <td>0.033333</td>\n",
       "      <td>0.000000</td>\n",
       "      <td>0.100000</td>\n",
       "      <td>0.033333</td>\n",
       "      <td>0.0</td>\n",
       "      <td>15.5</td>\n",
       "    </tr>\n",
       "    <tr>\n",
       "      <th>7</th>\n",
       "      <td>333450.0</td>\n",
       "      <td>21.851613</td>\n",
       "      <td>24.000000</td>\n",
       "      <td>NaN</td>\n",
       "      <td>0.0</td>\n",
       "      <td>NaN</td>\n",
       "      <td>0.0</td>\n",
       "      <td>9.826923</td>\n",
       "      <td>9.387097</td>\n",
       "      <td>3.535484</td>\n",
       "      <td>...</td>\n",
       "      <td>30.27</td>\n",
       "      <td>168.0</td>\n",
       "      <td>2016.0</td>\n",
       "      <td>0.354839</td>\n",
       "      <td>0.000000</td>\n",
       "      <td>0.000000</td>\n",
       "      <td>0.064516</td>\n",
       "      <td>0.000000</td>\n",
       "      <td>0.0</td>\n",
       "      <td>16.0</td>\n",
       "    </tr>\n",
       "    <tr>\n",
       "      <th>8</th>\n",
       "      <td>333450.0</td>\n",
       "      <td>20.380645</td>\n",
       "      <td>24.000000</td>\n",
       "      <td>NaN</td>\n",
       "      <td>0.0</td>\n",
       "      <td>NaN</td>\n",
       "      <td>0.0</td>\n",
       "      <td>9.825926</td>\n",
       "      <td>8.806452</td>\n",
       "      <td>2.822581</td>\n",
       "      <td>...</td>\n",
       "      <td>30.27</td>\n",
       "      <td>168.0</td>\n",
       "      <td>2016.0</td>\n",
       "      <td>0.354839</td>\n",
       "      <td>0.032258</td>\n",
       "      <td>0.000000</td>\n",
       "      <td>0.096774</td>\n",
       "      <td>0.032258</td>\n",
       "      <td>0.0</td>\n",
       "      <td>16.0</td>\n",
       "    </tr>\n",
       "    <tr>\n",
       "      <th>9</th>\n",
       "      <td>333450.0</td>\n",
       "      <td>15.106667</td>\n",
       "      <td>24.000000</td>\n",
       "      <td>NaN</td>\n",
       "      <td>0.0</td>\n",
       "      <td>NaN</td>\n",
       "      <td>0.0</td>\n",
       "      <td>9.907692</td>\n",
       "      <td>9.000000</td>\n",
       "      <td>2.873333</td>\n",
       "      <td>...</td>\n",
       "      <td>30.27</td>\n",
       "      <td>168.0</td>\n",
       "      <td>2016.0</td>\n",
       "      <td>0.266667</td>\n",
       "      <td>0.000000</td>\n",
       "      <td>0.000000</td>\n",
       "      <td>0.000000</td>\n",
       "      <td>0.000000</td>\n",
       "      <td>0.0</td>\n",
       "      <td>15.5</td>\n",
       "    </tr>\n",
       "    <tr>\n",
       "      <th>10</th>\n",
       "      <td>333450.0</td>\n",
       "      <td>6.219355</td>\n",
       "      <td>24.000000</td>\n",
       "      <td>NaN</td>\n",
       "      <td>0.0</td>\n",
       "      <td>NaN</td>\n",
       "      <td>0.0</td>\n",
       "      <td>8.373333</td>\n",
       "      <td>19.161290</td>\n",
       "      <td>3.767742</td>\n",
       "      <td>...</td>\n",
       "      <td>30.27</td>\n",
       "      <td>168.0</td>\n",
       "      <td>2016.0</td>\n",
       "      <td>0.645161</td>\n",
       "      <td>0.193548</td>\n",
       "      <td>0.000000</td>\n",
       "      <td>0.000000</td>\n",
       "      <td>0.032258</td>\n",
       "      <td>0.0</td>\n",
       "      <td>16.0</td>\n",
       "    </tr>\n",
       "    <tr>\n",
       "      <th>11</th>\n",
       "      <td>333450.0</td>\n",
       "      <td>1.166667</td>\n",
       "      <td>23.966667</td>\n",
       "      <td>NaN</td>\n",
       "      <td>0.0</td>\n",
       "      <td>NaN</td>\n",
       "      <td>0.0</td>\n",
       "      <td>8.273333</td>\n",
       "      <td>21.600000</td>\n",
       "      <td>4.063333</td>\n",
       "      <td>...</td>\n",
       "      <td>30.27</td>\n",
       "      <td>168.0</td>\n",
       "      <td>2016.0</td>\n",
       "      <td>0.666667</td>\n",
       "      <td>0.133333</td>\n",
       "      <td>0.000000</td>\n",
       "      <td>0.000000</td>\n",
       "      <td>0.000000</td>\n",
       "      <td>0.0</td>\n",
       "      <td>15.5</td>\n",
       "    </tr>\n",
       "    <tr>\n",
       "      <th>12</th>\n",
       "      <td>333450.0</td>\n",
       "      <td>-1.719355</td>\n",
       "      <td>24.000000</td>\n",
       "      <td>NaN</td>\n",
       "      <td>0.0</td>\n",
       "      <td>NaN</td>\n",
       "      <td>0.0</td>\n",
       "      <td>7.412903</td>\n",
       "      <td>21.451613</td>\n",
       "      <td>4.787097</td>\n",
       "      <td>...</td>\n",
       "      <td>30.27</td>\n",
       "      <td>168.0</td>\n",
       "      <td>2016.0</td>\n",
       "      <td>0.903226</td>\n",
       "      <td>0.290323</td>\n",
       "      <td>0.032258</td>\n",
       "      <td>0.000000</td>\n",
       "      <td>0.000000</td>\n",
       "      <td>0.0</td>\n",
       "      <td>16.0</td>\n",
       "    </tr>\n",
       "    <tr>\n",
       "      <th rowspan=\"12\" valign=\"top\">BORISPOL'/KIEV</th>\n",
       "      <th>1</th>\n",
       "      <td>333470.0</td>\n",
       "      <td>-6.593548</td>\n",
       "      <td>24.000000</td>\n",
       "      <td>NaN</td>\n",
       "      <td>0.0</td>\n",
       "      <td>NaN</td>\n",
       "      <td>0.0</td>\n",
       "      <td>7.206452</td>\n",
       "      <td>20.419355</td>\n",
       "      <td>4.096774</td>\n",
       "      <td>...</td>\n",
       "      <td>30.58</td>\n",
       "      <td>119.0</td>\n",
       "      <td>2016.0</td>\n",
       "      <td>0.935484</td>\n",
       "      <td>0.161290</td>\n",
       "      <td>0.096774</td>\n",
       "      <td>0.000000</td>\n",
       "      <td>0.000000</td>\n",
       "      <td>0.0</td>\n",
       "      <td>16.0</td>\n",
       "    </tr>\n",
       "    <tr>\n",
       "      <th>2</th>\n",
       "      <td>333470.0</td>\n",
       "      <td>1.562069</td>\n",
       "      <td>23.793103</td>\n",
       "      <td>NaN</td>\n",
       "      <td>0.0</td>\n",
       "      <td>NaN</td>\n",
       "      <td>0.0</td>\n",
       "      <td>8.455556</td>\n",
       "      <td>16.000000</td>\n",
       "      <td>4.437931</td>\n",
       "      <td>...</td>\n",
       "      <td>30.58</td>\n",
       "      <td>119.0</td>\n",
       "      <td>2016.0</td>\n",
       "      <td>0.620690</td>\n",
       "      <td>0.241379</td>\n",
       "      <td>0.034483</td>\n",
       "      <td>0.000000</td>\n",
       "      <td>0.000000</td>\n",
       "      <td>0.0</td>\n",
       "      <td>15.0</td>\n",
       "    </tr>\n",
       "    <tr>\n",
       "      <th>3</th>\n",
       "      <td>333470.0</td>\n",
       "      <td>3.648387</td>\n",
       "      <td>23.774194</td>\n",
       "      <td>NaN</td>\n",
       "      <td>0.0</td>\n",
       "      <td>NaN</td>\n",
       "      <td>0.0</td>\n",
       "      <td>8.744444</td>\n",
       "      <td>16.903226</td>\n",
       "      <td>4.122581</td>\n",
       "      <td>...</td>\n",
       "      <td>30.58</td>\n",
       "      <td>119.0</td>\n",
       "      <td>2016.0</td>\n",
       "      <td>0.580645</td>\n",
       "      <td>0.193548</td>\n",
       "      <td>0.032258</td>\n",
       "      <td>0.000000</td>\n",
       "      <td>0.000000</td>\n",
       "      <td>0.0</td>\n",
       "      <td>16.0</td>\n",
       "    </tr>\n",
       "    <tr>\n",
       "      <th>4</th>\n",
       "      <td>333470.0</td>\n",
       "      <td>11.536667</td>\n",
       "      <td>24.000000</td>\n",
       "      <td>NaN</td>\n",
       "      <td>0.0</td>\n",
       "      <td>NaN</td>\n",
       "      <td>0.0</td>\n",
       "      <td>8.695238</td>\n",
       "      <td>8.566667</td>\n",
       "      <td>3.553333</td>\n",
       "      <td>...</td>\n",
       "      <td>30.58</td>\n",
       "      <td>119.0</td>\n",
       "      <td>2016.0</td>\n",
       "      <td>0.566667</td>\n",
       "      <td>0.000000</td>\n",
       "      <td>0.000000</td>\n",
       "      <td>0.033333</td>\n",
       "      <td>0.000000</td>\n",
       "      <td>0.0</td>\n",
       "      <td>15.5</td>\n",
       "    </tr>\n",
       "    <tr>\n",
       "      <th>5</th>\n",
       "      <td>333470.0</td>\n",
       "      <td>14.838710</td>\n",
       "      <td>24.000000</td>\n",
       "      <td>NaN</td>\n",
       "      <td>0.0</td>\n",
       "      <td>NaN</td>\n",
       "      <td>0.0</td>\n",
       "      <td>9.079167</td>\n",
       "      <td>11.612903</td>\n",
       "      <td>3.100000</td>\n",
       "      <td>...</td>\n",
       "      <td>30.58</td>\n",
       "      <td>119.0</td>\n",
       "      <td>2016.0</td>\n",
       "      <td>0.774194</td>\n",
       "      <td>0.000000</td>\n",
       "      <td>0.000000</td>\n",
       "      <td>0.258065</td>\n",
       "      <td>0.000000</td>\n",
       "      <td>0.0</td>\n",
       "      <td>16.0</td>\n",
       "    </tr>\n",
       "    <tr>\n",
       "      <th>6</th>\n",
       "      <td>333470.0</td>\n",
       "      <td>19.753333</td>\n",
       "      <td>24.000000</td>\n",
       "      <td>NaN</td>\n",
       "      <td>0.0</td>\n",
       "      <td>NaN</td>\n",
       "      <td>0.0</td>\n",
       "      <td>9.168421</td>\n",
       "      <td>6.900000</td>\n",
       "      <td>3.383333</td>\n",
       "      <td>...</td>\n",
       "      <td>30.58</td>\n",
       "      <td>119.0</td>\n",
       "      <td>2016.0</td>\n",
       "      <td>0.366667</td>\n",
       "      <td>0.000000</td>\n",
       "      <td>0.000000</td>\n",
       "      <td>0.066667</td>\n",
       "      <td>0.000000</td>\n",
       "      <td>0.0</td>\n",
       "      <td>15.5</td>\n",
       "    </tr>\n",
       "    <tr>\n",
       "      <th>7</th>\n",
       "      <td>333470.0</td>\n",
       "      <td>21.709677</td>\n",
       "      <td>24.000000</td>\n",
       "      <td>NaN</td>\n",
       "      <td>0.0</td>\n",
       "      <td>NaN</td>\n",
       "      <td>0.0</td>\n",
       "      <td>9.094737</td>\n",
       "      <td>7.290323</td>\n",
       "      <td>3.651613</td>\n",
       "      <td>...</td>\n",
       "      <td>30.58</td>\n",
       "      <td>119.0</td>\n",
       "      <td>2016.0</td>\n",
       "      <td>0.258065</td>\n",
       "      <td>0.000000</td>\n",
       "      <td>0.000000</td>\n",
       "      <td>0.032258</td>\n",
       "      <td>0.000000</td>\n",
       "      <td>0.0</td>\n",
       "      <td>16.0</td>\n",
       "    </tr>\n",
       "    <tr>\n",
       "      <th>8</th>\n",
       "      <td>333470.0</td>\n",
       "      <td>20.151613</td>\n",
       "      <td>24.000000</td>\n",
       "      <td>NaN</td>\n",
       "      <td>0.0</td>\n",
       "      <td>NaN</td>\n",
       "      <td>0.0</td>\n",
       "      <td>8.766667</td>\n",
       "      <td>5.451613</td>\n",
       "      <td>3.287097</td>\n",
       "      <td>...</td>\n",
       "      <td>30.58</td>\n",
       "      <td>119.0</td>\n",
       "      <td>2016.0</td>\n",
       "      <td>0.387097</td>\n",
       "      <td>0.000000</td>\n",
       "      <td>0.000000</td>\n",
       "      <td>0.096774</td>\n",
       "      <td>0.000000</td>\n",
       "      <td>0.0</td>\n",
       "      <td>16.0</td>\n",
       "    </tr>\n",
       "    <tr>\n",
       "      <th>9</th>\n",
       "      <td>333470.0</td>\n",
       "      <td>14.423333</td>\n",
       "      <td>24.000000</td>\n",
       "      <td>NaN</td>\n",
       "      <td>0.0</td>\n",
       "      <td>NaN</td>\n",
       "      <td>0.0</td>\n",
       "      <td>8.943750</td>\n",
       "      <td>5.866667</td>\n",
       "      <td>2.880000</td>\n",
       "      <td>...</td>\n",
       "      <td>30.58</td>\n",
       "      <td>119.0</td>\n",
       "      <td>2016.0</td>\n",
       "      <td>0.133333</td>\n",
       "      <td>0.000000</td>\n",
       "      <td>0.000000</td>\n",
       "      <td>0.000000</td>\n",
       "      <td>0.000000</td>\n",
       "      <td>0.0</td>\n",
       "      <td>15.5</td>\n",
       "    </tr>\n",
       "    <tr>\n",
       "      <th>10</th>\n",
       "      <td>333470.0</td>\n",
       "      <td>6.032258</td>\n",
       "      <td>24.000000</td>\n",
       "      <td>NaN</td>\n",
       "      <td>0.0</td>\n",
       "      <td>NaN</td>\n",
       "      <td>0.0</td>\n",
       "      <td>8.572414</td>\n",
       "      <td>18.419355</td>\n",
       "      <td>3.835484</td>\n",
       "      <td>...</td>\n",
       "      <td>30.58</td>\n",
       "      <td>119.0</td>\n",
       "      <td>2016.0</td>\n",
       "      <td>0.483871</td>\n",
       "      <td>0.096774</td>\n",
       "      <td>0.000000</td>\n",
       "      <td>0.032258</td>\n",
       "      <td>0.032258</td>\n",
       "      <td>0.0</td>\n",
       "      <td>16.0</td>\n",
       "    </tr>\n",
       "    <tr>\n",
       "      <th>11</th>\n",
       "      <td>333470.0</td>\n",
       "      <td>0.740000</td>\n",
       "      <td>23.966667</td>\n",
       "      <td>NaN</td>\n",
       "      <td>0.0</td>\n",
       "      <td>NaN</td>\n",
       "      <td>0.0</td>\n",
       "      <td>8.413333</td>\n",
       "      <td>20.900000</td>\n",
       "      <td>4.283333</td>\n",
       "      <td>...</td>\n",
       "      <td>30.58</td>\n",
       "      <td>119.0</td>\n",
       "      <td>2016.0</td>\n",
       "      <td>0.700000</td>\n",
       "      <td>0.133333</td>\n",
       "      <td>0.033333</td>\n",
       "      <td>0.000000</td>\n",
       "      <td>0.000000</td>\n",
       "      <td>0.0</td>\n",
       "      <td>15.5</td>\n",
       "    </tr>\n",
       "    <tr>\n",
       "      <th>12</th>\n",
       "      <td>333470.0</td>\n",
       "      <td>-1.887097</td>\n",
       "      <td>24.000000</td>\n",
       "      <td>NaN</td>\n",
       "      <td>0.0</td>\n",
       "      <td>NaN</td>\n",
       "      <td>0.0</td>\n",
       "      <td>7.963333</td>\n",
       "      <td>20.193548</td>\n",
       "      <td>4.106452</td>\n",
       "      <td>...</td>\n",
       "      <td>30.58</td>\n",
       "      <td>119.0</td>\n",
       "      <td>2016.0</td>\n",
       "      <td>0.870968</td>\n",
       "      <td>0.290323</td>\n",
       "      <td>0.032258</td>\n",
       "      <td>0.000000</td>\n",
       "      <td>0.000000</td>\n",
       "      <td>0.0</td>\n",
       "      <td>16.0</td>\n",
       "    </tr>\n",
       "  </tbody>\n",
       "</table>\n",
       "<p>24 rows × 28 columns</p>\n",
       "</div>"
      ],
      "text/plain": [
       "                        number       temp  tempcount  meanslp  slpcount  \\\n",
       "name           month                                                      \n",
       "KIEV/ZHULYANY  1      333450.0  -5.738710  24.000000      NaN       0.0   \n",
       "               2      333450.0   1.934483  23.724138      NaN       0.0   \n",
       "               3      333450.0   3.793548  23.838710      NaN       0.0   \n",
       "               4      333450.0  11.963333  24.000000      NaN       0.0   \n",
       "               5      333450.0  15.190323  24.000000      NaN       0.0   \n",
       "               6      333450.0  20.223333  24.000000      NaN       0.0   \n",
       "               7      333450.0  21.851613  24.000000      NaN       0.0   \n",
       "               8      333450.0  20.380645  24.000000      NaN       0.0   \n",
       "               9      333450.0  15.106667  24.000000      NaN       0.0   \n",
       "               10     333450.0   6.219355  24.000000      NaN       0.0   \n",
       "               11     333450.0   1.166667  23.966667      NaN       0.0   \n",
       "               12     333450.0  -1.719355  24.000000      NaN       0.0   \n",
       "BORISPOL'/KIEV 1      333470.0  -6.593548  24.000000      NaN       0.0   \n",
       "               2      333470.0   1.562069  23.793103      NaN       0.0   \n",
       "               3      333470.0   3.648387  23.774194      NaN       0.0   \n",
       "               4      333470.0  11.536667  24.000000      NaN       0.0   \n",
       "               5      333470.0  14.838710  24.000000      NaN       0.0   \n",
       "               6      333470.0  19.753333  24.000000      NaN       0.0   \n",
       "               7      333470.0  21.709677  24.000000      NaN       0.0   \n",
       "               8      333470.0  20.151613  24.000000      NaN       0.0   \n",
       "               9      333470.0  14.423333  24.000000      NaN       0.0   \n",
       "               10     333470.0   6.032258  24.000000      NaN       0.0   \n",
       "               11     333470.0   0.740000  23.966667      NaN       0.0   \n",
       "               12     333470.0  -1.887097  24.000000      NaN       0.0   \n",
       "\n",
       "                      meanstp  stpcount  meanvisib  visibcount  meanwindsp  \\\n",
       "name           month                                                         \n",
       "KIEV/ZHULYANY  1          NaN       0.0   6.970968   21.516129    4.212903   \n",
       "               2          NaN       0.0   8.337037   17.344828    4.041379   \n",
       "               3          NaN       0.0   8.706667   18.709677    3.996774   \n",
       "               4          NaN       0.0   8.887500    9.566667    3.630000   \n",
       "               5          NaN       0.0   9.450000   12.612903    3.000000   \n",
       "               6          NaN       0.0  10.095238    7.233333    3.103333   \n",
       "               7          NaN       0.0   9.826923    9.387097    3.535484   \n",
       "               8          NaN       0.0   9.825926    8.806452    2.822581   \n",
       "               9          NaN       0.0   9.907692    9.000000    2.873333   \n",
       "               10         NaN       0.0   8.373333   19.161290    3.767742   \n",
       "               11         NaN       0.0   8.273333   21.600000    4.063333   \n",
       "               12         NaN       0.0   7.412903   21.451613    4.787097   \n",
       "BORISPOL'/KIEV 1          NaN       0.0   7.206452   20.419355    4.096774   \n",
       "               2          NaN       0.0   8.455556   16.000000    4.437931   \n",
       "               3          NaN       0.0   8.744444   16.903226    4.122581   \n",
       "               4          NaN       0.0   8.695238    8.566667    3.553333   \n",
       "               5          NaN       0.0   9.079167   11.612903    3.100000   \n",
       "               6          NaN       0.0   9.168421    6.900000    3.383333   \n",
       "               7          NaN       0.0   9.094737    7.290323    3.651613   \n",
       "               8          NaN       0.0   8.766667    5.451613    3.287097   \n",
       "               9          NaN       0.0   8.943750    5.866667    2.880000   \n",
       "               10         NaN       0.0   8.572414   18.419355    3.835484   \n",
       "               11         NaN       0.0   8.413333   20.900000    4.283333   \n",
       "               12         NaN       0.0   7.963333   20.193548    4.106452   \n",
       "\n",
       "                      ...    lon   elev    year       fog      rain      snow  \\\n",
       "name           month  ...                                                       \n",
       "KIEV/ZHULYANY  1      ...  30.27  168.0  2016.0  0.935484  0.193548  0.096774   \n",
       "               2      ...  30.27  168.0  2016.0  0.551724  0.310345  0.068966   \n",
       "               3      ...  30.27  168.0  2016.0  0.612903  0.290323  0.032258   \n",
       "               4      ...  30.27  168.0  2016.0  0.400000  0.033333  0.000000   \n",
       "               5      ...  30.27  168.0  2016.0  0.741935  0.064516  0.000000   \n",
       "               6      ...  30.27  168.0  2016.0  0.366667  0.033333  0.000000   \n",
       "               7      ...  30.27  168.0  2016.0  0.354839  0.000000  0.000000   \n",
       "               8      ...  30.27  168.0  2016.0  0.354839  0.032258  0.000000   \n",
       "               9      ...  30.27  168.0  2016.0  0.266667  0.000000  0.000000   \n",
       "               10     ...  30.27  168.0  2016.0  0.645161  0.193548  0.000000   \n",
       "               11     ...  30.27  168.0  2016.0  0.666667  0.133333  0.000000   \n",
       "               12     ...  30.27  168.0  2016.0  0.903226  0.290323  0.032258   \n",
       "BORISPOL'/KIEV 1      ...  30.58  119.0  2016.0  0.935484  0.161290  0.096774   \n",
       "               2      ...  30.58  119.0  2016.0  0.620690  0.241379  0.034483   \n",
       "               3      ...  30.58  119.0  2016.0  0.580645  0.193548  0.032258   \n",
       "               4      ...  30.58  119.0  2016.0  0.566667  0.000000  0.000000   \n",
       "               5      ...  30.58  119.0  2016.0  0.774194  0.000000  0.000000   \n",
       "               6      ...  30.58  119.0  2016.0  0.366667  0.000000  0.000000   \n",
       "               7      ...  30.58  119.0  2016.0  0.258065  0.000000  0.000000   \n",
       "               8      ...  30.58  119.0  2016.0  0.387097  0.000000  0.000000   \n",
       "               9      ...  30.58  119.0  2016.0  0.133333  0.000000  0.000000   \n",
       "               10     ...  30.58  119.0  2016.0  0.483871  0.096774  0.000000   \n",
       "               11     ...  30.58  119.0  2016.0  0.700000  0.133333  0.033333   \n",
       "               12     ...  30.58  119.0  2016.0  0.870968  0.290323  0.032258   \n",
       "\n",
       "                          hail   thunder  tornado   day  \n",
       "name           month                                     \n",
       "KIEV/ZHULYANY  1      0.000000  0.000000      0.0  16.0  \n",
       "               2      0.000000  0.000000      0.0  15.0  \n",
       "               3      0.000000  0.000000      0.0  16.0  \n",
       "               4      0.000000  0.000000      0.0  15.5  \n",
       "               5      0.225806  0.064516      0.0  16.0  \n",
       "               6      0.100000  0.033333      0.0  15.5  \n",
       "               7      0.064516  0.000000      0.0  16.0  \n",
       "               8      0.096774  0.032258      0.0  16.0  \n",
       "               9      0.000000  0.000000      0.0  15.5  \n",
       "               10     0.000000  0.032258      0.0  16.0  \n",
       "               11     0.000000  0.000000      0.0  15.5  \n",
       "               12     0.000000  0.000000      0.0  16.0  \n",
       "BORISPOL'/KIEV 1      0.000000  0.000000      0.0  16.0  \n",
       "               2      0.000000  0.000000      0.0  15.0  \n",
       "               3      0.000000  0.000000      0.0  16.0  \n",
       "               4      0.033333  0.000000      0.0  15.5  \n",
       "               5      0.258065  0.000000      0.0  16.0  \n",
       "               6      0.066667  0.000000      0.0  15.5  \n",
       "               7      0.032258  0.000000      0.0  16.0  \n",
       "               8      0.096774  0.000000      0.0  16.0  \n",
       "               9      0.000000  0.000000      0.0  15.5  \n",
       "               10     0.032258  0.032258      0.0  16.0  \n",
       "               11     0.000000  0.000000      0.0  15.5  \n",
       "               12     0.000000  0.000000      0.0  16.0  \n",
       "\n",
       "[24 rows x 28 columns]"
      ]
     },
     "execution_count": 78,
     "metadata": {},
     "output_type": "execute_result"
    }
   ],
   "source": [
    "grp = kiev2016.groupby(['name', 'month'], sort=False).mean()\n",
    "grp"
   ]
  },
  {
   "cell_type": "code",
   "execution_count": 79,
   "metadata": {},
   "outputs": [],
   "source": [
    "tmp1 = grp.loc['KIEV/ZHULYANY', 'temp']\n",
    "tmp2 = grp.loc['BORISPOL\\'/KIEV', 'temp']\n",
    "xax = kiev2016['date'].dt.month_name().unique()"
   ]
  },
  {
   "cell_type": "markdown",
   "metadata": {},
   "source": [
    "#### Plotting Kyiv monthly mean temperature in 2016 with pyplot"
   ]
  },
  {
   "cell_type": "code",
   "execution_count": 90,
   "metadata": {
    "scrolled": true
   },
   "outputs": [
    {
     "name": "stderr",
     "output_type": "stream",
     "text": [
      "c:\\python38\\lib\\site-packages\\matplotlib\\cbook\\__init__.py:1402: FutureWarning:\n",
      "\n",
      "Support for multi-dimensional indexing (e.g. `obj[:, None]`) is deprecated and will be removed in a future version.  Convert to a numpy array before indexing instead.\n",
      "\n",
      "c:\\python38\\lib\\site-packages\\matplotlib\\axes\\_base.py:278: FutureWarning:\n",
      "\n",
      "Support for multi-dimensional indexing (e.g. `obj[:, None]`) is deprecated and will be removed in a future version.  Convert to a numpy array before indexing instead.\n",
      "\n"
     ]
    },
    {
     "data": {
      "image/png": "[encoded data removed]",
      "text/plain": [
       "<Figure size 1440x864 with 1 Axes>"
      ]
     },
     "metadata": {
      "needs_background": "light"
     },
     "output_type": "display_data"
    }
   ],
   "source": [
    "fix, ax = plt.subplots(figsize = (20, 12));\n",
    "plt.yticks(np.arange(int(min(tmp1)), int(max(tmp1)+2), 2.0));\n",
    "plt.grid();\n",
    "plt.title('Kyiv monthly mean temperature in 2016');\n",
    "plt.ylabel('temperature, Celsius');\n",
    "ax.plot(xax, tmp1, label='KIEV/ZHULYANY');\n",
    "ax.plot(xax, tmp2, label='BORISPOL\\'/KIEV');\n",
    "ax.legend(prop={'size': 15});"
   ]
  },
  {
   "cell_type": "code",
   "execution_count": 81,
   "metadata": {
    "scrolled": true
   },
   "outputs": [],
   "source": [
    "import dash\n",
    "import dash_core_components as dcc\n",
    "import dash_html_components as html\n",
    "from dash.dependencies import Input, Output\n",
    "from jupyter_plotly_dash import JupyterDash"
   ]
  },
  {
   "cell_type": "code",
   "execution_count": 82,
   "metadata": {},
   "outputs": [
    {
     "data": {
      "text/html": [
       "<div>\n",
       "<style scoped>\n",
       "    .dataframe tbody tr th:only-of-type {\n",
       "        vertical-align: middle;\n",
       "    }\n",
       "\n",
       "    .dataframe tbody tr th {\n",
       "        vertical-align: top;\n",
       "    }\n",
       "\n",
       "    .dataframe thead th {\n",
       "        text-align: right;\n",
       "    }\n",
       "</style>\n",
       "<table border=\"1\" class=\"dataframe\">\n",
       "  <thead>\n",
       "    <tr style=\"text-align: right;\">\n",
       "      <th></th>\n",
       "      <th>name</th>\n",
       "      <th>year</th>\n",
       "      <th>month</th>\n",
       "      <th>number</th>\n",
       "      <th>temp</th>\n",
       "      <th>tempcount</th>\n",
       "      <th>meanslp</th>\n",
       "      <th>slpcount</th>\n",
       "      <th>meanstp</th>\n",
       "      <th>stpcount</th>\n",
       "      <th>...</th>\n",
       "      <th>snowdepth</th>\n",
       "      <th>lat</th>\n",
       "      <th>lon</th>\n",
       "      <th>elev</th>\n",
       "      <th>fog</th>\n",
       "      <th>rain</th>\n",
       "      <th>snow</th>\n",
       "      <th>hail</th>\n",
       "      <th>thunder</th>\n",
       "      <th>tornado</th>\n",
       "    </tr>\n",
       "  </thead>\n",
       "  <tbody>\n",
       "    <tr>\n",
       "      <th>0</th>\n",
       "      <td>BORISPOL'/KIEV</td>\n",
       "      <td>1961</td>\n",
       "      <td>9</td>\n",
       "      <td>333470.0</td>\n",
       "      <td>10.300000</td>\n",
       "      <td>4.000000</td>\n",
       "      <td>NaN</td>\n",
       "      <td>0.000000</td>\n",
       "      <td>NaN</td>\n",
       "      <td>0.0</td>\n",
       "      <td>...</td>\n",
       "      <td>NaN</td>\n",
       "      <td>50.20</td>\n",
       "      <td>30.58</td>\n",
       "      <td>119.0</td>\n",
       "      <td>1.000000</td>\n",
       "      <td>1.000000</td>\n",
       "      <td>0.000000</td>\n",
       "      <td>0.000000</td>\n",
       "      <td>0.000000</td>\n",
       "      <td>0.0</td>\n",
       "    </tr>\n",
       "    <tr>\n",
       "      <th>1</th>\n",
       "      <td>BORISPOL'/KIEV</td>\n",
       "      <td>1977</td>\n",
       "      <td>10</td>\n",
       "      <td>333470.0</td>\n",
       "      <td>5.904167</td>\n",
       "      <td>4.958333</td>\n",
       "      <td>NaN</td>\n",
       "      <td>0.000000</td>\n",
       "      <td>NaN</td>\n",
       "      <td>0.0</td>\n",
       "      <td>...</td>\n",
       "      <td>NaN</td>\n",
       "      <td>50.20</td>\n",
       "      <td>30.58</td>\n",
       "      <td>119.0</td>\n",
       "      <td>0.291667</td>\n",
       "      <td>0.000000</td>\n",
       "      <td>0.000000</td>\n",
       "      <td>0.000000</td>\n",
       "      <td>0.000000</td>\n",
       "      <td>0.0</td>\n",
       "    </tr>\n",
       "    <tr>\n",
       "      <th>2</th>\n",
       "      <td>BORISPOL'/KIEV</td>\n",
       "      <td>1977</td>\n",
       "      <td>11</td>\n",
       "      <td>333470.0</td>\n",
       "      <td>3.418182</td>\n",
       "      <td>5.136364</td>\n",
       "      <td>1008.150</td>\n",
       "      <td>3.727273</td>\n",
       "      <td>NaN</td>\n",
       "      <td>0.0</td>\n",
       "      <td>...</td>\n",
       "      <td>NaN</td>\n",
       "      <td>50.20</td>\n",
       "      <td>30.58</td>\n",
       "      <td>119.0</td>\n",
       "      <td>0.681818</td>\n",
       "      <td>0.272727</td>\n",
       "      <td>0.000000</td>\n",
       "      <td>0.000000</td>\n",
       "      <td>0.000000</td>\n",
       "      <td>0.0</td>\n",
       "    </tr>\n",
       "    <tr>\n",
       "      <th>3</th>\n",
       "      <td>BORISPOL'/KIEV</td>\n",
       "      <td>1977</td>\n",
       "      <td>12</td>\n",
       "      <td>333470.0</td>\n",
       "      <td>-5.260000</td>\n",
       "      <td>5.520000</td>\n",
       "      <td>1020.412</td>\n",
       "      <td>5.520000</td>\n",
       "      <td>NaN</td>\n",
       "      <td>0.0</td>\n",
       "      <td>...</td>\n",
       "      <td>3.560000</td>\n",
       "      <td>50.20</td>\n",
       "      <td>30.58</td>\n",
       "      <td>119.0</td>\n",
       "      <td>0.640000</td>\n",
       "      <td>0.080000</td>\n",
       "      <td>0.080000</td>\n",
       "      <td>0.000000</td>\n",
       "      <td>0.000000</td>\n",
       "      <td>0.0</td>\n",
       "    </tr>\n",
       "    <tr>\n",
       "      <th>4</th>\n",
       "      <td>BORISPOL'/KIEV</td>\n",
       "      <td>1982</td>\n",
       "      <td>1</td>\n",
       "      <td>333470.0</td>\n",
       "      <td>-0.800000</td>\n",
       "      <td>4.000000</td>\n",
       "      <td>1016.600</td>\n",
       "      <td>4.000000</td>\n",
       "      <td>NaN</td>\n",
       "      <td>0.0</td>\n",
       "      <td>...</td>\n",
       "      <td>NaN</td>\n",
       "      <td>50.20</td>\n",
       "      <td>30.58</td>\n",
       "      <td>119.0</td>\n",
       "      <td>0.000000</td>\n",
       "      <td>0.000000</td>\n",
       "      <td>0.000000</td>\n",
       "      <td>0.000000</td>\n",
       "      <td>0.000000</td>\n",
       "      <td>0.0</td>\n",
       "    </tr>\n",
       "    <tr>\n",
       "      <th>...</th>\n",
       "      <td>...</td>\n",
       "      <td>...</td>\n",
       "      <td>...</td>\n",
       "      <td>...</td>\n",
       "      <td>...</td>\n",
       "      <td>...</td>\n",
       "      <td>...</td>\n",
       "      <td>...</td>\n",
       "      <td>...</td>\n",
       "      <td>...</td>\n",
       "      <td>...</td>\n",
       "      <td>...</td>\n",
       "      <td>...</td>\n",
       "      <td>...</td>\n",
       "      <td>...</td>\n",
       "      <td>...</td>\n",
       "      <td>...</td>\n",
       "      <td>...</td>\n",
       "      <td>...</td>\n",
       "      <td>...</td>\n",
       "      <td>...</td>\n",
       "    </tr>\n",
       "    <tr>\n",
       "      <th>552</th>\n",
       "      <td>KIEV/ZHULYANY</td>\n",
       "      <td>2016</td>\n",
       "      <td>8</td>\n",
       "      <td>333450.0</td>\n",
       "      <td>20.380645</td>\n",
       "      <td>24.000000</td>\n",
       "      <td>NaN</td>\n",
       "      <td>0.000000</td>\n",
       "      <td>NaN</td>\n",
       "      <td>0.0</td>\n",
       "      <td>...</td>\n",
       "      <td>NaN</td>\n",
       "      <td>50.24</td>\n",
       "      <td>30.27</td>\n",
       "      <td>168.0</td>\n",
       "      <td>0.354839</td>\n",
       "      <td>0.032258</td>\n",
       "      <td>0.000000</td>\n",
       "      <td>0.096774</td>\n",
       "      <td>0.032258</td>\n",
       "      <td>0.0</td>\n",
       "    </tr>\n",
       "    <tr>\n",
       "      <th>553</th>\n",
       "      <td>KIEV/ZHULYANY</td>\n",
       "      <td>2016</td>\n",
       "      <td>9</td>\n",
       "      <td>333450.0</td>\n",
       "      <td>15.106667</td>\n",
       "      <td>24.000000</td>\n",
       "      <td>NaN</td>\n",
       "      <td>0.000000</td>\n",
       "      <td>NaN</td>\n",
       "      <td>0.0</td>\n",
       "      <td>...</td>\n",
       "      <td>NaN</td>\n",
       "      <td>50.24</td>\n",
       "      <td>30.27</td>\n",
       "      <td>168.0</td>\n",
       "      <td>0.266667</td>\n",
       "      <td>0.000000</td>\n",
       "      <td>0.000000</td>\n",
       "      <td>0.000000</td>\n",
       "      <td>0.000000</td>\n",
       "      <td>0.0</td>\n",
       "    </tr>\n",
       "    <tr>\n",
       "      <th>554</th>\n",
       "      <td>KIEV/ZHULYANY</td>\n",
       "      <td>2016</td>\n",
       "      <td>10</td>\n",
       "      <td>333450.0</td>\n",
       "      <td>6.219355</td>\n",
       "      <td>24.000000</td>\n",
       "      <td>NaN</td>\n",
       "      <td>0.000000</td>\n",
       "      <td>NaN</td>\n",
       "      <td>0.0</td>\n",
       "      <td>...</td>\n",
       "      <td>3.050000</td>\n",
       "      <td>50.24</td>\n",
       "      <td>30.27</td>\n",
       "      <td>168.0</td>\n",
       "      <td>0.645161</td>\n",
       "      <td>0.193548</td>\n",
       "      <td>0.000000</td>\n",
       "      <td>0.000000</td>\n",
       "      <td>0.032258</td>\n",
       "      <td>0.0</td>\n",
       "    </tr>\n",
       "    <tr>\n",
       "      <th>555</th>\n",
       "      <td>KIEV/ZHULYANY</td>\n",
       "      <td>2016</td>\n",
       "      <td>11</td>\n",
       "      <td>333450.0</td>\n",
       "      <td>1.166667</td>\n",
       "      <td>23.966667</td>\n",
       "      <td>NaN</td>\n",
       "      <td>0.000000</td>\n",
       "      <td>NaN</td>\n",
       "      <td>0.0</td>\n",
       "      <td>...</td>\n",
       "      <td>6.302000</td>\n",
       "      <td>50.24</td>\n",
       "      <td>30.27</td>\n",
       "      <td>168.0</td>\n",
       "      <td>0.666667</td>\n",
       "      <td>0.133333</td>\n",
       "      <td>0.000000</td>\n",
       "      <td>0.000000</td>\n",
       "      <td>0.000000</td>\n",
       "      <td>0.0</td>\n",
       "    </tr>\n",
       "    <tr>\n",
       "      <th>556</th>\n",
       "      <td>KIEV/ZHULYANY</td>\n",
       "      <td>2016</td>\n",
       "      <td>12</td>\n",
       "      <td>333450.0</td>\n",
       "      <td>-1.719355</td>\n",
       "      <td>24.000000</td>\n",
       "      <td>NaN</td>\n",
       "      <td>0.000000</td>\n",
       "      <td>NaN</td>\n",
       "      <td>0.0</td>\n",
       "      <td>...</td>\n",
       "      <td>5.014074</td>\n",
       "      <td>50.24</td>\n",
       "      <td>30.27</td>\n",
       "      <td>168.0</td>\n",
       "      <td>0.903226</td>\n",
       "      <td>0.290323</td>\n",
       "      <td>0.032258</td>\n",
       "      <td>0.000000</td>\n",
       "      <td>0.000000</td>\n",
       "      <td>0.0</td>\n",
       "    </tr>\n",
       "  </tbody>\n",
       "</table>\n",
       "<p>557 rows × 29 columns</p>\n",
       "</div>"
      ],
      "text/plain": [
       "               name  year  month    number       temp  tempcount   meanslp  \\\n",
       "0    BORISPOL'/KIEV  1961      9  333470.0  10.300000   4.000000       NaN   \n",
       "1    BORISPOL'/KIEV  1977     10  333470.0   5.904167   4.958333       NaN   \n",
       "2    BORISPOL'/KIEV  1977     11  333470.0   3.418182   5.136364  1008.150   \n",
       "3    BORISPOL'/KIEV  1977     12  333470.0  -5.260000   5.520000  1020.412   \n",
       "4    BORISPOL'/KIEV  1982      1  333470.0  -0.800000   4.000000  1016.600   \n",
       "..              ...   ...    ...       ...        ...        ...       ...   \n",
       "552   KIEV/ZHULYANY  2016      8  333450.0  20.380645  24.000000       NaN   \n",
       "553   KIEV/ZHULYANY  2016      9  333450.0  15.106667  24.000000       NaN   \n",
       "554   KIEV/ZHULYANY  2016     10  333450.0   6.219355  24.000000       NaN   \n",
       "555   KIEV/ZHULYANY  2016     11  333450.0   1.166667  23.966667       NaN   \n",
       "556   KIEV/ZHULYANY  2016     12  333450.0  -1.719355  24.000000       NaN   \n",
       "\n",
       "     slpcount  meanstp  stpcount  ...  snowdepth    lat    lon   elev  \\\n",
       "0    0.000000      NaN       0.0  ...        NaN  50.20  30.58  119.0   \n",
       "1    0.000000      NaN       0.0  ...        NaN  50.20  30.58  119.0   \n",
       "2    3.727273      NaN       0.0  ...        NaN  50.20  30.58  119.0   \n",
       "3    5.520000      NaN       0.0  ...   3.560000  50.20  30.58  119.0   \n",
       "4    4.000000      NaN       0.0  ...        NaN  50.20  30.58  119.0   \n",
       "..        ...      ...       ...  ...        ...    ...    ...    ...   \n",
       "552  0.000000      NaN       0.0  ...        NaN  50.24  30.27  168.0   \n",
       "553  0.000000      NaN       0.0  ...        NaN  50.24  30.27  168.0   \n",
       "554  0.000000      NaN       0.0  ...   3.050000  50.24  30.27  168.0   \n",
       "555  0.000000      NaN       0.0  ...   6.302000  50.24  30.27  168.0   \n",
       "556  0.000000      NaN       0.0  ...   5.014074  50.24  30.27  168.0   \n",
       "\n",
       "          fog      rain      snow      hail   thunder  tornado  \n",
       "0    1.000000  1.000000  0.000000  0.000000  0.000000      0.0  \n",
       "1    0.291667  0.000000  0.000000  0.000000  0.000000      0.0  \n",
       "2    0.681818  0.272727  0.000000  0.000000  0.000000      0.0  \n",
       "3    0.640000  0.080000  0.080000  0.000000  0.000000      0.0  \n",
       "4    0.000000  0.000000  0.000000  0.000000  0.000000      0.0  \n",
       "..        ...       ...       ...       ...       ...      ...  \n",
       "552  0.354839  0.032258  0.000000  0.096774  0.032258      0.0  \n",
       "553  0.266667  0.000000  0.000000  0.000000  0.000000      0.0  \n",
       "554  0.645161  0.193548  0.000000  0.000000  0.032258      0.0  \n",
       "555  0.666667  0.133333  0.000000  0.000000  0.000000      0.0  \n",
       "556  0.903226  0.290323  0.032258  0.000000  0.000000      0.0  \n",
       "\n",
       "[557 rows x 29 columns]"
      ]
     },
     "execution_count": 82,
     "metadata": {},
     "output_type": "execute_result"
    }
   ],
   "source": [
    "kiev_grp = kievdf.groupby(['name', 'year', 'month'], as_index=False).mean()\n",
    "kiev_grp"
   ]
  },
  {
   "cell_type": "code",
   "execution_count": 83,
   "metadata": {},
   "outputs": [
    {
     "data": {
      "text/plain": [
       "[2011, 2012, 2013, 2015, 2016]"
      ]
     },
     "execution_count": 83,
     "metadata": {},
     "output_type": "execute_result"
    }
   ],
   "source": [
    "years = [ye for ye in kiev_grp.year.unique() if ye > 2010]\n",
    "years"
   ]
  },
  {
   "cell_type": "markdown",
   "metadata": {},
   "source": [
    "#### Interactive plot of Kyiv monthly mean temperature in 2016 with plotly and dash"
   ]
  },
  {
   "cell_type": "code",
   "execution_count": 89,
   "metadata": {
    "scrolled": true
   },
   "outputs": [
    {
     "data": {
      "text/html": [
       "<div>\n",
       "  <iframe src=\"/app/endpoints/c7bca7c46d2544cc9b8ffd905f89f8a3/\" width=800 height=600 frameborder=\"0\"></iframe>\n",
       "  <hr/><a href=\"/app/endpoints/c7bca7c46d2544cc9b8ffd905f89f8a3/\" target=\"_new\">Open in new window</a> for /app/endpoints/c7bca7c46d2544cc9b8ffd905f89f8a3/\n",
       "</div>"
      ],
      "text/plain": [
       "<jupyter_plotly_dash.dash_wrapper.JupyterDash at 0x1cbbdffb130>"
      ]
     },
     "execution_count": 89,
     "metadata": {},
     "output_type": "execute_result"
    }
   ],
   "source": [
    "app = JupyterDash('kiev-meantemp-dash')\n",
    "\n",
    "app.layout = html.Div([\n",
    "    dcc.Dropdown(\n",
    "        id=\"dropdown\",\n",
    "        options=[{\"label\": x, \"value\": x} for x in years],\n",
    "        value=years[0],\n",
    "        clearable=False,\n",
    "    ),\n",
    "    dcc.Graph(id=\"scat\"),\n",
    "])\n",
    "\n",
    "@app.callback(\n",
    "    Output(\"scat\", \"figure\"), \n",
    "    [Input(\"dropdown\", \"value\")])\n",
    "def update_bar_chart(year):\n",
    "    mask = kiev_grp[\"year\"] == year\n",
    "    fig = px.scatter(kiev_grp[mask], x='month', y='temp', color='name')\n",
    "    fig.update_layout(title='Kyiv mean temperature by month',\n",
    "                  height=500,\n",
    "                  width=800,\n",
    "                  yaxis=dict(\n",
    "                        title='Temerature, Celsius',\n",
    "                        titlefont_size=16,                       \n",
    "                  ),\n",
    "                  xaxis=dict(\n",
    "                        tickmode='linear'\n",
    "                  )\n",
    "             )\n",
    "    fig.update_traces(mode='lines+markers')\n",
    "    return fig\n",
    "\n",
    "app"
   ]
  },
  {
   "cell_type": "code",
   "execution_count": 85,
   "metadata": {},
   "outputs": [
    {
     "data": {
      "text/html": [
       "<div>\n",
       "<style scoped>\n",
       "    .dataframe tbody tr th:only-of-type {\n",
       "        vertical-align: middle;\n",
       "    }\n",
       "\n",
       "    .dataframe tbody tr th {\n",
       "        vertical-align: top;\n",
       "    }\n",
       "\n",
       "    .dataframe thead th {\n",
       "        text-align: right;\n",
       "    }\n",
       "</style>\n",
       "<table border=\"1\" class=\"dataframe\">\n",
       "  <thead>\n",
       "    <tr style=\"text-align: right;\">\n",
       "      <th></th>\n",
       "      <th></th>\n",
       "      <th>number</th>\n",
       "      <th>temp</th>\n",
       "      <th>tempcount</th>\n",
       "      <th>meanslp</th>\n",
       "      <th>slpcount</th>\n",
       "      <th>meanstp</th>\n",
       "      <th>stpcount</th>\n",
       "      <th>meanvisib</th>\n",
       "      <th>visibcount</th>\n",
       "      <th>meanwindsp</th>\n",
       "      <th>...</th>\n",
       "      <th>lon</th>\n",
       "      <th>elev</th>\n",
       "      <th>year</th>\n",
       "      <th>fog</th>\n",
       "      <th>rain</th>\n",
       "      <th>snow</th>\n",
       "      <th>hail</th>\n",
       "      <th>thunder</th>\n",
       "      <th>tornado</th>\n",
       "      <th>day</th>\n",
       "    </tr>\n",
       "    <tr>\n",
       "      <th>name</th>\n",
       "      <th>month</th>\n",
       "      <th></th>\n",
       "      <th></th>\n",
       "      <th></th>\n",
       "      <th></th>\n",
       "      <th></th>\n",
       "      <th></th>\n",
       "      <th></th>\n",
       "      <th></th>\n",
       "      <th></th>\n",
       "      <th></th>\n",
       "      <th></th>\n",
       "      <th></th>\n",
       "      <th></th>\n",
       "      <th></th>\n",
       "      <th></th>\n",
       "      <th></th>\n",
       "      <th></th>\n",
       "      <th></th>\n",
       "      <th></th>\n",
       "      <th></th>\n",
       "      <th></th>\n",
       "    </tr>\n",
       "  </thead>\n",
       "  <tbody>\n",
       "    <tr>\n",
       "      <th rowspan=\"12\" valign=\"top\">KIEV/ZHULYANY</th>\n",
       "      <th>1</th>\n",
       "      <td>10336950</td>\n",
       "      <td>-177.9</td>\n",
       "      <td>744</td>\n",
       "      <td>0.0</td>\n",
       "      <td>0</td>\n",
       "      <td>0.0</td>\n",
       "      <td>0</td>\n",
       "      <td>216.1</td>\n",
       "      <td>667</td>\n",
       "      <td>130.6</td>\n",
       "      <td>...</td>\n",
       "      <td>938.37</td>\n",
       "      <td>5208</td>\n",
       "      <td>62496</td>\n",
       "      <td>29</td>\n",
       "      <td>6</td>\n",
       "      <td>3</td>\n",
       "      <td>0</td>\n",
       "      <td>0</td>\n",
       "      <td>0</td>\n",
       "      <td>496</td>\n",
       "    </tr>\n",
       "    <tr>\n",
       "      <th>2</th>\n",
       "      <td>9670050</td>\n",
       "      <td>56.1</td>\n",
       "      <td>688</td>\n",
       "      <td>0.0</td>\n",
       "      <td>0</td>\n",
       "      <td>0.0</td>\n",
       "      <td>0</td>\n",
       "      <td>225.1</td>\n",
       "      <td>503</td>\n",
       "      <td>117.2</td>\n",
       "      <td>...</td>\n",
       "      <td>877.83</td>\n",
       "      <td>4872</td>\n",
       "      <td>58464</td>\n",
       "      <td>16</td>\n",
       "      <td>9</td>\n",
       "      <td>2</td>\n",
       "      <td>0</td>\n",
       "      <td>0</td>\n",
       "      <td>0</td>\n",
       "      <td>435</td>\n",
       "    </tr>\n",
       "    <tr>\n",
       "      <th>3</th>\n",
       "      <td>10336950</td>\n",
       "      <td>117.6</td>\n",
       "      <td>739</td>\n",
       "      <td>0.0</td>\n",
       "      <td>0</td>\n",
       "      <td>0.0</td>\n",
       "      <td>0</td>\n",
       "      <td>261.2</td>\n",
       "      <td>580</td>\n",
       "      <td>123.9</td>\n",
       "      <td>...</td>\n",
       "      <td>938.37</td>\n",
       "      <td>5208</td>\n",
       "      <td>62496</td>\n",
       "      <td>19</td>\n",
       "      <td>9</td>\n",
       "      <td>1</td>\n",
       "      <td>0</td>\n",
       "      <td>0</td>\n",
       "      <td>0</td>\n",
       "      <td>496</td>\n",
       "    </tr>\n",
       "    <tr>\n",
       "      <th>4</th>\n",
       "      <td>10003500</td>\n",
       "      <td>358.9</td>\n",
       "      <td>720</td>\n",
       "      <td>0.0</td>\n",
       "      <td>0</td>\n",
       "      <td>0.0</td>\n",
       "      <td>0</td>\n",
       "      <td>213.3</td>\n",
       "      <td>287</td>\n",
       "      <td>108.9</td>\n",
       "      <td>...</td>\n",
       "      <td>908.10</td>\n",
       "      <td>5040</td>\n",
       "      <td>60480</td>\n",
       "      <td>12</td>\n",
       "      <td>1</td>\n",
       "      <td>0</td>\n",
       "      <td>0</td>\n",
       "      <td>0</td>\n",
       "      <td>0</td>\n",
       "      <td>465</td>\n",
       "    </tr>\n",
       "    <tr>\n",
       "      <th>5</th>\n",
       "      <td>10336950</td>\n",
       "      <td>470.9</td>\n",
       "      <td>744</td>\n",
       "      <td>0.0</td>\n",
       "      <td>0</td>\n",
       "      <td>0.0</td>\n",
       "      <td>0</td>\n",
       "      <td>245.7</td>\n",
       "      <td>391</td>\n",
       "      <td>93.0</td>\n",
       "      <td>...</td>\n",
       "      <td>938.37</td>\n",
       "      <td>5208</td>\n",
       "      <td>62496</td>\n",
       "      <td>23</td>\n",
       "      <td>2</td>\n",
       "      <td>0</td>\n",
       "      <td>7</td>\n",
       "      <td>2</td>\n",
       "      <td>0</td>\n",
       "      <td>496</td>\n",
       "    </tr>\n",
       "    <tr>\n",
       "      <th>6</th>\n",
       "      <td>10003500</td>\n",
       "      <td>606.7</td>\n",
       "      <td>720</td>\n",
       "      <td>0.0</td>\n",
       "      <td>0</td>\n",
       "      <td>0.0</td>\n",
       "      <td>0</td>\n",
       "      <td>212.0</td>\n",
       "      <td>217</td>\n",
       "      <td>93.1</td>\n",
       "      <td>...</td>\n",
       "      <td>908.10</td>\n",
       "      <td>5040</td>\n",
       "      <td>60480</td>\n",
       "      <td>11</td>\n",
       "      <td>1</td>\n",
       "      <td>0</td>\n",
       "      <td>3</td>\n",
       "      <td>1</td>\n",
       "      <td>0</td>\n",
       "      <td>465</td>\n",
       "    </tr>\n",
       "    <tr>\n",
       "      <th>7</th>\n",
       "      <td>10336950</td>\n",
       "      <td>677.4</td>\n",
       "      <td>744</td>\n",
       "      <td>0.0</td>\n",
       "      <td>0</td>\n",
       "      <td>0.0</td>\n",
       "      <td>0</td>\n",
       "      <td>255.5</td>\n",
       "      <td>291</td>\n",
       "      <td>109.6</td>\n",
       "      <td>...</td>\n",
       "      <td>938.37</td>\n",
       "      <td>5208</td>\n",
       "      <td>62496</td>\n",
       "      <td>11</td>\n",
       "      <td>0</td>\n",
       "      <td>0</td>\n",
       "      <td>2</td>\n",
       "      <td>0</td>\n",
       "      <td>0</td>\n",
       "      <td>496</td>\n",
       "    </tr>\n",
       "    <tr>\n",
       "      <th>8</th>\n",
       "      <td>10336950</td>\n",
       "      <td>631.8</td>\n",
       "      <td>744</td>\n",
       "      <td>0.0</td>\n",
       "      <td>0</td>\n",
       "      <td>0.0</td>\n",
       "      <td>0</td>\n",
       "      <td>265.3</td>\n",
       "      <td>273</td>\n",
       "      <td>87.5</td>\n",
       "      <td>...</td>\n",
       "      <td>938.37</td>\n",
       "      <td>5208</td>\n",
       "      <td>62496</td>\n",
       "      <td>11</td>\n",
       "      <td>1</td>\n",
       "      <td>0</td>\n",
       "      <td>3</td>\n",
       "      <td>1</td>\n",
       "      <td>0</td>\n",
       "      <td>496</td>\n",
       "    </tr>\n",
       "    <tr>\n",
       "      <th>9</th>\n",
       "      <td>10003500</td>\n",
       "      <td>453.2</td>\n",
       "      <td>720</td>\n",
       "      <td>0.0</td>\n",
       "      <td>0</td>\n",
       "      <td>0.0</td>\n",
       "      <td>0</td>\n",
       "      <td>257.6</td>\n",
       "      <td>270</td>\n",
       "      <td>86.2</td>\n",
       "      <td>...</td>\n",
       "      <td>908.10</td>\n",
       "      <td>5040</td>\n",
       "      <td>60480</td>\n",
       "      <td>8</td>\n",
       "      <td>0</td>\n",
       "      <td>0</td>\n",
       "      <td>0</td>\n",
       "      <td>0</td>\n",
       "      <td>0</td>\n",
       "      <td>465</td>\n",
       "    </tr>\n",
       "    <tr>\n",
       "      <th>10</th>\n",
       "      <td>10336950</td>\n",
       "      <td>192.8</td>\n",
       "      <td>744</td>\n",
       "      <td>0.0</td>\n",
       "      <td>0</td>\n",
       "      <td>0.0</td>\n",
       "      <td>0</td>\n",
       "      <td>251.2</td>\n",
       "      <td>594</td>\n",
       "      <td>116.8</td>\n",
       "      <td>...</td>\n",
       "      <td>938.37</td>\n",
       "      <td>5208</td>\n",
       "      <td>62496</td>\n",
       "      <td>20</td>\n",
       "      <td>6</td>\n",
       "      <td>0</td>\n",
       "      <td>0</td>\n",
       "      <td>1</td>\n",
       "      <td>0</td>\n",
       "      <td>496</td>\n",
       "    </tr>\n",
       "    <tr>\n",
       "      <th>11</th>\n",
       "      <td>10003500</td>\n",
       "      <td>35.0</td>\n",
       "      <td>719</td>\n",
       "      <td>0.0</td>\n",
       "      <td>0</td>\n",
       "      <td>0.0</td>\n",
       "      <td>0</td>\n",
       "      <td>248.2</td>\n",
       "      <td>648</td>\n",
       "      <td>121.9</td>\n",
       "      <td>...</td>\n",
       "      <td>908.10</td>\n",
       "      <td>5040</td>\n",
       "      <td>60480</td>\n",
       "      <td>20</td>\n",
       "      <td>4</td>\n",
       "      <td>0</td>\n",
       "      <td>0</td>\n",
       "      <td>0</td>\n",
       "      <td>0</td>\n",
       "      <td>465</td>\n",
       "    </tr>\n",
       "    <tr>\n",
       "      <th>12</th>\n",
       "      <td>10336950</td>\n",
       "      <td>-53.3</td>\n",
       "      <td>744</td>\n",
       "      <td>0.0</td>\n",
       "      <td>0</td>\n",
       "      <td>0.0</td>\n",
       "      <td>0</td>\n",
       "      <td>229.8</td>\n",
       "      <td>665</td>\n",
       "      <td>148.4</td>\n",
       "      <td>...</td>\n",
       "      <td>938.37</td>\n",
       "      <td>5208</td>\n",
       "      <td>62496</td>\n",
       "      <td>28</td>\n",
       "      <td>9</td>\n",
       "      <td>1</td>\n",
       "      <td>0</td>\n",
       "      <td>0</td>\n",
       "      <td>0</td>\n",
       "      <td>496</td>\n",
       "    </tr>\n",
       "    <tr>\n",
       "      <th rowspan=\"12\" valign=\"top\">BORISPOL'/KIEV</th>\n",
       "      <th>1</th>\n",
       "      <td>10337570</td>\n",
       "      <td>-204.4</td>\n",
       "      <td>744</td>\n",
       "      <td>0.0</td>\n",
       "      <td>0</td>\n",
       "      <td>0.0</td>\n",
       "      <td>0</td>\n",
       "      <td>223.4</td>\n",
       "      <td>633</td>\n",
       "      <td>127.0</td>\n",
       "      <td>...</td>\n",
       "      <td>947.98</td>\n",
       "      <td>3689</td>\n",
       "      <td>62496</td>\n",
       "      <td>29</td>\n",
       "      <td>5</td>\n",
       "      <td>3</td>\n",
       "      <td>0</td>\n",
       "      <td>0</td>\n",
       "      <td>0</td>\n",
       "      <td>496</td>\n",
       "    </tr>\n",
       "    <tr>\n",
       "      <th>2</th>\n",
       "      <td>9670630</td>\n",
       "      <td>45.3</td>\n",
       "      <td>690</td>\n",
       "      <td>0.0</td>\n",
       "      <td>0</td>\n",
       "      <td>0.0</td>\n",
       "      <td>0</td>\n",
       "      <td>228.3</td>\n",
       "      <td>464</td>\n",
       "      <td>128.7</td>\n",
       "      <td>...</td>\n",
       "      <td>886.82</td>\n",
       "      <td>3451</td>\n",
       "      <td>58464</td>\n",
       "      <td>18</td>\n",
       "      <td>7</td>\n",
       "      <td>1</td>\n",
       "      <td>0</td>\n",
       "      <td>0</td>\n",
       "      <td>0</td>\n",
       "      <td>435</td>\n",
       "    </tr>\n",
       "    <tr>\n",
       "      <th>3</th>\n",
       "      <td>10337570</td>\n",
       "      <td>113.1</td>\n",
       "      <td>737</td>\n",
       "      <td>0.0</td>\n",
       "      <td>0</td>\n",
       "      <td>0.0</td>\n",
       "      <td>0</td>\n",
       "      <td>236.1</td>\n",
       "      <td>524</td>\n",
       "      <td>127.8</td>\n",
       "      <td>...</td>\n",
       "      <td>947.98</td>\n",
       "      <td>3689</td>\n",
       "      <td>62496</td>\n",
       "      <td>18</td>\n",
       "      <td>6</td>\n",
       "      <td>1</td>\n",
       "      <td>0</td>\n",
       "      <td>0</td>\n",
       "      <td>0</td>\n",
       "      <td>496</td>\n",
       "    </tr>\n",
       "    <tr>\n",
       "      <th>4</th>\n",
       "      <td>10004100</td>\n",
       "      <td>346.1</td>\n",
       "      <td>720</td>\n",
       "      <td>0.0</td>\n",
       "      <td>0</td>\n",
       "      <td>0.0</td>\n",
       "      <td>0</td>\n",
       "      <td>182.6</td>\n",
       "      <td>257</td>\n",
       "      <td>106.6</td>\n",
       "      <td>...</td>\n",
       "      <td>917.40</td>\n",
       "      <td>3570</td>\n",
       "      <td>60480</td>\n",
       "      <td>17</td>\n",
       "      <td>0</td>\n",
       "      <td>0</td>\n",
       "      <td>1</td>\n",
       "      <td>0</td>\n",
       "      <td>0</td>\n",
       "      <td>465</td>\n",
       "    </tr>\n",
       "    <tr>\n",
       "      <th>5</th>\n",
       "      <td>10337570</td>\n",
       "      <td>460.0</td>\n",
       "      <td>744</td>\n",
       "      <td>0.0</td>\n",
       "      <td>0</td>\n",
       "      <td>0.0</td>\n",
       "      <td>0</td>\n",
       "      <td>217.9</td>\n",
       "      <td>360</td>\n",
       "      <td>96.1</td>\n",
       "      <td>...</td>\n",
       "      <td>947.98</td>\n",
       "      <td>3689</td>\n",
       "      <td>62496</td>\n",
       "      <td>24</td>\n",
       "      <td>0</td>\n",
       "      <td>0</td>\n",
       "      <td>8</td>\n",
       "      <td>0</td>\n",
       "      <td>0</td>\n",
       "      <td>496</td>\n",
       "    </tr>\n",
       "    <tr>\n",
       "      <th>6</th>\n",
       "      <td>10004100</td>\n",
       "      <td>592.6</td>\n",
       "      <td>720</td>\n",
       "      <td>0.0</td>\n",
       "      <td>0</td>\n",
       "      <td>0.0</td>\n",
       "      <td>0</td>\n",
       "      <td>174.2</td>\n",
       "      <td>207</td>\n",
       "      <td>101.5</td>\n",
       "      <td>...</td>\n",
       "      <td>917.40</td>\n",
       "      <td>3570</td>\n",
       "      <td>60480</td>\n",
       "      <td>11</td>\n",
       "      <td>0</td>\n",
       "      <td>0</td>\n",
       "      <td>2</td>\n",
       "      <td>0</td>\n",
       "      <td>0</td>\n",
       "      <td>465</td>\n",
       "    </tr>\n",
       "    <tr>\n",
       "      <th>7</th>\n",
       "      <td>10337570</td>\n",
       "      <td>673.0</td>\n",
       "      <td>744</td>\n",
       "      <td>0.0</td>\n",
       "      <td>0</td>\n",
       "      <td>0.0</td>\n",
       "      <td>0</td>\n",
       "      <td>172.8</td>\n",
       "      <td>226</td>\n",
       "      <td>113.2</td>\n",
       "      <td>...</td>\n",
       "      <td>947.98</td>\n",
       "      <td>3689</td>\n",
       "      <td>62496</td>\n",
       "      <td>8</td>\n",
       "      <td>0</td>\n",
       "      <td>0</td>\n",
       "      <td>1</td>\n",
       "      <td>0</td>\n",
       "      <td>0</td>\n",
       "      <td>496</td>\n",
       "    </tr>\n",
       "    <tr>\n",
       "      <th>8</th>\n",
       "      <td>10337570</td>\n",
       "      <td>624.7</td>\n",
       "      <td>744</td>\n",
       "      <td>0.0</td>\n",
       "      <td>0</td>\n",
       "      <td>0.0</td>\n",
       "      <td>0</td>\n",
       "      <td>131.5</td>\n",
       "      <td>169</td>\n",
       "      <td>101.9</td>\n",
       "      <td>...</td>\n",
       "      <td>947.98</td>\n",
       "      <td>3689</td>\n",
       "      <td>62496</td>\n",
       "      <td>12</td>\n",
       "      <td>0</td>\n",
       "      <td>0</td>\n",
       "      <td>3</td>\n",
       "      <td>0</td>\n",
       "      <td>0</td>\n",
       "      <td>496</td>\n",
       "    </tr>\n",
       "    <tr>\n",
       "      <th>9</th>\n",
       "      <td>10004100</td>\n",
       "      <td>432.7</td>\n",
       "      <td>720</td>\n",
       "      <td>0.0</td>\n",
       "      <td>0</td>\n",
       "      <td>0.0</td>\n",
       "      <td>0</td>\n",
       "      <td>143.1</td>\n",
       "      <td>176</td>\n",
       "      <td>86.4</td>\n",
       "      <td>...</td>\n",
       "      <td>917.40</td>\n",
       "      <td>3570</td>\n",
       "      <td>60480</td>\n",
       "      <td>4</td>\n",
       "      <td>0</td>\n",
       "      <td>0</td>\n",
       "      <td>0</td>\n",
       "      <td>0</td>\n",
       "      <td>0</td>\n",
       "      <td>465</td>\n",
       "    </tr>\n",
       "    <tr>\n",
       "      <th>10</th>\n",
       "      <td>10337570</td>\n",
       "      <td>187.0</td>\n",
       "      <td>744</td>\n",
       "      <td>0.0</td>\n",
       "      <td>0</td>\n",
       "      <td>0.0</td>\n",
       "      <td>0</td>\n",
       "      <td>248.6</td>\n",
       "      <td>571</td>\n",
       "      <td>118.9</td>\n",
       "      <td>...</td>\n",
       "      <td>947.98</td>\n",
       "      <td>3689</td>\n",
       "      <td>62496</td>\n",
       "      <td>15</td>\n",
       "      <td>3</td>\n",
       "      <td>0</td>\n",
       "      <td>1</td>\n",
       "      <td>1</td>\n",
       "      <td>0</td>\n",
       "      <td>496</td>\n",
       "    </tr>\n",
       "    <tr>\n",
       "      <th>11</th>\n",
       "      <td>10004100</td>\n",
       "      <td>22.2</td>\n",
       "      <td>719</td>\n",
       "      <td>0.0</td>\n",
       "      <td>0</td>\n",
       "      <td>0.0</td>\n",
       "      <td>0</td>\n",
       "      <td>252.4</td>\n",
       "      <td>627</td>\n",
       "      <td>128.5</td>\n",
       "      <td>...</td>\n",
       "      <td>917.40</td>\n",
       "      <td>3570</td>\n",
       "      <td>60480</td>\n",
       "      <td>21</td>\n",
       "      <td>4</td>\n",
       "      <td>1</td>\n",
       "      <td>0</td>\n",
       "      <td>0</td>\n",
       "      <td>0</td>\n",
       "      <td>465</td>\n",
       "    </tr>\n",
       "    <tr>\n",
       "      <th>12</th>\n",
       "      <td>10337570</td>\n",
       "      <td>-58.5</td>\n",
       "      <td>744</td>\n",
       "      <td>0.0</td>\n",
       "      <td>0</td>\n",
       "      <td>0.0</td>\n",
       "      <td>0</td>\n",
       "      <td>238.9</td>\n",
       "      <td>626</td>\n",
       "      <td>127.3</td>\n",
       "      <td>...</td>\n",
       "      <td>947.98</td>\n",
       "      <td>3689</td>\n",
       "      <td>62496</td>\n",
       "      <td>27</td>\n",
       "      <td>9</td>\n",
       "      <td>1</td>\n",
       "      <td>0</td>\n",
       "      <td>0</td>\n",
       "      <td>0</td>\n",
       "      <td>496</td>\n",
       "    </tr>\n",
       "  </tbody>\n",
       "</table>\n",
       "<p>24 rows × 28 columns</p>\n",
       "</div>"
      ],
      "text/plain": [
       "                        number   temp  tempcount  meanslp  slpcount  meanstp  \\\n",
       "name           month                                                           \n",
       "KIEV/ZHULYANY  1      10336950 -177.9        744      0.0         0      0.0   \n",
       "               2       9670050   56.1        688      0.0         0      0.0   \n",
       "               3      10336950  117.6        739      0.0         0      0.0   \n",
       "               4      10003500  358.9        720      0.0         0      0.0   \n",
       "               5      10336950  470.9        744      0.0         0      0.0   \n",
       "               6      10003500  606.7        720      0.0         0      0.0   \n",
       "               7      10336950  677.4        744      0.0         0      0.0   \n",
       "               8      10336950  631.8        744      0.0         0      0.0   \n",
       "               9      10003500  453.2        720      0.0         0      0.0   \n",
       "               10     10336950  192.8        744      0.0         0      0.0   \n",
       "               11     10003500   35.0        719      0.0         0      0.0   \n",
       "               12     10336950  -53.3        744      0.0         0      0.0   \n",
       "BORISPOL'/KIEV 1      10337570 -204.4        744      0.0         0      0.0   \n",
       "               2       9670630   45.3        690      0.0         0      0.0   \n",
       "               3      10337570  113.1        737      0.0         0      0.0   \n",
       "               4      10004100  346.1        720      0.0         0      0.0   \n",
       "               5      10337570  460.0        744      0.0         0      0.0   \n",
       "               6      10004100  592.6        720      0.0         0      0.0   \n",
       "               7      10337570  673.0        744      0.0         0      0.0   \n",
       "               8      10337570  624.7        744      0.0         0      0.0   \n",
       "               9      10004100  432.7        720      0.0         0      0.0   \n",
       "               10     10337570  187.0        744      0.0         0      0.0   \n",
       "               11     10004100   22.2        719      0.0         0      0.0   \n",
       "               12     10337570  -58.5        744      0.0         0      0.0   \n",
       "\n",
       "                      stpcount  meanvisib  visibcount  meanwindsp  ...  \\\n",
       "name           month                                               ...   \n",
       "KIEV/ZHULYANY  1             0      216.1         667       130.6  ...   \n",
       "               2             0      225.1         503       117.2  ...   \n",
       "               3             0      261.2         580       123.9  ...   \n",
       "               4             0      213.3         287       108.9  ...   \n",
       "               5             0      245.7         391        93.0  ...   \n",
       "               6             0      212.0         217        93.1  ...   \n",
       "               7             0      255.5         291       109.6  ...   \n",
       "               8             0      265.3         273        87.5  ...   \n",
       "               9             0      257.6         270        86.2  ...   \n",
       "               10            0      251.2         594       116.8  ...   \n",
       "               11            0      248.2         648       121.9  ...   \n",
       "               12            0      229.8         665       148.4  ...   \n",
       "BORISPOL'/KIEV 1             0      223.4         633       127.0  ...   \n",
       "               2             0      228.3         464       128.7  ...   \n",
       "               3             0      236.1         524       127.8  ...   \n",
       "               4             0      182.6         257       106.6  ...   \n",
       "               5             0      217.9         360        96.1  ...   \n",
       "               6             0      174.2         207       101.5  ...   \n",
       "               7             0      172.8         226       113.2  ...   \n",
       "               8             0      131.5         169       101.9  ...   \n",
       "               9             0      143.1         176        86.4  ...   \n",
       "               10            0      248.6         571       118.9  ...   \n",
       "               11            0      252.4         627       128.5  ...   \n",
       "               12            0      238.9         626       127.3  ...   \n",
       "\n",
       "                         lon  elev   year  fog  rain  snow  hail  thunder  \\\n",
       "name           month                                                        \n",
       "KIEV/ZHULYANY  1      938.37  5208  62496   29     6     3     0        0   \n",
       "               2      877.83  4872  58464   16     9     2     0        0   \n",
       "               3      938.37  5208  62496   19     9     1     0        0   \n",
       "               4      908.10  5040  60480   12     1     0     0        0   \n",
       "               5      938.37  5208  62496   23     2     0     7        2   \n",
       "               6      908.10  5040  60480   11     1     0     3        1   \n",
       "               7      938.37  5208  62496   11     0     0     2        0   \n",
       "               8      938.37  5208  62496   11     1     0     3        1   \n",
       "               9      908.10  5040  60480    8     0     0     0        0   \n",
       "               10     938.37  5208  62496   20     6     0     0        1   \n",
       "               11     908.10  5040  60480   20     4     0     0        0   \n",
       "               12     938.37  5208  62496   28     9     1     0        0   \n",
       "BORISPOL'/KIEV 1      947.98  3689  62496   29     5     3     0        0   \n",
       "               2      886.82  3451  58464   18     7     1     0        0   \n",
       "               3      947.98  3689  62496   18     6     1     0        0   \n",
       "               4      917.40  3570  60480   17     0     0     1        0   \n",
       "               5      947.98  3689  62496   24     0     0     8        0   \n",
       "               6      917.40  3570  60480   11     0     0     2        0   \n",
       "               7      947.98  3689  62496    8     0     0     1        0   \n",
       "               8      947.98  3689  62496   12     0     0     3        0   \n",
       "               9      917.40  3570  60480    4     0     0     0        0   \n",
       "               10     947.98  3689  62496   15     3     0     1        1   \n",
       "               11     917.40  3570  60480   21     4     1     0        0   \n",
       "               12     947.98  3689  62496   27     9     1     0        0   \n",
       "\n",
       "                      tornado  day  \n",
       "name           month                \n",
       "KIEV/ZHULYANY  1            0  496  \n",
       "               2            0  435  \n",
       "               3            0  496  \n",
       "               4            0  465  \n",
       "               5            0  496  \n",
       "               6            0  465  \n",
       "               7            0  496  \n",
       "               8            0  496  \n",
       "               9            0  465  \n",
       "               10           0  496  \n",
       "               11           0  465  \n",
       "               12           0  496  \n",
       "BORISPOL'/KIEV 1            0  496  \n",
       "               2            0  435  \n",
       "               3            0  496  \n",
       "               4            0  465  \n",
       "               5            0  496  \n",
       "               6            0  465  \n",
       "               7            0  496  \n",
       "               8            0  496  \n",
       "               9            0  465  \n",
       "               10           0  496  \n",
       "               11           0  465  \n",
       "               12           0  496  \n",
       "\n",
       "[24 rows x 28 columns]"
      ]
     },
     "execution_count": 85,
     "metadata": {},
     "output_type": "execute_result"
    }
   ],
   "source": [
    "grp2 = kiev2016.groupby(['name', 'month'], sort=False).sum()\n",
    "grp2"
   ]
  },
  {
   "cell_type": "code",
   "execution_count": 86,
   "metadata": {},
   "outputs": [],
   "source": [
    "fogbar = grp2.loc['KIEV/ZHULYANY', 'fog']\n",
    "rainbar = grp2.loc['KIEV/ZHULYANY', 'rain']\n",
    "snowbar = grp2.loc['KIEV/ZHULYANY', 'snow']\n",
    "hailbar = grp2.loc['KIEV/ZHULYANY', 'hail']\n",
    "thunderbar = grp2.loc['KIEV/ZHULYANY', 'thunder']"
   ]
  },
  {
   "cell_type": "markdown",
   "metadata": {},
   "source": [
    "#### Barplot of weather observations with pyplot"
   ]
  },
  {
   "cell_type": "code",
   "execution_count": 87,
   "metadata": {
    "scrolled": true
   },
   "outputs": [
    {
     "data": {
      "image/png": "[encoded data removed]",
      "text/plain": [
       "<Figure size 1440x1080 with 1 Axes>"
      ]
     },
     "metadata": {
      "needs_background": "light"
     },
     "output_type": "display_data"
    }
   ],
   "source": [
    "fix, ax = plt.subplots(figsize = (20, 15));\n",
    "labels = xax\n",
    "x = np.arange(len(labels))\n",
    "width = 0.25\n",
    "\n",
    "bar1 = ax.bar(x-width/2, fogbar, width, label='fog')\n",
    "bar2 = ax.bar(x, rainbar, width, label='rain')\n",
    "bar3 = ax.bar(x+width/2, snowbar, width, label='snow')\n",
    "bar4 = ax.bar(x+width, hailbar, width, label='hail')\n",
    "bar5 = ax.bar(x+1.5*width, thunderbar, width, label='thunder')\n",
    "\n",
    "ax.set_ylabel('Days', fontsize=15)\n",
    "ax.set_title('Total days of weather ecvents in Kiev(2016) by month')\n",
    "ax.set_yticks(np.arange(31))\n",
    "ax.set_xticks(x)\n",
    "ax.set_xticklabels(labels)\n",
    "ax.legend(prop={'size': 12})\n",
    "\n",
    "plt.show()"
   ]
  },
  {
   "cell_type": "markdown",
   "metadata": {},
   "source": [
    "#### Barplot of weather observations with plotly\n"
   ]
  },
  {
   "cell_type": "code",
   "execution_count": 88,
   "metadata": {
    "scrolled": false
   },
   "outputs": [
    {
     "data": {
      "application/vnd.plotly.v1+json": {
       "config": {
        "plotlyServerURL": "https://plot.ly"
       },
       "data": [
        {
         "marker": {
          "color": "crimson"
         },
         "name": "fog",
         "type": "bar",
         "x": [
          "January",
          "February",
          "March",
          "April",
          "May",
          "June",
          "July",
          "August",
          "September",
          "October",
          "November",
          "December"
         ],
         "y": [
          29,
          16,
          19,
          12,
          23,
          11,
          11,
          11,
          8,
          20,
          20,
          28
         ]
        },
        {
         "marker": {
          "color": "green"
         },
         "name": "snow",
         "type": "bar",
         "x": [
          "January",
          "February",
          "March",
          "April",
          "May",
          "June",
          "July",
          "August",
          "September",
          "October",
          "November",
          "December"
         ],
         "y": [
          3,
          2,
          1,
          0,
          0,
          0,
          0,
          0,
          0,
          0,
          0,
          1
         ]
        },
        {
         "marker": {
          "color": "blue"
         },
         "name": "rain",
         "type": "bar",
         "x": [
          "January",
          "February",
          "March",
          "April",
          "May",
          "June",
          "July",
          "August",
          "September",
          "October",
          "November",
          "December"
         ],
         "y": [
          6,
          9,
          9,
          1,
          2,
          1,
          0,
          1,
          0,
          6,
          4,
          9
         ]
        },
        {
         "marker": {
          "color": "goldenrod"
         },
         "name": "thunder",
         "type": "bar",
         "x": [
          "January",
          "February",
          "March",
          "April",
          "May",
          "June",
          "July",
          "August",
          "September",
          "October",
          "November",
          "December"
         ],
         "y": [
          0,
          0,
          0,
          0,
          2,
          1,
          0,
          1,
          0,
          1,
          0,
          0
         ]
        },
        {
         "marker": {
          "color": "magenta"
         },
         "name": "hail",
         "type": "bar",
         "x": [
          "January",
          "February",
          "March",
          "April",
          "May",
          "June",
          "July",
          "August",
          "September",
          "October",
          "November",
          "December"
         ],
         "y": [
          0,
          0,
          0,
          0,
          7,
          3,
          2,
          3,
          0,
          0,
          0,
          0
         ]
        }
       ],
       "layout": {
        "barmode": "group",
        "height": 600,
        "shapes": [
         {
          "line": {
           "dash": "dash",
           "width": 0.5
          },
          "type": "line",
          "x0": 0.5,
          "x1": 0.5,
          "xref": "x",
          "y0": 0,
          "y1": 1,
          "yref": "y domain"
         },
         {
          "line": {
           "dash": "dash",
           "width": 0.5
          },
          "type": "line",
          "x0": 1.5,
          "x1": 1.5,
          "xref": "x",
          "y0": 0,
          "y1": 1,
          "yref": "y domain"
         },
         {
          "line": {
           "dash": "dash",
           "width": 0.5
          },
          "type": "line",
          "x0": 2.5,
          "x1": 2.5,
          "xref": "x",
          "y0": 0,
          "y1": 1,
          "yref": "y domain"
         },
         {
          "line": {
           "dash": "dash",
           "width": 0.5
          },
          "type": "line",
          "x0": 3.5,
          "x1": 3.5,
          "xref": "x",
          "y0": 0,
          "y1": 1,
          "yref": "y domain"
         },
         {
          "line": {
           "dash": "dash",
           "width": 0.5
          },
          "type": "line",
          "x0": 4.5,
          "x1": 4.5,
          "xref": "x",
          "y0": 0,
          "y1": 1,
          "yref": "y domain"
         },
         {
          "line": {
           "dash": "dash",
           "width": 0.5
          },
          "type": "line",
          "x0": 5.5,
          "x1": 5.5,
          "xref": "x",
          "y0": 0,
          "y1": 1,
          "yref": "y domain"
         },
         {
          "line": {
           "dash": "dash",
           "width": 0.5
          },
          "type": "line",
          "x0": 6.5,
          "x1": 6.5,
          "xref": "x",
          "y0": 0,
          "y1": 1,
          "yref": "y domain"
         },
         {
          "line": {
           "dash": "dash",
           "width": 0.5
          },
          "type": "line",
          "x0": 7.5,
          "x1": 7.5,
          "xref": "x",
          "y0": 0,
          "y1": 1,
          "yref": "y domain"
         },
         {
          "line": {
           "dash": "dash",
           "width": 0.5
          },
          "type": "line",
          "x0": 8.5,
          "x1": 8.5,
          "xref": "x",
          "y0": 0,
          "y1": 1,
          "yref": "y domain"
         },
         {
          "line": {
           "dash": "dash",
           "width": 0.5
          },
          "type": "line",
          "x0": 9.5,
          "x1": 9.5,
          "xref": "x",
          "y0": 0,
          "y1": 1,
          "yref": "y domain"
         },
         {
          "line": {
           "dash": "dash",
           "width": 0.5
          },
          "type": "line",
          "x0": 10.5,
          "x1": 10.5,
          "xref": "x",
          "y0": 0,
          "y1": 1,
          "yref": "y domain"
         },
         {
          "line": {
           "dash": "dash",
           "width": 0.5
          },
          "type": "line",
          "x0": 11.5,
          "x1": 11.5,
          "xref": "x",
          "y0": 0,
          "y1": 1,
          "yref": "y domain"
         }
        ],
        "template": {
         "data": {
          "bar": [
           {
            "error_x": {
             "color": "#2a3f5f"
            },
            "error_y": {
             "color": "#2a3f5f"
            },
            "marker": {
             "line": {
              "color": "#E5ECF6",
              "width": 0.5
             }
            },
            "type": "bar"
           }
          ],
          "barpolar": [
           {
            "marker": {
             "line": {
              "color": "#E5ECF6",
              "width": 0.5
             }
            },
            "type": "barpolar"
           }
          ],
          "carpet": [
           {
            "aaxis": {
             "endlinecolor": "#2a3f5f",
             "gridcolor": "white",
             "linecolor": "white",
             "minorgridcolor": "white",
             "startlinecolor": "#2a3f5f"
            },
            "baxis": {
             "endlinecolor": "#2a3f5f",
             "gridcolor": "white",
             "linecolor": "white",
             "minorgridcolor": "white",
             "startlinecolor": "#2a3f5f"
            },
            "type": "carpet"
           }
          ],
          "choropleth": [
           {
            "colorbar": {
             "outlinewidth": 0,
             "ticks": ""
            },
            "type": "choropleth"
           }
          ],
          "contour": [
           {
            "colorbar": {
             "outlinewidth": 0,
             "ticks": ""
            },
            "colorscale": [
             [
              0,
              "#0d0887"
             ],
             [
              0.1111111111111111,
              "#46039f"
             ],
             [
              0.2222222222222222,
              "#7201a8"
             ],
             [
              0.3333333333333333,
              "#9c179e"
             ],
             [
              0.4444444444444444,
              "#bd3786"
             ],
             [
              0.5555555555555556,
              "#d8576b"
             ],
             [
              0.6666666666666666,
              "#ed7953"
             ],
             [
              0.7777777777777778,
              "#fb9f3a"
             ],
             [
              0.8888888888888888,
              "#fdca26"
             ],
             [
              1,
              "#f0f921"
             ]
            ],
            "type": "contour"
           }
          ],
          "contourcarpet": [
           {
            "colorbar": {
             "outlinewidth": 0,
             "ticks": ""
            },
            "type": "contourcarpet"
           }
          ],
          "heatmap": [
           {
            "colorbar": {
             "outlinewidth": 0,
             "ticks": ""
            },
            "colorscale": [
             [
              0,
              "#0d0887"
             ],
             [
              0.1111111111111111,
              "#46039f"
             ],
             [
              0.2222222222222222,
              "#7201a8"
             ],
             [
              0.3333333333333333,
              "#9c179e"
             ],
             [
              0.4444444444444444,
              "#bd3786"
             ],
             [
              0.5555555555555556,
              "#d8576b"
             ],
             [
              0.6666666666666666,
              "#ed7953"
             ],
             [
              0.7777777777777778,
              "#fb9f3a"
             ],
             [
              0.8888888888888888,
              "#fdca26"
             ],
             [
              1,
              "#f0f921"
             ]
            ],
            "type": "heatmap"
           }
          ],
          "heatmapgl": [
           {
            "colorbar": {
             "outlinewidth": 0,
             "ticks": ""
            },
            "colorscale": [
             [
              0,
              "#0d0887"
             ],
             [
              0.1111111111111111,
              "#46039f"
             ],
             [
              0.2222222222222222,
              "#7201a8"
             ],
             [
              0.3333333333333333,
              "#9c179e"
             ],
             [
              0.4444444444444444,
              "#bd3786"
             ],
             [
              0.5555555555555556,
              "#d8576b"
             ],
             [
              0.6666666666666666,
              "#ed7953"
             ],
             [
              0.7777777777777778,
              "#fb9f3a"
             ],
             [
              0.8888888888888888,
              "#fdca26"
             ],
             [
              1,
              "#f0f921"
             ]
            ],
            "type": "heatmapgl"
           }
          ],
          "histogram": [
           {
            "marker": {
             "colorbar": {
              "outlinewidth": 0,
              "ticks": ""
             }
            },
            "type": "histogram"
           }
          ],
          "histogram2d": [
           {
            "colorbar": {
             "outlinewidth": 0,
             "ticks": ""
            },
            "colorscale": [
             [
              0,
              "#0d0887"
             ],
             [
              0.1111111111111111,
              "#46039f"
             ],
             [
              0.2222222222222222,
              "#7201a8"
             ],
             [
              0.3333333333333333,
              "#9c179e"
             ],
             [
              0.4444444444444444,
              "#bd3786"
             ],
             [
              0.5555555555555556,
              "#d8576b"
             ],
             [
              0.6666666666666666,
              "#ed7953"
             ],
             [
              0.7777777777777778,
              "#fb9f3a"
             ],
             [
              0.8888888888888888,
              "#fdca26"
             ],
             [
              1,
              "#f0f921"
             ]
            ],
            "type": "histogram2d"
           }
          ],
          "histogram2dcontour": [
           {
            "colorbar": {
             "outlinewidth": 0,
             "ticks": ""
            },
            "colorscale": [
             [
              0,
              "#0d0887"
             ],
             [
              0.1111111111111111,
              "#46039f"
             ],
             [
              0.2222222222222222,
              "#7201a8"
             ],
             [
              0.3333333333333333,
              "#9c179e"
             ],
             [
              0.4444444444444444,
              "#bd3786"
             ],
             [
              0.5555555555555556,
              "#d8576b"
             ],
             [
              0.6666666666666666,
              "#ed7953"
             ],
             [
              0.7777777777777778,
              "#fb9f3a"
             ],
             [
              0.8888888888888888,
              "#fdca26"
             ],
             [
              1,
              "#f0f921"
             ]
            ],
            "type": "histogram2dcontour"
           }
          ],
          "mesh3d": [
           {
            "colorbar": {
             "outlinewidth": 0,
             "ticks": ""
            },
            "type": "mesh3d"
           }
          ],
          "parcoords": [
           {
            "line": {
             "colorbar": {
              "outlinewidth": 0,
              "ticks": ""
             }
            },
            "type": "parcoords"
           }
          ],
          "pie": [
           {
            "automargin": true,
            "type": "pie"
           }
          ],
          "scatter": [
           {
            "marker": {
             "colorbar": {
              "outlinewidth": 0,
              "ticks": ""
             }
            },
            "type": "scatter"
           }
          ],
          "scatter3d": [
           {
            "line": {
             "colorbar": {
              "outlinewidth": 0,
              "ticks": ""
             }
            },
            "marker": {
             "colorbar": {
              "outlinewidth": 0,
              "ticks": ""
             }
            },
            "type": "scatter3d"
           }
          ],
          "scattercarpet": [
           {
            "marker": {
             "colorbar": {
              "outlinewidth": 0,
              "ticks": ""
             }
            },
            "type": "scattercarpet"
           }
          ],
          "scattergeo": [
           {
            "marker": {
             "colorbar": {
              "outlinewidth": 0,
              "ticks": ""
             }
            },
            "type": "scattergeo"
           }
          ],
          "scattergl": [
           {
            "marker": {
             "colorbar": {
              "outlinewidth": 0,
              "ticks": ""
             }
            },
            "type": "scattergl"
           }
          ],
          "scattermapbox": [
           {
            "marker": {
             "colorbar": {
              "outlinewidth": 0,
              "ticks": ""
             }
            },
            "type": "scattermapbox"
           }
          ],
          "scatterpolar": [
           {
            "marker": {
             "colorbar": {
              "outlinewidth": 0,
              "ticks": ""
             }
            },
            "type": "scatterpolar"
           }
          ],
          "scatterpolargl": [
           {
            "marker": {
             "colorbar": {
              "outlinewidth": 0,
              "ticks": ""
             }
            },
            "type": "scatterpolargl"
           }
          ],
          "scatterternary": [
           {
            "marker": {
             "colorbar": {
              "outlinewidth": 0,
              "ticks": ""
             }
            },
            "type": "scatterternary"
           }
          ],
          "surface": [
           {
            "colorbar": {
             "outlinewidth": 0,
             "ticks": ""
            },
            "colorscale": [
             [
              0,
              "#0d0887"
             ],
             [
              0.1111111111111111,
              "#46039f"
             ],
             [
              0.2222222222222222,
              "#7201a8"
             ],
             [
              0.3333333333333333,
              "#9c179e"
             ],
             [
              0.4444444444444444,
              "#bd3786"
             ],
             [
              0.5555555555555556,
              "#d8576b"
             ],
             [
              0.6666666666666666,
              "#ed7953"
             ],
             [
              0.7777777777777778,
              "#fb9f3a"
             ],
             [
              0.8888888888888888,
              "#fdca26"
             ],
             [
              1,
              "#f0f921"
             ]
            ],
            "type": "surface"
           }
          ],
          "table": [
           {
            "cells": {
             "fill": {
              "color": "#EBF0F8"
             },
             "line": {
              "color": "white"
             }
            },
            "header": {
             "fill": {
              "color": "#C8D4E3"
             },
             "line": {
              "color": "white"
             }
            },
            "type": "table"
           }
          ]
         },
         "layout": {
          "annotationdefaults": {
           "arrowcolor": "#2a3f5f",
           "arrowhead": 0,
           "arrowwidth": 1
          },
          "autotypenumbers": "strict",
          "coloraxis": {
           "colorbar": {
            "outlinewidth": 0,
            "ticks": ""
           }
          },
          "colorscale": {
           "diverging": [
            [
             0,
             "#8e0152"
            ],
            [
             0.1,
             "#c51b7d"
            ],
            [
             0.2,
             "#de77ae"
            ],
            [
             0.3,
             "#f1b6da"
            ],
            [
             0.4,
             "#fde0ef"
            ],
            [
             0.5,
             "#f7f7f7"
            ],
            [
             0.6,
             "#e6f5d0"
            ],
            [
             0.7,
             "#b8e186"
            ],
            [
             0.8,
             "#7fbc41"
            ],
            [
             0.9,
             "#4d9221"
            ],
            [
             1,
             "#276419"
            ]
           ],
           "sequential": [
            [
             0,
             "#0d0887"
            ],
            [
             0.1111111111111111,
             "#46039f"
            ],
            [
             0.2222222222222222,
             "#7201a8"
            ],
            [
             0.3333333333333333,
             "#9c179e"
            ],
            [
             0.4444444444444444,
             "#bd3786"
            ],
            [
             0.5555555555555556,
             "#d8576b"
            ],
            [
             0.6666666666666666,
             "#ed7953"
            ],
            [
             0.7777777777777778,
             "#fb9f3a"
            ],
            [
             0.8888888888888888,
             "#fdca26"
            ],
            [
             1,
             "#f0f921"
            ]
           ],
           "sequentialminus": [
            [
             0,
             "#0d0887"
            ],
            [
             0.1111111111111111,
             "#46039f"
            ],
            [
             0.2222222222222222,
             "#7201a8"
            ],
            [
             0.3333333333333333,
             "#9c179e"
            ],
            [
             0.4444444444444444,
             "#bd3786"
            ],
            [
             0.5555555555555556,
             "#d8576b"
            ],
            [
             0.6666666666666666,
             "#ed7953"
            ],
            [
             0.7777777777777778,
             "#fb9f3a"
            ],
            [
             0.8888888888888888,
             "#fdca26"
            ],
            [
             1,
             "#f0f921"
            ]
           ]
          },
          "colorway": [
           "#636efa",
           "#EF553B",
           "#00cc96",
           "#ab63fa",
           "#FFA15A",
           "#19d3f3",
           "#FF6692",
           "#B6E880",
           "#FF97FF",
           "#FECB52"
          ],
          "font": {
           "color": "#2a3f5f"
          },
          "geo": {
           "bgcolor": "white",
           "lakecolor": "white",
           "landcolor": "#E5ECF6",
           "showlakes": true,
           "showland": true,
           "subunitcolor": "white"
          },
          "hoverlabel": {
           "align": "left"
          },
          "hovermode": "closest",
          "mapbox": {
           "style": "light"
          },
          "paper_bgcolor": "white",
          "plot_bgcolor": "#E5ECF6",
          "polar": {
           "angularaxis": {
            "gridcolor": "white",
            "linecolor": "white",
            "ticks": ""
           },
           "bgcolor": "#E5ECF6",
           "radialaxis": {
            "gridcolor": "white",
            "linecolor": "white",
            "ticks": ""
           }
          },
          "scene": {
           "xaxis": {
            "backgroundcolor": "#E5ECF6",
            "gridcolor": "white",
            "gridwidth": 2,
            "linecolor": "white",
            "showbackground": true,
            "ticks": "",
            "zerolinecolor": "white"
           },
           "yaxis": {
            "backgroundcolor": "#E5ECF6",
            "gridcolor": "white",
            "gridwidth": 2,
            "linecolor": "white",
            "showbackground": true,
            "ticks": "",
            "zerolinecolor": "white"
           },
           "zaxis": {
            "backgroundcolor": "#E5ECF6",
            "gridcolor": "white",
            "gridwidth": 2,
            "linecolor": "white",
            "showbackground": true,
            "ticks": "",
            "zerolinecolor": "white"
           }
          },
          "shapedefaults": {
           "line": {
            "color": "#2a3f5f"
           }
          },
          "ternary": {
           "aaxis": {
            "gridcolor": "white",
            "linecolor": "white",
            "ticks": ""
           },
           "baxis": {
            "gridcolor": "white",
            "linecolor": "white",
            "ticks": ""
           },
           "bgcolor": "#E5ECF6",
           "caxis": {
            "gridcolor": "white",
            "linecolor": "white",
            "ticks": ""
           }
          },
          "title": {
           "x": 0.05
          },
          "xaxis": {
           "automargin": true,
           "gridcolor": "white",
           "linecolor": "white",
           "ticks": "",
           "title": {
            "standoff": 15
           },
           "zerolinecolor": "white",
           "zerolinewidth": 2
          },
          "yaxis": {
           "automargin": true,
           "gridcolor": "white",
           "linecolor": "white",
           "ticks": "",
           "title": {
            "standoff": 15
           },
           "zerolinecolor": "white",
           "zerolinewidth": 2
          }
         }
        },
        "title": {
         "text": "Total days of weather ecvents in Kiev(2016) by month"
        },
        "width": 1000,
        "xaxis": {
         "tickangle": 0
        },
        "yaxis": {
         "title": {
          "font": {
           "size": 16
          },
          "text": "Days"
         }
        }
       }
      },
      "text/html": [
       "<div>                            <div id=\"83be73d8-eb77-42a4-bd5b-a5de3ecb70f3\" class=\"plotly-graph-div\" style=\"height:600px; width:1000px;\"></div>            <script type=\"text/javascript\">                require([\"plotly\"], function(Plotly) {                    window.PLOTLYENV=window.PLOTLYENV || {};                                    if (document.getElementById(\"83be73d8-eb77-42a4-bd5b-a5de3ecb70f3\")) {                    Plotly.newPlot(                        \"83be73d8-eb77-42a4-bd5b-a5de3ecb70f3\",                        [{\"marker\": {\"color\": \"crimson\"}, \"name\": \"fog\", \"type\": \"bar\", \"x\": [\"January\", \"February\", \"March\", \"April\", \"May\", \"June\", \"July\", \"August\", \"September\", \"October\", \"November\", \"December\"], \"y\": [29, 16, 19, 12, 23, 11, 11, 11, 8, 20, 20, 28]}, {\"marker\": {\"color\": \"green\"}, \"name\": \"snow\", \"type\": \"bar\", \"x\": [\"January\", \"February\", \"March\", \"April\", \"May\", \"June\", \"July\", \"August\", \"September\", \"October\", \"November\", \"December\"], \"y\": [3, 2, 1, 0, 0, 0, 0, 0, 0, 0, 0, 1]}, {\"marker\": {\"color\": \"blue\"}, \"name\": \"rain\", \"type\": \"bar\", \"x\": [\"January\", \"February\", \"March\", \"April\", \"May\", \"June\", \"July\", \"August\", \"September\", \"October\", \"November\", \"December\"], \"y\": [6, 9, 9, 1, 2, 1, 0, 1, 0, 6, 4, 9]}, {\"marker\": {\"color\": \"goldenrod\"}, \"name\": \"thunder\", \"type\": \"bar\", \"x\": [\"January\", \"February\", \"March\", \"April\", \"May\", \"June\", \"July\", \"August\", \"September\", \"October\", \"November\", \"December\"], \"y\": [0, 0, 0, 0, 2, 1, 0, 1, 0, 1, 0, 0]}, {\"marker\": {\"color\": \"magenta\"}, \"name\": \"hail\", \"type\": \"bar\", \"x\": [\"January\", \"February\", \"March\", \"April\", \"May\", \"June\", \"July\", \"August\", \"September\", \"October\", \"November\", \"December\"], \"y\": [0, 0, 0, 0, 7, 3, 2, 3, 0, 0, 0, 0]}],                        {\"barmode\": \"group\", \"height\": 600, \"shapes\": [{\"line\": {\"dash\": \"dash\", \"width\": 0.5}, \"type\": \"line\", \"x0\": 0.5, \"x1\": 0.5, \"xref\": \"x\", \"y0\": 0, \"y1\": 1, \"yref\": \"y domain\"}, {\"line\": {\"dash\": \"dash\", \"width\": 0.5}, \"type\": \"line\", \"x0\": 1.5, \"x1\": 1.5, \"xref\": \"x\", \"y0\": 0, \"y1\": 1, \"yref\": \"y domain\"}, {\"line\": {\"dash\": \"dash\", \"width\": 0.5}, \"type\": \"line\", \"x0\": 2.5, \"x1\": 2.5, \"xref\": \"x\", \"y0\": 0, \"y1\": 1, \"yref\": \"y domain\"}, {\"line\": {\"dash\": \"dash\", \"width\": 0.5}, \"type\": \"line\", \"x0\": 3.5, \"x1\": 3.5, \"xref\": \"x\", \"y0\": 0, \"y1\": 1, \"yref\": \"y domain\"}, {\"line\": {\"dash\": \"dash\", \"width\": 0.5}, \"type\": \"line\", \"x0\": 4.5, \"x1\": 4.5, \"xref\": \"x\", \"y0\": 0, \"y1\": 1, \"yref\": \"y domain\"}, {\"line\": {\"dash\": \"dash\", \"width\": 0.5}, \"type\": \"line\", \"x0\": 5.5, \"x1\": 5.5, \"xref\": \"x\", \"y0\": 0, \"y1\": 1, \"yref\": \"y domain\"}, {\"line\": {\"dash\": \"dash\", \"width\": 0.5}, \"type\": \"line\", \"x0\": 6.5, \"x1\": 6.5, \"xref\": \"x\", \"y0\": 0, \"y1\": 1, \"yref\": \"y domain\"}, {\"line\": {\"dash\": \"dash\", \"width\": 0.5}, \"type\": \"line\", \"x0\": 7.5, \"x1\": 7.5, \"xref\": \"x\", \"y0\": 0, \"y1\": 1, \"yref\": \"y domain\"}, {\"line\": {\"dash\": \"dash\", \"width\": 0.5}, \"type\": \"line\", \"x0\": 8.5, \"x1\": 8.5, \"xref\": \"x\", \"y0\": 0, \"y1\": 1, \"yref\": \"y domain\"}, {\"line\": {\"dash\": \"dash\", \"width\": 0.5}, \"type\": \"line\", \"x0\": 9.5, \"x1\": 9.5, \"xref\": \"x\", \"y0\": 0, \"y1\": 1, \"yref\": \"y domain\"}, {\"line\": {\"dash\": \"dash\", \"width\": 0.5}, \"type\": \"line\", \"x0\": 10.5, \"x1\": 10.5, \"xref\": \"x\", \"y0\": 0, \"y1\": 1, \"yref\": \"y domain\"}, {\"line\": {\"dash\": \"dash\", \"width\": 0.5}, \"type\": \"line\", \"x0\": 11.5, \"x1\": 11.5, \"xref\": \"x\", \"y0\": 0, \"y1\": 1, \"yref\": \"y domain\"}], \"template\": {\"data\": {\"bar\": [{\"error_x\": {\"color\": \"#2a3f5f\"}, \"error_y\": {\"color\": \"#2a3f5f\"}, \"marker\": {\"line\": {\"color\": \"#E5ECF6\", \"width\": 0.5}}, \"type\": \"bar\"}], \"barpolar\": [{\"marker\": {\"line\": {\"color\": \"#E5ECF6\", \"width\": 0.5}}, \"type\": \"barpolar\"}], \"carpet\": [{\"aaxis\": {\"endlinecolor\": \"#2a3f5f\", \"gridcolor\": \"white\", \"linecolor\": \"white\", \"minorgridcolor\": \"white\", \"startlinecolor\": \"#2a3f5f\"}, \"baxis\": {\"endlinecolor\": \"#2a3f5f\", \"gridcolor\": \"white\", \"linecolor\": \"white\", \"minorgridcolor\": \"white\", \"startlinecolor\": \"#2a3f5f\"}, \"type\": \"carpet\"}], \"choropleth\": [{\"colorbar\": {\"outlinewidth\": 0, \"ticks\": \"\"}, \"type\": \"choropleth\"}], \"contour\": [{\"colorbar\": {\"outlinewidth\": 0, \"ticks\": \"\"}, \"colorscale\": [[0.0, \"#0d0887\"], [0.1111111111111111, \"#46039f\"], [0.2222222222222222, \"#7201a8\"], [0.3333333333333333, \"#9c179e\"], [0.4444444444444444, \"#bd3786\"], [0.5555555555555556, \"#d8576b\"], [0.6666666666666666, \"#ed7953\"], [0.7777777777777778, \"#fb9f3a\"], [0.8888888888888888, \"#fdca26\"], [1.0, \"#f0f921\"]], \"type\": \"contour\"}], \"contourcarpet\": [{\"colorbar\": {\"outlinewidth\": 0, \"ticks\": \"\"}, \"type\": \"contourcarpet\"}], \"heatmap\": [{\"colorbar\": {\"outlinewidth\": 0, \"ticks\": \"\"}, \"colorscale\": [[0.0, \"#0d0887\"], [0.1111111111111111, \"#46039f\"], [0.2222222222222222, \"#7201a8\"], [0.3333333333333333, \"#9c179e\"], [0.4444444444444444, \"#bd3786\"], [0.5555555555555556, \"#d8576b\"], [0.6666666666666666, \"#ed7953\"], [0.7777777777777778, \"#fb9f3a\"], [0.8888888888888888, \"#fdca26\"], [1.0, \"#f0f921\"]], \"type\": \"heatmap\"}], \"heatmapgl\": [{\"colorbar\": {\"outlinewidth\": 0, \"ticks\": \"\"}, \"colorscale\": [[0.0, \"#0d0887\"], [0.1111111111111111, \"#46039f\"], [0.2222222222222222, \"#7201a8\"], [0.3333333333333333, \"#9c179e\"], [0.4444444444444444, \"#bd3786\"], [0.5555555555555556, \"#d8576b\"], [0.6666666666666666, \"#ed7953\"], [0.7777777777777778, \"#fb9f3a\"], [0.8888888888888888, \"#fdca26\"], [1.0, \"#f0f921\"]], \"type\": \"heatmapgl\"}], \"histogram\": [{\"marker\": {\"colorbar\": {\"outlinewidth\": 0, \"ticks\": \"\"}}, \"type\": \"histogram\"}], \"histogram2d\": [{\"colorbar\": {\"outlinewidth\": 0, \"ticks\": \"\"}, \"colorscale\": [[0.0, \"#0d0887\"], [0.1111111111111111, \"#46039f\"], [0.2222222222222222, \"#7201a8\"], [0.3333333333333333, \"#9c179e\"], [0.4444444444444444, \"#bd3786\"], [0.5555555555555556, \"#d8576b\"], [0.6666666666666666, \"#ed7953\"], [0.7777777777777778, \"#fb9f3a\"], [0.8888888888888888, \"#fdca26\"], [1.0, \"#f0f921\"]], \"type\": \"histogram2d\"}], \"histogram2dcontour\": [{\"colorbar\": {\"outlinewidth\": 0, \"ticks\": \"\"}, \"colorscale\": [[0.0, \"#0d0887\"], [0.1111111111111111, \"#46039f\"], [0.2222222222222222, \"#7201a8\"], [0.3333333333333333, \"#9c179e\"], [0.4444444444444444, \"#bd3786\"], [0.5555555555555556, \"#d8576b\"], [0.6666666666666666, \"#ed7953\"], [0.7777777777777778, \"#fb9f3a\"], [0.8888888888888888, \"#fdca26\"], [1.0, \"#f0f921\"]], \"type\": \"histogram2dcontour\"}], \"mesh3d\": [{\"colorbar\": {\"outlinewidth\": 0, \"ticks\": \"\"}, \"type\": \"mesh3d\"}], \"parcoords\": [{\"line\": {\"colorbar\": {\"outlinewidth\": 0, \"ticks\": \"\"}}, \"type\": \"parcoords\"}], \"pie\": [{\"automargin\": true, \"type\": \"pie\"}], \"scatter\": [{\"marker\": {\"colorbar\": {\"outlinewidth\": 0, \"ticks\": \"\"}}, \"type\": \"scatter\"}], \"scatter3d\": [{\"line\": {\"colorbar\": {\"outlinewidth\": 0, \"ticks\": \"\"}}, \"marker\": {\"colorbar\": {\"outlinewidth\": 0, \"ticks\": \"\"}}, \"type\": \"scatter3d\"}], \"scattercarpet\": [{\"marker\": {\"colorbar\": {\"outlinewidth\": 0, \"ticks\": \"\"}}, \"type\": \"scattercarpet\"}], \"scattergeo\": [{\"marker\": {\"colorbar\": {\"outlinewidth\": 0, \"ticks\": \"\"}}, \"type\": \"scattergeo\"}], \"scattergl\": [{\"marker\": {\"colorbar\": {\"outlinewidth\": 0, \"ticks\": \"\"}}, \"type\": \"scattergl\"}], \"scattermapbox\": [{\"marker\": {\"colorbar\": {\"outlinewidth\": 0, \"ticks\": \"\"}}, \"type\": \"scattermapbox\"}], \"scatterpolar\": [{\"marker\": {\"colorbar\": {\"outlinewidth\": 0, \"ticks\": \"\"}}, \"type\": \"scatterpolar\"}], \"scatterpolargl\": [{\"marker\": {\"colorbar\": {\"outlinewidth\": 0, \"ticks\": \"\"}}, \"type\": \"scatterpolargl\"}], \"scatterternary\": [{\"marker\": {\"colorbar\": {\"outlinewidth\": 0, \"ticks\": \"\"}}, \"type\": \"scatterternary\"}], \"surface\": [{\"colorbar\": {\"outlinewidth\": 0, \"ticks\": \"\"}, \"colorscale\": [[0.0, \"#0d0887\"], [0.1111111111111111, \"#46039f\"], [0.2222222222222222, \"#7201a8\"], [0.3333333333333333, \"#9c179e\"], [0.4444444444444444, \"#bd3786\"], [0.5555555555555556, \"#d8576b\"], [0.6666666666666666, \"#ed7953\"], [0.7777777777777778, \"#fb9f3a\"], [0.8888888888888888, \"#fdca26\"], [1.0, \"#f0f921\"]], \"type\": \"surface\"}], \"table\": [{\"cells\": {\"fill\": {\"color\": \"#EBF0F8\"}, \"line\": {\"color\": \"white\"}}, \"header\": {\"fill\": {\"color\": \"#C8D4E3\"}, \"line\": {\"color\": \"white\"}}, \"type\": \"table\"}]}, \"layout\": {\"annotationdefaults\": {\"arrowcolor\": \"#2a3f5f\", \"arrowhead\": 0, \"arrowwidth\": 1}, \"autotypenumbers\": \"strict\", \"coloraxis\": {\"colorbar\": {\"outlinewidth\": 0, \"ticks\": \"\"}}, \"colorscale\": {\"diverging\": [[0, \"#8e0152\"], [0.1, \"#c51b7d\"], [0.2, \"#de77ae\"], [0.3, \"#f1b6da\"], [0.4, \"#fde0ef\"], [0.5, \"#f7f7f7\"], [0.6, \"#e6f5d0\"], [0.7, \"#b8e186\"], [0.8, \"#7fbc41\"], [0.9, \"#4d9221\"], [1, \"#276419\"]], \"sequential\": [[0.0, \"#0d0887\"], [0.1111111111111111, \"#46039f\"], [0.2222222222222222, \"#7201a8\"], [0.3333333333333333, \"#9c179e\"], [0.4444444444444444, \"#bd3786\"], [0.5555555555555556, \"#d8576b\"], [0.6666666666666666, \"#ed7953\"], [0.7777777777777778, \"#fb9f3a\"], [0.8888888888888888, \"#fdca26\"], [1.0, \"#f0f921\"]], \"sequentialminus\": [[0.0, \"#0d0887\"], [0.1111111111111111, \"#46039f\"], [0.2222222222222222, \"#7201a8\"], [0.3333333333333333, \"#9c179e\"], [0.4444444444444444, \"#bd3786\"], [0.5555555555555556, \"#d8576b\"], [0.6666666666666666, \"#ed7953\"], [0.7777777777777778, \"#fb9f3a\"], [0.8888888888888888, \"#fdca26\"], [1.0, \"#f0f921\"]]}, \"colorway\": [\"#636efa\", \"#EF553B\", \"#00cc96\", \"#ab63fa\", \"#FFA15A\", \"#19d3f3\", \"#FF6692\", \"#B6E880\", \"#FF97FF\", \"#FECB52\"], \"font\": {\"color\": \"#2a3f5f\"}, \"geo\": {\"bgcolor\": \"white\", \"lakecolor\": \"white\", \"landcolor\": \"#E5ECF6\", \"showlakes\": true, \"showland\": true, \"subunitcolor\": \"white\"}, \"hoverlabel\": {\"align\": \"left\"}, \"hovermode\": \"closest\", \"mapbox\": {\"style\": \"light\"}, \"paper_bgcolor\": \"white\", \"plot_bgcolor\": \"#E5ECF6\", \"polar\": {\"angularaxis\": {\"gridcolor\": \"white\", \"linecolor\": \"white\", \"ticks\": \"\"}, \"bgcolor\": \"#E5ECF6\", \"radialaxis\": {\"gridcolor\": \"white\", \"linecolor\": \"white\", \"ticks\": \"\"}}, \"scene\": {\"xaxis\": {\"backgroundcolor\": \"#E5ECF6\", \"gridcolor\": \"white\", \"gridwidth\": 2, \"linecolor\": \"white\", \"showbackground\": true, \"ticks\": \"\", \"zerolinecolor\": \"white\"}, \"yaxis\": {\"backgroundcolor\": \"#E5ECF6\", \"gridcolor\": \"white\", \"gridwidth\": 2, \"linecolor\": \"white\", \"showbackground\": true, \"ticks\": \"\", \"zerolinecolor\": \"white\"}, \"zaxis\": {\"backgroundcolor\": \"#E5ECF6\", \"gridcolor\": \"white\", \"gridwidth\": 2, \"linecolor\": \"white\", \"showbackground\": true, \"ticks\": \"\", \"zerolinecolor\": \"white\"}}, \"shapedefaults\": {\"line\": {\"color\": \"#2a3f5f\"}}, \"ternary\": {\"aaxis\": {\"gridcolor\": \"white\", \"linecolor\": \"white\", \"ticks\": \"\"}, \"baxis\": {\"gridcolor\": \"white\", \"linecolor\": \"white\", \"ticks\": \"\"}, \"bgcolor\": \"#E5ECF6\", \"caxis\": {\"gridcolor\": \"white\", \"linecolor\": \"white\", \"ticks\": \"\"}}, \"title\": {\"x\": 0.05}, \"xaxis\": {\"automargin\": true, \"gridcolor\": \"white\", \"linecolor\": \"white\", \"ticks\": \"\", \"title\": {\"standoff\": 15}, \"zerolinecolor\": \"white\", \"zerolinewidth\": 2}, \"yaxis\": {\"automargin\": true, \"gridcolor\": \"white\", \"linecolor\": \"white\", \"ticks\": \"\", \"title\": {\"standoff\": 15}, \"zerolinecolor\": \"white\", \"zerolinewidth\": 2}}}, \"title\": {\"text\": \"Total days of weather ecvents in Kiev(2016) by month\"}, \"width\": 1000, \"xaxis\": {\"tickangle\": 0}, \"yaxis\": {\"title\": {\"font\": {\"size\": 16}, \"text\": \"Days\"}}},                        {\"responsive\": true}                    ).then(function(){\n",
       "                            \n",
       "var gd = document.getElementById('83be73d8-eb77-42a4-bd5b-a5de3ecb70f3');\n",
       "var x = new MutationObserver(function (mutations, observer) {{\n",
       "        var display = window.getComputedStyle(gd).display;\n",
       "        if (!display || display === 'none') {{\n",
       "            console.log([gd, 'removed!']);\n",
       "            Plotly.purge(gd);\n",
       "            observer.disconnect();\n",
       "        }}\n",
       "}});\n",
       "\n",
       "// Listen for the removal of the full notebook cells\n",
       "var notebookContainer = gd.closest('#notebook-container');\n",
       "if (notebookContainer) {{\n",
       "    x.observe(notebookContainer, {childList: true});\n",
       "}}\n",
       "\n",
       "// Listen for the clearing of the current output cell\n",
       "var outputEl = gd.closest('.output');\n",
       "if (outputEl) {{\n",
       "    x.observe(outputEl, {childList: true});\n",
       "}}\n",
       "\n",
       "                        })                };                });            </script>        </div>"
      ]
     },
     "metadata": {},
     "output_type": "display_data"
    }
   ],
   "source": [
    "fig = go.Figure()\n",
    "fig.add_trace(go.Bar(\n",
    "    x=xax,\n",
    "    y=fogbar,\n",
    "    name='fog',\n",
    "    marker_color='crimson'\n",
    "))\n",
    "fig.add_trace(go.Bar(\n",
    "    x=xax,\n",
    "    y=snowbar,\n",
    "    name='snow',\n",
    "    marker_color='green'\n",
    "))\n",
    "fig.add_trace(go.Bar(\n",
    "    x=xax,\n",
    "    y=rainbar,\n",
    "    name='rain',\n",
    "    marker_color='blue'\n",
    "))\n",
    "fig.add_trace(go.Bar(\n",
    "    x=xax,\n",
    "    y=thunderbar,\n",
    "    name='thunder',\n",
    "    marker_color='goldenrod'\n",
    "))\n",
    "fig.add_trace(go.Bar(\n",
    "    x=xax,\n",
    "    y=hailbar,\n",
    "    name='hail',\n",
    "    marker_color='magenta'\n",
    "))\n",
    "for i in range(12):\n",
    "    fig.add_vline(x=i+0.5, line_dash='dash', line_width=0.5)\n",
    "\n",
    "fig.update_layout(title='Total days of weather ecvents in Kiev(2016) by month',\n",
    "                  barmode='group', xaxis_tickangle=0,\n",
    "                  height=600,\n",
    "                  width=1000,\n",
    "                  yaxis=dict(\n",
    "                        title='Days',\n",
    "                        titlefont_size=16,                       \n",
    "                  )\n",
    "             )\n",
    "fig.show()"
   ]
  },
  {
   "cell_type": "code",
   "execution_count": null,
   "metadata": {},
   "outputs": [],
   "source": []
  }
 ],
 "metadata": {
  "kernelspec": {
   "display_name": "Python 3",
   "language": "python",
   "name": "python3"
  },
  "language_info": {
   "codemirror_mode": {
    "name": "ipython",
    "version": 3
   },
   "file_extension": ".py",
   "mimetype": "text/x-python",
   "name": "python",
   "nbconvert_exporter": "python",
   "pygments_lexer": "ipython3",
   "version": "3.8.0"
  }
 },
 "nbformat": 4,
 "nbformat_minor": 4
}
